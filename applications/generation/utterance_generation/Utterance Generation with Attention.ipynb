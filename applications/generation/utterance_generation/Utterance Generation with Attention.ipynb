{
  "nbformat": 4,
  "nbformat_minor": 0,
  "metadata": {
    "colab": {
      "name": "Utterance Generation with Attention.ipynb",
      "provenance": [],
      "authorship_tag": "ABX9TyO5smlJ4D5M6puydwaDTXMz",
      "include_colab_link": true
    },
    "kernelspec": {
      "name": "python3",
      "display_name": "Python 3"
    },
    "accelerator": "GPU"
  },
  "cells": [
    {
      "cell_type": "markdown",
      "metadata": {
        "id": "view-in-github",
        "colab_type": "text"
      },
      "source": [
        "<a href=\"https://colab.research.google.com/github/graviraja/100-Days-of-NLP/blob/applications%2Fgeneration/applications/generation/utterance_generation/Utterance%20Generation%20with%20Attention.ipynb\" target=\"_parent\"><img src=\"https://colab.research.google.com/assets/colab-badge.svg\" alt=\"Open In Colab\"/></a>"
      ]
    },
    {
      "cell_type": "code",
      "metadata": {
        "id": "UpnVzI0681VB",
        "colab_type": "code",
        "colab": {
          "base_uri": "https://localhost:8080/",
          "height": 242
        },
        "outputId": "771116f1-85b5-4dac-e1d7-6fa7fd50622f"
      },
      "source": [
        "TASK_DATA_DIR = 'glue_data/QQP'\n",
        "!test -d glue_data || git clone https://gist.github.com/60c2bdb54d156a41194446737ce03e2e.git glue_data\n",
        "!test -d $TASK_DATA_DIR || python glue_data/download_glue_data.py --data_dir glue_data --tasks=QQP\n",
        "!ls -alh $TASK_DATA_DIR"
      ],
      "execution_count": 1,
      "outputs": [
        {
          "output_type": "stream",
          "text": [
            "Cloning into 'glue_data'...\n",
            "remote: Enumerating objects: 21, done.\u001b[K\n",
            "remote: Total 21 (delta 0), reused 0 (delta 0), pack-reused 21\u001b[K\n",
            "Unpacking objects: 100% (21/21), done.\n",
            "Downloading and extracting QQP...\n",
            "\tCompleted!\n",
            "total 104M\n",
            "drwxr-xr-x 3 root root 4.0K Jun 21 16:59 .\n",
            "drwxr-xr-x 4 root root 4.0K Jun 21 16:59 ..\n",
            "-rw-r--r-- 1 root root 5.6M Jun 21 16:59 dev.tsv\n",
            "drwxr-xr-x 2 root root 4.0K Jun 21 16:59 original\n",
            "-rw-r--r-- 1 root root  49M Jun 21 16:59 test.tsv\n",
            "-rw-r--r-- 1 root root  50M Jun 21 16:59 train.tsv\n"
          ],
          "name": "stdout"
        }
      ]
    },
    {
      "cell_type": "code",
      "metadata": {
        "id": "HVsX_QpN9IE8",
        "colab_type": "code",
        "colab": {
          "base_uri": "https://localhost:8080/",
          "height": 72
        },
        "outputId": "04e715cd-2b41-48fb-b64a-c5970c45d2b9"
      },
      "source": [
        "import time\n",
        "import math\n",
        "import random\n",
        "import pandas as pd\n",
        "import numpy as np\n",
        "import spacy\n",
        "\n",
        "import torch\n",
        "import torch.nn as nn\n",
        "import torch.nn.functional as F\n",
        "import torch.optim as optim\n",
        "\n",
        "from torchtext import data, vocab\n",
        "\n",
        "import matplotlib.pyplot as plt\n",
        "import matplotlib.ticker as ticker\n",
        "import seaborn as sns"
      ],
      "execution_count": 3,
      "outputs": [
        {
          "output_type": "stream",
          "text": [
            "/usr/local/lib/python3.6/dist-packages/statsmodels/tools/_testing.py:19: FutureWarning: pandas.util.testing is deprecated. Use the functions in the public API at pandas.testing instead.\n",
            "  import pandas.util.testing as tm\n"
          ],
          "name": "stderr"
        }
      ]
    },
    {
      "cell_type": "code",
      "metadata": {
        "id": "-KC2WfNl9KoG",
        "colab_type": "code",
        "colab": {}
      },
      "source": [
        "SEED = 42\n",
        "\n",
        "random.seed(SEED)\n",
        "np.random.seed(SEED)\n",
        "torch.manual_seed(SEED)\n",
        "torch.cuda.manual_seed(SEED)\n",
        "torch.backends.cudnn.deterministic = True"
      ],
      "execution_count": 4,
      "outputs": []
    },
    {
      "cell_type": "code",
      "metadata": {
        "id": "C0kOOiAO9MQB",
        "colab_type": "code",
        "colab": {
          "base_uri": "https://localhost:8080/",
          "height": 35
        },
        "outputId": "c5da313b-3883-46be-df38-06ae6cb622d8"
      },
      "source": [
        "device = torch.device('cuda' if torch.cuda.is_available() else 'cpu')\n",
        "device"
      ],
      "execution_count": 5,
      "outputs": [
        {
          "output_type": "execute_result",
          "data": {
            "text/plain": [
              "device(type='cuda')"
            ]
          },
          "metadata": {
            "tags": []
          },
          "execution_count": 5
        }
      ]
    },
    {
      "cell_type": "code",
      "metadata": {
        "id": "brqSuzK09N8d",
        "colab_type": "code",
        "colab": {
          "base_uri": "https://localhost:8080/",
          "height": 305
        },
        "outputId": "aab4f57d-1eb2-4e8e-d196-189a49694b2a"
      },
      "source": [
        "train_df = pd.read_csv(TASK_DATA_DIR + '/train.tsv', sep='\\t', error_bad_lines=False)\n",
        "valid_df = pd.read_csv(TASK_DATA_DIR + '/dev.tsv', sep='\\t', error_bad_lines=False)\n",
        "train_df.head()"
      ],
      "execution_count": 6,
      "outputs": [
        {
          "output_type": "stream",
          "text": [
            "b'Skipping line 83032: expected 6 fields, saw 7\\n'\n",
            "b'Skipping line 154657: expected 6 fields, saw 7\\n'\n",
            "b'Skipping line 323916: expected 6 fields, saw 7\\n'\n",
            "/usr/local/lib/python3.6/dist-packages/IPython/core/interactiveshell.py:2718: DtypeWarning: Columns (1) have mixed types.Specify dtype option on import or set low_memory=False.\n",
            "  interactivity=interactivity, compiler=compiler, result=result)\n"
          ],
          "name": "stderr"
        },
        {
          "output_type": "execute_result",
          "data": {
            "text/html": [
              "<div>\n",
              "<style scoped>\n",
              "    .dataframe tbody tr th:only-of-type {\n",
              "        vertical-align: middle;\n",
              "    }\n",
              "\n",
              "    .dataframe tbody tr th {\n",
              "        vertical-align: top;\n",
              "    }\n",
              "\n",
              "    .dataframe thead th {\n",
              "        text-align: right;\n",
              "    }\n",
              "</style>\n",
              "<table border=\"1\" class=\"dataframe\">\n",
              "  <thead>\n",
              "    <tr style=\"text-align: right;\">\n",
              "      <th></th>\n",
              "      <th>id</th>\n",
              "      <th>qid1</th>\n",
              "      <th>qid2</th>\n",
              "      <th>question1</th>\n",
              "      <th>question2</th>\n",
              "      <th>is_duplicate</th>\n",
              "    </tr>\n",
              "  </thead>\n",
              "  <tbody>\n",
              "    <tr>\n",
              "      <th>0</th>\n",
              "      <td>133273</td>\n",
              "      <td>213221</td>\n",
              "      <td>213222.0</td>\n",
              "      <td>How is the life of a math student? Could you d...</td>\n",
              "      <td>Which level of prepration is enough for the ex...</td>\n",
              "      <td>0.0</td>\n",
              "    </tr>\n",
              "    <tr>\n",
              "      <th>1</th>\n",
              "      <td>402555</td>\n",
              "      <td>536040</td>\n",
              "      <td>536041.0</td>\n",
              "      <td>How do I control my horny emotions?</td>\n",
              "      <td>How do you control your horniness?</td>\n",
              "      <td>1.0</td>\n",
              "    </tr>\n",
              "    <tr>\n",
              "      <th>2</th>\n",
              "      <td>360472</td>\n",
              "      <td>364011</td>\n",
              "      <td>490273.0</td>\n",
              "      <td>What causes stool color to change to yellow?</td>\n",
              "      <td>What can cause stool to come out as little balls?</td>\n",
              "      <td>0.0</td>\n",
              "    </tr>\n",
              "    <tr>\n",
              "      <th>3</th>\n",
              "      <td>150662</td>\n",
              "      <td>155721</td>\n",
              "      <td>7256.0</td>\n",
              "      <td>What can one do after MBBS?</td>\n",
              "      <td>What do i do after my MBBS ?</td>\n",
              "      <td>1.0</td>\n",
              "    </tr>\n",
              "    <tr>\n",
              "      <th>4</th>\n",
              "      <td>183004</td>\n",
              "      <td>279958</td>\n",
              "      <td>279959.0</td>\n",
              "      <td>Where can I find a power outlet for my laptop ...</td>\n",
              "      <td>Would a second airport in Sydney, Australia be...</td>\n",
              "      <td>0.0</td>\n",
              "    </tr>\n",
              "  </tbody>\n",
              "</table>\n",
              "</div>"
            ],
            "text/plain": [
              "       id  ... is_duplicate\n",
              "0  133273  ...          0.0\n",
              "1  402555  ...          1.0\n",
              "2  360472  ...          0.0\n",
              "3  150662  ...          1.0\n",
              "4  183004  ...          0.0\n",
              "\n",
              "[5 rows x 6 columns]"
            ]
          },
          "metadata": {
            "tags": []
          },
          "execution_count": 6
        }
      ]
    },
    {
      "cell_type": "code",
      "metadata": {
        "id": "Pm1yAjHe9P7G",
        "colab_type": "code",
        "colab": {
          "base_uri": "https://localhost:8080/",
          "height": 35
        },
        "outputId": "c9918b34-bf66-4cc3-fcea-78becc2f7135"
      },
      "source": [
        "len(train_df), len(valid_df)"
      ],
      "execution_count": 7,
      "outputs": [
        {
          "output_type": "execute_result",
          "data": {
            "text/plain": [
              "(363192, 40372)"
            ]
          },
          "metadata": {
            "tags": []
          },
          "execution_count": 7
        }
      ]
    },
    {
      "cell_type": "code",
      "metadata": {
        "id": "VMNR1jEF9RlV",
        "colab_type": "code",
        "colab": {
          "base_uri": "https://localhost:8080/",
          "height": 296
        },
        "outputId": "fe63bfba-5a0c-4287-f875-d1d5bba6edce"
      },
      "source": [
        "sns.countplot(train_df['is_duplicate'])\n",
        "plt.xlabel('Train data distribution')"
      ],
      "execution_count": 8,
      "outputs": [
        {
          "output_type": "execute_result",
          "data": {
            "text/plain": [
              "Text(0.5, 0, 'Train data distribution')"
            ]
          },
          "metadata": {
            "tags": []
          },
          "execution_count": 8
        },
        {
          "output_type": "display_data",
          "data": {
            "image/png": "[encoded data removed]",
            "text/plain": [
              "<Figure size 432x288 with 1 Axes>"
            ]
          },
          "metadata": {
            "tags": [],
            "needs_background": "light"
          }
        }
      ]
    },
    {
      "cell_type": "code",
      "metadata": {
        "id": "1mzcUn2-9U44",
        "colab_type": "code",
        "colab": {
          "base_uri": "https://localhost:8080/",
          "height": 296
        },
        "outputId": "0231cbc6-0cdf-455a-815e-734f84c2fc82"
      },
      "source": [
        "sns.countplot(valid_df['is_duplicate'])\n",
        "plt.xlabel('Valid data distribution')"
      ],
      "execution_count": 9,
      "outputs": [
        {
          "output_type": "execute_result",
          "data": {
            "text/plain": [
              "Text(0.5, 0, 'Valid data distribution')"
            ]
          },
          "metadata": {
            "tags": []
          },
          "execution_count": 9
        },
        {
          "output_type": "display_data",
          "data": {
            "image/png": "[encoded data removed]",
            "text/plain": [
              "<Figure size 432x288 with 1 Axes>"
            ]
          },
          "metadata": {
            "tags": [],
            "needs_background": "light"
          }
        }
      ]
    },
    {
      "cell_type": "code",
      "metadata": {
        "id": "20oyI9ag9XRi",
        "colab_type": "code",
        "colab": {}
      },
      "source": [
        "train_data = train_df[train_df['is_duplicate'] == 1]\n",
        "valid_data = valid_df[valid_df['is_duplicate'] == 1]"
      ],
      "execution_count": 10,
      "outputs": []
    },
    {
      "cell_type": "code",
      "metadata": {
        "id": "tamhKrJk9aEA",
        "colab_type": "code",
        "colab": {
          "base_uri": "https://localhost:8080/",
          "height": 198
        },
        "outputId": "5081b64d-25ca-4f0d-bb6d-d3386246d4d2"
      },
      "source": [
        "train_data.head()"
      ],
      "execution_count": 11,
      "outputs": [
        {
          "output_type": "execute_result",
          "data": {
            "text/html": [
              "<div>\n",
              "<style scoped>\n",
              "    .dataframe tbody tr th:only-of-type {\n",
              "        vertical-align: middle;\n",
              "    }\n",
              "\n",
              "    .dataframe tbody tr th {\n",
              "        vertical-align: top;\n",
              "    }\n",
              "\n",
              "    .dataframe thead th {\n",
              "        text-align: right;\n",
              "    }\n",
              "</style>\n",
              "<table border=\"1\" class=\"dataframe\">\n",
              "  <thead>\n",
              "    <tr style=\"text-align: right;\">\n",
              "      <th></th>\n",
              "      <th>id</th>\n",
              "      <th>qid1</th>\n",
              "      <th>qid2</th>\n",
              "      <th>question1</th>\n",
              "      <th>question2</th>\n",
              "      <th>is_duplicate</th>\n",
              "    </tr>\n",
              "  </thead>\n",
              "  <tbody>\n",
              "    <tr>\n",
              "      <th>1</th>\n",
              "      <td>402555</td>\n",
              "      <td>536040</td>\n",
              "      <td>536041.0</td>\n",
              "      <td>How do I control my horny emotions?</td>\n",
              "      <td>How do you control your horniness?</td>\n",
              "      <td>1.0</td>\n",
              "    </tr>\n",
              "    <tr>\n",
              "      <th>3</th>\n",
              "      <td>150662</td>\n",
              "      <td>155721</td>\n",
              "      <td>7256.0</td>\n",
              "      <td>What can one do after MBBS?</td>\n",
              "      <td>What do i do after my MBBS ?</td>\n",
              "      <td>1.0</td>\n",
              "    </tr>\n",
              "    <tr>\n",
              "      <th>7</th>\n",
              "      <td>106969</td>\n",
              "      <td>147570</td>\n",
              "      <td>787.0</td>\n",
              "      <td>What is the best self help book you have read?...</td>\n",
              "      <td>What are the top self help books I should read?</td>\n",
              "      <td>1.0</td>\n",
              "    </tr>\n",
              "    <tr>\n",
              "      <th>11</th>\n",
              "      <td>233239</td>\n",
              "      <td>71243</td>\n",
              "      <td>177376.0</td>\n",
              "      <td>What will be Hillary Clinton's policy towards ...</td>\n",
              "      <td>What will be Hilary Clinton's policy towards I...</td>\n",
              "      <td>1.0</td>\n",
              "    </tr>\n",
              "    <tr>\n",
              "      <th>13</th>\n",
              "      <td>11568</td>\n",
              "      <td>22332</td>\n",
              "      <td>22333.0</td>\n",
              "      <td>Which is the best book to study TENSOR for gen...</td>\n",
              "      <td>Which is the best book for tensor calculus?</td>\n",
              "      <td>1.0</td>\n",
              "    </tr>\n",
              "  </tbody>\n",
              "</table>\n",
              "</div>"
            ],
            "text/plain": [
              "        id  ... is_duplicate\n",
              "1   402555  ...          1.0\n",
              "3   150662  ...          1.0\n",
              "7   106969  ...          1.0\n",
              "11  233239  ...          1.0\n",
              "13   11568  ...          1.0\n",
              "\n",
              "[5 rows x 6 columns]"
            ]
          },
          "metadata": {
            "tags": []
          },
          "execution_count": 11
        }
      ]
    },
    {
      "cell_type": "code",
      "metadata": {
        "id": "G3FYm7Xk9bST",
        "colab_type": "code",
        "colab": {
          "base_uri": "https://localhost:8080/",
          "height": 35
        },
        "outputId": "50b2cd38-1680-43fc-ea80-65c75e7ffe7e"
      },
      "source": [
        "len(train_data), len(valid_data)"
      ],
      "execution_count": 12,
      "outputs": [
        {
          "output_type": "execute_result",
          "data": {
            "text/plain": [
              "(134141, 14857)"
            ]
          },
          "metadata": {
            "tags": []
          },
          "execution_count": 12
        }
      ]
    },
    {
      "cell_type": "code",
      "metadata": {
        "id": "xywpmY2T9czY",
        "colab_type": "code",
        "colab": {}
      },
      "source": [
        "train_data = train_data[['question1', 'question2']]\n",
        "valid_data = valid_data[['question1', 'question2']]"
      ],
      "execution_count": 13,
      "outputs": []
    },
    {
      "cell_type": "code",
      "metadata": {
        "id": "xJNJ1Ant9eVA",
        "colab_type": "code",
        "colab": {
          "base_uri": "https://localhost:8080/",
          "height": 198
        },
        "outputId": "e3686628-7f54-4753-fce7-7dc90088bab2"
      },
      "source": [
        "train_data.head()"
      ],
      "execution_count": 14,
      "outputs": [
        {
          "output_type": "execute_result",
          "data": {
            "text/html": [
              "<div>\n",
              "<style scoped>\n",
              "    .dataframe tbody tr th:only-of-type {\n",
              "        vertical-align: middle;\n",
              "    }\n",
              "\n",
              "    .dataframe tbody tr th {\n",
              "        vertical-align: top;\n",
              "    }\n",
              "\n",
              "    .dataframe thead th {\n",
              "        text-align: right;\n",
              "    }\n",
              "</style>\n",
              "<table border=\"1\" class=\"dataframe\">\n",
              "  <thead>\n",
              "    <tr style=\"text-align: right;\">\n",
              "      <th></th>\n",
              "      <th>question1</th>\n",
              "      <th>question2</th>\n",
              "    </tr>\n",
              "  </thead>\n",
              "  <tbody>\n",
              "    <tr>\n",
              "      <th>1</th>\n",
              "      <td>How do I control my horny emotions?</td>\n",
              "      <td>How do you control your horniness?</td>\n",
              "    </tr>\n",
              "    <tr>\n",
              "      <th>3</th>\n",
              "      <td>What can one do after MBBS?</td>\n",
              "      <td>What do i do after my MBBS ?</td>\n",
              "    </tr>\n",
              "    <tr>\n",
              "      <th>7</th>\n",
              "      <td>What is the best self help book you have read?...</td>\n",
              "      <td>What are the top self help books I should read?</td>\n",
              "    </tr>\n",
              "    <tr>\n",
              "      <th>11</th>\n",
              "      <td>What will be Hillary Clinton's policy towards ...</td>\n",
              "      <td>What will be Hilary Clinton's policy towards I...</td>\n",
              "    </tr>\n",
              "    <tr>\n",
              "      <th>13</th>\n",
              "      <td>Which is the best book to study TENSOR for gen...</td>\n",
              "      <td>Which is the best book for tensor calculus?</td>\n",
              "    </tr>\n",
              "  </tbody>\n",
              "</table>\n",
              "</div>"
            ],
            "text/plain": [
              "                                            question1                                          question2\n",
              "1                 How do I control my horny emotions?                 How do you control your horniness?\n",
              "3                         What can one do after MBBS?                       What do i do after my MBBS ?\n",
              "7   What is the best self help book you have read?...    What are the top self help books I should read?\n",
              "11  What will be Hillary Clinton's policy towards ...  What will be Hilary Clinton's policy towards I...\n",
              "13  Which is the best book to study TENSOR for gen...        Which is the best book for tensor calculus?"
            ]
          },
          "metadata": {
            "tags": []
          },
          "execution_count": 14
        }
      ]
    },
    {
      "cell_type": "code",
      "metadata": {
        "id": "RDPDRn369f-C",
        "colab_type": "code",
        "colab": {}
      },
      "source": [
        "sample_train_data = train_data.sample(50000)\n",
        "sample_valid_data = valid_data.sample(5000)"
      ],
      "execution_count": 15,
      "outputs": []
    },
    {
      "cell_type": "code",
      "metadata": {
        "id": "NRHJH2eQ9h71",
        "colab_type": "code",
        "colab": {}
      },
      "source": [
        "sample_train_data.to_csv('train_ds.csv')\n",
        "sample_valid_data.to_csv('valid_ds.csv')"
      ],
      "execution_count": 16,
      "outputs": []
    },
    {
      "cell_type": "code",
      "metadata": {
        "id": "m_xNHZkc9kZZ",
        "colab_type": "code",
        "colab": {
          "base_uri": "https://localhost:8080/",
          "height": 155
        },
        "outputId": "de02dcb0-1c5f-4d64-ba86-fd6858d64d1b"
      },
      "source": [
        "!ls -lah"
      ],
      "execution_count": 17,
      "outputs": [
        {
          "output_type": "stream",
          "text": [
            "total 6.1M\n",
            "drwxr-xr-x 1 root root 4.0K Jun 21 17:00 .\n",
            "drwxr-xr-x 1 root root 4.0K Jun 21 16:46 ..\n",
            "drwxr-xr-x 1 root root 4.0K Jun 17 16:18 .config\n",
            "drwxr-xr-x 4 root root 4.0K Jun 21 16:59 glue_data\n",
            "drwxr-xr-x 1 root root 4.0K Jun 17 16:18 sample_data\n",
            "-rw-r--r-- 1 root root 5.5M Jun 21 17:00 train_ds.csv\n",
            "-rw-r--r-- 1 root root 558K Jun 21 17:00 valid_ds.csv\n"
          ],
          "name": "stdout"
        }
      ]
    },
    {
      "cell_type": "code",
      "metadata": {
        "id": "zkuZx05f9lha",
        "colab_type": "code",
        "colab": {}
      },
      "source": [
        "tokenizer = data.get_tokenizer('spacy')\n",
        "TEXT = data.Field(tokenize=tokenizer, lower=True, init_token='<sos>', eos_token='<eos>', include_lengths=True)"
      ],
      "execution_count": 18,
      "outputs": []
    },
    {
      "cell_type": "code",
      "metadata": {
        "id": "AlHOKEzj9ndT",
        "colab_type": "code",
        "colab": {}
      },
      "source": [
        "fields = [(None, None), (\"source\", TEXT), (\"target\", TEXT)]\n",
        "\n",
        "train_dataset, valid_dataset = data.TabularDataset.splits(path='.',\n",
        "                                     train='train_ds.csv', validation='valid_ds.csv',\n",
        "                                     format='csv', skip_header=True, fields=fields)"
      ],
      "execution_count": 19,
      "outputs": []
    },
    {
      "cell_type": "code",
      "metadata": {
        "id": "R9-HaHP39pTa",
        "colab_type": "code",
        "colab": {
          "base_uri": "https://localhost:8080/",
          "height": 52
        },
        "outputId": "6979b2cc-3b0e-4eb3-a5f1-1fe5dfaded73"
      },
      "source": [
        "print(f\"Number of training examples: {len(train_dataset)}\")\n",
        "print(f\"Number of validation examples: {len(valid_dataset)}\")"
      ],
      "execution_count": 20,
      "outputs": [
        {
          "output_type": "stream",
          "text": [
            "Number of training examples: 50000\n",
            "Number of validation examples: 5000\n"
          ],
          "name": "stdout"
        }
      ]
    },
    {
      "cell_type": "code",
      "metadata": {
        "id": "UtUAJXQ79rTl",
        "colab_type": "code",
        "colab": {
          "base_uri": "https://localhost:8080/",
          "height": 35
        },
        "outputId": "a0255cbd-a2c8-4590-ade9-d68cf12ead48"
      },
      "source": [
        "print(vars(train_dataset.examples[1]))"
      ],
      "execution_count": 21,
      "outputs": [
        {
          "output_type": "stream",
          "text": [
            "{'source': ['what', 'are', 'complex', 'networks', '?'], 'target': ['what', 'defines', 'a', 'complex', 'network', '?']}\n"
          ],
          "name": "stdout"
        }
      ]
    },
    {
      "cell_type": "code",
      "metadata": {
        "id": "-sNPFZ2t9stO",
        "colab_type": "code",
        "colab": {}
      },
      "source": [
        "TEXT.build_vocab(train_dataset, min_freq=5)"
      ],
      "execution_count": 22,
      "outputs": []
    },
    {
      "cell_type": "code",
      "metadata": {
        "id": "gRH7StmK9vFB",
        "colab_type": "code",
        "colab": {
          "base_uri": "https://localhost:8080/",
          "height": 35
        },
        "outputId": "df8540d0-7bc2-4238-b426-34d280d4f451"
      },
      "source": [
        "print(f\"Number of tokens in vocabulary: {len(TEXT.vocab)}\")"
      ],
      "execution_count": 23,
      "outputs": [
        {
          "output_type": "stream",
          "text": [
            "Number of tokens in vocabulary: 8130\n"
          ],
          "name": "stdout"
        }
      ]
    },
    {
      "cell_type": "code",
      "metadata": {
        "id": "p7YCY_959whS",
        "colab_type": "code",
        "colab": {}
      },
      "source": [
        "BATCH_SIZE = 64\n",
        "\n",
        "train_iterator, valid_iterator = data.BucketIterator.splits(\n",
        "    (train_dataset, valid_dataset),\n",
        "    batch_size=BATCH_SIZE,\n",
        "    sort_key=lambda x: len(x.source),\n",
        "    sort_within_batch=True,\n",
        "    device=device\n",
        ")"
      ],
      "execution_count": 47,
      "outputs": []
    },
    {
      "cell_type": "code",
      "metadata": {
        "id": "u_t8y5pZ9yJS",
        "colab_type": "code",
        "colab": {
          "base_uri": "https://localhost:8080/",
          "height": 35
        },
        "outputId": "69afd107-ffcf-4fb7-8575-12e55d59d22c"
      },
      "source": [
        "\n",
        "# sample checking\n",
        "temp = next(iter(train_iterator))\n",
        "temp_source, temp_source_lengths = temp.source\n",
        "temp_target, temp_target_lengths = temp.target\n",
        "temp_source.shape, temp_source_lengths.shape, temp_target.shape, temp_target_lengths.shape"
      ],
      "execution_count": 48,
      "outputs": [
        {
          "output_type": "execute_result",
          "data": {
            "text/plain": [
              "(torch.Size([9, 64]), torch.Size([64]), torch.Size([22, 64]), torch.Size([64]))"
            ]
          },
          "metadata": {
            "tags": []
          },
          "execution_count": 48
        }
      ]
    },
    {
      "cell_type": "code",
      "metadata": {
        "id": "ZIZVA4a090HZ",
        "colab_type": "code",
        "colab": {}
      },
      "source": [
        "class Encoder(nn.Module):\n",
        "    def __init__(self, input_dim, emb_dim, hidden_dim, n_layers, dropout):\n",
        "        super().__init__()\n",
        "        \n",
        "        self.n_layers = n_layers\n",
        "        self.hidden_dim = hidden_dim\n",
        "\n",
        "        self.embedding = nn.Embedding(input_dim, emb_dim)\n",
        "        self.rnn = nn.LSTM(emb_dim, hidden_dim, bidirectional=True, num_layers=n_layers, dropout=dropout)\n",
        "\n",
        "        self.fc = nn.Linear(hidden_dim * 2, hidden_dim)\n",
        "        self.dropout = nn.Dropout(dropout)\n",
        "\n",
        "    def forward(self, src, src_lengths):\n",
        "        # src => [seq_len, batch_size]\n",
        "        # src_lengths => [batch_size]\n",
        "\n",
        "        embedded = self.dropout(self.embedding(src))\n",
        "        # embedded => [seq_len, batch_size, hidden_dim]\n",
        "\n",
        "        pack_padded_sequences = nn.utils.rnn.pack_padded_sequence(embedded, src_lengths)\n",
        "        packed_outputs, (hidden, cell) = self.rnn(pack_padded_sequences)\n",
        "        outputs, _ = nn.utils.rnn.pad_packed_sequence(packed_outputs)\n",
        "        # outputs => [seq_len, batch_size, hidden_dim * 2]\n",
        "        # hidden, cell => [num_layers * num_dir, batch_size, hidden_dim]\n",
        "\n",
        "        hidden = hidden.view(self.n_layers, 2,  -1, self.hidden_dim)\n",
        "        cell = cell.view(self.n_layers, 2,  -1, self.hidden_dim)\n",
        "        # hidden, cell => [num_layers, num_dir, batch_size, hidden_dim]\n",
        "\n",
        "        final_forward_hidden = hidden[:, 0, :, :]\n",
        "        final_backward_hidden = hidden[:, 1, :, :]\n",
        "        # final_hiddens => [num_layers, batch_size, hidden_dim]\n",
        "\n",
        "        final_forward_cell = cell[:, 0, :, :]\n",
        "        final_backward_cell = cell[:, 1, :, :]\n",
        "        # final_cells => [num_layers, batch_size, hidden_dim]\n",
        "\n",
        "        combined_hidden = torch.cat((final_forward_hidden, final_backward_hidden), dim=2)\n",
        "        combined_cell = torch.cat((final_forward_cell, final_backward_cell), dim=2)\n",
        "        # combined_hidden, combined_cell => [num_layers, batch_size, hidden_dim * 2]\n",
        "\n",
        "        decoder_initial_hidden = self.fc(combined_hidden)\n",
        "        decoder_initial_cell = self.fc(combined_cell)\n",
        "        # decoder_initial_states => [num_layers, batch_size, hidden_dim]\n",
        "\n",
        "        return outputs, decoder_initial_hidden, decoder_initial_cell"
      ],
      "execution_count": 49,
      "outputs": []
    },
    {
      "cell_type": "code",
      "metadata": {
        "id": "zoQVpVkP-EBx",
        "colab_type": "code",
        "colab": {}
      },
      "source": [
        "class Attention(nn.Module):\n",
        "    def __init__(self, hidden_dim, pad_idx):\n",
        "        super().__init__()\n",
        "\n",
        "        self.pad_idx = pad_idx\n",
        "\n",
        "        self.w1 = nn.Linear(hidden_dim, hidden_dim)\n",
        "        self.w2 = nn.Linear(hidden_dim * 2, hidden_dim)\n",
        "\n",
        "        self.v = nn.Linear(hidden_dim, 1, bias=False)\n",
        "\n",
        "    def forward(self, hidden, encoder_outputs, mask=None):\n",
        "        # hidden => [batch_size, hidden_dim]\n",
        "        # encoder_outputs => [seq_len, batch_size, hidden_dim * 2]\n",
        "        # mask => [batch_size, seq_len]\n",
        "\n",
        "        batch_size = encoder_outputs.shape[1]\n",
        "        seq_len = encoder_outputs.shape[0]\n",
        "\n",
        "        hidden = hidden.unsqueeze(1).repeat(1, seq_len, 1)\n",
        "        # hidden => [batch_size, seq_len, hidden_dim]\n",
        "\n",
        "        encoder_outputs = encoder_outputs.permute(1, 0, 2)\n",
        "        # encoder_outputs => [batch_size, seq_len, hidden_dim * 2]\n",
        "\n",
        "        hidden_energy = self.w1(hidden)\n",
        "        # hidden_energy => [batch_size, seq_len, hidden_dim]\n",
        "\n",
        "        encoder_energy = self.w2(encoder_outputs)\n",
        "        # encoder_energy => [batch_size, seq_len, hidden_dim]\n",
        "\n",
        "        combined_energy = hidden_energy + encoder_energy\n",
        "        # combined_energy => [batch_size, seq_len, hidden_dim]\n",
        "\n",
        "        energy = self.v(torch.tanh(combined_energy)).squeeze(2)\n",
        "        # energy => [batch_size, seq_len]\n",
        "\n",
        "        if mask is not None:\n",
        "            energy = energy.masked_fill(mask == self.pad_idx, -1e10)\n",
        "            # energy => [batch_size, seq_len]\n",
        "\n",
        "        return F.softmax(energy, dim=1)\n"
      ],
      "execution_count": 50,
      "outputs": []
    },
    {
      "cell_type": "code",
      "metadata": {
        "id": "GVH_fuaZM1zh",
        "colab_type": "code",
        "colab": {}
      },
      "source": [
        "class Decoder(nn.Module):\n",
        "    def __init__(self, input_dim, emb_dim, hidden_dim, n_layers, attn, dropout):\n",
        "        super().__init__()\n",
        "\n",
        "        self.n_layers = n_layers\n",
        "        self.input_dim = input_dim\n",
        "        self.hidden_dim = hidden_dim\n",
        "\n",
        "        self.rnn = nn.LSTM(emb_dim, hidden_dim, num_layers=n_layers, dropout=dropout)\n",
        "        self.attn = attn\n",
        "        self.fc = nn.Linear(emb_dim + hidden_dim * 3, input_dim)\n",
        "\n",
        "        self.dropout = nn.Dropout(dropout)\n",
        "    \n",
        "    def forward(self, trg, hidden, cell, encoder_outputs, mask):\n",
        "        # trg => [batch_size]\n",
        "        # hidden, cell => [num_layers, batch_size, hidden_dim]\n",
        "        # encoder_outputs => [seq_len, batch_size, hidden_dim * 2]\n",
        "        # mask => [batch_size, seq_len]\n",
        "\n",
        "        embedded = self.dropout(trg)\n",
        "        # embedded => [1, batch_size, emb_dim\n",
        "\n",
        "        output, (hidden, cell) = self.rnn(embedded, (hidden, cell))\n",
        "        # output => [1, batch_size, hidden_dim]\n",
        "        # hidden, cell => [num_layers, batch_size, hidden_dim]\n",
        "\n",
        "        attention = self.attn(output.squeeze(0), encoder_outputs, mask)\n",
        "        # attention => [batch_size, seq_len]\n",
        "\n",
        "        attention = attention.unsqueeze(1)\n",
        "        # attention => [batch_size, 1, seq_len]\n",
        "\n",
        "        encoder_outputs = encoder_outputs.permute(1, 0, 2)\n",
        "        # encoder_outputs => [batch_size, seq_len, hidden_dim * 2]\n",
        "\n",
        "        weighted = torch.bmm(attention, encoder_outputs)\n",
        "        # attention       => [batch_size, 1, seq_len]\n",
        "        # encoder_outputs => [batch_size, seq_len, hidden_dim * 2]\n",
        "        # weighted        => [batch_size, 1, hidden_dim * 2]\n",
        "\n",
        "        weighted = weighted.permute(1, 0, 2)\n",
        "        # weighted => [1, batch_size, hidden_dim * 2]\n",
        "\n",
        "        combined_out_input = torch.cat((output, weighted, embedded), dim=2)\n",
        "        # combined_out_input => [1, batch_size, hidden_dim * 3 + emb_dim]\n",
        "\n",
        "        combined_out_input = combined_out_input.squeeze(0)\n",
        "        combined_out_input = self.dropout(combined_out_input)\n",
        "        # combined_out_input => [batch_size, hidden_dim * 3 + emb_dim]\n",
        "\n",
        "        logits = self.fc(combined_out_input)\n",
        "        # logits => [batch_size, output_dim]\n",
        "        \n",
        "        return logits, hidden, cell, attention.squeeze(1)\n"
      ],
      "execution_count": 51,
      "outputs": []
    },
    {
      "cell_type": "code",
      "metadata": {
        "id": "9GmAro23aTog",
        "colab_type": "code",
        "colab": {}
      },
      "source": [
        "class Seq2Seq(nn.Module):\n",
        "    def __init__(self, encoder, decoder, device, pad_idx):\n",
        "        super().__init__()\n",
        "\n",
        "        self.encoder = encoder\n",
        "        self.decoder = decoder\n",
        "        self.device = device\n",
        "        self.pad_idx = pad_idx\n",
        "    \n",
        "    def make_mask(self, src):\n",
        "        # src => [seq_len, batch_size]\n",
        "\n",
        "        mask = (src == self.pad_idx)\n",
        "        mask = mask.transpose(1, 0)\n",
        "        # mask => [batch_size, seq_len]\n",
        "\n",
        "        return mask\n",
        "\n",
        "    def forward(self, src, src_len, trg, teacher_forcing_ratio=0.5):\n",
        "        # src => [seq_len, batch_size]\n",
        "        # trg => [trg_len, batch_size]\n",
        "\n",
        "        src_mask = self.make_mask(src)\n",
        "        # src_mask => [batch_size, seq_len]\n",
        "\n",
        "        encoder_outputs, hidden, cell = self.encoder(src, src_len)\n",
        "        # encoder_outputs => [seq_len, batch_size, hidden_dim * 2]\n",
        "        # hidden, cell => [num_layers, batch_size, hidden_dim]\n",
        "\n",
        "        trg_len = trg.shape[0]\n",
        "        batch_size = trg.shape[1]\n",
        "        output_dim = self.decoder.input_dim\n",
        "\n",
        "        outputs = torch.zeros(trg_len, batch_size, output_dim).to(self.device)\n",
        "        # outputs => [trg_len, batch_size, output_dim]\n",
        "\n",
        "        dec_inp = trg[0, :]\n",
        "\n",
        "        for t in range(1, trg_len):\n",
        "            dec_emb = self.encoder.embedding(dec_inp.unsqueeze(0))\n",
        "            # dec_emb => [1, batch_size, emb_dim]\n",
        "\n",
        "            output, hidden, cell, _ = self.decoder(dec_emb, hidden, cell, encoder_outputs, src_mask)\n",
        "            \n",
        "            # store the output\n",
        "            outputs[t] = output\n",
        "\n",
        "            # to do teacher forcing or not\n",
        "            teacher_force = random.random() < teacher_forcing_ratio\n",
        "            \n",
        "            # get the top prediction\n",
        "            top1 = output.argmax(1)\n",
        "            \n",
        "            # next input to decoder\n",
        "            dec_inp = trg[t] if teacher_force else top1\n",
        "        \n",
        "        return outputs"
      ],
      "execution_count": 52,
      "outputs": []
    },
    {
      "cell_type": "code",
      "metadata": {
        "id": "r-qNvhxMdrsK",
        "colab_type": "code",
        "colab": {}
      },
      "source": [
        "PAD_IDX = TEXT.vocab.stoi[TEXT.pad_token]\n",
        "INPUT_DIM = len(TEXT.vocab)\n",
        "EMB_DIM = 256\n",
        "HID_DIM = 512\n",
        "N_LAYERS = 2\n",
        "DROPOUT = 0.5\n",
        "\n",
        "enc = Encoder(INPUT_DIM, EMB_DIM, HID_DIM, N_LAYERS, DROPOUT)\n",
        "attn = Attention(HID_DIM, PAD_IDX)\n",
        "dec = Decoder(INPUT_DIM, EMB_DIM, HID_DIM, N_LAYERS, attn, DROPOUT)\n",
        "model = Seq2Seq(enc, dec, device, PAD_IDX).to(device)"
      ],
      "execution_count": 53,
      "outputs": []
    },
    {
      "cell_type": "code",
      "metadata": {
        "id": "j1n-ZC7td7p9",
        "colab_type": "code",
        "colab": {
          "base_uri": "https://localhost:8080/",
          "height": 328
        },
        "outputId": "7f6c4774-7eee-4f92-b94f-1f348639ec8b"
      },
      "source": [
        "def init_weights(model):\n",
        "    for name, param in model.named_parameters():\n",
        "        nn.init.uniform_(param.data, -0.08, 0.08)\n",
        "\n",
        "model.apply(init_weights)"
      ],
      "execution_count": 54,
      "outputs": [
        {
          "output_type": "execute_result",
          "data": {
            "text/plain": [
              "Seq2Seq(\n",
              "  (encoder): Encoder(\n",
              "    (embedding): Embedding(8130, 256)\n",
              "    (rnn): LSTM(256, 512, num_layers=2, dropout=0.5, bidirectional=True)\n",
              "    (fc): Linear(in_features=1024, out_features=512, bias=True)\n",
              "    (dropout): Dropout(p=0.5, inplace=False)\n",
              "  )\n",
              "  (decoder): Decoder(\n",
              "    (rnn): LSTM(256, 512, num_layers=2, dropout=0.5)\n",
              "    (attn): Attention(\n",
              "      (w1): Linear(in_features=512, out_features=512, bias=True)\n",
              "      (w2): Linear(in_features=1024, out_features=512, bias=True)\n",
              "      (v): Linear(in_features=512, out_features=1, bias=False)\n",
              "    )\n",
              "    (fc): Linear(in_features=1792, out_features=8130, bias=True)\n",
              "    (dropout): Dropout(p=0.5, inplace=False)\n",
              "  )\n",
              ")"
            ]
          },
          "metadata": {
            "tags": []
          },
          "execution_count": 54
        }
      ]
    },
    {
      "cell_type": "code",
      "metadata": {
        "id": "A_IDRypsd9WT",
        "colab_type": "code",
        "colab": {
          "base_uri": "https://localhost:8080/",
          "height": 35
        },
        "outputId": "82db586f-fc82-419b-cc37-9628c22604db"
      },
      "source": [
        "def count_parameters(model):\n",
        "    return sum(p.numel() for p in model.parameters() if p.requires_grad)\n",
        "\n",
        "print(f'The model has {count_parameters(model)} trainable parameters')"
      ],
      "execution_count": 55,
      "outputs": [
        {
          "output_type": "stream",
          "text": [
            "The model has 31102914 trainable parameters\n"
          ],
          "name": "stdout"
        }
      ]
    },
    {
      "cell_type": "code",
      "metadata": {
        "id": "7wyshwf-d-bF",
        "colab_type": "code",
        "colab": {}
      },
      "source": [
        "optimizer = optim.Adam(model.parameters())\n",
        "criterion = nn.CrossEntropyLoss(ignore_index=PAD_IDX)"
      ],
      "execution_count": 56,
      "outputs": []
    },
    {
      "cell_type": "code",
      "metadata": {
        "id": "aIcJrMdZeAG2",
        "colab_type": "code",
        "colab": {}
      },
      "source": [
        "def train(model, iterator, criterion, optimizer, clip):\n",
        "    epoch_loss = 0\n",
        "\n",
        "    # keep the model in train mode\n",
        "    model.train()\n",
        "\n",
        "    # iterate over train data\n",
        "    for i, batch in enumerate(iterator):\n",
        "        src, src_len = batch.source\n",
        "        trg, _ = batch.target\n",
        "        # src => [seq_len, batch_size]\n",
        "        # src_len => [batch_size]\n",
        "        # trg => [seq_len, batch_size]\n",
        "\n",
        "        # zero the gradients\n",
        "        optimizer.zero_grad()\n",
        "\n",
        "        # forward pass\n",
        "        output = model(src, src_len, trg)\n",
        "\n",
        "        # reshaping the output to make it compatible to cal. loss\n",
        "        # can also do without reshaping\n",
        "        output_dim = output.shape[-1]\n",
        "        output = output[1:].view(-1, output_dim)\n",
        "        trg = trg[1:].view(-1)\n",
        "\n",
        "        loss = criterion(output, trg)\n",
        "\n",
        "        # backward pass\n",
        "        loss.backward()\n",
        "\n",
        "        # gradient clipping \n",
        "        torch.nn.utils.clip_grad_norm_(model.parameters(), clip)\n",
        "        \n",
        "        # update the parameters of the model\n",
        "        optimizer.step()\n",
        "\n",
        "        # update the loss\n",
        "        epoch_loss += loss.item()\n",
        "    \n",
        "    return epoch_loss / len(iterator)\n"
      ],
      "execution_count": 57,
      "outputs": []
    },
    {
      "cell_type": "code",
      "metadata": {
        "id": "4v-JUjSseFMR",
        "colab_type": "code",
        "colab": {}
      },
      "source": [
        "def evaluate(model, iterator, criterion):\n",
        "    epoch_loss = 0\n",
        "    \n",
        "    # keep the model in eval mode\n",
        "    model.eval()\n",
        "    \n",
        "    # do not calculate gradients\n",
        "    with torch.no_grad():\n",
        "\n",
        "        # iterate over the data\n",
        "        for batch in iterator:\n",
        "            src, src_len = batch.source\n",
        "            trg, _ = batch.target\n",
        "            # src => [seq_len, batch_size]\n",
        "            # src_len => [batch_size]\n",
        "            # trg => [seq_len, batch_size]\n",
        "\n",
        "            # forward pass\n",
        "            # make sure the teacher_forcing_ratio is 0 in eval\n",
        "            output = model(src, src_len, trg, 0)\n",
        "\n",
        "            # reshaping for loss calculation\n",
        "            output_dim = output.shape[-1]\n",
        "            output = output[1:].view(-1, output_dim)\n",
        "            trg = trg[1:].view(-1)\n",
        "\n",
        "            # loss\n",
        "            loss = criterion(output, trg)\n",
        "\n",
        "            # update loss\n",
        "            epoch_loss += loss.item()\n",
        "    return epoch_loss / len(iterator)"
      ],
      "execution_count": 61,
      "outputs": []
    },
    {
      "cell_type": "code",
      "metadata": {
        "id": "9O8iqzvIeIe6",
        "colab_type": "code",
        "colab": {}
      },
      "source": [
        "def epoch_time(start_time, end_time):\n",
        "    elapsed_time = end_time - start_time\n",
        "    elapsed_mins = int(elapsed_time / 60)\n",
        "    elapsed_secs = elapsed_time - (elapsed_mins * 60)\n",
        "    return elapsed_mins, elapsed_secs"
      ],
      "execution_count": 62,
      "outputs": []
    },
    {
      "cell_type": "code",
      "metadata": {
        "id": "6EmA3NPCeK1B",
        "colab_type": "code",
        "colab": {
          "base_uri": "https://localhost:8080/",
          "height": 535
        },
        "outputId": "fa2639eb-e2e9-4a41-b48a-bdd63cb71909"
      },
      "source": [
        "N_EPOCHS = 10\n",
        "CLIP = 1\n",
        "\n",
        "best_valid_loss = float('inf')\n",
        "\n",
        "for epoch in range(N_EPOCHS):\n",
        "    start_time = time.time()\n",
        "    \n",
        "    train_loss = train(model, train_iterator, criterion, optimizer, CLIP)\n",
        "    valid_loss = evaluate(model, valid_iterator, criterion)\n",
        "    \n",
        "    end_time = time.time()\n",
        "    epoch_mins, epoch_secs = epoch_time(start_time, end_time)\n",
        "\n",
        "    if valid_loss < best_valid_loss:\n",
        "        best_valid_loss = valid_loss\n",
        "        torch.save(model.state_dict(), 'model.pt')\n",
        "    \n",
        "    print(f\"Epoch {epoch + 1} | Time: {epoch_mins}m {epoch_secs}s\")\n",
        "    print(f\"\\tTrain Loss: {train_loss:.3f} | Train PPL: {math.exp(train_loss):7.3f} |\")\n",
        "    print(f\"\\tValid Loss: {valid_loss:.3f} | Valid PPL: {math.exp(valid_loss):7.3f} |\")"
      ],
      "execution_count": 63,
      "outputs": [
        {
          "output_type": "stream",
          "text": [
            "Epoch 1 | Time: 5m 33.828704833984375s\n",
            "\tTrain Loss: 3.408 | Train PPL:  30.198 |\n",
            "\tValid Loss: 3.694 | Valid PPL:  40.217 |\n",
            "Epoch 2 | Time: 5m 33.95474100112915s\n",
            "\tTrain Loss: 3.000 | Train PPL:  20.094 |\n",
            "\tValid Loss: 3.531 | Valid PPL:  34.160 |\n",
            "Epoch 3 | Time: 5m 33.06780552864075s\n",
            "\tTrain Loss: 2.757 | Train PPL:  15.752 |\n",
            "\tValid Loss: 3.473 | Valid PPL:  32.223 |\n",
            "Epoch 4 | Time: 5m 33.16312313079834s\n",
            "\tTrain Loss: 2.576 | Train PPL:  13.140 |\n",
            "\tValid Loss: 3.454 | Valid PPL:  31.630 |\n",
            "Epoch 5 | Time: 5m 33.69707417488098s\n",
            "\tTrain Loss: 2.436 | Train PPL:  11.424 |\n",
            "\tValid Loss: 3.452 | Valid PPL:  31.573 |\n",
            "Epoch 6 | Time: 5m 33.72141122817993s\n",
            "\tTrain Loss: 2.341 | Train PPL:  10.387 |\n",
            "\tValid Loss: 3.492 | Valid PPL:  32.841 |\n",
            "Epoch 7 | Time: 5m 32.69144582748413s\n",
            "\tTrain Loss: 2.250 | Train PPL:   9.488 |\n",
            "\tValid Loss: 3.488 | Valid PPL:  32.731 |\n",
            "Epoch 8 | Time: 5m 32.59872364997864s\n",
            "\tTrain Loss: 2.178 | Train PPL:   8.824 |\n",
            "\tValid Loss: 3.569 | Valid PPL:  35.481 |\n",
            "Epoch 9 | Time: 5m 36.235300064086914s\n",
            "\tTrain Loss: 2.123 | Train PPL:   8.360 |\n",
            "\tValid Loss: 3.545 | Valid PPL:  34.648 |\n",
            "Epoch 10 | Time: 5m 35.27550387382507s\n",
            "\tTrain Loss: 2.054 | Train PPL:   7.802 |\n",
            "\tValid Loss: 3.531 | Valid PPL:  34.154 |\n"
          ],
          "name": "stdout"
        }
      ]
    },
    {
      "cell_type": "code",
      "metadata": {
        "id": "z7naaqnXh5un",
        "colab_type": "code",
        "colab": {
          "base_uri": "https://localhost:8080/",
          "height": 35
        },
        "outputId": "a2c6e88f-c448-49af-8ef3-505f9213f74e"
      },
      "source": [
        "model.load_state_dict(torch.load('model.pt'))"
      ],
      "execution_count": 64,
      "outputs": [
        {
          "output_type": "execute_result",
          "data": {
            "text/plain": [
              "<All keys matched successfully>"
            ]
          },
          "metadata": {
            "tags": []
          },
          "execution_count": 64
        }
      ]
    },
    {
      "cell_type": "code",
      "metadata": {
        "id": "stA2Uzy1far1",
        "colab_type": "code",
        "colab": {}
      },
      "source": [
        "def generate_utterance(sentence, text_field, model, device, max_len=50):\n",
        "    model.eval()\n",
        "\n",
        "    # tokenization        \n",
        "    if isinstance(sentence, str):\n",
        "        nlp = spacy.load('en')\n",
        "        tokens = [token.text.lower() for token in nlp(sentence)]\n",
        "    else:\n",
        "        tokens = [token.lower() for token in sentence]\n",
        "    tokens = [text_field.init_token] + tokens + [text_field.eos_token]\n",
        "\n",
        "    # convert the tokens to ids  \n",
        "    src_indexes = [text_field.vocab.stoi[token] for token in tokens]\n",
        "    \n",
        "    # convert to tensor format\n",
        "    # since the inference is done on single sentence, batch size is 1\n",
        "    src_tensor = torch.LongTensor(src_indexes).unsqueeze(1).to(device)\n",
        "    # src_tensor => [seq_len, 1]\n",
        "    \n",
        "    src_len = torch.LongTensor([len(src_indexes)]).to(device)\n",
        "    # src_len => [1]\n",
        "\n",
        "    # encode the input sentence\n",
        "    with torch.no_grad():\n",
        "        encoder_outputs, hidden, cell = model.encoder(src_tensor, src_len)\n",
        "\n",
        "    # mask of the input sentence\n",
        "    mask = model.make_mask(src_tensor)\n",
        "\n",
        "    # the starting input to decoder is always <sos>\n",
        "    trg_indexes = [text_field.vocab.stoi[text_field.init_token]]\n",
        "\n",
        "    # to store attentions \n",
        "    attentions = torch.zeros(max_len, 1, len(src_indexes)).to(device)\n",
        "    # attentions => [max_len, 1, src_len]\n",
        "\n",
        "    # decode upto a length of max_len\n",
        "    for i in range(max_len):\n",
        "\n",
        "        # convert the decoder input to tensor format\n",
        "        trg_tensor = torch.LongTensor([trg_indexes[-1]]).to(device)\n",
        "        \n",
        "        # trg input embedding\n",
        "        trg_embed = model.encoder.embedding(trg_tensor.unsqueeze(1))\n",
        "        # trg_embed => [1, 1, emb_dim]\n",
        "\n",
        "        # decode the input\n",
        "        with torch.no_grad():\n",
        "            output, hidden, cell, attention = model.decoder(trg_embed, hidden, cell, encoder_outputs, mask)\n",
        "        \n",
        "        # store the attention\n",
        "        attentions[i] = attention\n",
        "\n",
        "        # get the predicted token by considering the token with highest score\n",
        "        pred_token = output.argmax(1).item()\n",
        "        \n",
        "        # add to predicted tokens\n",
        "        trg_indexes.append(pred_token)\n",
        "\n",
        "        # if the predicted token is <eos> means stop the decoding\n",
        "        if pred_token == text_field.vocab.stoi[text_field.eos_token]:\n",
        "            break\n",
        "\n",
        "    # convert the predicted token ids to words\n",
        "    trg_tokens = [text_field.vocab.itos[i] for i in trg_indexes]\n",
        "    \n",
        "    return tokens[1:], trg_tokens[1:], attentions[:len(trg_tokens)-1]"
      ],
      "execution_count": 81,
      "outputs": []
    },
    {
      "cell_type": "code",
      "metadata": {
        "id": "Tu4TkC25_pZe",
        "colab_type": "code",
        "colab": {}
      },
      "source": [
        "def display_attention(sentence, utterance, attention):\n",
        "    fig = plt.figure(figsize=(10,10))\n",
        "    ax = fig.add_subplot(111)\n",
        "\n",
        "    attention = attention.squeeze(1).cpu().detach().numpy()\n",
        "\n",
        "    cax = ax.matshow(attention, cmap='Blues')\n",
        "   \n",
        "    ax.tick_params(labelsize=15)\n",
        "    ax.set_xticklabels(['']+['<sos>']+[t.lower() for t in sentence]+['<eos>'], \n",
        "                       rotation=45)\n",
        "    ax.set_yticklabels(['']+utterance)\n",
        "\n",
        "    ax.xaxis.set_major_locator(ticker.MultipleLocator(1))\n",
        "    ax.yaxis.set_major_locator(ticker.MultipleLocator(1))\n",
        "\n",
        "    plt.show()\n",
        "    plt.close()"
      ],
      "execution_count": 82,
      "outputs": []
    },
    {
      "cell_type": "code",
      "metadata": {
        "id": "e1JFjXHejnQT",
        "colab_type": "code",
        "colab": {
          "base_uri": "https://localhost:8080/",
          "height": 676
        },
        "outputId": "cb41dc29-b175-49bb-cb7c-21956fc4d714"
      },
      "source": [
        "example_idx = 55\n",
        "\n",
        "src = vars(valid_dataset.examples[example_idx])['source']\n",
        "trg = vars(valid_dataset.examples[example_idx])['target']\n",
        "tokens, utterance, attention = generate_utterance(src, TEXT, model, device)\n",
        "\n",
        "print(f'src = {src}')\n",
        "print(f'trg = {trg}')\n",
        "print(f'generated utterance = {utterance}')\n",
        "\n",
        "display_attention(tokens, utterance, attention)\n"
      ],
      "execution_count": 85,
      "outputs": [
        {
          "output_type": "stream",
          "text": [
            "src = ['which', 'book', 'would', 'you', 'recommend', 'to', 'improve', 'english', '?']\n",
            "trg = ['what', 'are', 'the', 'books', 'to', 'improve', 'english', '?']\n",
            "generated utterance = ['what', 'are', 'the', 'best', 'books', 'to', 'learn', 'english', '?', '<eos>']\n"
          ],
          "name": "stdout"
        },
        {
          "output_type": "display_data",
          "data": {
            "image/png": "[encoded data removed]",
            "text/plain": [
              "<Figure size 720x720 with 1 Axes>"
            ]
          },
          "metadata": {
            "tags": [],
            "needs_background": "light"
          }
        }
      ]
    },
    {
      "cell_type": "code",
      "metadata": {
        "id": "qiwqvsgQml-e",
        "colab_type": "code",
        "colab": {
          "base_uri": "https://localhost:8080/",
          "height": 673
        },
        "outputId": "b0b9b950-0ec2-4119-e006-eddeea99866f"
      },
      "source": [
        "src = \"How to control my feelings?\"\n",
        "tokens, utterance, attention = generate_utterance(src, TEXT, model, device)\n",
        "\n",
        "print(f'src = {tokens}')\n",
        "print(f'generated utterance = {utterance}')\n",
        "\n",
        "display_attention(tokens, utterance, attention)"
      ],
      "execution_count": 89,
      "outputs": [
        {
          "output_type": "stream",
          "text": [
            "src = ['how', 'to', 'control', 'my', 'feelings', '?', '<eos>']\n",
            "generated utterance = ['how', 'can', 'i', 'control', 'my', 'emotions', '?', '<eos>']\n"
          ],
          "name": "stdout"
        },
        {
          "output_type": "display_data",
          "data": {
            "image/png": "[encoded data removed]",
            "text/plain": [
              "<Figure size 720x720 with 1 Axes>"
            ]
          },
          "metadata": {
            "tags": [],
            "needs_background": "light"
          }
        }
      ]
    },
    {
      "cell_type": "code",
      "metadata": {
        "id": "JF2sn4h6OI7s",
        "colab_type": "code",
        "colab": {}
      },
      "source": [
        ""
      ],
      "execution_count": null,
      "outputs": []
    }
  ]
}