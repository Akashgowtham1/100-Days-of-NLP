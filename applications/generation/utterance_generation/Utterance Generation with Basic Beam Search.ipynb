{
  "nbformat": 4,
  "nbformat_minor": 0,
  "metadata": {
    "colab": {
      "name": "Utterance Generation with Beam Search.ipynb",
      "provenance": [],
      "collapsed_sections": [],
      "authorship_tag": "ABX9TyMXRcZh7qBSHd5egOxfVRRg",
      "include_colab_link": true
    },
    "kernelspec": {
      "name": "python3",
      "display_name": "Python 3"
    },
    "accelerator": "GPU"
  },
  "cells": [
    {
      "cell_type": "markdown",
      "metadata": {
        "id": "view-in-github",
        "colab_type": "text"
      },
      "source": [
        "<a href=\"https://colab.research.google.com/github/graviraja/100-Days-of-NLP/blob/applications%2Fgeneration/applications/generation/utterance_generation/Utterance_Generation_with_Beam_Search.ipynb\" target=\"_parent\"><img src=\"https://colab.research.google.com/assets/colab-badge.svg\" alt=\"Open In Colab\"/></a>"
      ]
    },
    {
      "cell_type": "code",
      "metadata": {
        "id": "hKFmIK83nXh_",
        "colab_type": "code",
        "colab": {
          "base_uri": "https://localhost:8080/",
          "height": 247
        },
        "outputId": "4206602c-17d1-4585-ba69-cd8a1dc0dce5"
      },
      "source": [
        "TASK_DATA_DIR = 'glue_data/QQP'\n",
        "!test -d glue_data || git clone https://gist.github.com/60c2bdb54d156a41194446737ce03e2e.git glue_data\n",
        "!test -d $TASK_DATA_DIR || python glue_data/download_glue_data.py --data_dir glue_data --tasks=QQP\n",
        "!ls -alh $TASK_DATA_DIR"
      ],
      "execution_count": 2,
      "outputs": [
        {
          "output_type": "stream",
          "text": [
            "Cloning into 'glue_data'...\n",
            "remote: Enumerating objects: 21, done.\u001b[K\n",
            "remote: Total 21 (delta 0), reused 0 (delta 0), pack-reused 21\n",
            "Unpacking objects:   4% (1/21)   \rUnpacking objects:   9% (2/21)   \rUnpacking objects:  14% (3/21)   \rUnpacking objects:  19% (4/21)   \rUnpacking objects:  23% (5/21)   \rUnpacking objects:  28% (6/21)   \rUnpacking objects:  33% (7/21)   \rUnpacking objects:  38% (8/21)   \rUnpacking objects:  42% (9/21)   \rUnpacking objects:  47% (10/21)   \rUnpacking objects:  52% (11/21)   \rUnpacking objects:  57% (12/21)   \rUnpacking objects:  61% (13/21)   \rUnpacking objects:  66% (14/21)   \rUnpacking objects:  71% (15/21)   \rUnpacking objects:  76% (16/21)   \rUnpacking objects:  80% (17/21)   \rUnpacking objects:  85% (18/21)   \rUnpacking objects:  90% (19/21)   \rUnpacking objects:  95% (20/21)   \rUnpacking objects: 100% (21/21)   \rUnpacking objects: 100% (21/21), done.\n",
            "Downloading and extracting QQP...\n",
            "\tCompleted!\n",
            "total 104M\n",
            "drwxr-xr-x 3 root root 4.0K Jun 22 15:07 .\n",
            "drwxr-xr-x 4 root root 4.0K Jun 22 15:07 ..\n",
            "-rw-r--r-- 1 root root 5.6M Jun 22 15:07 dev.tsv\n",
            "drwxr-xr-x 2 root root 4.0K Jun 22 15:07 original\n",
            "-rw-r--r-- 1 root root  49M Jun 22 15:07 test.tsv\n",
            "-rw-r--r-- 1 root root  50M Jun 22 15:07 train.tsv\n"
          ],
          "name": "stdout"
        }
      ]
    },
    {
      "cell_type": "code",
      "metadata": {
        "id": "QXjPwHhsVhf4",
        "colab_type": "code",
        "colab": {}
      },
      "source": [
        "import time\n",
        "import math\n",
        "import random\n",
        "import pandas as pd\n",
        "import numpy as np\n",
        "import spacy\n",
        "import copy\n",
        "\n",
        "import torch\n",
        "import torch.nn as nn\n",
        "import torch.nn.functional as F\n",
        "import torch.optim as optim\n",
        "\n",
        "from torchtext import data, vocab\n",
        "\n",
        "import matplotlib.pyplot as plt\n",
        "import matplotlib.ticker as ticker\n",
        "import seaborn as sns"
      ],
      "execution_count": 83,
      "outputs": []
    },
    {
      "cell_type": "code",
      "metadata": {
        "id": "BwwZQkS6VjWw",
        "colab_type": "code",
        "colab": {}
      },
      "source": [
        "SEED = 42\n",
        "\n",
        "random.seed(SEED)\n",
        "np.random.seed(SEED)\n",
        "torch.manual_seed(SEED)\n",
        "torch.cuda.manual_seed(SEED)\n",
        "torch.backends.cudnn.deterministic = True"
      ],
      "execution_count": 4,
      "outputs": []
    },
    {
      "cell_type": "code",
      "metadata": {
        "id": "0o3landwVlH3",
        "colab_type": "code",
        "colab": {
          "base_uri": "https://localhost:8080/",
          "height": 34
        },
        "outputId": "05b76dbe-a44b-41ae-f97c-2cacbded7875"
      },
      "source": [
        "device = torch.device('cuda' if torch.cuda.is_available() else 'cpu')\n",
        "device"
      ],
      "execution_count": 5,
      "outputs": [
        {
          "output_type": "execute_result",
          "data": {
            "text/plain": [
              "device(type='cuda')"
            ]
          },
          "metadata": {
            "tags": []
          },
          "execution_count": 5
        }
      ]
    },
    {
      "cell_type": "code",
      "metadata": {
        "id": "QEDbqCsfVmpo",
        "colab_type": "code",
        "colab": {
          "base_uri": "https://localhost:8080/",
          "height": 306
        },
        "outputId": "eec7cc6b-4660-48ee-fcd8-0907b809136f"
      },
      "source": [
        "train_df = pd.read_csv(TASK_DATA_DIR + '/train.tsv', sep='\\t', error_bad_lines=False)\n",
        "valid_df = pd.read_csv(TASK_DATA_DIR + '/dev.tsv', sep='\\t', error_bad_lines=False)\n",
        "train_df.head()"
      ],
      "execution_count": 6,
      "outputs": [
        {
          "output_type": "stream",
          "text": [
            "b'Skipping line 83032: expected 6 fields, saw 7\\n'\n",
            "b'Skipping line 154657: expected 6 fields, saw 7\\n'\n",
            "b'Skipping line 323916: expected 6 fields, saw 7\\n'\n",
            "/usr/local/lib/python3.6/dist-packages/IPython/core/interactiveshell.py:2718: DtypeWarning: Columns (1) have mixed types.Specify dtype option on import or set low_memory=False.\n",
            "  interactivity=interactivity, compiler=compiler, result=result)\n"
          ],
          "name": "stderr"
        },
        {
          "output_type": "execute_result",
          "data": {
            "text/html": [
              "<div>\n",
              "<style scoped>\n",
              "    .dataframe tbody tr th:only-of-type {\n",
              "        vertical-align: middle;\n",
              "    }\n",
              "\n",
              "    .dataframe tbody tr th {\n",
              "        vertical-align: top;\n",
              "    }\n",
              "\n",
              "    .dataframe thead th {\n",
              "        text-align: right;\n",
              "    }\n",
              "</style>\n",
              "<table border=\"1\" class=\"dataframe\">\n",
              "  <thead>\n",
              "    <tr style=\"text-align: right;\">\n",
              "      <th></th>\n",
              "      <th>id</th>\n",
              "      <th>qid1</th>\n",
              "      <th>qid2</th>\n",
              "      <th>question1</th>\n",
              "      <th>question2</th>\n",
              "      <th>is_duplicate</th>\n",
              "    </tr>\n",
              "  </thead>\n",
              "  <tbody>\n",
              "    <tr>\n",
              "      <th>0</th>\n",
              "      <td>133273</td>\n",
              "      <td>213221</td>\n",
              "      <td>213222.0</td>\n",
              "      <td>How is the life of a math student? Could you d...</td>\n",
              "      <td>Which level of prepration is enough for the ex...</td>\n",
              "      <td>0.0</td>\n",
              "    </tr>\n",
              "    <tr>\n",
              "      <th>1</th>\n",
              "      <td>402555</td>\n",
              "      <td>536040</td>\n",
              "      <td>536041.0</td>\n",
              "      <td>How do I control my horny emotions?</td>\n",
              "      <td>How do you control your horniness?</td>\n",
              "      <td>1.0</td>\n",
              "    </tr>\n",
              "    <tr>\n",
              "      <th>2</th>\n",
              "      <td>360472</td>\n",
              "      <td>364011</td>\n",
              "      <td>490273.0</td>\n",
              "      <td>What causes stool color to change to yellow?</td>\n",
              "      <td>What can cause stool to come out as little balls?</td>\n",
              "      <td>0.0</td>\n",
              "    </tr>\n",
              "    <tr>\n",
              "      <th>3</th>\n",
              "      <td>150662</td>\n",
              "      <td>155721</td>\n",
              "      <td>7256.0</td>\n",
              "      <td>What can one do after MBBS?</td>\n",
              "      <td>What do i do after my MBBS ?</td>\n",
              "      <td>1.0</td>\n",
              "    </tr>\n",
              "    <tr>\n",
              "      <th>4</th>\n",
              "      <td>183004</td>\n",
              "      <td>279958</td>\n",
              "      <td>279959.0</td>\n",
              "      <td>Where can I find a power outlet for my laptop ...</td>\n",
              "      <td>Would a second airport in Sydney, Australia be...</td>\n",
              "      <td>0.0</td>\n",
              "    </tr>\n",
              "  </tbody>\n",
              "</table>\n",
              "</div>"
            ],
            "text/plain": [
              "       id  ... is_duplicate\n",
              "0  133273  ...          0.0\n",
              "1  402555  ...          1.0\n",
              "2  360472  ...          0.0\n",
              "3  150662  ...          1.0\n",
              "4  183004  ...          0.0\n",
              "\n",
              "[5 rows x 6 columns]"
            ]
          },
          "metadata": {
            "tags": []
          },
          "execution_count": 6
        }
      ]
    },
    {
      "cell_type": "code",
      "metadata": {
        "id": "MoKRQaFYVn-8",
        "colab_type": "code",
        "colab": {
          "base_uri": "https://localhost:8080/",
          "height": 34
        },
        "outputId": "dfb8f1c9-f023-4ed6-eff0-b6452538db7d"
      },
      "source": [
        "len(train_df), len(valid_df)"
      ],
      "execution_count": 7,
      "outputs": [
        {
          "output_type": "execute_result",
          "data": {
            "text/plain": [
              "(363192, 40372)"
            ]
          },
          "metadata": {
            "tags": []
          },
          "execution_count": 7
        }
      ]
    },
    {
      "cell_type": "code",
      "metadata": {
        "id": "cFZWafkPVpzP",
        "colab_type": "code",
        "colab": {
          "base_uri": "https://localhost:8080/",
          "height": 296
        },
        "outputId": "1e68776a-70aa-42ca-d332-e2515870759e"
      },
      "source": [
        "sns.countplot(train_df['is_duplicate'])\n",
        "plt.xlabel('Train data distribution')"
      ],
      "execution_count": 8,
      "outputs": [
        {
          "output_type": "execute_result",
          "data": {
            "text/plain": [
              "Text(0.5, 0, 'Train data distribution')"
            ]
          },
          "metadata": {
            "tags": []
          },
          "execution_count": 8
        },
        {
          "output_type": "display_data",
          "data": {
            "image/png": "[encoded data removed]",
            "text/plain": [
              "<Figure size 432x288 with 1 Axes>"
            ]
          },
          "metadata": {
            "tags": [],
            "needs_background": "light"
          }
        }
      ]
    },
    {
      "cell_type": "code",
      "metadata": {
        "id": "MjyjM-KpVrnB",
        "colab_type": "code",
        "colab": {
          "base_uri": "https://localhost:8080/",
          "height": 296
        },
        "outputId": "ff49802b-894f-4165-d5d1-65a23467f5e4"
      },
      "source": [
        "sns.countplot(valid_df['is_duplicate'])\n",
        "plt.xlabel('Valid data distribution')"
      ],
      "execution_count": 9,
      "outputs": [
        {
          "output_type": "execute_result",
          "data": {
            "text/plain": [
              "Text(0.5, 0, 'Valid data distribution')"
            ]
          },
          "metadata": {
            "tags": []
          },
          "execution_count": 9
        },
        {
          "output_type": "display_data",
          "data": {
            "image/png": "[encoded data removed]",
            "text/plain": [
              "<Figure size 432x288 with 1 Axes>"
            ]
          },
          "metadata": {
            "tags": [],
            "needs_background": "light"
          }
        }
      ]
    },
    {
      "cell_type": "code",
      "metadata": {
        "id": "vNwhS3a9VtX_",
        "colab_type": "code",
        "colab": {}
      },
      "source": [
        "train_data = train_df[train_df['is_duplicate'] == 1]\n",
        "valid_data = valid_df[valid_df['is_duplicate'] == 1]"
      ],
      "execution_count": 10,
      "outputs": []
    },
    {
      "cell_type": "code",
      "metadata": {
        "id": "mjt7OatoVvbx",
        "colab_type": "code",
        "colab": {
          "base_uri": "https://localhost:8080/",
          "height": 197
        },
        "outputId": "6bb38bde-7466-44b1-e040-ff1c6e3191f6"
      },
      "source": [
        "train_data.head()"
      ],
      "execution_count": 11,
      "outputs": [
        {
          "output_type": "execute_result",
          "data": {
            "text/html": [
              "<div>\n",
              "<style scoped>\n",
              "    .dataframe tbody tr th:only-of-type {\n",
              "        vertical-align: middle;\n",
              "    }\n",
              "\n",
              "    .dataframe tbody tr th {\n",
              "        vertical-align: top;\n",
              "    }\n",
              "\n",
              "    .dataframe thead th {\n",
              "        text-align: right;\n",
              "    }\n",
              "</style>\n",
              "<table border=\"1\" class=\"dataframe\">\n",
              "  <thead>\n",
              "    <tr style=\"text-align: right;\">\n",
              "      <th></th>\n",
              "      <th>id</th>\n",
              "      <th>qid1</th>\n",
              "      <th>qid2</th>\n",
              "      <th>question1</th>\n",
              "      <th>question2</th>\n",
              "      <th>is_duplicate</th>\n",
              "    </tr>\n",
              "  </thead>\n",
              "  <tbody>\n",
              "    <tr>\n",
              "      <th>1</th>\n",
              "      <td>402555</td>\n",
              "      <td>536040</td>\n",
              "      <td>536041.0</td>\n",
              "      <td>How do I control my horny emotions?</td>\n",
              "      <td>How do you control your horniness?</td>\n",
              "      <td>1.0</td>\n",
              "    </tr>\n",
              "    <tr>\n",
              "      <th>3</th>\n",
              "      <td>150662</td>\n",
              "      <td>155721</td>\n",
              "      <td>7256.0</td>\n",
              "      <td>What can one do after MBBS?</td>\n",
              "      <td>What do i do after my MBBS ?</td>\n",
              "      <td>1.0</td>\n",
              "    </tr>\n",
              "    <tr>\n",
              "      <th>7</th>\n",
              "      <td>106969</td>\n",
              "      <td>147570</td>\n",
              "      <td>787.0</td>\n",
              "      <td>What is the best self help book you have read?...</td>\n",
              "      <td>What are the top self help books I should read?</td>\n",
              "      <td>1.0</td>\n",
              "    </tr>\n",
              "    <tr>\n",
              "      <th>11</th>\n",
              "      <td>233239</td>\n",
              "      <td>71243</td>\n",
              "      <td>177376.0</td>\n",
              "      <td>What will be Hillary Clinton's policy towards ...</td>\n",
              "      <td>What will be Hilary Clinton's policy towards I...</td>\n",
              "      <td>1.0</td>\n",
              "    </tr>\n",
              "    <tr>\n",
              "      <th>13</th>\n",
              "      <td>11568</td>\n",
              "      <td>22332</td>\n",
              "      <td>22333.0</td>\n",
              "      <td>Which is the best book to study TENSOR for gen...</td>\n",
              "      <td>Which is the best book for tensor calculus?</td>\n",
              "      <td>1.0</td>\n",
              "    </tr>\n",
              "  </tbody>\n",
              "</table>\n",
              "</div>"
            ],
            "text/plain": [
              "        id  ... is_duplicate\n",
              "1   402555  ...          1.0\n",
              "3   150662  ...          1.0\n",
              "7   106969  ...          1.0\n",
              "11  233239  ...          1.0\n",
              "13   11568  ...          1.0\n",
              "\n",
              "[5 rows x 6 columns]"
            ]
          },
          "metadata": {
            "tags": []
          },
          "execution_count": 11
        }
      ]
    },
    {
      "cell_type": "code",
      "metadata": {
        "id": "NBFldYzwVxIv",
        "colab_type": "code",
        "colab": {
          "base_uri": "https://localhost:8080/",
          "height": 34
        },
        "outputId": "246d7141-53f2-4b12-98fa-af6d1c45a842"
      },
      "source": [
        "len(train_data), len(valid_data)"
      ],
      "execution_count": 12,
      "outputs": [
        {
          "output_type": "execute_result",
          "data": {
            "text/plain": [
              "(134141, 14857)"
            ]
          },
          "metadata": {
            "tags": []
          },
          "execution_count": 12
        }
      ]
    },
    {
      "cell_type": "code",
      "metadata": {
        "id": "Vl3-3WXBVytR",
        "colab_type": "code",
        "colab": {}
      },
      "source": [
        "train_data = train_data[['question1', 'question2']]\n",
        "valid_data = valid_data[['question1', 'question2']]"
      ],
      "execution_count": 13,
      "outputs": []
    },
    {
      "cell_type": "code",
      "metadata": {
        "id": "leSwCfnBV0gv",
        "colab_type": "code",
        "colab": {
          "base_uri": "https://localhost:8080/",
          "height": 197
        },
        "outputId": "a1688e42-1a05-4446-e30f-89a2c142a064"
      },
      "source": [
        "train_data.head()"
      ],
      "execution_count": 14,
      "outputs": [
        {
          "output_type": "execute_result",
          "data": {
            "text/html": [
              "<div>\n",
              "<style scoped>\n",
              "    .dataframe tbody tr th:only-of-type {\n",
              "        vertical-align: middle;\n",
              "    }\n",
              "\n",
              "    .dataframe tbody tr th {\n",
              "        vertical-align: top;\n",
              "    }\n",
              "\n",
              "    .dataframe thead th {\n",
              "        text-align: right;\n",
              "    }\n",
              "</style>\n",
              "<table border=\"1\" class=\"dataframe\">\n",
              "  <thead>\n",
              "    <tr style=\"text-align: right;\">\n",
              "      <th></th>\n",
              "      <th>question1</th>\n",
              "      <th>question2</th>\n",
              "    </tr>\n",
              "  </thead>\n",
              "  <tbody>\n",
              "    <tr>\n",
              "      <th>1</th>\n",
              "      <td>How do I control my horny emotions?</td>\n",
              "      <td>How do you control your horniness?</td>\n",
              "    </tr>\n",
              "    <tr>\n",
              "      <th>3</th>\n",
              "      <td>What can one do after MBBS?</td>\n",
              "      <td>What do i do after my MBBS ?</td>\n",
              "    </tr>\n",
              "    <tr>\n",
              "      <th>7</th>\n",
              "      <td>What is the best self help book you have read?...</td>\n",
              "      <td>What are the top self help books I should read?</td>\n",
              "    </tr>\n",
              "    <tr>\n",
              "      <th>11</th>\n",
              "      <td>What will be Hillary Clinton's policy towards ...</td>\n",
              "      <td>What will be Hilary Clinton's policy towards I...</td>\n",
              "    </tr>\n",
              "    <tr>\n",
              "      <th>13</th>\n",
              "      <td>Which is the best book to study TENSOR for gen...</td>\n",
              "      <td>Which is the best book for tensor calculus?</td>\n",
              "    </tr>\n",
              "  </tbody>\n",
              "</table>\n",
              "</div>"
            ],
            "text/plain": [
              "                                            question1                                          question2\n",
              "1                 How do I control my horny emotions?                 How do you control your horniness?\n",
              "3                         What can one do after MBBS?                       What do i do after my MBBS ?\n",
              "7   What is the best self help book you have read?...    What are the top self help books I should read?\n",
              "11  What will be Hillary Clinton's policy towards ...  What will be Hilary Clinton's policy towards I...\n",
              "13  Which is the best book to study TENSOR for gen...        Which is the best book for tensor calculus?"
            ]
          },
          "metadata": {
            "tags": []
          },
          "execution_count": 14
        }
      ]
    },
    {
      "cell_type": "code",
      "metadata": {
        "id": "ZQN3K0mRWShc",
        "colab_type": "code",
        "colab": {}
      },
      "source": [
        "sample_train_data = train_data.sample(50000)\n",
        "sample_valid_data = valid_data.sample(5000)"
      ],
      "execution_count": 15,
      "outputs": []
    },
    {
      "cell_type": "code",
      "metadata": {
        "id": "kuTvU9lbV1wg",
        "colab_type": "code",
        "colab": {}
      },
      "source": [
        "sample_train_data.to_csv('train_ds.csv')\n",
        "sample_valid_data.to_csv('valid_ds.csv')"
      ],
      "execution_count": 16,
      "outputs": []
    },
    {
      "cell_type": "code",
      "metadata": {
        "id": "tyJS5tJ9WUpl",
        "colab_type": "code",
        "colab": {
          "base_uri": "https://localhost:8080/",
          "height": 158
        },
        "outputId": "cce59882-e42e-43f6-c293-1f080cd25da5"
      },
      "source": [
        "!ls -lah"
      ],
      "execution_count": 17,
      "outputs": [
        {
          "output_type": "stream",
          "text": [
            "total 6.1M\n",
            "drwxr-xr-x 1 root root 4.0K Jun 22 15:07 .\n",
            "drwxr-xr-x 1 root root 4.0K Jun 22 15:02 ..\n",
            "drwxr-xr-x 1 root root 4.0K Jun 17 16:18 .config\n",
            "drwxr-xr-x 4 root root 4.0K Jun 22 15:07 glue_data\n",
            "drwxr-xr-x 1 root root 4.0K Jun 17 16:18 sample_data\n",
            "-rw-r--r-- 1 root root 5.5M Jun 22 15:07 train_ds.csv\n",
            "-rw-r--r-- 1 root root 558K Jun 22 15:07 valid_ds.csv\n"
          ],
          "name": "stdout"
        }
      ]
    },
    {
      "cell_type": "code",
      "metadata": {
        "id": "lhthPL4nWV5_",
        "colab_type": "code",
        "colab": {}
      },
      "source": [
        "tokenizer = data.get_tokenizer('spacy')\n",
        "TEXT = data.Field(tokenize=tokenizer, lower=True, init_token='<sos>', eos_token='<eos>', include_lengths=True)"
      ],
      "execution_count": 18,
      "outputs": []
    },
    {
      "cell_type": "code",
      "metadata": {
        "id": "FWVdYjDbWYFU",
        "colab_type": "code",
        "colab": {}
      },
      "source": [
        "fields = [(None, None), (\"source\", TEXT), (\"target\", TEXT)]\n",
        "\n",
        "train_dataset, valid_dataset = data.TabularDataset.splits(path='.',\n",
        "                                     train='train_ds.csv', validation='valid_ds.csv',\n",
        "                                     format='csv', skip_header=True, fields=fields)"
      ],
      "execution_count": 19,
      "outputs": []
    },
    {
      "cell_type": "code",
      "metadata": {
        "id": "_3T_VddNWaEw",
        "colab_type": "code",
        "colab": {
          "base_uri": "https://localhost:8080/",
          "height": 52
        },
        "outputId": "1a0cae43-7a08-4a7d-a87c-6c332738c59b"
      },
      "source": [
        "print(f\"Number of training examples: {len(train_dataset)}\")\n",
        "print(f\"Number of validation examples: {len(valid_dataset)}\")"
      ],
      "execution_count": 20,
      "outputs": [
        {
          "output_type": "stream",
          "text": [
            "Number of training examples: 50000\n",
            "Number of validation examples: 5000\n"
          ],
          "name": "stdout"
        }
      ]
    },
    {
      "cell_type": "code",
      "metadata": {
        "id": "zA_9KjdOWb9Y",
        "colab_type": "code",
        "colab": {
          "base_uri": "https://localhost:8080/",
          "height": 34
        },
        "outputId": "4cf42578-6b7a-4536-e6ba-cad9ab9199ad"
      },
      "source": [
        "print(vars(train_dataset.examples[1]))"
      ],
      "execution_count": 21,
      "outputs": [
        {
          "output_type": "stream",
          "text": [
            "{'source': ['what', 'are', 'complex', 'networks', '?'], 'target': ['what', 'defines', 'a', 'complex', 'network', '?']}\n"
          ],
          "name": "stdout"
        }
      ]
    },
    {
      "cell_type": "code",
      "metadata": {
        "id": "hhtkuPlHWdt1",
        "colab_type": "code",
        "colab": {}
      },
      "source": [
        "TEXT.build_vocab(train_dataset, min_freq=5)"
      ],
      "execution_count": 22,
      "outputs": []
    },
    {
      "cell_type": "code",
      "metadata": {
        "id": "8sznI1MgWfV0",
        "colab_type": "code",
        "colab": {
          "base_uri": "https://localhost:8080/",
          "height": 34
        },
        "outputId": "80734d30-b93e-4fd0-81c4-f1b8d381fc2d"
      },
      "source": [
        "print(f\"Number of tokens in vocabulary: {len(TEXT.vocab)}\")"
      ],
      "execution_count": 23,
      "outputs": [
        {
          "output_type": "stream",
          "text": [
            "Number of tokens in vocabulary: 8130\n"
          ],
          "name": "stdout"
        }
      ]
    },
    {
      "cell_type": "code",
      "metadata": {
        "id": "fk2_eszIWgn6",
        "colab_type": "code",
        "colab": {}
      },
      "source": [
        "BATCH_SIZE = 64\n",
        "\n",
        "train_iterator, valid_iterator = data.BucketIterator.splits(\n",
        "    (train_dataset, valid_dataset),\n",
        "    batch_size=BATCH_SIZE,\n",
        "    sort_key=lambda x: len(x.source),\n",
        "    sort_within_batch=True,\n",
        "    device=device\n",
        ")"
      ],
      "execution_count": 24,
      "outputs": []
    },
    {
      "cell_type": "code",
      "metadata": {
        "id": "IwDZn0t4WiaF",
        "colab_type": "code",
        "colab": {
          "base_uri": "https://localhost:8080/",
          "height": 34
        },
        "outputId": "1ccfad5f-c55a-402a-beae-174f2f99d251"
      },
      "source": [
        "# sample checking\n",
        "temp = next(iter(train_iterator))\n",
        "temp_source, temp_source_lengths = temp.source\n",
        "temp_target, temp_target_lengths = temp.target\n",
        "temp_source.shape, temp_source_lengths.shape, temp_target.shape, temp_target_lengths.shape"
      ],
      "execution_count": 25,
      "outputs": [
        {
          "output_type": "execute_result",
          "data": {
            "text/plain": [
              "(torch.Size([9, 64]), torch.Size([64]), torch.Size([22, 64]), torch.Size([64]))"
            ]
          },
          "metadata": {
            "tags": []
          },
          "execution_count": 25
        }
      ]
    },
    {
      "cell_type": "code",
      "metadata": {
        "id": "8m_PYYmvWklt",
        "colab_type": "code",
        "colab": {}
      },
      "source": [
        "class Encoder(nn.Module):\n",
        "    def __init__(self, input_dim, emb_dim, hidden_dim, n_layers, dropout):\n",
        "        super().__init__()\n",
        "        \n",
        "        self.n_layers = n_layers\n",
        "        self.hidden_dim = hidden_dim\n",
        "\n",
        "        self.embedding = nn.Embedding(input_dim, emb_dim)\n",
        "        self.rnn = nn.LSTM(emb_dim, hidden_dim, bidirectional=True, num_layers=n_layers, dropout=dropout)\n",
        "\n",
        "        self.fc = nn.Linear(hidden_dim * 2, hidden_dim)\n",
        "        self.dropout = nn.Dropout(dropout)\n",
        "\n",
        "    def forward(self, src, src_lengths):\n",
        "        # src => [seq_len, batch_size]\n",
        "        # src_lengths => [batch_size]\n",
        "\n",
        "        embedded = self.dropout(self.embedding(src))\n",
        "        # embedded => [seq_len, batch_size, hidden_dim]\n",
        "\n",
        "        pack_padded_sequences = nn.utils.rnn.pack_padded_sequence(embedded, src_lengths)\n",
        "        packed_outputs, (hidden, cell) = self.rnn(pack_padded_sequences)\n",
        "        outputs, _ = nn.utils.rnn.pad_packed_sequence(packed_outputs)\n",
        "        # outputs => [seq_len, batch_size, hidden_dim * 2]\n",
        "        # hidden, cell => [num_layers * num_dir, batch_size, hidden_dim]\n",
        "\n",
        "        hidden = hidden.view(self.n_layers, 2,  -1, self.hidden_dim)\n",
        "        cell = cell.view(self.n_layers, 2,  -1, self.hidden_dim)\n",
        "        # hidden, cell => [num_layers, num_dir, batch_size, hidden_dim]\n",
        "\n",
        "        final_forward_hidden = hidden[:, 0, :, :]\n",
        "        final_backward_hidden = hidden[:, 1, :, :]\n",
        "        # final_hiddens => [num_layers, batch_size, hidden_dim]\n",
        "\n",
        "        final_forward_cell = cell[:, 0, :, :]\n",
        "        final_backward_cell = cell[:, 1, :, :]\n",
        "        # final_cells => [num_layers, batch_size, hidden_dim]\n",
        "\n",
        "        combined_hidden = torch.cat((final_forward_hidden, final_backward_hidden), dim=2)\n",
        "        combined_cell = torch.cat((final_forward_cell, final_backward_cell), dim=2)\n",
        "        # combined_hidden, combined_cell => [num_layers, batch_size, hidden_dim * 2]\n",
        "\n",
        "        decoder_initial_hidden = self.fc(combined_hidden)\n",
        "        decoder_initial_cell = self.fc(combined_cell)\n",
        "        # decoder_initial_states => [num_layers, batch_size, hidden_dim]\n",
        "\n",
        "        return outputs, decoder_initial_hidden, decoder_initial_cell"
      ],
      "execution_count": 26,
      "outputs": []
    },
    {
      "cell_type": "code",
      "metadata": {
        "id": "as28RkMbWsYn",
        "colab_type": "code",
        "colab": {}
      },
      "source": [
        "class Attention(nn.Module):\n",
        "    def __init__(self, hidden_dim, pad_idx):\n",
        "        super().__init__()\n",
        "\n",
        "        self.pad_idx = pad_idx\n",
        "\n",
        "        self.w1 = nn.Linear(hidden_dim, hidden_dim)\n",
        "        self.w2 = nn.Linear(hidden_dim * 2, hidden_dim)\n",
        "\n",
        "        self.v = nn.Linear(hidden_dim, 1, bias=False)\n",
        "\n",
        "    def forward(self, hidden, encoder_outputs, mask=None):\n",
        "        # hidden => [batch_size, hidden_dim]\n",
        "        # encoder_outputs => [seq_len, batch_size, hidden_dim * 2]\n",
        "        # mask => [batch_size, seq_len]\n",
        "\n",
        "        batch_size = encoder_outputs.shape[1]\n",
        "        seq_len = encoder_outputs.shape[0]\n",
        "\n",
        "        hidden = hidden.unsqueeze(1).repeat(1, seq_len, 1)\n",
        "        # hidden => [batch_size, seq_len, hidden_dim]\n",
        "\n",
        "        encoder_outputs = encoder_outputs.permute(1, 0, 2)\n",
        "        # encoder_outputs => [batch_size, seq_len, hidden_dim * 2]\n",
        "\n",
        "        hidden_energy = self.w1(hidden)\n",
        "        # hidden_energy => [batch_size, seq_len, hidden_dim]\n",
        "\n",
        "        encoder_energy = self.w2(encoder_outputs)\n",
        "        # encoder_energy => [batch_size, seq_len, hidden_dim]\n",
        "\n",
        "        combined_energy = hidden_energy + encoder_energy\n",
        "        # combined_energy => [batch_size, seq_len, hidden_dim]\n",
        "\n",
        "        energy = self.v(torch.tanh(combined_energy)).squeeze(2)\n",
        "        # energy => [batch_size, seq_len]\n",
        "\n",
        "        if mask is not None:\n",
        "            energy = energy.masked_fill(mask == self.pad_idx, -1e10)\n",
        "            # energy => [batch_size, seq_len]\n",
        "\n",
        "        return F.softmax(energy, dim=1)"
      ],
      "execution_count": 27,
      "outputs": []
    },
    {
      "cell_type": "code",
      "metadata": {
        "id": "Ne0bxq4OWzO6",
        "colab_type": "code",
        "colab": {}
      },
      "source": [
        "class Decoder(nn.Module):\n",
        "    def __init__(self, input_dim, emb_dim, hidden_dim, n_layers, attn, dropout):\n",
        "        super().__init__()\n",
        "\n",
        "        self.n_layers = n_layers\n",
        "        self.input_dim = input_dim\n",
        "        self.hidden_dim = hidden_dim\n",
        "\n",
        "        self.rnn = nn.LSTM(emb_dim, hidden_dim, num_layers=n_layers, dropout=dropout)\n",
        "        self.attn = attn\n",
        "        self.fc = nn.Linear(emb_dim + hidden_dim * 3, input_dim)\n",
        "\n",
        "        self.dropout = nn.Dropout(dropout)\n",
        "    \n",
        "    def forward(self, trg, hidden, cell, encoder_outputs, mask):\n",
        "        # trg => [batch_size]\n",
        "        # hidden, cell => [num_layers, batch_size, hidden_dim]\n",
        "        # encoder_outputs => [seq_len, batch_size, hidden_dim * 2]\n",
        "        # mask => [batch_size, seq_len]\n",
        "\n",
        "        embedded = self.dropout(trg)\n",
        "        # embedded => [1, batch_size, emb_dim\n",
        "\n",
        "        output, (hidden, cell) = self.rnn(embedded, (hidden, cell))\n",
        "        # output => [1, batch_size, hidden_dim]\n",
        "        # hidden, cell => [num_layers, batch_size, hidden_dim]\n",
        "\n",
        "        attention = self.attn(output.squeeze(0), encoder_outputs, mask)\n",
        "        # attention => [batch_size, seq_len]\n",
        "\n",
        "        attention = attention.unsqueeze(1)\n",
        "        # attention => [batch_size, 1, seq_len]\n",
        "\n",
        "        encoder_outputs = encoder_outputs.permute(1, 0, 2)\n",
        "        # encoder_outputs => [batch_size, seq_len, hidden_dim * 2]\n",
        "\n",
        "        weighted = torch.bmm(attention, encoder_outputs)\n",
        "        # attention       => [batch_size, 1, seq_len]\n",
        "        # encoder_outputs => [batch_size, seq_len, hidden_dim * 2]\n",
        "        # weighted        => [batch_size, 1, hidden_dim * 2]\n",
        "\n",
        "        weighted = weighted.permute(1, 0, 2)\n",
        "        # weighted => [1, batch_size, hidden_dim * 2]\n",
        "\n",
        "        combined_out_input = torch.cat((output, weighted, embedded), dim=2)\n",
        "        # combined_out_input => [1, batch_size, hidden_dim * 3 + emb_dim]\n",
        "\n",
        "        combined_out_input = combined_out_input.squeeze(0)\n",
        "        combined_out_input = self.dropout(combined_out_input)\n",
        "        # combined_out_input => [batch_size, hidden_dim * 3 + emb_dim]\n",
        "\n",
        "        logits = self.fc(combined_out_input)\n",
        "        # logits => [batch_size, output_dim]\n",
        "        \n",
        "        return logits, hidden, cell, attention.squeeze(1)"
      ],
      "execution_count": 28,
      "outputs": []
    },
    {
      "cell_type": "code",
      "metadata": {
        "id": "8agGtkSLW6lA",
        "colab_type": "code",
        "colab": {}
      },
      "source": [
        "class Seq2Seq(nn.Module):\n",
        "    def __init__(self, encoder, decoder, device, pad_idx):\n",
        "        super().__init__()\n",
        "\n",
        "        self.encoder = encoder\n",
        "        self.decoder = decoder\n",
        "        self.device = device\n",
        "        self.pad_idx = pad_idx\n",
        "    \n",
        "    def make_mask(self, src):\n",
        "        # src => [seq_len, batch_size]\n",
        "\n",
        "        mask = (src == self.pad_idx)\n",
        "        mask = mask.transpose(1, 0)\n",
        "        # mask => [batch_size, seq_len]\n",
        "\n",
        "        return mask\n",
        "\n",
        "    def forward(self, src, src_len, trg, teacher_forcing_ratio=0.5):\n",
        "        # src => [seq_len, batch_size]\n",
        "        # trg => [trg_len, batch_size]\n",
        "\n",
        "        src_mask = self.make_mask(src)\n",
        "        # src_mask => [batch_size, seq_len]\n",
        "\n",
        "        encoder_outputs, hidden, cell = self.encoder(src, src_len)\n",
        "        # encoder_outputs => [seq_len, batch_size, hidden_dim * 2]\n",
        "        # hidden, cell => [num_layers, batch_size, hidden_dim]\n",
        "\n",
        "        trg_len = trg.shape[0]\n",
        "        batch_size = trg.shape[1]\n",
        "        output_dim = self.decoder.input_dim\n",
        "\n",
        "        outputs = torch.zeros(trg_len, batch_size, output_dim).to(self.device)\n",
        "        # outputs => [trg_len, batch_size, output_dim]\n",
        "\n",
        "        dec_inp = trg[0, :]\n",
        "\n",
        "        for t in range(1, trg_len):\n",
        "            dec_emb = self.encoder.embedding(dec_inp.unsqueeze(0))\n",
        "            # dec_emb => [1, batch_size, emb_dim]\n",
        "\n",
        "            output, hidden, cell, _ = self.decoder(dec_emb, hidden, cell, encoder_outputs, src_mask)\n",
        "            \n",
        "            # store the output\n",
        "            outputs[t] = output\n",
        "\n",
        "            # to do teacher forcing or not\n",
        "            teacher_force = random.random() < teacher_forcing_ratio\n",
        "            \n",
        "            # get the top prediction\n",
        "            top1 = output.argmax(1)\n",
        "            \n",
        "            # next input to decoder\n",
        "            dec_inp = trg[t] if teacher_force else top1\n",
        "        \n",
        "        return outputs"
      ],
      "execution_count": 29,
      "outputs": []
    },
    {
      "cell_type": "code",
      "metadata": {
        "id": "eolHplrEXA8V",
        "colab_type": "code",
        "colab": {}
      },
      "source": [
        "PAD_IDX = TEXT.vocab.stoi[TEXT.pad_token]\n",
        "INPUT_DIM = len(TEXT.vocab)\n",
        "EMB_DIM = 256\n",
        "HID_DIM = 512\n",
        "N_LAYERS = 2\n",
        "DROPOUT = 0.5\n",
        "\n",
        "enc = Encoder(INPUT_DIM, EMB_DIM, HID_DIM, N_LAYERS, DROPOUT)\n",
        "attn = Attention(HID_DIM, PAD_IDX)\n",
        "dec = Decoder(INPUT_DIM, EMB_DIM, HID_DIM, N_LAYERS, attn, DROPOUT)\n",
        "model = Seq2Seq(enc, dec, device, PAD_IDX).to(device)"
      ],
      "execution_count": 30,
      "outputs": []
    },
    {
      "cell_type": "code",
      "metadata": {
        "id": "pj_v5pQ-XCsH",
        "colab_type": "code",
        "colab": {
          "base_uri": "https://localhost:8080/",
          "height": 336
        },
        "outputId": "4f9d75c5-588d-434c-cd0a-37fb1358fd3a"
      },
      "source": [
        "\n",
        "def init_weights(model):\n",
        "    for name, param in model.named_parameters():\n",
        "        nn.init.uniform_(param.data, -0.08, 0.08)\n",
        "\n",
        "model.apply(init_weights)"
      ],
      "execution_count": 31,
      "outputs": [
        {
          "output_type": "execute_result",
          "data": {
            "text/plain": [
              "Seq2Seq(\n",
              "  (encoder): Encoder(\n",
              "    (embedding): Embedding(8130, 256)\n",
              "    (rnn): LSTM(256, 512, num_layers=2, dropout=0.5, bidirectional=True)\n",
              "    (fc): Linear(in_features=1024, out_features=512, bias=True)\n",
              "    (dropout): Dropout(p=0.5, inplace=False)\n",
              "  )\n",
              "  (decoder): Decoder(\n",
              "    (rnn): LSTM(256, 512, num_layers=2, dropout=0.5)\n",
              "    (attn): Attention(\n",
              "      (w1): Linear(in_features=512, out_features=512, bias=True)\n",
              "      (w2): Linear(in_features=1024, out_features=512, bias=True)\n",
              "      (v): Linear(in_features=512, out_features=1, bias=False)\n",
              "    )\n",
              "    (fc): Linear(in_features=1792, out_features=8130, bias=True)\n",
              "    (dropout): Dropout(p=0.5, inplace=False)\n",
              "  )\n",
              ")"
            ]
          },
          "metadata": {
            "tags": []
          },
          "execution_count": 31
        }
      ]
    },
    {
      "cell_type": "code",
      "metadata": {
        "id": "qPH9yiEXXEQr",
        "colab_type": "code",
        "colab": {
          "base_uri": "https://localhost:8080/",
          "height": 34
        },
        "outputId": "0f565935-b555-42e6-e15b-32ec34c1e4c7"
      },
      "source": [
        "def count_parameters(model):\n",
        "    return sum(p.numel() for p in model.parameters() if p.requires_grad)\n",
        "\n",
        "print(f'The model has {count_parameters(model)} trainable parameters')"
      ],
      "execution_count": 32,
      "outputs": [
        {
          "output_type": "stream",
          "text": [
            "The model has 31102914 trainable parameters\n"
          ],
          "name": "stdout"
        }
      ]
    },
    {
      "cell_type": "code",
      "metadata": {
        "id": "wiYYis6HXGMt",
        "colab_type": "code",
        "colab": {}
      },
      "source": [
        "optimizer = optim.Adam(model.parameters())\n",
        "criterion = nn.CrossEntropyLoss(ignore_index=PAD_IDX)"
      ],
      "execution_count": 33,
      "outputs": []
    },
    {
      "cell_type": "code",
      "metadata": {
        "id": "2dU9wru_XIH_",
        "colab_type": "code",
        "colab": {}
      },
      "source": [
        "def train(model, iterator, criterion, optimizer, clip):\n",
        "    epoch_loss = 0\n",
        "\n",
        "    # keep the model in train mode\n",
        "    model.train()\n",
        "\n",
        "    # iterate over train data\n",
        "    for i, batch in enumerate(iterator):\n",
        "        src, src_len = batch.source\n",
        "        trg, _ = batch.target\n",
        "        # src => [seq_len, batch_size]\n",
        "        # src_len => [batch_size]\n",
        "        # trg => [seq_len, batch_size]\n",
        "\n",
        "        # zero the gradients\n",
        "        optimizer.zero_grad()\n",
        "\n",
        "        # forward pass\n",
        "        output = model(src, src_len, trg)\n",
        "\n",
        "        # reshaping the output to make it compatible to cal. loss\n",
        "        # can also do without reshaping\n",
        "        output_dim = output.shape[-1]\n",
        "        output = output[1:].view(-1, output_dim)\n",
        "        trg = trg[1:].view(-1)\n",
        "\n",
        "        loss = criterion(output, trg)\n",
        "\n",
        "        # backward pass\n",
        "        loss.backward()\n",
        "\n",
        "        # gradient clipping \n",
        "        torch.nn.utils.clip_grad_norm_(model.parameters(), clip)\n",
        "\n",
        "        # update the parameters of the model\n",
        "        optimizer.step()\n",
        "\n",
        "        # update the loss\n",
        "        epoch_loss += loss.item()\n",
        "    \n",
        "    return epoch_loss / len(iterator)"
      ],
      "execution_count": 34,
      "outputs": []
    },
    {
      "cell_type": "code",
      "metadata": {
        "id": "074tb7FeXMu1",
        "colab_type": "code",
        "colab": {}
      },
      "source": [
        "def evaluate(model, iterator, criterion):\n",
        "    epoch_loss = 0\n",
        "    \n",
        "    # keep the model in eval mode\n",
        "    model.eval()\n",
        "    \n",
        "    # do not calculate gradients\n",
        "    with torch.no_grad():\n",
        "\n",
        "        # iterate over the data\n",
        "        for batch in iterator:\n",
        "            src, src_len = batch.source\n",
        "            trg, _ = batch.target\n",
        "            # src => [seq_len, batch_size]\n",
        "            # src_len => [batch_size]\n",
        "            # trg => [seq_len, batch_size]\n",
        "\n",
        "            # forward pass\n",
        "            # make sure the teacher_forcing_ratio is 0 in eval\n",
        "            output = model(src, src_len, trg, 0)\n",
        "\n",
        "            # reshaping for loss calculation\n",
        "            output_dim = output.shape[-1]\n",
        "            output = output[1:].view(-1, output_dim)\n",
        "            trg = trg[1:].view(-1)\n",
        "\n",
        "            # loss\n",
        "            loss = criterion(output, trg)\n",
        "\n",
        "            # update loss\n",
        "            epoch_loss += loss.item()\n",
        "    return epoch_loss / len(iterator)"
      ],
      "execution_count": 35,
      "outputs": []
    },
    {
      "cell_type": "code",
      "metadata": {
        "id": "LUqsG0Z6XP0Y",
        "colab_type": "code",
        "colab": {}
      },
      "source": [
        "def epoch_time(start_time, end_time):\n",
        "    elapsed_time = end_time - start_time\n",
        "    elapsed_mins = int(elapsed_time / 60)\n",
        "    elapsed_secs = elapsed_time - (elapsed_mins * 60)\n",
        "    return elapsed_mins, elapsed_secs"
      ],
      "execution_count": 36,
      "outputs": []
    },
    {
      "cell_type": "code",
      "metadata": {
        "id": "xKeMIooWXSAg",
        "colab_type": "code",
        "colab": {
          "base_uri": "https://localhost:8080/",
          "height": 443
        },
        "outputId": "a2ef27d4-7a92-4b4e-b873-5d265154ad82"
      },
      "source": [
        "N_EPOCHS = 8\n",
        "CLIP = 1\n",
        "\n",
        "best_valid_loss = float('inf')\n",
        "\n",
        "for epoch in range(N_EPOCHS):\n",
        "    start_time = time.time()\n",
        "    \n",
        "    train_loss = train(model, train_iterator, criterion, optimizer, CLIP)\n",
        "    valid_loss = evaluate(model, valid_iterator, criterion)\n",
        "    \n",
        "    end_time = time.time()\n",
        "    epoch_mins, epoch_secs = epoch_time(start_time, end_time)\n",
        "\n",
        "    if valid_loss < best_valid_loss:\n",
        "        best_valid_loss = valid_loss\n",
        "        torch.save(model.state_dict(), 'model.pt')\n",
        "    \n",
        "    print(f\"Epoch {epoch + 1} | Time: {epoch_mins}m {epoch_secs}s\")\n",
        "    print(f\"\\tTrain Loss: {train_loss:.3f} | Train PPL: {math.exp(train_loss):7.3f} |\")\n",
        "    print(f\"\\tValid Loss: {valid_loss:.3f} | Valid PPL: {math.exp(valid_loss):7.3f} |\")"
      ],
      "execution_count": 37,
      "outputs": [
        {
          "output_type": "stream",
          "text": [
            "Epoch 1 | Time: 5m 33.4158935546875s\n",
            "\tTrain Loss: 4.442 | Train PPL:  84.930 |\n",
            "\tValid Loss: 4.110 | Valid PPL:  60.977 |\n",
            "Epoch 2 | Time: 5m 32.07571077346802s\n",
            "\tTrain Loss: 3.475 | Train PPL:  32.286 |\n",
            "\tValid Loss: 3.762 | Valid PPL:  43.015 |\n",
            "Epoch 3 | Time: 5m 32.077293157577515s\n",
            "\tTrain Loss: 3.057 | Train PPL:  21.266 |\n",
            "\tValid Loss: 3.557 | Valid PPL:  35.045 |\n",
            "Epoch 4 | Time: 5m 31.61773920059204s\n",
            "\tTrain Loss: 2.809 | Train PPL:  16.593 |\n",
            "\tValid Loss: 3.453 | Valid PPL:  31.608 |\n",
            "Epoch 5 | Time: 5m 31.004390954971313s\n",
            "\tTrain Loss: 2.613 | Train PPL:  13.639 |\n",
            "\tValid Loss: 3.501 | Valid PPL:  33.132 |\n",
            "Epoch 6 | Time: 5m 31.26005530357361s\n",
            "\tTrain Loss: 2.465 | Train PPL:  11.766 |\n",
            "\tValid Loss: 3.446 | Valid PPL:  31.378 |\n",
            "Epoch 7 | Time: 5m 30.851324319839478s\n",
            "\tTrain Loss: 2.369 | Train PPL:  10.689 |\n",
            "\tValid Loss: 3.432 | Valid PPL:  30.935 |\n",
            "Epoch 8 | Time: 5m 29.957483530044556s\n",
            "\tTrain Loss: 2.279 | Train PPL:   9.763 |\n",
            "\tValid Loss: 3.442 | Valid PPL:  31.257 |\n"
          ],
          "name": "stdout"
        }
      ]
    },
    {
      "cell_type": "code",
      "metadata": {
        "id": "hBSceS79XVIW",
        "colab_type": "code",
        "colab": {
          "base_uri": "https://localhost:8080/",
          "height": 34
        },
        "outputId": "c862d1de-0f5d-4da3-d3d5-f5c48843a76b"
      },
      "source": [
        "model.load_state_dict(torch.load('model.pt'))"
      ],
      "execution_count": 38,
      "outputs": [
        {
          "output_type": "execute_result",
          "data": {
            "text/plain": [
              "<All keys matched successfully>"
            ]
          },
          "metadata": {
            "tags": []
          },
          "execution_count": 38
        }
      ]
    },
    {
      "cell_type": "code",
      "metadata": {
        "id": "Zd1TwXuoXWvD",
        "colab_type": "code",
        "colab": {}
      },
      "source": [
        "def generate_utterance_greedy(sentence, text_field, model, device, max_len=50):\n",
        "    model.eval()\n",
        "\n",
        "    # tokenization        \n",
        "    if isinstance(sentence, str):\n",
        "        nlp = spacy.load('en')\n",
        "        tokens = [token.text.lower() for token in nlp(sentence)]\n",
        "    else:\n",
        "        tokens = [token.lower() for token in sentence]\n",
        "    tokens = [text_field.init_token] + tokens + [text_field.eos_token]\n",
        "\n",
        "    # convert the tokens to ids  \n",
        "    src_indexes = [text_field.vocab.stoi[token] for token in tokens]\n",
        "    \n",
        "    # convert to tensor format\n",
        "    # since the inference is done on single sentence, batch size is 1\n",
        "    src_tensor = torch.LongTensor(src_indexes).unsqueeze(1).to(device)\n",
        "    # src_tensor => [seq_len, 1]\n",
        "    \n",
        "    src_len = torch.LongTensor([len(src_indexes)]).to(device)\n",
        "    # src_len => [1]\n",
        "\n",
        "    # encode the input sentence\n",
        "    with torch.no_grad():\n",
        "        encoder_outputs, hidden, cell = model.encoder(src_tensor, src_len)\n",
        "\n",
        "    # mask of the input sentence\n",
        "    mask = model.make_mask(src_tensor)\n",
        "\n",
        "    # the starting input to decoder is always <sos>\n",
        "    trg_indexes = [text_field.vocab.stoi[text_field.init_token]]\n",
        "\n",
        "    # to store attentions \n",
        "    attentions = torch.zeros(max_len, 1, len(src_indexes)).to(device)\n",
        "    # attentions => [max_len, 1, src_len]\n",
        "\n",
        "    # decode upto a length of max_len\n",
        "    for i in range(max_len):\n",
        "\n",
        "        # convert the decoder input to tensor format\n",
        "        trg_tensor = torch.LongTensor([trg_indexes[-1]]).to(device)\n",
        "        \n",
        "        # trg input embedding\n",
        "        trg_embed = model.encoder.embedding(trg_tensor.unsqueeze(1))\n",
        "        # trg_embed => [1, 1, emb_dim]\n",
        "\n",
        "        # decode the input\n",
        "        with torch.no_grad():\n",
        "            output, hidden, cell, attention = model.decoder(trg_embed, hidden, cell, encoder_outputs, mask)\n",
        "        \n",
        "        # store the attention\n",
        "        attentions[i] = attention\n",
        "\n",
        "        # get the predicted token by considering the token with highest score\n",
        "        pred_token = output.argmax(1).item()\n",
        "        \n",
        "        # add to predicted tokens\n",
        "        trg_indexes.append(pred_token)\n",
        "\n",
        "        # if the predicted token is <eos> means stop the decoding\n",
        "        if pred_token == text_field.vocab.stoi[text_field.eos_token]:\n",
        "            break\n",
        "\n",
        "    # convert the predicted token ids to words\n",
        "    trg_tokens = [text_field.vocab.itos[i] for i in trg_indexes]\n",
        "    \n",
        "    return tokens[1:], trg_tokens[1:], attentions[:len(trg_tokens)-1]"
      ],
      "execution_count": 39,
      "outputs": []
    },
    {
      "cell_type": "markdown",
      "metadata": {
        "id": "-WhLZCRaabk8",
        "colab_type": "text"
      },
      "source": [
        "#### This is not a optimal way to implement Beam Search. I implemented in a naive way in-order to understand it better. Please suggest ways to improve this by raising an issue [here](https://github.com/graviraja/100-Days-of-NLP/issues)"
      ]
    },
    {
      "cell_type": "code",
      "metadata": {
        "id": "k503JWauF7Dq",
        "colab_type": "code",
        "colab": {}
      },
      "source": [
        "def generate_utterance_beam(sentence, model, device, text_field, max_len=50, beam_size=3):\n",
        "    model.eval()\n",
        "\n",
        "    # tokenization        \n",
        "    if isinstance(sentence, str):\n",
        "        nlp = spacy.load('en')\n",
        "        tokens = [token.text.lower() for token in nlp(sentence)]\n",
        "    else:\n",
        "        tokens = [token.lower() for token in sentence]\n",
        "    tokens = [text_field.init_token] + tokens + [text_field.eos_token]\n",
        "\n",
        "    # convert the tokens to ids  \n",
        "    src_indexes = [text_field.vocab.stoi[token] for token in tokens]\n",
        "    \n",
        "    # convert to tensor format\n",
        "    # since the inference is done on single sentence, batch size is 1\n",
        "    src_tensor = torch.LongTensor(src_indexes).unsqueeze(1).to(device)\n",
        "    # src_tensor => [seq_len, 1]\n",
        "\n",
        "    src_len = torch.LongTensor([len(src_indexes)]).to(device)\n",
        "    # src_len => [1]\n",
        "\n",
        "    # encode the input sentence\n",
        "    with torch.no_grad():\n",
        "        encoder_outputs, hidden, cell = model.encoder(src_tensor, src_len)\n",
        "        # encoder_outputs => [src_len, 1, hidden_dim * 2]\n",
        "        # hidden, cell => [num_layers, 1, hidden_dim]\n",
        "    \n",
        "    num_layers, _, hid_dim = list(hidden.size())\n",
        "\n",
        "    # mask of the input sentence\n",
        "    mask = model.make_mask(src_tensor)\n",
        "    # [1, src_len]\n",
        "\n",
        "    # the starting input to decoder is always <sos>\n",
        "    initial_trg_indexes = [text_field.vocab.stoi[text_field.init_token]]\n",
        "\n",
        "    # convert the decoder input to tensor format\n",
        "    trg_tensor = torch.LongTensor([initial_trg_indexes[-1]]).to(device)\n",
        "    \n",
        "    # trg input embedding\n",
        "    trg_embed = model.encoder.embedding(trg_tensor.unsqueeze(1))\n",
        "    # trg_embed => [1, 1, emb_dim]\n",
        "\n",
        "    # decode the input\n",
        "    with torch.no_grad():\n",
        "        output, hidden, cell, _ = model.decoder(trg_embed, hidden, cell, encoder_outputs, mask)\n",
        "\n",
        "    # get the predicted token by considering the token with highest score\n",
        "    pred_token = output.argmax(1).item()\n",
        "    \n",
        "    top_k_scores, top_k_indexes = output.topk(beam_size, 1, True, True)\n",
        "    # top_k_scores => [1, beam_size]\n",
        "    # top_k_indexes => [1, beam_size]\n",
        "\n",
        "    top_k_indexes = top_k_indexes.squeeze().tolist()\n",
        "\n",
        "    # the starting input to decoder is always <sos>\n",
        "    trg_seq_indexes = []\n",
        "    # trg_seq_indexes = list([[text_field.vocab.stoi[text_field.init_token]]] * beam_size)\n",
        "    for i in range(beam_size):\n",
        "        trg_seq_indexes.append([text_field.vocab.stoi[text_field.init_token], top_k_indexes[i]])\n",
        "    # [[<sos>, inital_top1], [<sos>, initial_top2], [<sos>, initial_top3]]\n",
        "\n",
        "    # replicate hidden states so that relevant ones can be used\n",
        "    hidden_states = [hidden] * beam_size\n",
        "    cell_states = [cell] * beam_size\n",
        "\n",
        "    # scores after initial step\n",
        "    scores = top_k_scores.squeeze()\n",
        "    # [beam_size]\n",
        "    completed_seqs = []\n",
        "    eos_encountered = 0\n",
        "\n",
        "    # decode upto a length of max_len\n",
        "    for i in range(max_len-1):\n",
        "        temp_sequences = []\n",
        "        for index, each_seq in enumerate(trg_seq_indexes):\n",
        "            # if the sequence already hits <eos> means then continue decoding the next sequence\n",
        "            if each_seq[-1] == text_field.vocab.stoi[text_field.eos_token]:\n",
        "                continue\n",
        "            # convert the decoder input to tensor format\n",
        "            trg_tensor = torch.LongTensor([each_seq[-1]]).to(device)\n",
        "            \n",
        "            # trg input embedding\n",
        "            trg_embed = model.encoder.embedding(trg_tensor.unsqueeze(1))\n",
        "            # trg_embed => [1, 1, emb_dim]\n",
        "\n",
        "            # get the relevant hidden, cell states\n",
        "            hidden = hidden_states[index].to(device)\n",
        "            cell = cell_states[index].to(device)\n",
        "\n",
        "            # decode the input\n",
        "            with torch.no_grad():\n",
        "                output, hidden, cell, _ = model.decoder(trg_embed, hidden, cell, encoder_outputs, mask)\n",
        "                # output => [1, vocab_size]\n",
        "\n",
        "            # update the hidden and cell states of the sequence accordingly\n",
        "            hidden_states[index] = hidden\n",
        "            cell_states[index] = cell\n",
        "\n",
        "            # get the probability scores of the prediction\n",
        "            prediction_scores = F.softmax(output, dim=1)\n",
        "\n",
        "            top_k_scores, top_k_indexes = prediction_scores.topk(beam_size, 1, True, True)\n",
        "            # top_k_scores => [1, beam_size]\n",
        "            # top_k_indexes => [1, beam_size]\n",
        "\n",
        "            top_k_scores = top_k_scores.squeeze()\n",
        "            top_k_indexes = top_k_indexes.squeeze()\n",
        "            # top_k_scores => [beam_size]\n",
        "            # top_k_indexes => [beam_size]\n",
        "\n",
        "            # length of the sequence\n",
        "            length = len(each_seq)\n",
        "\n",
        "            prev_seq_score = torch.tensor([scores[index]]).to(device)\n",
        "            current_seq_score = (prev_seq_score * length) + top_k_scores\n",
        "            # length penality\n",
        "            current_seq_score = current_seq_score / (length + 1)\n",
        "            # current_seq_score => [beam_size]\n",
        "\n",
        "            for item in range(beam_size):\n",
        "                temp_sequences.append([current_seq_score[item].item(), top_k_indexes[item].item(), hidden, cell])\n",
        "\n",
        "        # order all candidates by score\n",
        "        ordered = sorted(temp_sequences, key=lambda tup:tup[0], reverse=True)\n",
        "        top_results = ordered[:beam_size-eos_encountered]\n",
        "\n",
        "        temp_hidden = []\n",
        "        temp_cell = []\n",
        "        temp_scores = []\n",
        "        temp_trg_indexes = []\n",
        "\n",
        "        for idx, result in enumerate(top_results):\n",
        "            seq_score = result[0]\n",
        "            seq_token = result[1]\n",
        "            hidden = result[2]\n",
        "            cell = result[3]\n",
        "\n",
        "            trg_seq_indexes[idx].append(seq_token)\n",
        "            scores[idx] = seq_score\n",
        "            hidden_states[idx] = hidden\n",
        "            cell_states[idx] = cell\n",
        "\n",
        "            if seq_token == text_field.vocab.stoi[text_field.eos_token]:\n",
        "                eos_encountered += 1\n",
        "                completed_seqs.append(trg_seq_indexes[idx])\n",
        "            \n",
        "            temp_scores.append(seq_score)\n",
        "            temp_hidden.append(hidden)\n",
        "            temp_cell.append(cell)\n",
        "\n",
        "            temp_scores.append(seq_score)\n",
        "            hidden_states.append(hidden)\n",
        "            cell_states.append(cell)\n",
        "            if seq_token != text_field.vocab.stoi[text_field.eos_token]:\n",
        "                temp_trg_indexes.append(trg_seq_indexes[idx])\n",
        "        trg_seq_indexes = temp_trg_indexes\n",
        "        hidden_states = temp_hidden\n",
        "        cell_states = temp_cell\n",
        "        scores = temp_scores\n",
        "        \n",
        "        if eos_encountered == beam_size:\n",
        "            break\n",
        "\n",
        "    # convert the predicted token ids to words\n",
        "    trg_tokens = [[text_field.vocab.itos[i] for i in seq] for seq in completed_seqs]\n",
        "    return trg_tokens"
      ],
      "execution_count": 111,
      "outputs": []
    },
    {
      "cell_type": "code",
      "metadata": {
        "id": "ggIsXc1tGzPg",
        "colab_type": "code",
        "colab": {
          "base_uri": "https://localhost:8080/",
          "height": 141
        },
        "outputId": "0a5eaf10-0024-4f89-af77-f4e5f1783681"
      },
      "source": [
        "example_idx = 55\n",
        "\n",
        "src = vars(valid_dataset.examples[example_idx])['source']\n",
        "trg = vars(valid_dataset.examples[example_idx])['target']\n",
        "_, greedy_utterance, _ = generate_utterance_greedy(src, TEXT, model, device)\n",
        "\n",
        "print(f'src = {src}')\n",
        "print(f'trg = {trg}')\n",
        "print(f'generated greedy utterance = {greedy_utterance}')\n",
        "print(f'generated beam utterances:')\n",
        "seq = generate_utterance_beam(src, model, device, TEXT)\n",
        "for s in seq:\n",
        "    print(s[1:-1])"
      ],
      "execution_count": 112,
      "outputs": [
        {
          "output_type": "stream",
          "text": [
            "src = ['which', 'book', 'would', 'you', 'recommend', 'to', 'improve', 'english', '?']\n",
            "trg = ['what', 'are', 'the', 'books', 'to', 'improve', 'english', '?']\n",
            "generated greedy utterance = ['what', 'are', 'the', 'best', 'books', 'to', 'learn', 'english', '?', '<eos>']\n",
            "generated beam utterances:\n",
            "['what', 'are', 'the', 'best', 'book', 'to', 'learn', 'english', '?']\n",
            "['which', 'is', 'the', 'best', 'books', 'to', 'learn', 'english', '?']\n",
            "['how', 'books', 'some', 'good', 'books', 'to', 'learn', 'english', '?']\n"
          ],
          "name": "stdout"
        }
      ]
    },
    {
      "cell_type": "code",
      "metadata": {
        "id": "Feq4nYTrZv1l",
        "colab_type": "code",
        "colab": {
          "base_uri": "https://localhost:8080/",
          "height": 123
        },
        "outputId": "af9794db-506e-4b44-eff4-333db15cb882"
      },
      "source": [
        "\n",
        "src = \"What can I do after engineering?\"\n",
        "tokens, greedy_utterance, _ = generate_utterance_greedy(src, TEXT, model, device)\n",
        "\n",
        "print(f'src = {tokens}')\n",
        "print(f'generated greedy utterance = {greedy_utterance}')\n",
        "print(f'generated beam utterances:')\n",
        "seq = generate_utterance_beam(src, model, device, TEXT)\n",
        "for s in seq:\n",
        "    print(s[1:-1])"
      ],
      "execution_count": 114,
      "outputs": [
        {
          "output_type": "stream",
          "text": [
            "src = ['what', 'can', 'i', 'do', 'after', 'engineering', '?', '<eos>']\n",
            "generated greedy utterance = ['what', 'should', 'i', 'do', 'after', 'engineering', '?', '<eos>']\n",
            "generated beam utterances:\n",
            "['what', 'should', 'i', 'do', 'after', 'engineering', '?']\n",
            "['how', 'can', 'i', 'do', 'after', 'engineering', '?']\n",
            "['i', 'do', 'i', 'do', 'after', 'engineering', '?']\n"
          ],
          "name": "stdout"
        }
      ]
    }
  ]
}