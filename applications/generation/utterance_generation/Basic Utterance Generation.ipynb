{
  "nbformat": 4,
  "nbformat_minor": 0,
  "metadata": {
    "colab": {
      "name": "Basic Utterance Generation.ipynb",
      "provenance": [],
      "authorship_tag": "ABX9TyMxV4HxUTy2Z5Or4hzOrG9C",
      "include_colab_link": true
    },
    "kernelspec": {
      "name": "python3",
      "display_name": "Python 3"
    },
    "accelerator": "GPU"
  },
  "cells": [
    {
      "cell_type": "markdown",
      "metadata": {
        "id": "view-in-github",
        "colab_type": "text"
      },
      "source": [
        "<a href=\"https://colab.research.google.com/github/graviraja/100-Days-of-NLP/blob/applications%2Fgeneration/applications/generation/utterance_generation/Basic%20Utterance%20Generation.ipynb\" target=\"_parent\"><img src=\"https://colab.research.google.com/assets/colab-badge.svg\" alt=\"Open In Colab\"/></a>"
      ]
    },
    {
      "cell_type": "code",
      "metadata": {
        "id": "rYpvQLlps4JY",
        "colab_type": "code",
        "colab": {
          "base_uri": "https://localhost:8080/",
          "height": 242
        },
        "outputId": "e7063f09-2c4f-4117-e1ec-86e5710dc0f5"
      },
      "source": [
        "TASK_DATA_DIR = 'glue_data/QQP'\n",
        "!test -d glue_data || git clone https://gist.github.com/60c2bdb54d156a41194446737ce03e2e.git glue_data\n",
        "!test -d $TASK_DATA_DIR || python glue_data/download_glue_data.py --data_dir glue_data --tasks=QQP\n",
        "!ls -alh $TASK_DATA_DIR"
      ],
      "execution_count": 1,
      "outputs": [
        {
          "output_type": "stream",
          "text": [
            "Cloning into 'glue_data'...\n",
            "remote: Enumerating objects: 21, done.\u001b[K\n",
            "remote: Total 21 (delta 0), reused 0 (delta 0), pack-reused 21\u001b[K\n",
            "Unpacking objects:   4% (1/21)   \rUnpacking objects:   9% (2/21)   \rUnpacking objects:  14% (3/21)   \rUnpacking objects:  19% (4/21)   \rUnpacking objects:  23% (5/21)   \rUnpacking objects:  28% (6/21)   \rUnpacking objects:  33% (7/21)   \rUnpacking objects:  38% (8/21)   \rUnpacking objects:  42% (9/21)   \rUnpacking objects:  47% (10/21)   \rUnpacking objects:  52% (11/21)   \rUnpacking objects:  57% (12/21)   \rUnpacking objects:  61% (13/21)   \rUnpacking objects:  66% (14/21)   \rUnpacking objects:  71% (15/21)   \rUnpacking objects:  76% (16/21)   \rUnpacking objects:  80% (17/21)   \rUnpacking objects:  85% (18/21)   \rUnpacking objects:  90% (19/21)   \rUnpacking objects:  95% (20/21)   \rUnpacking objects: 100% (21/21)   \rUnpacking objects: 100% (21/21), done.\n",
            "Downloading and extracting QQP...\n",
            "\tCompleted!\n",
            "total 104M\n",
            "drwxr-xr-x 3 root root 4.0K Jun 19 15:54 .\n",
            "drwxr-xr-x 4 root root 4.0K Jun 19 15:54 ..\n",
            "-rw-r--r-- 1 root root 5.6M Jun 19 15:54 dev.tsv\n",
            "drwxr-xr-x 2 root root 4.0K Jun 19 15:54 original\n",
            "-rw-r--r-- 1 root root  49M Jun 19 15:54 test.tsv\n",
            "-rw-r--r-- 1 root root  50M Jun 19 15:54 train.tsv\n"
          ],
          "name": "stdout"
        }
      ]
    },
    {
      "cell_type": "code",
      "metadata": {
        "id": "sJa6-tS-odi6",
        "colab_type": "code",
        "colab": {}
      },
      "source": [
        "import os\n",
        "import time\n",
        "import math\n",
        "import random\n",
        "import pandas as pd\n",
        "import numpy as np\n",
        "\n",
        "import torch\n",
        "import torch.nn as nn\n",
        "import torch.optim as optim\n",
        "\n",
        "from torchtext import data, vocab\n",
        "\n",
        "import matplotlib.pyplot as plt\n",
        "import seaborn as sns"
      ],
      "execution_count": 58,
      "outputs": []
    },
    {
      "cell_type": "code",
      "metadata": {
        "id": "wiTjJzPQs_r8",
        "colab_type": "code",
        "colab": {}
      },
      "source": [
        "\n",
        "SEED = 42\n",
        "\n",
        "np.random.seed(SEED)\n",
        "torch.manual_seed(SEED)\n",
        "torch.backends.cudnn.deterministic = True"
      ],
      "execution_count": 3,
      "outputs": []
    },
    {
      "cell_type": "code",
      "metadata": {
        "id": "tIeMXipYtB__",
        "colab_type": "code",
        "colab": {
          "base_uri": "https://localhost:8080/",
          "height": 35
        },
        "outputId": "1034cac9-d330-4b85-8f45-d577a1cead5f"
      },
      "source": [
        "device = torch.device('cuda' if torch.cuda.is_available() else 'cpu')\n",
        "device"
      ],
      "execution_count": 4,
      "outputs": [
        {
          "output_type": "execute_result",
          "data": {
            "text/plain": [
              "device(type='cuda')"
            ]
          },
          "metadata": {
            "tags": []
          },
          "execution_count": 4
        }
      ]
    },
    {
      "cell_type": "code",
      "metadata": {
        "id": "q_t6GYCvrbG2",
        "colab_type": "code",
        "colab": {
          "base_uri": "https://localhost:8080/",
          "height": 305
        },
        "outputId": "18dd1150-58bf-4eb9-b6f8-989bce55a366"
      },
      "source": [
        "train_df = pd.read_csv(TASK_DATA_DIR + '/train.tsv', sep='\\t', error_bad_lines=False)\n",
        "valid_df = pd.read_csv(TASK_DATA_DIR + '/dev.tsv', sep='\\t', error_bad_lines=False)\n",
        "train_df.head()"
      ],
      "execution_count": 5,
      "outputs": [
        {
          "output_type": "stream",
          "text": [
            "b'Skipping line 83032: expected 6 fields, saw 7\\n'\n",
            "b'Skipping line 154657: expected 6 fields, saw 7\\n'\n",
            "b'Skipping line 323916: expected 6 fields, saw 7\\n'\n",
            "/usr/local/lib/python3.6/dist-packages/IPython/core/interactiveshell.py:2718: DtypeWarning: Columns (1) have mixed types.Specify dtype option on import or set low_memory=False.\n",
            "  interactivity=interactivity, compiler=compiler, result=result)\n"
          ],
          "name": "stderr"
        },
        {
          "output_type": "execute_result",
          "data": {
            "text/html": [
              "<div>\n",
              "<style scoped>\n",
              "    .dataframe tbody tr th:only-of-type {\n",
              "        vertical-align: middle;\n",
              "    }\n",
              "\n",
              "    .dataframe tbody tr th {\n",
              "        vertical-align: top;\n",
              "    }\n",
              "\n",
              "    .dataframe thead th {\n",
              "        text-align: right;\n",
              "    }\n",
              "</style>\n",
              "<table border=\"1\" class=\"dataframe\">\n",
              "  <thead>\n",
              "    <tr style=\"text-align: right;\">\n",
              "      <th></th>\n",
              "      <th>id</th>\n",
              "      <th>qid1</th>\n",
              "      <th>qid2</th>\n",
              "      <th>question1</th>\n",
              "      <th>question2</th>\n",
              "      <th>is_duplicate</th>\n",
              "    </tr>\n",
              "  </thead>\n",
              "  <tbody>\n",
              "    <tr>\n",
              "      <th>0</th>\n",
              "      <td>133273</td>\n",
              "      <td>213221</td>\n",
              "      <td>213222.0</td>\n",
              "      <td>How is the life of a math student? Could you d...</td>\n",
              "      <td>Which level of prepration is enough for the ex...</td>\n",
              "      <td>0.0</td>\n",
              "    </tr>\n",
              "    <tr>\n",
              "      <th>1</th>\n",
              "      <td>402555</td>\n",
              "      <td>536040</td>\n",
              "      <td>536041.0</td>\n",
              "      <td>How do I control my horny emotions?</td>\n",
              "      <td>How do you control your horniness?</td>\n",
              "      <td>1.0</td>\n",
              "    </tr>\n",
              "    <tr>\n",
              "      <th>2</th>\n",
              "      <td>360472</td>\n",
              "      <td>364011</td>\n",
              "      <td>490273.0</td>\n",
              "      <td>What causes stool color to change to yellow?</td>\n",
              "      <td>What can cause stool to come out as little balls?</td>\n",
              "      <td>0.0</td>\n",
              "    </tr>\n",
              "    <tr>\n",
              "      <th>3</th>\n",
              "      <td>150662</td>\n",
              "      <td>155721</td>\n",
              "      <td>7256.0</td>\n",
              "      <td>What can one do after MBBS?</td>\n",
              "      <td>What do i do after my MBBS ?</td>\n",
              "      <td>1.0</td>\n",
              "    </tr>\n",
              "    <tr>\n",
              "      <th>4</th>\n",
              "      <td>183004</td>\n",
              "      <td>279958</td>\n",
              "      <td>279959.0</td>\n",
              "      <td>Where can I find a power outlet for my laptop ...</td>\n",
              "      <td>Would a second airport in Sydney, Australia be...</td>\n",
              "      <td>0.0</td>\n",
              "    </tr>\n",
              "  </tbody>\n",
              "</table>\n",
              "</div>"
            ],
            "text/plain": [
              "       id  ... is_duplicate\n",
              "0  133273  ...          0.0\n",
              "1  402555  ...          1.0\n",
              "2  360472  ...          0.0\n",
              "3  150662  ...          1.0\n",
              "4  183004  ...          0.0\n",
              "\n",
              "[5 rows x 6 columns]"
            ]
          },
          "metadata": {
            "tags": []
          },
          "execution_count": 5
        }
      ]
    },
    {
      "cell_type": "code",
      "metadata": {
        "id": "Tm0lzdtkrp5G",
        "colab_type": "code",
        "colab": {
          "base_uri": "https://localhost:8080/",
          "height": 35
        },
        "outputId": "9885ba57-a09a-458d-cfc1-aa87e69b0af1"
      },
      "source": [
        "len(train_df), len(valid_df)"
      ],
      "execution_count": 6,
      "outputs": [
        {
          "output_type": "execute_result",
          "data": {
            "text/plain": [
              "(363192, 40372)"
            ]
          },
          "metadata": {
            "tags": []
          },
          "execution_count": 6
        }
      ]
    },
    {
      "cell_type": "code",
      "metadata": {
        "id": "8D2wLZ7gvWtS",
        "colab_type": "code",
        "colab": {
          "base_uri": "https://localhost:8080/",
          "height": 296
        },
        "outputId": "ea8f0250-9ae5-4f14-bb35-08f6786f8f16"
      },
      "source": [
        "sns.countplot(train_df['is_duplicate'])\n",
        "plt.xlabel('Train data distribution')"
      ],
      "execution_count": 7,
      "outputs": [
        {
          "output_type": "execute_result",
          "data": {
            "text/plain": [
              "Text(0.5, 0, 'Train data distribution')"
            ]
          },
          "metadata": {
            "tags": []
          },
          "execution_count": 7
        },
        {
          "output_type": "display_data",
          "data": {
            "image/png": "[encoded data removed]",
            "text/plain": [
              "<Figure size 432x288 with 1 Axes>"
            ]
          },
          "metadata": {
            "tags": [],
            "needs_background": "light"
          }
        }
      ]
    },
    {
      "cell_type": "code",
      "metadata": {
        "id": "SRFMnavcvd4n",
        "colab_type": "code",
        "colab": {
          "base_uri": "https://localhost:8080/",
          "height": 296
        },
        "outputId": "e72bdc3f-3e59-4d81-8b66-831f88606b8d"
      },
      "source": [
        "sns.countplot(valid_df['is_duplicate'])\n",
        "plt.xlabel('Valid data distribution')"
      ],
      "execution_count": 8,
      "outputs": [
        {
          "output_type": "execute_result",
          "data": {
            "text/plain": [
              "Text(0.5, 0, 'Valid data distribution')"
            ]
          },
          "metadata": {
            "tags": []
          },
          "execution_count": 8
        },
        {
          "output_type": "display_data",
          "data": {
            "image/png": "[encoded data removed]",
            "text/plain": [
              "<Figure size 432x288 with 1 Axes>"
            ]
          },
          "metadata": {
            "tags": [],
            "needs_background": "light"
          }
        }
      ]
    },
    {
      "cell_type": "code",
      "metadata": {
        "id": "r_-LHvVDugGz",
        "colab_type": "code",
        "colab": {}
      },
      "source": [
        "train_data = train_df[train_df['is_duplicate'] == 1]\n",
        "valid_data = valid_df[valid_df['is_duplicate'] == 1]"
      ],
      "execution_count": 9,
      "outputs": []
    },
    {
      "cell_type": "code",
      "metadata": {
        "id": "10cH7StSurn5",
        "colab_type": "code",
        "colab": {
          "base_uri": "https://localhost:8080/",
          "height": 198
        },
        "outputId": "520686da-fddf-4e96-9d87-d42ab0972f47"
      },
      "source": [
        "train_data.head()"
      ],
      "execution_count": 10,
      "outputs": [
        {
          "output_type": "execute_result",
          "data": {
            "text/html": [
              "<div>\n",
              "<style scoped>\n",
              "    .dataframe tbody tr th:only-of-type {\n",
              "        vertical-align: middle;\n",
              "    }\n",
              "\n",
              "    .dataframe tbody tr th {\n",
              "        vertical-align: top;\n",
              "    }\n",
              "\n",
              "    .dataframe thead th {\n",
              "        text-align: right;\n",
              "    }\n",
              "</style>\n",
              "<table border=\"1\" class=\"dataframe\">\n",
              "  <thead>\n",
              "    <tr style=\"text-align: right;\">\n",
              "      <th></th>\n",
              "      <th>id</th>\n",
              "      <th>qid1</th>\n",
              "      <th>qid2</th>\n",
              "      <th>question1</th>\n",
              "      <th>question2</th>\n",
              "      <th>is_duplicate</th>\n",
              "    </tr>\n",
              "  </thead>\n",
              "  <tbody>\n",
              "    <tr>\n",
              "      <th>1</th>\n",
              "      <td>402555</td>\n",
              "      <td>536040</td>\n",
              "      <td>536041.0</td>\n",
              "      <td>How do I control my horny emotions?</td>\n",
              "      <td>How do you control your horniness?</td>\n",
              "      <td>1.0</td>\n",
              "    </tr>\n",
              "    <tr>\n",
              "      <th>3</th>\n",
              "      <td>150662</td>\n",
              "      <td>155721</td>\n",
              "      <td>7256.0</td>\n",
              "      <td>What can one do after MBBS?</td>\n",
              "      <td>What do i do after my MBBS ?</td>\n",
              "      <td>1.0</td>\n",
              "    </tr>\n",
              "    <tr>\n",
              "      <th>7</th>\n",
              "      <td>106969</td>\n",
              "      <td>147570</td>\n",
              "      <td>787.0</td>\n",
              "      <td>What is the best self help book you have read?...</td>\n",
              "      <td>What are the top self help books I should read?</td>\n",
              "      <td>1.0</td>\n",
              "    </tr>\n",
              "    <tr>\n",
              "      <th>11</th>\n",
              "      <td>233239</td>\n",
              "      <td>71243</td>\n",
              "      <td>177376.0</td>\n",
              "      <td>What will be Hillary Clinton's policy towards ...</td>\n",
              "      <td>What will be Hilary Clinton's policy towards I...</td>\n",
              "      <td>1.0</td>\n",
              "    </tr>\n",
              "    <tr>\n",
              "      <th>13</th>\n",
              "      <td>11568</td>\n",
              "      <td>22332</td>\n",
              "      <td>22333.0</td>\n",
              "      <td>Which is the best book to study TENSOR for gen...</td>\n",
              "      <td>Which is the best book for tensor calculus?</td>\n",
              "      <td>1.0</td>\n",
              "    </tr>\n",
              "  </tbody>\n",
              "</table>\n",
              "</div>"
            ],
            "text/plain": [
              "        id  ... is_duplicate\n",
              "1   402555  ...          1.0\n",
              "3   150662  ...          1.0\n",
              "7   106969  ...          1.0\n",
              "11  233239  ...          1.0\n",
              "13   11568  ...          1.0\n",
              "\n",
              "[5 rows x 6 columns]"
            ]
          },
          "metadata": {
            "tags": []
          },
          "execution_count": 10
        }
      ]
    },
    {
      "cell_type": "code",
      "metadata": {
        "id": "9AeZx1RnutBu",
        "colab_type": "code",
        "colab": {
          "base_uri": "https://localhost:8080/",
          "height": 35
        },
        "outputId": "4f7ab8ae-54ab-47bc-85e6-f1f445599123"
      },
      "source": [
        "len(train_data), len(valid_data)"
      ],
      "execution_count": 11,
      "outputs": [
        {
          "output_type": "execute_result",
          "data": {
            "text/plain": [
              "(134141, 14857)"
            ]
          },
          "metadata": {
            "tags": []
          },
          "execution_count": 11
        }
      ]
    },
    {
      "cell_type": "code",
      "metadata": {
        "id": "DKdSgBanv3a8",
        "colab_type": "code",
        "colab": {}
      },
      "source": [
        "train_data = train_data[['question1', 'question2']]\n",
        "valid_data = valid_data[['question1', 'question2']]"
      ],
      "execution_count": 12,
      "outputs": []
    },
    {
      "cell_type": "code",
      "metadata": {
        "id": "O82uUq1Av9a7",
        "colab_type": "code",
        "colab": {
          "base_uri": "https://localhost:8080/",
          "height": 198
        },
        "outputId": "73be5770-29c3-4854-a65b-ea8e58e525af"
      },
      "source": [
        "train_data.head()"
      ],
      "execution_count": 13,
      "outputs": [
        {
          "output_type": "execute_result",
          "data": {
            "text/html": [
              "<div>\n",
              "<style scoped>\n",
              "    .dataframe tbody tr th:only-of-type {\n",
              "        vertical-align: middle;\n",
              "    }\n",
              "\n",
              "    .dataframe tbody tr th {\n",
              "        vertical-align: top;\n",
              "    }\n",
              "\n",
              "    .dataframe thead th {\n",
              "        text-align: right;\n",
              "    }\n",
              "</style>\n",
              "<table border=\"1\" class=\"dataframe\">\n",
              "  <thead>\n",
              "    <tr style=\"text-align: right;\">\n",
              "      <th></th>\n",
              "      <th>question1</th>\n",
              "      <th>question2</th>\n",
              "    </tr>\n",
              "  </thead>\n",
              "  <tbody>\n",
              "    <tr>\n",
              "      <th>1</th>\n",
              "      <td>How do I control my horny emotions?</td>\n",
              "      <td>How do you control your horniness?</td>\n",
              "    </tr>\n",
              "    <tr>\n",
              "      <th>3</th>\n",
              "      <td>What can one do after MBBS?</td>\n",
              "      <td>What do i do after my MBBS ?</td>\n",
              "    </tr>\n",
              "    <tr>\n",
              "      <th>7</th>\n",
              "      <td>What is the best self help book you have read?...</td>\n",
              "      <td>What are the top self help books I should read?</td>\n",
              "    </tr>\n",
              "    <tr>\n",
              "      <th>11</th>\n",
              "      <td>What will be Hillary Clinton's policy towards ...</td>\n",
              "      <td>What will be Hilary Clinton's policy towards I...</td>\n",
              "    </tr>\n",
              "    <tr>\n",
              "      <th>13</th>\n",
              "      <td>Which is the best book to study TENSOR for gen...</td>\n",
              "      <td>Which is the best book for tensor calculus?</td>\n",
              "    </tr>\n",
              "  </tbody>\n",
              "</table>\n",
              "</div>"
            ],
            "text/plain": [
              "                                            question1                                          question2\n",
              "1                 How do I control my horny emotions?                 How do you control your horniness?\n",
              "3                         What can one do after MBBS?                       What do i do after my MBBS ?\n",
              "7   What is the best self help book you have read?...    What are the top self help books I should read?\n",
              "11  What will be Hillary Clinton's policy towards ...  What will be Hilary Clinton's policy towards I...\n",
              "13  Which is the best book to study TENSOR for gen...        Which is the best book for tensor calculus?"
            ]
          },
          "metadata": {
            "tags": []
          },
          "execution_count": 13
        }
      ]
    },
    {
      "cell_type": "code",
      "metadata": {
        "id": "mliL5MIguvIv",
        "colab_type": "code",
        "colab": {}
      },
      "source": [
        "sample_train_data = train_data.sample(50000)\n",
        "sample_valid_data = valid_data.sample(5000)"
      ],
      "execution_count": 59,
      "outputs": []
    },
    {
      "cell_type": "code",
      "metadata": {
        "id": "1ywMJKNcvxs-",
        "colab_type": "code",
        "colab": {}
      },
      "source": [
        "sample_train_data.to_csv('train_ds.csv')\n",
        "sample_valid_data.to_csv('valid_ds.csv')"
      ],
      "execution_count": 60,
      "outputs": []
    },
    {
      "cell_type": "code",
      "metadata": {
        "id": "fqCdZEwhyNWf",
        "colab_type": "code",
        "colab": {
          "base_uri": "https://localhost:8080/",
          "height": 173
        },
        "outputId": "a9dbce07-898d-4469-aaa0-a875992d6774"
      },
      "source": [
        "!ls -lah"
      ],
      "execution_count": 61,
      "outputs": [
        {
          "output_type": "stream",
          "text": [
            "total 97M\n",
            "drwxr-xr-x 1 root root 4.0K Jun 19 16:14 .\n",
            "drwxr-xr-x 1 root root 4.0K Jun 19 15:44 ..\n",
            "drwxr-xr-x 1 root root 4.0K Jun 17 16:18 .config\n",
            "drwxr-xr-x 4 root root 4.0K Jun 19 15:54 glue_data\n",
            "-rw-r--r-- 1 root root  91M Jun 19 16:14 model.pt\n",
            "drwxr-xr-x 1 root root 4.0K Jun 17 16:18 sample_data\n",
            "-rw-r--r-- 1 root root 5.5M Jun 19 16:14 train_ds.csv\n",
            "-rw-r--r-- 1 root root 559K Jun 19 16:14 valid_ds.csv\n"
          ],
          "name": "stdout"
        }
      ]
    },
    {
      "cell_type": "code",
      "metadata": {
        "id": "_gJPOjrPyOj4",
        "colab_type": "code",
        "colab": {}
      },
      "source": [
        "tokenizer = data.get_tokenizer('spacy')\n",
        "TEXT = data.Field(tokenize=tokenizer, lower=True, init_token='<sos>', eos_token='<eos>')"
      ],
      "execution_count": 62,
      "outputs": []
    },
    {
      "cell_type": "code",
      "metadata": {
        "id": "5a6oFXK4ABTe",
        "colab_type": "code",
        "colab": {}
      },
      "source": [
        "fields = [(None, None), (\"source\", TEXT), (\"target\", TEXT)]\n",
        "\n",
        "train_dataset, valid_dataset = data.TabularDataset.splits(path='.',\n",
        "                                     train='train_ds.csv', validation='valid_ds.csv',\n",
        "                                     format='csv', skip_header=True, fields=fields)"
      ],
      "execution_count": 63,
      "outputs": []
    },
    {
      "cell_type": "code",
      "metadata": {
        "id": "wXkLf7THAW2d",
        "colab_type": "code",
        "colab": {
          "base_uri": "https://localhost:8080/",
          "height": 52
        },
        "outputId": "9c874e66-bbfe-4bec-da77-11b402db4e4e"
      },
      "source": [
        "print(f\"Number of training examples: {len(train_dataset)}\")\n",
        "print(f\"Number of validation examples: {len(valid_dataset)}\")"
      ],
      "execution_count": 64,
      "outputs": [
        {
          "output_type": "stream",
          "text": [
            "Number of training examples: 50000\n",
            "Number of validation examples: 5000\n"
          ],
          "name": "stdout"
        }
      ]
    },
    {
      "cell_type": "code",
      "metadata": {
        "id": "UQTYQSNmAe9R",
        "colab_type": "code",
        "colab": {
          "base_uri": "https://localhost:8080/",
          "height": 55
        },
        "outputId": "650d3954-945b-4dfd-c76a-0df6129b3709"
      },
      "source": [
        "print(vars(train_dataset.examples[1]))"
      ],
      "execution_count": 65,
      "outputs": [
        {
          "output_type": "stream",
          "text": [
            "{'source': ['if', 'hillary', 'clinton', 'wins', 'the', 'presidency', ',', 'can', 'she', 'pardon', 'herself', 'for', 'previous', 'wrong', 'doings', '?'], 'target': ['if', 'hillary', 'clinton', 'is', 'president', ',', 'and', 'the', 'fbi', 'is', 'investigating', 'her', ',', 'can', 'she', 'influence', 'the', 'fbi', 'and/or', 'give', 'herself', 'a', 'presidential', 'pardon', '?']}\n"
          ],
          "name": "stdout"
        }
      ]
    },
    {
      "cell_type": "code",
      "metadata": {
        "id": "fYsumXg3AkEf",
        "colab_type": "code",
        "colab": {}
      },
      "source": [
        "TEXT.build_vocab(train_dataset, min_freq=5)"
      ],
      "execution_count": 66,
      "outputs": []
    },
    {
      "cell_type": "code",
      "metadata": {
        "id": "YRGTLo5WAtr7",
        "colab_type": "code",
        "colab": {
          "base_uri": "https://localhost:8080/",
          "height": 35
        },
        "outputId": "d4f9a999-7af7-4720-f50e-8fbdfe1b4be7"
      },
      "source": [
        "print(f\"Number of tokens in vocabulary: {len(TEXT.vocab)}\")"
      ],
      "execution_count": 67,
      "outputs": [
        {
          "output_type": "stream",
          "text": [
            "Number of tokens in vocabulary: 8142\n"
          ],
          "name": "stdout"
        }
      ]
    },
    {
      "cell_type": "code",
      "metadata": {
        "id": "7BsdMYtZAzQz",
        "colab_type": "code",
        "colab": {}
      },
      "source": [
        "BATCH_SIZE = 64\n",
        "\n",
        "train_iterator, valid_iterator = data.BucketIterator.splits(\n",
        "    (train_dataset, valid_dataset),\n",
        "    batch_size=BATCH_SIZE,\n",
        "    sort_key=lambda x: len(x.source),\n",
        "    device=device\n",
        ")"
      ],
      "execution_count": 68,
      "outputs": []
    },
    {
      "cell_type": "code",
      "metadata": {
        "id": "dm7D9E6GA_o_",
        "colab_type": "code",
        "colab": {
          "base_uri": "https://localhost:8080/",
          "height": 35
        },
        "outputId": "88c641a0-2e0c-40ad-b274-f7c3cdb0386b"
      },
      "source": [
        "# sample checking\n",
        "temp = next(iter(train_iterator))\n",
        "temp.source.shape, temp.target.shape"
      ],
      "execution_count": 69,
      "outputs": [
        {
          "output_type": "execute_result",
          "data": {
            "text/plain": [
              "(torch.Size([29, 64]), torch.Size([27, 64]))"
            ]
          },
          "metadata": {
            "tags": []
          },
          "execution_count": 69
        }
      ]
    },
    {
      "cell_type": "code",
      "metadata": {
        "id": "FXLuQdqHBFbe",
        "colab_type": "code",
        "colab": {}
      },
      "source": [
        "class Encoder(nn.Module):\n",
        "    def __init__(self, input_dim, emb_dim, hidden_dim, n_layers, dropout):\n",
        "        super().__init__()\n",
        "        \n",
        "        self.n_layers = n_layers\n",
        "        self.hidden_dim = hidden_dim\n",
        "\n",
        "        self.embedding = nn.Embedding(input_dim, emb_dim)\n",
        "        self.rnn = nn.LSTM(emb_dim, hidden_dim, bidirectional=True, num_layers=n_layers, dropout=dropout)\n",
        "\n",
        "        self.fc = nn.Linear(hidden_dim * 2, hidden_dim)\n",
        "        self.dropout = nn.Dropout(dropout)\n",
        "    \n",
        "    def forward(self, src):\n",
        "        # src => [seq_len, batch_size]\n",
        "\n",
        "        embedded = self.dropout(self.embedding(src))\n",
        "        # embedded => [seq_len, batch_size, hidden_dim]\n",
        "\n",
        "        outputs, (hidden, cell) = self.rnn(embedded)\n",
        "        # outputs => [seq_len, batch_size, hidden_dim * 2]\n",
        "        # hidden, cell => [num_layers * num_dir, batch_size, hidden_dim]\n",
        "\n",
        "        hidden = hidden.view(self.n_layers, 2,  -1, self.hidden_dim)\n",
        "        cell = cell.view(self.n_layers, 2,  -1, self.hidden_dim)\n",
        "        # hidden, cell => [num_layers, num_dir, batch_size, hidden_dim]\n",
        "\n",
        "        final_forward_hidden = hidden[:, 0, :, :]\n",
        "        final_backward_hidden = hidden[:, 1, :, :]\n",
        "        # final_hiddens => [num_layers, batch_size, hidden_dim]\n",
        "\n",
        "        final_forward_cell = cell[:, 0, :, :]\n",
        "        final_backward_cell = cell[:, 1, :, :]\n",
        "        # final_cells => [num_layers, batch_size, hidden_dim]\n",
        "\n",
        "        combined_hidden = torch.cat((final_forward_hidden, final_backward_hidden), dim=2)\n",
        "        combined_cell = torch.cat((final_forward_cell, final_backward_cell), dim=2)\n",
        "        # combined_hidden, combined_cell => [num_layers, batch_size, hidden_dim * 2]\n",
        "\n",
        "        decoder_initial_hidden = self.fc(combined_hidden)\n",
        "        decoder_initial_cell = self.fc(combined_cell)\n",
        "        # decoder_initial_states => [num_layers, batch_size, hidden_dim]\n",
        "\n",
        "        return decoder_initial_hidden, decoder_initial_cell"
      ],
      "execution_count": 70,
      "outputs": []
    },
    {
      "cell_type": "code",
      "metadata": {
        "id": "uPgkExAqJu2r",
        "colab_type": "code",
        "colab": {}
      },
      "source": [
        "class Decoder(nn.Module):\n",
        "    def __init__(self, input_dim, emb_dim, hidden_dim, n_layers, dropout):\n",
        "        super().__init__()\n",
        "        \n",
        "        self.n_layers = n_layers\n",
        "        self.hidden_dim = hidden_dim\n",
        "        self.input_dim = input_dim\n",
        "\n",
        "        self.rnn = nn.LSTM(emb_dim, hidden_dim, num_layers=n_layers, dropout=dropout)\n",
        "        self.fc = nn.Linear(hidden_dim, input_dim)\n",
        "\n",
        "        self.dropout = nn.Dropout(dropout)\n",
        "    \n",
        "    def forward(self, input, hidden, cell):\n",
        "        # input => [seq_len, batch_size, emb_dim]\n",
        "        #       => [1, batch_size, emb_dim]\n",
        "        # hidden => [num_layers, batch_size, hidden_dim]\n",
        "        # cell => [num_layers, batch_size, hidden_dim]\n",
        "\n",
        "        output, (hidden, cell) = self.rnn(input, (hidden, cell))\n",
        "        # output => [1, batch_size, hidden_dim]\n",
        "        # hidden => [num_layers, batch_size, hidden_dim]\n",
        "        # cell => [num_layers, batch_size, hidden_dim]\n",
        "\n",
        "        logits = self.fc(self.dropout(output.squeeze(0)))\n",
        "        # logits => [batch_size, output_dim]\n",
        "\n",
        "        return logits, hidden, cell\n"
      ],
      "execution_count": 71,
      "outputs": []
    },
    {
      "cell_type": "code",
      "metadata": {
        "id": "UtDaN2auLgnw",
        "colab_type": "code",
        "colab": {}
      },
      "source": [
        "class Seq2Seq(nn.Module):\n",
        "    def __init__(self, encoder, decoder, device):\n",
        "        super().__init__()\n",
        "\n",
        "        self.encoder = encoder\n",
        "        self.decoder = decoder\n",
        "        self.device = device\n",
        "    \n",
        "    def forward(self, src, trg, teacher_forcing_ratio=0.5):\n",
        "        # src => [seq_len, batch_size]\n",
        "        # trg => [trg_len, batch_size]\n",
        "\n",
        "        batch_size = src.shape[1]\n",
        "        trg_len = trg.shape[0]\n",
        "        trg_vocab_size = self.decoder.input_dim\n",
        "\n",
        "        # outputs: to store the predictions of the decoder\n",
        "        outputs = torch.zeros(trg_len, batch_size, trg_vocab_size).to(self.device)\n",
        "\n",
        "        hidden, cell = self.encoder(src)\n",
        "        # hidden, cell => [num_layers, batch_size, hidden_dim]\n",
        "\n",
        "        dec_inp = trg[0, :]\n",
        "\n",
        "        for t in range(1, trg_len):\n",
        "            dec_inp_emb = self.encoder.embedding(dec_inp.unsqueeze(0))\n",
        "            # dec_inp_emb => [1, batch_size, emb_dim]\n",
        "            output, hidden, cell = self.decoder(dec_inp_emb, hidden, cell)\n",
        "\n",
        "            # save the output\n",
        "            outputs[t] = output\n",
        "\n",
        "            # to decide whether to use teacher force or not\n",
        "            teacher_force = random.random() < teacher_forcing_ratio\n",
        "\n",
        "            top1 = output.argmax(1)\n",
        "\n",
        "            dec_inp = trg[t] if teacher_force else top1\n",
        "        \n",
        "        return outputs\n"
      ],
      "execution_count": 72,
      "outputs": []
    },
    {
      "cell_type": "code",
      "metadata": {
        "id": "yJBaAbUIZkim",
        "colab_type": "code",
        "colab": {}
      },
      "source": [
        "INPUT_DIM = len(TEXT.vocab)\n",
        "EMB_DIM = 256\n",
        "HID_DIM = 512\n",
        "N_LAYERS = 2\n",
        "DROPOUT = 0.5\n",
        "\n",
        "enc = Encoder(INPUT_DIM, EMB_DIM, HID_DIM, N_LAYERS, DROPOUT)\n",
        "dec = Decoder(INPUT_DIM, EMB_DIM, HID_DIM, N_LAYERS, DROPOUT)\n",
        "model = Seq2Seq(enc, dec, device).to(device)"
      ],
      "execution_count": 73,
      "outputs": []
    },
    {
      "cell_type": "code",
      "metadata": {
        "id": "lKiL1QFkZ6-d",
        "colab_type": "code",
        "colab": {
          "base_uri": "https://localhost:8080/",
          "height": 242
        },
        "outputId": "5081d7ec-a8f4-4839-fab0-019304f2029e"
      },
      "source": [
        "def init_weights(model):\n",
        "    for name, param in model.named_parameters():\n",
        "        nn.init.uniform_(param.data, -0.08, 0.08)\n",
        "\n",
        "model.apply(init_weights)"
      ],
      "execution_count": 74,
      "outputs": [
        {
          "output_type": "execute_result",
          "data": {
            "text/plain": [
              "Seq2Seq(\n",
              "  (encoder): Encoder(\n",
              "    (embedding): Embedding(8142, 256)\n",
              "    (rnn): LSTM(256, 512, num_layers=2, dropout=0.5, bidirectional=True)\n",
              "    (fc): Linear(in_features=1024, out_features=512, bias=True)\n",
              "    (dropout): Dropout(p=0.5, inplace=False)\n",
              "  )\n",
              "  (decoder): Decoder(\n",
              "    (rnn): LSTM(256, 512, num_layers=2, dropout=0.5)\n",
              "    (fc): Linear(in_features=512, out_features=8142, bias=True)\n",
              "    (dropout): Dropout(p=0.5, inplace=False)\n",
              "  )\n",
              ")"
            ]
          },
          "metadata": {
            "tags": []
          },
          "execution_count": 74
        }
      ]
    },
    {
      "cell_type": "code",
      "metadata": {
        "id": "AsffvAd9Z9HZ",
        "colab_type": "code",
        "colab": {
          "base_uri": "https://localhost:8080/",
          "height": 35
        },
        "outputId": "0dd3d8d5-8231-4134-fe16-86152496147c"
      },
      "source": [
        "def count_parameters(model):\n",
        "    return sum(p.numel() for p in model.parameters() if p.requires_grad)\n",
        "\n",
        "print(f'The model has {count_parameters(model)} trainable parameters')"
      ],
      "execution_count": 75,
      "outputs": [
        {
          "output_type": "stream",
          "text": [
            "The model has 19917774 trainable parameters\n"
          ],
          "name": "stdout"
        }
      ]
    },
    {
      "cell_type": "code",
      "metadata": {
        "id": "nKJVBVVYaA4o",
        "colab_type": "code",
        "colab": {}
      },
      "source": [
        "PAD_IDX = TEXT.vocab.stoi[TEXT.pad_token]\n",
        "\n",
        "optimizer = optim.Adam(model.parameters())\n",
        "criterion = nn.CrossEntropyLoss(ignore_index=PAD_IDX)"
      ],
      "execution_count": 76,
      "outputs": []
    },
    {
      "cell_type": "code",
      "metadata": {
        "id": "ZwwYilMhaIvn",
        "colab_type": "code",
        "colab": {}
      },
      "source": [
        "def train(model, iterator, criterion, optimizer, clip):\n",
        "    epoch_loss = 0\n",
        "\n",
        "    # keep the model in train mode\n",
        "    model.train()\n",
        "\n",
        "    # iterate over train data\n",
        "    for i, batch in enumerate(iterator):\n",
        "        src = batch.source\n",
        "        trg = batch.target\n",
        "        # src => [seq_len, batch_size]\n",
        "        # trg => [seq_len, batch_size]\n",
        "\n",
        "        # zero the gradients\n",
        "        optimizer.zero_grad()\n",
        "\n",
        "        # forward pass\n",
        "        output = model(src, trg)\n",
        "\n",
        "        # reshaping the output to make it compatible to cal. loss\n",
        "        # can also do without reshaping\n",
        "        output_dim = output.shape[-1]\n",
        "        output = output[1:].view(-1, output_dim)\n",
        "        trg = trg[1:].view(-1)\n",
        "\n",
        "        loss = criterion(output, trg)\n",
        "\n",
        "        # backward pass\n",
        "        loss.backward()\n",
        "\n",
        "        # gradient clipping \n",
        "        torch.nn.utils.clip_grad_norm_(model.parameters(), clip)\n",
        "        \n",
        "        # update the parameters of the model\n",
        "        optimizer.step()\n",
        "\n",
        "        # update the loss\n",
        "        epoch_loss += loss.item()\n",
        "    \n",
        "    return epoch_loss / len(iterator)\n"
      ],
      "execution_count": 77,
      "outputs": []
    },
    {
      "cell_type": "code",
      "metadata": {
        "id": "hBqPmArEaRHr",
        "colab_type": "code",
        "colab": {}
      },
      "source": [
        "def evaluate(model, iterator, criterion):\n",
        "    epoch_loss = 0\n",
        "    \n",
        "    # keep the model in eval mode\n",
        "    model.eval()\n",
        "    \n",
        "    # do not calculate gradients\n",
        "    with torch.no_grad():\n",
        "\n",
        "        # iterate over the data\n",
        "        for batch in iterator:\n",
        "            src = batch.source\n",
        "            trg = batch.target\n",
        "            # src => [seq_len, batch_size]\n",
        "            # trg => [seq_len, batch_size]\n",
        "\n",
        "            # forward pass\n",
        "            # make sure the teacher_forcing_ratio is 0 in eval\n",
        "            output = model(src, trg, 0)\n",
        "\n",
        "            # reshaping for loss calculation\n",
        "            output_dim = output.shape[-1]\n",
        "            output = output[1:].view(-1, output_dim)\n",
        "            trg = trg[1:].view(-1)\n",
        "\n",
        "            # loss\n",
        "            loss = criterion(output, trg)\n",
        "\n",
        "            # update loss\n",
        "            epoch_loss += loss.item()\n",
        "    return epoch_loss / len(iterator)"
      ],
      "execution_count": 78,
      "outputs": []
    },
    {
      "cell_type": "code",
      "metadata": {
        "id": "6UI1XDgZbdNo",
        "colab_type": "code",
        "colab": {}
      },
      "source": [
        "def epoch_time(start_time, end_time):\n",
        "    elapsed_time = end_time - start_time\n",
        "    elapsed_mins = int(elapsed_time / 60)\n",
        "    elapsed_secs = elapsed_time - (elapsed_mins * 60)\n",
        "    return elapsed_mins, elapsed_secs"
      ],
      "execution_count": 79,
      "outputs": []
    },
    {
      "cell_type": "code",
      "metadata": {
        "id": "IZAPOg24bi5V",
        "colab_type": "code",
        "colab": {
          "base_uri": "https://localhost:8080/",
          "height": 535
        },
        "outputId": "aced2a97-6db4-4a08-c1bc-971bf92da19f"
      },
      "source": [
        "\n",
        "N_EPOCHS = 10\n",
        "CLIP = 1\n",
        "\n",
        "best_valid_loss = float('inf')\n",
        "\n",
        "for epoch in range(N_EPOCHS):\n",
        "    start_time = time.time()\n",
        "    \n",
        "    train_loss = train(model, train_iterator, criterion, optimizer, CLIP)\n",
        "    valid_loss = evaluate(model, valid_iterator, criterion)\n",
        "    \n",
        "    end_time = time.time()\n",
        "    epoch_mins, epoch_secs = epoch_time(start_time, end_time)\n",
        "\n",
        "    if valid_loss < best_valid_loss:\n",
        "        best_valid_loss = valid_loss\n",
        "        torch.save(model.state_dict(), 'model.pt')\n",
        "    \n",
        "    print(f\"Epoch {epoch + 1} | Time: {epoch_mins}m {epoch_secs}s\")\n",
        "    print(f\"\\tTrain Loss: {train_loss:.3f} | Train PPL: {math.exp(train_loss):7.3f} |\")\n",
        "    print(f\"\\tValid Loss: {valid_loss:.3f} | Valid PPL: {math.exp(valid_loss):7.3f} |\")"
      ],
      "execution_count": 80,
      "outputs": [
        {
          "output_type": "stream",
          "text": [
            "Epoch 1 | Time: 3m 50.459569692611694s\n",
            "\tTrain Loss: 4.880 | Train PPL: 131.647 |\n",
            "\tValid Loss: 4.678 | Valid PPL: 107.600 |\n",
            "Epoch 2 | Time: 3m 50.4044885635376s\n",
            "\tTrain Loss: 4.148 | Train PPL:  63.304 |\n",
            "\tValid Loss: 4.338 | Valid PPL:  76.536 |\n",
            "Epoch 3 | Time: 3m 50.281089544296265s\n",
            "\tTrain Loss: 3.800 | Train PPL:  44.720 |\n",
            "\tValid Loss: 4.143 | Valid PPL:  62.983 |\n",
            "Epoch 4 | Time: 3m 49.98819971084595s\n",
            "\tTrain Loss: 3.555 | Train PPL:  34.998 |\n",
            "\tValid Loss: 4.039 | Valid PPL:  56.754 |\n",
            "Epoch 5 | Time: 3m 50.10717558860779s\n",
            "\tTrain Loss: 3.373 | Train PPL:  29.173 |\n",
            "\tValid Loss: 3.907 | Valid PPL:  49.751 |\n",
            "Epoch 6 | Time: 3m 51.846423625946045s\n",
            "\tTrain Loss: 3.232 | Train PPL:  25.321 |\n",
            "\tValid Loss: 3.859 | Valid PPL:  47.411 |\n",
            "Epoch 7 | Time: 3m 51.39446544647217s\n",
            "\tTrain Loss: 3.102 | Train PPL:  22.249 |\n",
            "\tValid Loss: 3.781 | Valid PPL:  43.841 |\n",
            "Epoch 8 | Time: 3m 51.10394048690796s\n",
            "\tTrain Loss: 3.018 | Train PPL:  20.458 |\n",
            "\tValid Loss: 3.723 | Valid PPL:  41.373 |\n",
            "Epoch 9 | Time: 3m 51.94336795806885s\n",
            "\tTrain Loss: 2.904 | Train PPL:  18.250 |\n",
            "\tValid Loss: 3.736 | Valid PPL:  41.929 |\n",
            "Epoch 10 | Time: 3m 51.546207427978516s\n",
            "\tTrain Loss: 2.831 | Train PPL:  16.958 |\n",
            "\tValid Loss: 3.693 | Valid PPL:  40.156 |\n"
          ],
          "name": "stdout"
        }
      ]
    },
    {
      "cell_type": "code",
      "metadata": {
        "id": "cVogxl-_dPzk",
        "colab_type": "code",
        "colab": {}
      },
      "source": [
        ""
      ],
      "execution_count": null,
      "outputs": []
    }
  ]
}