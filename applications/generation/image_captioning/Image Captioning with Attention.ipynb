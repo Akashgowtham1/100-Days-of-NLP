{
  "nbformat": 4,
  "nbformat_minor": 0,
  "metadata": {
    "colab": {
      "name": "Image Captioning with Attention.ipynb",
      "provenance": [],
      "authorship_tag": "ABX9TyNDioGMbgEk9YOQmRu5cyLr",
      "include_colab_link": true
    },
    "kernelspec": {
      "name": "python3",
      "display_name": "Python 3"
    },
    "accelerator": "GPU"
  },
  "cells": [
    {
      "cell_type": "markdown",
      "metadata": {
        "id": "view-in-github",
        "colab_type": "text"
      },
      "source": [
        "<a href=\"https://colab.research.google.com/github/graviraja/100-Days-of-NLP/blob/applications%2Fgeneration/applications/generation/image_captioning/Image%20Captioning%20with%20Attention.ipynb\" target=\"_parent\"><img src=\"https://colab.research.google.com/assets/colab-badge.svg\" alt=\"Open In Colab\"/></a>"
      ]
    },
    {
      "cell_type": "markdown",
      "metadata": {
        "id": "uvqG_5IVxUd6",
        "colab_type": "text"
      },
      "source": [
        "### Flickr8k Dataset"
      ]
    },
    {
      "cell_type": "code",
      "metadata": {
        "id": "0EG9drNqxnvS",
        "colab_type": "code",
        "colab": {
          "resources": {
            "http://localhost:8080/nbextensions/google.colab/files.js": {
              "data": "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",
              "ok": true,
              "headers": [
                [
                  "content-type",
                  "application/javascript"
                ]
              ],
              "status": 200,
              "status_text": ""
            }
          },
          "base_uri": "https://localhost:8080/",
          "height": 89
        },
        "outputId": "f21fd86c-2a39-4952-f99e-1209b34082a2"
      },
      "source": [
        "from google.colab import files\n",
        "files.upload()"
      ],
      "execution_count": 1,
      "outputs": [
        {
          "output_type": "display_data",
          "data": {
            "text/html": [
              "\n",
              "     <input type=\"file\" id=\"files-f61ffe13-67fc-400d-b171-755bf5c95a33\" name=\"files[]\" multiple disabled\n",
              "        style=\"border:none\" />\n",
              "     <output id=\"result-f61ffe13-67fc-400d-b171-755bf5c95a33\">\n",
              "      Upload widget is only available when the cell has been executed in the\n",
              "      current browser session. Please rerun this cell to enable.\n",
              "      </output>\n",
              "      <script src=\"/nbextensions/google.colab/files.js\"></script> "
            ],
            "text/plain": [
              "<IPython.core.display.HTML object>"
            ]
          },
          "metadata": {
            "tags": []
          }
        },
        {
          "output_type": "stream",
          "text": [
            "Saving kaggle.json to kaggle.json\n"
          ],
          "name": "stdout"
        },
        {
          "output_type": "execute_result",
          "data": {
            "text/plain": [
              "{'kaggle.json': b'{\"username\":\"ravirajag\",\"key\":\"3ebe1017281784a1ca4b048c597b0c87\"}'}"
            ]
          },
          "metadata": {
            "tags": []
          },
          "execution_count": 1
        }
      ]
    },
    {
      "cell_type": "code",
      "metadata": {
        "id": "0DfLq220xqhy",
        "colab_type": "code",
        "colab": {}
      },
      "source": [
        "!mkdir ~/.kaggle"
      ],
      "execution_count": 2,
      "outputs": []
    },
    {
      "cell_type": "code",
      "metadata": {
        "id": "xonFsfRrxtAC",
        "colab_type": "code",
        "colab": {}
      },
      "source": [
        "!cp kaggle.json ~/.kaggle"
      ],
      "execution_count": 3,
      "outputs": []
    },
    {
      "cell_type": "code",
      "metadata": {
        "id": "xresPMzjx3HS",
        "colab_type": "code",
        "colab": {}
      },
      "source": [
        "!chmod 600 ~/.kaggle/kaggle.json"
      ],
      "execution_count": 4,
      "outputs": []
    },
    {
      "cell_type": "code",
      "metadata": {
        "id": "TaeI2C9Wx37p",
        "colab_type": "code",
        "colab": {
          "base_uri": "https://localhost:8080/",
          "height": 69
        },
        "outputId": "84b4e648-f475-40cb-e6d5-4db8db3dd112"
      },
      "source": [
        "!kaggle datasets download -d adityajn105/flickr8k"
      ],
      "execution_count": 5,
      "outputs": [
        {
          "output_type": "stream",
          "text": [
            "Downloading flickr8k.zip to /content\n",
            "100% 1.03G/1.04G [00:15<00:00, 70.5MB/s]\n",
            "100% 1.04G/1.04G [00:15<00:00, 71.3MB/s]\n"
          ],
          "name": "stdout"
        }
      ]
    },
    {
      "cell_type": "code",
      "metadata": {
        "id": "p63vuL02x7GJ",
        "colab_type": "code",
        "colab": {}
      },
      "source": [
        "!unzip -qq flickr8k.zip -d flickr8k"
      ],
      "execution_count": 6,
      "outputs": []
    },
    {
      "cell_type": "code",
      "metadata": {
        "id": "A1t4dCIaz-7h",
        "colab_type": "code",
        "colab": {
          "base_uri": "https://localhost:8080/",
          "height": 35
        },
        "outputId": "0e82b6d2-cb33-4c52-8362-21b060cc0258"
      },
      "source": [
        "!ls flickr8k"
      ],
      "execution_count": 64,
      "outputs": [
        {
          "output_type": "stream",
          "text": [
            "captions.txt  Images\n"
          ],
          "name": "stdout"
        }
      ]
    },
    {
      "cell_type": "markdown",
      "metadata": {
        "id": "mZQXWIsWyOHu",
        "colab_type": "text"
      },
      "source": [
        "### Imports"
      ]
    },
    {
      "cell_type": "code",
      "metadata": {
        "id": "kqh8XuEfshLC",
        "colab_type": "code",
        "colab": {}
      },
      "source": [
        "import os\n",
        "import time\n",
        "import nltk\n",
        "import pickle\n",
        "\n",
        "import numpy as np\n",
        "\n",
        "from PIL import Image\n",
        "from collections import Counter\n",
        "\n",
        "import torch\n",
        "import torch.nn as nn\n",
        "import torchvision.models as models\n",
        "import torchvision.transforms as transforms\n",
        "import torch.utils.data as data\n",
        "\n",
        "from torch.nn.utils.rnn import pack_padded_sequence\n",
        "from sklearn.model_selection import train_test_split\n",
        "import matplotlib.pyplot as plt"
      ],
      "execution_count": 2,
      "outputs": []
    },
    {
      "cell_type": "code",
      "metadata": {
        "id": "Nuv-W9q1krI8",
        "colab_type": "code",
        "colab": {
          "base_uri": "https://localhost:8080/",
          "height": 69
        },
        "outputId": "4210303c-b52c-4d5e-90ef-5f0f7a88ad55"
      },
      "source": [
        "nltk.download('punkt')"
      ],
      "execution_count": 3,
      "outputs": [
        {
          "output_type": "stream",
          "text": [
            "[nltk_data] Downloading package punkt to /root/nltk_data...\n",
            "[nltk_data]   Package punkt is already up-to-date!\n"
          ],
          "name": "stdout"
        },
        {
          "output_type": "execute_result",
          "data": {
            "text/plain": [
              "True"
            ]
          },
          "metadata": {
            "tags": []
          },
          "execution_count": 3
        }
      ]
    },
    {
      "cell_type": "code",
      "metadata": {
        "id": "-tNuBBJVgXwz",
        "colab_type": "code",
        "colab": {
          "base_uri": "https://localhost:8080/",
          "height": 35
        },
        "outputId": "643e9d1d-2662-4330-bc58-4f98feb30e49"
      },
      "source": [
        "device = torch.device('cuda' if torch.cuda.is_available() else 'cpu')\n",
        "device"
      ],
      "execution_count": 4,
      "outputs": [
        {
          "output_type": "execute_result",
          "data": {
            "text/plain": [
              "device(type='cuda')"
            ]
          },
          "metadata": {
            "tags": []
          },
          "execution_count": 4
        }
      ]
    },
    {
      "cell_type": "markdown",
      "metadata": {
        "id": "1Jco9tq72fNW",
        "colab_type": "text"
      },
      "source": [
        "### Captions"
      ]
    },
    {
      "cell_type": "code",
      "metadata": {
        "id": "Fnxoxp18tHTg",
        "colab_type": "code",
        "colab": {}
      },
      "source": [
        "captions = dict()\n",
        "\n",
        "with open('flickr8k/captions.txt', 'r') as f:\n",
        "    lines= f.readlines()\n",
        "    for idx, line in enumerate(lines[1:]):\n",
        "        index=line.index(',')\n",
        "        img_id = line[:index].split('.')[0]\n",
        "        img_caption = line[index+1:].strip()\n",
        "        captions[idx] = {\"image_id\": img_id, \"caption\": img_caption}\n"
      ],
      "execution_count": 5,
      "outputs": []
    },
    {
      "cell_type": "code",
      "metadata": {
        "id": "eAKNQqWZ0Mmu",
        "colab_type": "code",
        "colab": {
          "base_uri": "https://localhost:8080/",
          "height": 35
        },
        "outputId": "8de79767-4d88-4adc-bc5e-58d622d5e35f"
      },
      "source": [
        "len(captions)"
      ],
      "execution_count": 6,
      "outputs": [
        {
          "output_type": "execute_result",
          "data": {
            "text/plain": [
              "40455"
            ]
          },
          "metadata": {
            "tags": []
          },
          "execution_count": 6
        }
      ]
    },
    {
      "cell_type": "code",
      "metadata": {
        "id": "CVgfcNDA0Ouv",
        "colab_type": "code",
        "colab": {
          "base_uri": "https://localhost:8080/",
          "height": 52
        },
        "outputId": "7f73da5e-c500-4521-bac1-df8159ed23f9"
      },
      "source": [
        "captions[90]"
      ],
      "execution_count": 7,
      "outputs": [
        {
          "output_type": "execute_result",
          "data": {
            "text/plain": [
              "{'caption': 'A black dog running in the surf .',\n",
              " 'image_id': '1022975728_75515238d8'}"
            ]
          },
          "metadata": {
            "tags": []
          },
          "execution_count": 7
        }
      ]
    },
    {
      "cell_type": "markdown",
      "metadata": {
        "id": "8JckjiZUJASD",
        "colab_type": "text"
      },
      "source": [
        "### Vocabulary"
      ]
    },
    {
      "cell_type": "code",
      "metadata": {
        "id": "SLp-AC53I_qH",
        "colab_type": "code",
        "colab": {}
      },
      "source": [
        "class Vocabulary(object):\n",
        "    def __init__(self):\n",
        "        self.word2idx = {}\n",
        "        self.idx2word = {}\n",
        "        self.idx = 0\n",
        "\n",
        "    def add_word(self, word):\n",
        "        if not word in self.word2idx:\n",
        "            self.word2idx[word] = self.idx\n",
        "            self.idx2word[self.idx] = word\n",
        "            self.idx += 1\n",
        "\n",
        "    def __call__(self, word):\n",
        "        if not word in self.word2idx:\n",
        "            return self.word2idx['<unk>']\n",
        "        return self.word2idx[word]\n",
        "\n",
        "    def __len__(self):\n",
        "        return len(self.word2idx)"
      ],
      "execution_count": 8,
      "outputs": []
    },
    {
      "cell_type": "code",
      "metadata": {
        "id": "_k2K3_IsJJdK",
        "colab_type": "code",
        "colab": {}
      },
      "source": [
        "def build_vocab(captions_dict, threshold):\n",
        "    \"\"\"Build a simple vocabulary wrapper.\"\"\"\n",
        "    counter = Counter()\n",
        "    for i, id in enumerate(captions_dict):\n",
        "        caption = captions_dict[id][\"caption\"]\n",
        "        tokens = nltk.tokenize.word_tokenize(caption.lower())\n",
        "        counter.update(tokens)\n",
        "\n",
        "        if (i+1) % 5000 == 0:\n",
        "            print(\"[{}/{}] Tokenized the captions.\".format(i+1, len(captions_dict)))\n",
        "\n",
        "    # If the word frequency is less than 'threshold', then the word is discarded.\n",
        "    words = [word for word, cnt in counter.items() if cnt >= threshold]\n",
        "\n",
        "    # Create a vocab wrapper and add some special tokens.\n",
        "    vocab = Vocabulary()\n",
        "    vocab.add_word('<pad>')\n",
        "    vocab.add_word('<start>')\n",
        "    vocab.add_word('<end>')\n",
        "    vocab.add_word('<unk>')\n",
        "\n",
        "    # Add the words to the vocabulary.\n",
        "    for i, word in enumerate(words):\n",
        "        vocab.add_word(word)\n",
        "    return vocab"
      ],
      "execution_count": 9,
      "outputs": []
    },
    {
      "cell_type": "code",
      "metadata": {
        "id": "US-qaiqXfw7o",
        "colab_type": "code",
        "colab": {
          "base_uri": "https://localhost:8080/",
          "height": 190
        },
        "outputId": "00d64c59-6d77-4a09-9714-f1a5001367b0"
      },
      "source": [
        "vocab = build_vocab(captions, threshold=5)\n",
        "vocab_path = 'vocab.pkl'\n",
        "with open(vocab_path, 'wb') as f:\n",
        "    pickle.dump(vocab, f)\n",
        "print(\"Total vocabulary size: {}\".format(len(vocab)))\n",
        "print(\"Saved the vocabulary wrapper to '{}'\".format(vocab_path))"
      ],
      "execution_count": 10,
      "outputs": [
        {
          "output_type": "stream",
          "text": [
            "[5000/40455] Tokenized the captions.\n",
            "[10000/40455] Tokenized the captions.\n",
            "[15000/40455] Tokenized the captions.\n",
            "[20000/40455] Tokenized the captions.\n",
            "[25000/40455] Tokenized the captions.\n",
            "[30000/40455] Tokenized the captions.\n",
            "[35000/40455] Tokenized the captions.\n",
            "[40000/40455] Tokenized the captions.\n",
            "Total vocabulary size: 3006\n",
            "Saved the vocabulary wrapper to 'vocab.pkl'\n"
          ],
          "name": "stdout"
        }
      ]
    },
    {
      "cell_type": "markdown",
      "metadata": {
        "id": "l2Q1jbxcJxKu",
        "colab_type": "text"
      },
      "source": [
        "### Image Processing"
      ]
    },
    {
      "cell_type": "code",
      "metadata": {
        "id": "PTkgayfPJwFm",
        "colab_type": "code",
        "colab": {}
      },
      "source": [
        "def resize_image(image, size):\n",
        "    return image.resize(size, Image.ANTIALIAS)\n",
        "\n",
        "def resize_images(image_dir, output_dir, size):\n",
        "    if not os.path.exists(output_dir):\n",
        "        os.makedirs(output_dir)\n",
        "    \n",
        "    images = os.listdir(image_dir)\n",
        "    num_images = len(images)\n",
        "    for i, image in enumerate(images):\n",
        "        with open(os.path.join(image_dir, image), 'r+b') as f:\n",
        "            with Image.open(f) as img:\n",
        "                img = resize_image(img, size)\n",
        "                img.save(os.path.join(output_dir, image), img.format)\n",
        "        if (i+1) % 1000 == 0:\n",
        "            print (f\"[{i+1}/{num_images}] Resized the images and saved into '{output_dir}'.\")\n",
        "    "
      ],
      "execution_count": 76,
      "outputs": []
    },
    {
      "cell_type": "code",
      "metadata": {
        "id": "-qxpFyZQfPbR",
        "colab_type": "code",
        "colab": {}
      },
      "source": [
        "image_dir = \"flickr8k/Images\"\n",
        "processed_image_dir = \"processed_images\"\n",
        "size = [256, 256]"
      ],
      "execution_count": 77,
      "outputs": []
    },
    {
      "cell_type": "code",
      "metadata": {
        "id": "7tNDM3k9foGo",
        "colab_type": "code",
        "colab": {
          "base_uri": "https://localhost:8080/",
          "height": 155
        },
        "outputId": "8b9cb831-5f73-49d8-c10a-4fac7f4bcfa3"
      },
      "source": [
        "resize_images(image_dir, processed_image_dir, size)"
      ],
      "execution_count": 80,
      "outputs": [
        {
          "output_type": "stream",
          "text": [
            "[1000/8091] Resized the images and saved into 'processed_images'.\n",
            "[2000/8091] Resized the images and saved into 'processed_images'.\n",
            "[3000/8091] Resized the images and saved into 'processed_images'.\n",
            "[4000/8091] Resized the images and saved into 'processed_images'.\n",
            "[5000/8091] Resized the images and saved into 'processed_images'.\n",
            "[6000/8091] Resized the images and saved into 'processed_images'.\n",
            "[7000/8091] Resized the images and saved into 'processed_images'.\n",
            "[8000/8091] Resized the images and saved into 'processed_images'.\n"
          ],
          "name": "stdout"
        }
      ]
    },
    {
      "cell_type": "markdown",
      "metadata": {
        "id": "bwXG5ixBWlj8",
        "colab_type": "text"
      },
      "source": [
        "### Caption Dataset"
      ]
    },
    {
      "cell_type": "code",
      "metadata": {
        "id": "QmzgodWlWYV1",
        "colab_type": "code",
        "colab": {}
      },
      "source": [
        "class CaptionDataset(data.Dataset):\n",
        "    def __init__(self, image_dir, annotations, vocab, transform=None):\n",
        "        self.image_dir = image_dir\n",
        "        self.annotations = annotations\n",
        "        self.vocab = vocab\n",
        "        self.transform = transform\n",
        "    \n",
        "    def __len__(self):\n",
        "        return len(self.annotations)\n",
        "    \n",
        "    def __getitem__(self, item):\n",
        "        img_id = self.annotations[item][\"image_id\"]\n",
        "        caption = self.annotations[item][\"caption\"]\n",
        "\n",
        "        image = Image.open(os.path.join(self.image_dir, img_id+'.jpg')).convert('RGB')\n",
        "        if self.transform is not None:\n",
        "            image = self.transform(image)\n",
        "        \n",
        "        tokens = nltk.tokenize.word_tokenize(str(caption).lower())\n",
        "        \n",
        "        caption = []\n",
        "        caption.append(vocab('<start>'))\n",
        "        caption.extend([vocab(token) for token in tokens])\n",
        "        caption.append(vocab('<end>'))\n",
        "        \n",
        "        caption = torch.Tensor(caption)\n",
        "        return image, caption"
      ],
      "execution_count": 81,
      "outputs": []
    },
    {
      "cell_type": "code",
      "metadata": {
        "id": "It-jBOuGbpU6",
        "colab_type": "code",
        "colab": {}
      },
      "source": [
        "# Image preprocessing, normalization for the pretrained resnet\n",
        "crop_size = 224\n",
        "transform = transforms.Compose([ \n",
        "    transforms.RandomCrop(crop_size),\n",
        "    transforms.RandomHorizontalFlip(), \n",
        "    transforms.ToTensor(), \n",
        "    transforms.Normalize((0.485, 0.456, 0.406), \n",
        "                            (0.229, 0.224, 0.225))])"
      ],
      "execution_count": 83,
      "outputs": []
    },
    {
      "cell_type": "code",
      "metadata": {
        "id": "jKD7A9L9RBJv",
        "colab_type": "code",
        "colab": {}
      },
      "source": [
        "train_captions, valid_captions = train_test_split(captions, test_size=0.1, random_state=42)"
      ],
      "execution_count": 88,
      "outputs": []
    },
    {
      "cell_type": "code",
      "metadata": {
        "id": "BH0OE8ETRGsb",
        "colab_type": "code",
        "colab": {
          "base_uri": "https://localhost:8080/",
          "height": 35
        },
        "outputId": "d083bb01-5082-4dbe-9db1-17be3b338856"
      },
      "source": [
        "len(train_captions), len(valid_captions)"
      ],
      "execution_count": 89,
      "outputs": [
        {
          "output_type": "execute_result",
          "data": {
            "text/plain": [
              "(36409, 4046)"
            ]
          },
          "metadata": {
            "tags": []
          },
          "execution_count": 89
        }
      ]
    },
    {
      "cell_type": "code",
      "metadata": {
        "id": "K4ePosKBI-tR",
        "colab_type": "code",
        "colab": {}
      },
      "source": [
        "image_dir = \"processed_images\"\n",
        "\n",
        "train_caption_dataset = CaptionDataset(image_dir, train_captions, vocab, transform)\n",
        "valid_caption_dataset = CaptionDataset(image_dir, valid_captions, vocab, transform)"
      ],
      "execution_count": 90,
      "outputs": []
    },
    {
      "cell_type": "markdown",
      "metadata": {
        "id": "qnNF-LsZI466",
        "colab_type": "text"
      },
      "source": [
        "### DataLoader"
      ]
    },
    {
      "cell_type": "code",
      "metadata": {
        "id": "cDaU_0WpYur8",
        "colab_type": "code",
        "colab": {}
      },
      "source": [
        "def collate_fn(data):\n",
        "    data.sort(key=lambda x: len(x[1]), reverse=True)\n",
        "    images, captions = zip(*data)\n",
        "\n",
        "    # Merge images (from tuple of 3D tensor to 4D tensor).\n",
        "    images = torch.stack(images, 0)\n",
        "\n",
        "    # Merge captions (from tuple of 1D tensor to 2D tensor).\n",
        "    lengths = [len(cap) for cap in captions]\n",
        "    targets = torch.zeros(len(captions), max(lengths)).long()\n",
        "    for i, cap in enumerate(captions):\n",
        "        end = lengths[i]\n",
        "        targets[i, :end] = cap[:end]        \n",
        "    return images, targets, lengths"
      ],
      "execution_count": 91,
      "outputs": []
    },
    {
      "cell_type": "code",
      "metadata": {
        "id": "XSG5Ispua8mi",
        "colab_type": "code",
        "colab": {}
      },
      "source": [
        "train_data_loader = torch.utils.data.DataLoader(\n",
        "    dataset=train_caption_dataset, \n",
        "    batch_size=32,\n",
        "    shuffle=True,\n",
        "    num_workers=2,\n",
        "    collate_fn=collate_fn)\n",
        "\n",
        "valid_data_loader = torch.utils.data.DataLoader(\n",
        "    dataset=valid_caption_dataset, \n",
        "    batch_size=16,\n",
        "    shuffle=False,\n",
        "    collate_fn=collate_fn)"
      ],
      "execution_count": 92,
      "outputs": []
    },
    {
      "cell_type": "code",
      "metadata": {
        "id": "7yKfSKfuRZiF",
        "colab_type": "code",
        "colab": {
          "base_uri": "https://localhost:8080/",
          "height": 35
        },
        "outputId": "5f1d9538-9abe-4bb6-cf5d-498a98d45d2f"
      },
      "source": [
        "sample = next(iter(train_data_loader))\n",
        "sample[0].shape, sample[1].shape, len(sample[2])"
      ],
      "execution_count": 103,
      "outputs": [
        {
          "output_type": "execute_result",
          "data": {
            "text/plain": [
              "(torch.Size([32, 3, 224, 224]), torch.Size([32, 19]), 32)"
            ]
          },
          "metadata": {
            "tags": []
          },
          "execution_count": 103
        }
      ]
    },
    {
      "cell_type": "markdown",
      "metadata": {
        "id": "oGrVpMLnEEHi",
        "colab_type": "text"
      },
      "source": [
        "### Encoder"
      ]
    },
    {
      "cell_type": "code",
      "metadata": {
        "id": "WeIvydY71dqf",
        "colab_type": "code",
        "colab": {}
      },
      "source": [
        "class Encoder(nn.Module):\n",
        "    def __init__(self, encoded_image_size=14):\n",
        "        super().__init__()\n",
        "\n",
        "        resnet = models.resnet101(pretrained=True)\n",
        "\n",
        "        # remove the linear and pooling layers\n",
        "        modules = list(resnet.children())[:-2]\n",
        "        self.resnet = nn.Sequential(*modules)\n",
        "\n",
        "        self.adaptive_pool = nn.AdaptiveAvgPool2d((encoded_image_size, encoded_image_size))\n",
        "\n",
        "    \n",
        "    def forward(self, images):\n",
        "        # images => [batch_size, 3, 224, 224]\n",
        "        with torch.no_grad():\n",
        "            features = self.resnet(images)\n",
        "            # features => [batch_size, 2048, 7, 7]\n",
        "        \n",
        "        pooled = self.adaptive_pool(features)\n",
        "        # pooled => [batch_size, 2048, encoded_img_size, encoded_img_size]\n",
        "        #        => [batch_size, 2048, 14, 14]\n",
        "\n",
        "        out = pooled.permute(0, 2, 3, 1)\n",
        "        # out => [batch_size, 14, 14, 2048]\n",
        "\n",
        "        return out"
      ],
      "execution_count": 11,
      "outputs": []
    },
    {
      "cell_type": "markdown",
      "metadata": {
        "id": "wmFBceEHSJEa",
        "colab_type": "text"
      },
      "source": [
        "### Attention\n"
      ]
    },
    {
      "cell_type": "code",
      "metadata": {
        "id": "nCHvmEGqSLXj",
        "colab_type": "code",
        "colab": {}
      },
      "source": [
        "class Attention(nn.Module):\n",
        "    def __init__(self, encoder_dim, decoder_dim, attention_dim):\n",
        "        super().__init__()\n",
        "\n",
        "        self.encoder_attn = nn.Linear(encoder_dim, attention_dim)\n",
        "        self.decoder_attn = nn.Linear(decoder_dim, attention_dim)\n",
        "        self.full_attn = nn.Linear(attention_dim, 1)\n",
        "        self.relu = nn.ReLU()\n",
        "        self.softmax = nn.Softmax(dim=1)\n",
        "    \n",
        "    def forward(self, encoder_out, decoder_hidden):\n",
        "        enc_attn = self.encoder_attn(encoder_out)\n",
        "        # enc_attn => [batch_size, num_pixels, attention_dim]\n",
        "\n",
        "        dec_attn = self.decoder_attn(decoder_hidden)\n",
        "        # dec_attn => [batch_size, attention_dim]\n",
        "\n",
        "        attn = self.full_attn(self.relu(enc_attn + dec_attn.unsqueeze(1)))\n",
        "        # attn => [batch_size, num_pixels, 1]\n",
        "\n",
        "        attn = attn.squeeze(2)\n",
        "        # attn => [batch_size, num_pixels]\n",
        "\n",
        "        alpha = self.softmax(attn)\n",
        "        # alpha => [batch_size, num_pixels]\n",
        "\n",
        "        attention_weighted_encoding = (encoder_out * alpha.unsqueeze(2)).sum(dim=1)\n",
        "        # attention_weighted_encoding => [batch_size, encoder_dim]\n",
        "\n",
        "        return attention_weighted_encoding, alpha"
      ],
      "execution_count": 12,
      "outputs": []
    },
    {
      "cell_type": "markdown",
      "metadata": {
        "id": "ZoDth-8T8UTd",
        "colab_type": "text"
      },
      "source": [
        "### Decoder"
      ]
    },
    {
      "cell_type": "code",
      "metadata": {
        "id": "UXhzHf0gFLgt",
        "colab_type": "code",
        "colab": {}
      },
      "source": [
        "class Decoder(nn.Module):\n",
        "    def __init__(self, attention_dim, embed_dim, decoder_dim, vocab_size, encoder_dim=2048, max_seq_length=20, dropout=0.3):\n",
        "        super().__init__()\n",
        "\n",
        "        self.vocab_size = vocab_size\n",
        "        self.attention = Attention(encoder_dim, decoder_dim, attention_dim)\n",
        "        self.embedding = nn.Embedding(vocab_size, embed_dim)\n",
        "        self.decode_step = nn.LSTMCell(embed_dim + encoder_dim, decoder_dim, bias=True)\n",
        "        self.init_h = nn.Linear(encoder_dim, decoder_dim)\n",
        "        self.init_c = nn.Linear(encoder_dim, decoder_dim)\n",
        "        self.f_beta = nn.Linear(decoder_dim, encoder_dim)\n",
        "        self.sigmoid = nn.Sigmoid()\n",
        "\n",
        "        self.dropout = nn.Dropout(dropout)\n",
        "        self.out = nn.Linear(decoder_dim, vocab_size)\n",
        "        self.max_seq_length = max_seq_length\n",
        "    \n",
        "    def init_hidden_state(self, encoder_out):\n",
        "        # encoder_out => [batch_size, num_pixels, encoder_dim]\n",
        "\n",
        "        mean_encoder_out = encoder_out.mean(dim=1)\n",
        "        h = self.init_h(mean_encoder_out)  # (batch_size, decoder_dim)\n",
        "        c = self.init_c(mean_encoder_out)\n",
        "        return h, c\n",
        "\n",
        "    def forward(self, encoder_out, captions, lengths):\n",
        "        # encoder_out => [batch_size, enc_image_size, enc_image_size, encoder_dim]\n",
        "        # captions => [batch_size, max_seq_len]\n",
        "        # lengths => [batch_size]\n",
        "\n",
        "        batch_size = encoder_out.size(0)\n",
        "        encoder_dim = encoder_out.size(-1)\n",
        "        vocab_size = self.vocab_size\n",
        "\n",
        "        # flatten image\n",
        "        encoder_out = encoder_out.view(batch_size, -1, encoder_dim)\n",
        "        num_pixels = encoder_out.size(1)\n",
        "\n",
        "        embeddings = self.embedding(captions)\n",
        "        # embeddings => [batch_size, max_seq_len, emb_dim]\n",
        "\n",
        "        # initialize LSTM state\n",
        "        h, c = self.init_hidden_state(encoder_out)\n",
        "\n",
        "        # We won't decode at the <end> position, since we've finished generating as soon as we generate <end>\n",
        "        # So, decoding lengths are actual lengths - 1\n",
        "        decode_lengths = [length - 1 for length in lengths]\n",
        "\n",
        "        # Create tensors to hold word predicion scores and alphas\n",
        "        predictions = torch.zeros(batch_size, max(decode_lengths), vocab_size).to(device)\n",
        "        alphas = torch.zeros(batch_size, max(decode_lengths), num_pixels).to(device)\n",
        "\n",
        "        # At each time-step, decode by\n",
        "        # attention-weighing the encoder's output based on the decoder's previous hidden state output\n",
        "        # then generate a new word in the decoder with the previous word and the attention weighted encoding\n",
        "        for t in range(max(decode_lengths)):\n",
        "            batch_size_t = sum([l > t for l in decode_lengths])\n",
        "            attention_weighted_encoding, alpha = self.attention(encoder_out[:batch_size_t],\n",
        "                                                                h[:batch_size_t])\n",
        "            gate = self.sigmoid(self.f_beta(h[:batch_size_t]))  # gating scalar, (batch_size_t, encoder_dim)\n",
        "            attention_weighted_encoding = gate * attention_weighted_encoding\n",
        "            h, c = self.decode_step(\n",
        "                torch.cat([embeddings[:batch_size_t, t, :], attention_weighted_encoding], dim=1),\n",
        "                (h[:batch_size_t], c[:batch_size_t]))  # (batch_size_t, decoder_dim)\n",
        "            preds = self.out(self.dropout(h))  # (batch_size_t, vocab_size)\n",
        "            predictions[:batch_size_t, t, :] = preds\n",
        "            alphas[:batch_size_t, t, :] = alpha\n",
        "        \n",
        "        return predictions, alphas\n",
        "\n",
        "    \n",
        "    def sample(self, encoder_out, captions, end_token, device):\n",
        "        # encoder_out => [batch_size, enc_image_size, enc_image_size, encoder_dim]\n",
        "        #             => [1, enc_image_size, enc_image_size, encoder_dim]\n",
        "        # captions => [1]\n",
        "\n",
        "        sampled_ids = []\n",
        "        batch_size = encoder_out.size(0)\n",
        "        encoder_dim = encoder_out.size(-1)\n",
        "\n",
        "        # flatten image\n",
        "        encoder_out = encoder_out.view(batch_size, -1, encoder_dim)\n",
        "        num_pixels = encoder_out.size(1)\n",
        "\n",
        "        # initialize LSTM state\n",
        "        h, c = self.init_hidden_state(encoder_out)\n",
        "\n",
        "        # Create tensors to hold word predicion scores and alphas\n",
        "        sampled_ids = captions\n",
        "        alphas = torch.zeros(batch_size, self.max_seq_length, num_pixels).to(device)\n",
        "        \n",
        "        for t in range(self.max_seq_length):\n",
        "            caption = torch.LongTensor([sampled_ids[-1]]).to(device)\n",
        "            embeddings = self.embedding(caption)\n",
        "            # embeddings => [1, emb_dim]\n",
        "\n",
        "            attention_weighted_encoding, alpha = self.attention(encoder_out, h)\n",
        "            gate = self.sigmoid(self.f_beta(h))  # gating scalar, (1, encoder_dim)\n",
        "            attention_weighted_encoding = gate * attention_weighted_encoding\n",
        "            h, c = self.decode_step(torch.cat([embeddings, attention_weighted_encoding], dim=1), (h, c))\n",
        "            preds = self.out(self.dropout(h))  # (1, vocab_size)\n",
        "            _, predicted = preds.max(1)\n",
        "            alphas[:, t, :] = alpha\n",
        "            if predicted.item() == end_token:\n",
        "                break\n",
        "            sampled_ids.append(predicted.item())\n",
        "\n",
        "        return sampled_ids, alphas\n"
      ],
      "execution_count": 39,
      "outputs": []
    },
    {
      "cell_type": "markdown",
      "metadata": {
        "id": "nmM_ICATaAkH",
        "colab_type": "text"
      },
      "source": [
        "### Model"
      ]
    },
    {
      "cell_type": "code",
      "metadata": {
        "id": "mBipx2TxgRyq",
        "colab_type": "code",
        "colab": {}
      },
      "source": [
        "embed_dim = 256\n",
        "decoder_dim = 512\n",
        "attention_dim = 512"
      ],
      "execution_count": 40,
      "outputs": []
    },
    {
      "cell_type": "code",
      "metadata": {
        "id": "D4JhJ2d1glCf",
        "colab_type": "code",
        "colab": {}
      },
      "source": [
        "encoder = Encoder().to(device)\n",
        "decoder = Decoder(attention_dim, embed_dim, decoder_dim, len(vocab)).to(device)"
      ],
      "execution_count": 108,
      "outputs": []
    },
    {
      "cell_type": "markdown",
      "metadata": {
        "id": "jfGy9Erq3O_p",
        "colab_type": "text"
      },
      "source": [
        "### Loss & Optimizer"
      ]
    },
    {
      "cell_type": "code",
      "metadata": {
        "id": "eF7f0UA2gxlR",
        "colab_type": "code",
        "colab": {}
      },
      "source": [
        "criterion = nn.CrossEntropyLoss()"
      ],
      "execution_count": 109,
      "outputs": []
    },
    {
      "cell_type": "code",
      "metadata": {
        "id": "Jd9ZHgDviAY2",
        "colab_type": "code",
        "colab": {}
      },
      "source": [
        "params = list(decoder.parameters()) + list(encoder.adaptive_pool.parameters())\n",
        "optimizer = torch.optim.Adam(params, lr=0.001)"
      ],
      "execution_count": 110,
      "outputs": []
    },
    {
      "cell_type": "markdown",
      "metadata": {
        "id": "EgHjnux23U2Y",
        "colab_type": "text"
      },
      "source": [
        "### Configurations"
      ]
    },
    {
      "cell_type": "code",
      "metadata": {
        "id": "wyNcz86rjWEW",
        "colab_type": "code",
        "colab": {}
      },
      "source": [
        "num_epochs = 2\n",
        "log_step = 100\n",
        "model_path = \"models\""
      ],
      "execution_count": 118,
      "outputs": []
    },
    {
      "cell_type": "code",
      "metadata": {
        "id": "nAS65gy2jiE6",
        "colab_type": "code",
        "colab": {}
      },
      "source": [
        "if not os.path.exists(model_path):\n",
        "    os.makedirs(model_path)"
      ],
      "execution_count": 112,
      "outputs": []
    },
    {
      "cell_type": "markdown",
      "metadata": {
        "id": "_egqLlJ3WYA0",
        "colab_type": "text"
      },
      "source": [
        "### Train Method"
      ]
    },
    {
      "cell_type": "code",
      "metadata": {
        "id": "dI9aUuhtJTgF",
        "colab_type": "code",
        "colab": {}
      },
      "source": [
        "def train(data_loader, device):\n",
        "\n",
        "    epoch_loss = 0\n",
        "    total_steps = len(data_loader)\n",
        "    encoder.train()\n",
        "    decoder.train()\n",
        "    for i, (images, captions, lengths) in enumerate(data_loader):\n",
        "        images = images.to(device)\n",
        "        captions = captions.to(device)\n",
        "\n",
        "        encoded_img = encoder(images)\n",
        "        predictions, _ = decoder(encoded_img, captions, lengths)\n",
        "\n",
        "        decode_lengths = [length - 1 for length in lengths]\n",
        "\n",
        "        outputs = pack_padded_sequence(predictions, decode_lengths, batch_first=True)[0]\n",
        "        targets = pack_padded_sequence(captions, decode_lengths, batch_first=True)[0]\n",
        "\n",
        "        loss = criterion(outputs, targets)\n",
        "        epoch_loss += loss.item()\n",
        "\n",
        "        decoder.zero_grad()\n",
        "        encoder.zero_grad()\n",
        "        loss.backward()\n",
        "        optimizer.step()\n",
        "\n",
        "        # Print log info\n",
        "        if i % log_step == 0:\n",
        "            print(f'Step [{i}/{total_steps}], Loss: {loss.item():.4f}, Perplexity: {np.exp(loss.item()):5.4f}') \n",
        "            \n",
        "    return epoch_loss / total_steps"
      ],
      "execution_count": 113,
      "outputs": []
    },
    {
      "cell_type": "markdown",
      "metadata": {
        "id": "3oiNiuVPWa2P",
        "colab_type": "text"
      },
      "source": [
        "### Validation Method"
      ]
    },
    {
      "cell_type": "code",
      "metadata": {
        "id": "OyxMnJBgJVux",
        "colab_type": "code",
        "colab": {}
      },
      "source": [
        "def evaluate(data_loader, device):\n",
        "    epoch_loss = 0\n",
        "    total_steps = len(data_loader)\n",
        "    encoder.eval()\n",
        "    decoder.eval()\n",
        "    with torch.no_grad():\n",
        "        for i, (images, captions, lengths) in enumerate(data_loader):\n",
        "            images = images.to(device)\n",
        "            captions = captions.to(device)\n",
        "\n",
        "            encoded_img = encoder(images)\n",
        "            predictions, _ = decoder(encoded_img, captions, lengths)\n",
        "\n",
        "            decode_lengths = [length - 1 for length in lengths]\n",
        "\n",
        "            outputs = pack_padded_sequence(predictions, decode_lengths, batch_first=True)[0]\n",
        "            targets = pack_padded_sequence(captions, decode_lengths, batch_first=True)[0]\n",
        "\n",
        "            loss = criterion(outputs, targets)\n",
        "            epoch_loss += loss.item()\n",
        "\n",
        "            # Print log info\n",
        "            if i % log_step == 0:\n",
        "                print(f'Step [{i}/{total_steps}], Loss: {loss.item():.4f}, Perplexity: {np.exp(loss.item()):5.4f}') \n",
        "                \n",
        "    return epoch_loss / total_steps"
      ],
      "execution_count": 114,
      "outputs": []
    },
    {
      "cell_type": "code",
      "metadata": {
        "id": "CiC5oDXsJoJ_",
        "colab_type": "code",
        "colab": {}
      },
      "source": [
        "def epoch_time(start_time, end_time):\n",
        "    elapsed_time = end_time - start_time\n",
        "    elapsed_mins = int(elapsed_time / 60)\n",
        "    elapsed_secs = int(elapsed_time - (elapsed_mins * 60))\n",
        "    return elapsed_mins, elapsed_secs"
      ],
      "execution_count": 115,
      "outputs": []
    },
    {
      "cell_type": "markdown",
      "metadata": {
        "id": "cHMvzRkl3SqY",
        "colab_type": "text"
      },
      "source": [
        "### Training"
      ]
    },
    {
      "cell_type": "code",
      "metadata": {
        "id": "0sX0Q-zZiIPs",
        "colab_type": "code",
        "colab": {
          "base_uri": "https://localhost:8080/",
          "height": 605
        },
        "outputId": "00e3d30f-6596-4a99-a920-c60572495b71"
      },
      "source": [
        "best_valid_loss = float('inf')\n",
        "for epoch in range(num_epochs):\n",
        "    \n",
        "    start_time = time.time()\n",
        "    train_loss = train(train_data_loader, device)\n",
        "    val_loss = evaluate(valid_data_loader, device)\n",
        "    end_time = time.time()\n",
        "\n",
        "    elapsed_mins, elapsed_secs = epoch_time(start_time, end_time)\n",
        "\n",
        "    if val_loss < best_valid_loss:\n",
        "        best_valid_loss = val_loss\n",
        "        torch.save(decoder.state_dict(), os.path.join(\n",
        "            model_path, 'decoder-{}.ckpt'.format(epoch+1)))\n",
        "        torch.save(encoder.state_dict(), os.path.join(\n",
        "            model_path, 'encoder-{}.ckpt'.format(epoch+1)))\n",
        "    \n",
        "    print(f\"Epoch: {epoch+1:02} | Time: {elapsed_mins}m {elapsed_secs}s\")\n",
        "    print(f\"\\t Train Loss: {train_loss:.3f} | Train PPL: {np.exp(train_loss):5.4f} | Valid Loss: {val_loss:.3f} | Valid PPL: {np.exp(val_loss):5.4f}\")"
      ],
      "execution_count": 119,
      "outputs": [
        {
          "output_type": "stream",
          "text": [
            "Step [0/1138], Loss: 1.1096, Perplexity: 3.0332\n",
            "Step [100/1138], Loss: 0.6560, Perplexity: 1.9271\n",
            "Step [200/1138], Loss: 0.4232, Perplexity: 1.5269\n",
            "Step [300/1138], Loss: 0.3064, Perplexity: 1.3585\n",
            "Step [400/1138], Loss: 0.1351, Perplexity: 1.1447\n",
            "Step [500/1138], Loss: 0.0819, Perplexity: 1.0853\n",
            "Step [600/1138], Loss: 0.0847, Perplexity: 1.0884\n",
            "Step [700/1138], Loss: 0.0836, Perplexity: 1.0871\n",
            "Step [800/1138], Loss: 0.0522, Perplexity: 1.0535\n",
            "Step [900/1138], Loss: 0.0135, Perplexity: 1.0136\n",
            "Step [1000/1138], Loss: 0.0396, Perplexity: 1.0404\n",
            "Step [1100/1138], Loss: 0.0211, Perplexity: 1.0213\n",
            "Step [0/253], Loss: 0.0261, Perplexity: 1.0265\n",
            "Step [100/253], Loss: 0.0237, Perplexity: 1.0240\n",
            "Step [200/253], Loss: 0.0074, Perplexity: 1.0074\n",
            "Epoch: 01 | Time: 14m 50s\n",
            "\t Train Loss: 0.212 | Train PPL: 1.2361 | Valid Loss: 0.016 | Valid PPL: 1.0159\n",
            "Step [0/1138], Loss: 0.0065, Perplexity: 1.0065\n",
            "Step [100/1138], Loss: 0.0050, Perplexity: 1.0050\n",
            "Step [200/1138], Loss: 0.0051, Perplexity: 1.0052\n",
            "Step [300/1138], Loss: 0.0028, Perplexity: 1.0028\n",
            "Step [400/1138], Loss: 0.0076, Perplexity: 1.0077\n",
            "Step [500/1138], Loss: 0.0022, Perplexity: 1.0022\n",
            "Step [600/1138], Loss: 0.0020, Perplexity: 1.0020\n",
            "Step [700/1138], Loss: 0.0018, Perplexity: 1.0018\n",
            "Step [800/1138], Loss: 0.0018, Perplexity: 1.0018\n",
            "Step [900/1138], Loss: 0.0032, Perplexity: 1.0032\n",
            "Step [1000/1138], Loss: 0.0012, Perplexity: 1.0012\n",
            "Step [1100/1138], Loss: 0.0012, Perplexity: 1.0012\n",
            "Step [0/253], Loss: 0.0014, Perplexity: 1.0014\n",
            "Step [100/253], Loss: 0.0013, Perplexity: 1.0013\n",
            "Step [200/253], Loss: 0.0009, Perplexity: 1.0009\n",
            "Epoch: 02 | Time: 14m 51s\n",
            "\t Train Loss: 0.003 | Train PPL: 1.0035 | Valid Loss: 0.001 | Valid PPL: 1.0013\n"
          ],
          "name": "stdout"
        }
      ]
    },
    {
      "cell_type": "code",
      "metadata": {
        "id": "Lb8e2ZXNmQuQ",
        "colab_type": "code",
        "colab": {
          "base_uri": "https://localhost:8080/",
          "height": 138
        },
        "outputId": "4c1776a7-7266-4eea-a28a-4b7e6d76046d"
      },
      "source": [
        "!ls -lah models"
      ],
      "execution_count": 1,
      "outputs": [
        {
          "output_type": "stream",
          "text": [
            "total 421M\n",
            "drwxr-xr-x 2 root root 4.0K Jul 12 18:19 .\n",
            "drwxr-xr-x 1 root root 4.0K Jul 12 17:35 ..\n",
            "-rw-r--r-- 1 root root  48M Jul 12 18:04 decoder-1.ckpt\n",
            "-rw-r--r-- 1 root root  48M Jul 12 18:19 decoder-2.ckpt\n",
            "-rw-r--r-- 1 root root 163M Jul 12 18:04 encoder-1.ckpt\n",
            "-rw-r--r-- 1 root root 163M Jul 12 18:19 encoder-2.ckpt\n"
          ],
          "name": "stdout"
        }
      ]
    },
    {
      "cell_type": "markdown",
      "metadata": {
        "id": "Kgf4Xch_8iUA",
        "colab_type": "text"
      },
      "source": [
        "### Inference"
      ]
    },
    {
      "cell_type": "code",
      "metadata": {
        "id": "4u5UqSM5bejk",
        "colab_type": "code",
        "colab": {
          "base_uri": "https://localhost:8080/",
          "height": 35
        },
        "outputId": "fcfeaafe-1dc9-485d-86aa-00c29b1ba646"
      },
      "source": [
        "device"
      ],
      "execution_count": 147,
      "outputs": [
        {
          "output_type": "execute_result",
          "data": {
            "text/plain": [
              "device(type='cuda')"
            ]
          },
          "metadata": {
            "tags": []
          },
          "execution_count": 147
        }
      ]
    },
    {
      "cell_type": "code",
      "metadata": {
        "id": "HgB4Pcx73g7R",
        "colab_type": "code",
        "colab": {}
      },
      "source": [
        "vocab_path = \"vocab.pkl\"\n",
        "# Load vocabulary wrapper\n",
        "with open(vocab_path, 'rb') as f:\n",
        "    vocab = pickle.load(f)"
      ],
      "execution_count": 148,
      "outputs": []
    },
    {
      "cell_type": "code",
      "metadata": {
        "id": "9v2FFt2b7ZE_",
        "colab_type": "code",
        "colab": {}
      },
      "source": [
        "# Build models\n",
        "encoder = Encoder()\n",
        "decoder = Decoder(attention_dim, embed_dim, decoder_dim, len(vocab))"
      ],
      "execution_count": 41,
      "outputs": []
    },
    {
      "cell_type": "code",
      "metadata": {
        "id": "LfIocJEDcXUE",
        "colab_type": "code",
        "colab": {
          "base_uri": "https://localhost:8080/",
          "height": 311
        },
        "outputId": "e1c69ee9-0d5b-410f-9414-6885a9df3d5e"
      },
      "source": [
        "encoder.to(device).eval()\n",
        "decoder.to(device).eval()"
      ],
      "execution_count": 42,
      "outputs": [
        {
          "output_type": "execute_result",
          "data": {
            "text/plain": [
              "Decoder(\n",
              "  (attention): Attention(\n",
              "    (encoder_attn): Linear(in_features=2048, out_features=512, bias=True)\n",
              "    (decoder_attn): Linear(in_features=512, out_features=512, bias=True)\n",
              "    (full_attn): Linear(in_features=512, out_features=1, bias=True)\n",
              "    (relu): ReLU()\n",
              "    (softmax): Softmax(dim=1)\n",
              "  )\n",
              "  (embedding): Embedding(3006, 256)\n",
              "  (decode_step): LSTMCell(2304, 512)\n",
              "  (init_h): Linear(in_features=2048, out_features=512, bias=True)\n",
              "  (init_c): Linear(in_features=2048, out_features=512, bias=True)\n",
              "  (f_beta): Linear(in_features=512, out_features=2048, bias=True)\n",
              "  (sigmoid): Sigmoid()\n",
              "  (dropout): Dropout(p=0.3, inplace=False)\n",
              "  (out): Linear(in_features=512, out_features=3006, bias=True)\n",
              ")"
            ]
          },
          "metadata": {
            "tags": []
          },
          "execution_count": 42
        }
      ]
    },
    {
      "cell_type": "code",
      "metadata": {
        "id": "leyWtAl02tYr",
        "colab_type": "code",
        "colab": {
          "base_uri": "https://localhost:8080/",
          "height": 35
        },
        "outputId": "44d0d8d4-a954-4d8d-d600-a514039c1ad7"
      },
      "source": [
        "encoder_path = \"models/encoder-2.ckpt\"\n",
        "decoder_path = \"models/decoder-2.ckpt\"\n",
        "\n",
        "# Load the trained model parameters\n",
        "encoder.load_state_dict(torch.load(encoder_path))\n",
        "decoder.load_state_dict(torch.load(decoder_path))"
      ],
      "execution_count": 43,
      "outputs": [
        {
          "output_type": "execute_result",
          "data": {
            "text/plain": [
              "<All keys matched successfully>"
            ]
          },
          "metadata": {
            "tags": []
          },
          "execution_count": 43
        }
      ]
    },
    {
      "cell_type": "code",
      "metadata": {
        "id": "ka3X0KBy3EHi",
        "colab_type": "code",
        "colab": {}
      },
      "source": [
        "transform = transforms.Compose([\n",
        "        transforms.ToTensor(), \n",
        "        transforms.Normalize((0.485, 0.456, 0.406), \n",
        "                             (0.229, 0.224, 0.225))])"
      ],
      "execution_count": 35,
      "outputs": []
    },
    {
      "cell_type": "code",
      "metadata": {
        "id": "ObnYBRXt4Dri",
        "colab_type": "code",
        "colab": {}
      },
      "source": [
        "def load_image(image_path, transform=None):\n",
        "    image = Image.open(image_path).convert('RGB')\n",
        "    image = image.resize([224, 224], Image.LANCZOS)\n",
        "    \n",
        "    if transform is not None:\n",
        "        image = transform(image).unsqueeze(0)\n",
        "    \n",
        "    return image"
      ],
      "execution_count": 36,
      "outputs": []
    },
    {
      "cell_type": "code",
      "metadata": {
        "id": "FCSWODHs3mQm",
        "colab_type": "code",
        "colab": {}
      },
      "source": [
        "def inference(image_path):\n",
        "    # Prepare an image\n",
        "    image = load_image(image_path, transform)\n",
        "    image_tensor = image.to(device)\n",
        "    # Generate an caption from the image\n",
        "    encoded_img = encoder(image_tensor)\n",
        "\n",
        "    initial_caption = [vocab.word2idx['<start>']]\n",
        "    end_token = vocab.word2idx['<end>']\n",
        "    sampled_ids, _ = decoder.sample(encoded_img, initial_caption, end_token, device)\n",
        "\n",
        "    # Convert word_ids to words\n",
        "    sampled_caption = []\n",
        "    for word_id in sampled_ids:\n",
        "        word = vocab.idx2word[word_id]\n",
        "        if word == '<end>':\n",
        "            break\n",
        "        sampled_caption.append(word)\n",
        "    sentence = ' '.join(sampled_caption[1:])\n",
        "\n",
        "    # Print out the image and the generated caption\n",
        "    image = Image.open(image_path)\n",
        "    plt.imshow(np.asarray(image))\n",
        "    print(sentence)"
      ],
      "execution_count": 44,
      "outputs": []
    },
    {
      "cell_type": "code",
      "metadata": {
        "id": "syx2RRyS4HW_",
        "colab_type": "code",
        "colab": {
          "base_uri": "https://localhost:8080/",
          "height": 949
        },
        "outputId": "acc7656e-986a-4e84-c53d-25d3cced0e4d"
      },
      "source": [
        "image_path = \"flickr8k/Images/1009434119_febe49276a.jpg\"\n",
        "inference(image_path)"
      ],
      "execution_count": 45,
      "outputs": [
        {
          "output_type": "stream",
          "text": [
            "> <ipython-input-39-6d78d3d56615>(96)sample()\n",
            "-> embeddings = self.embedding(caption)\n",
            "(Pdb) caption\n",
            "tensor([1], device='cuda:0')\n",
            "(Pdb) n\n",
            "> <ipython-input-39-6d78d3d56615>(99)sample()\n",
            "-> attention_weighted_encoding, alpha = self.attention(encoder_out, h)\n",
            "(Pdb) embeddings.shape\n",
            "torch.Size([1, 256])\n",
            "(Pdb) n\n",
            "> <ipython-input-39-6d78d3d56615>(100)sample()\n",
            "-> gate = self.sigmoid(self.f_beta(h))  # gating scalar, (1, encoder_dim)\n",
            "(Pdb) attention_weighted_encoding.shape\n",
            "torch.Size([1, 2048])\n",
            "(Pdb) n\n",
            "> <ipython-input-39-6d78d3d56615>(101)sample()\n",
            "-> attention_weighted_encoding = gate * attention_weighted_encoding\n",
            "(Pdb) gate.shape\n",
            "torch.Size([1, 2048])\n",
            "(Pdb) n\n",
            "> <ipython-input-39-6d78d3d56615>(102)sample()\n",
            "-> h, c = self.decode_step(torch.cat([embeddings, attention_weighted_encoding], dim=1), (h, c))\n",
            "(Pdb) n\n",
            "> <ipython-input-39-6d78d3d56615>(103)sample()\n",
            "-> preds = self.out(self.dropout(h))  # (1, vocab_size)\n",
            "(Pdb) n\n",
            "> <ipython-input-39-6d78d3d56615>(104)sample()\n",
            "-> _, predicted = preds.max(1)\n",
            "(Pdb) preds.shape\n",
            "torch.Size([1, 3006])\n",
            "(Pdb) n\n",
            "> <ipython-input-39-6d78d3d56615>(105)sample()\n",
            "-> alphas[:, t, :] = alpha\n",
            "(Pdb) predicted\n",
            "tensor([1], device='cuda:0')\n",
            "(Pdb) q\n"
          ],
          "name": "stdout"
        },
        {
          "output_type": "error",
          "ename": "BdbQuit",
          "evalue": "ignored",
          "traceback": [
            "\u001b[0;31m---------------------------------------------------------------------------\u001b[0m",
            "\u001b[0;31mBdbQuit\u001b[0m                                   Traceback (most recent call last)",
            "\u001b[0;32m<ipython-input-45-84d9178a83a2>\u001b[0m in \u001b[0;36m<module>\u001b[0;34m()\u001b[0m\n\u001b[1;32m      1\u001b[0m \u001b[0mimage_path\u001b[0m \u001b[0;34m=\u001b[0m \u001b[0;34m\"flickr8k/Images/1009434119_febe49276a.jpg\"\u001b[0m\u001b[0;34m\u001b[0m\u001b[0;34m\u001b[0m\u001b[0m\n\u001b[0;32m----> 2\u001b[0;31m \u001b[0minference\u001b[0m\u001b[0;34m(\u001b[0m\u001b[0mimage_path\u001b[0m\u001b[0;34m)\u001b[0m\u001b[0;34m\u001b[0m\u001b[0;34m\u001b[0m\u001b[0m\n\u001b[0m",
            "\u001b[0;32m<ipython-input-44-8bced627de60>\u001b[0m in \u001b[0;36minference\u001b[0;34m(image_path)\u001b[0m\n\u001b[1;32m      8\u001b[0m     \u001b[0minitial_caption\u001b[0m \u001b[0;34m=\u001b[0m \u001b[0;34m[\u001b[0m\u001b[0mvocab\u001b[0m\u001b[0;34m.\u001b[0m\u001b[0mword2idx\u001b[0m\u001b[0;34m[\u001b[0m\u001b[0;34m'<start>'\u001b[0m\u001b[0;34m]\u001b[0m\u001b[0;34m]\u001b[0m\u001b[0;34m\u001b[0m\u001b[0;34m\u001b[0m\u001b[0m\n\u001b[1;32m      9\u001b[0m     \u001b[0mend_token\u001b[0m \u001b[0;34m=\u001b[0m \u001b[0mvocab\u001b[0m\u001b[0;34m.\u001b[0m\u001b[0mword2idx\u001b[0m\u001b[0;34m[\u001b[0m\u001b[0;34m'<end>'\u001b[0m\u001b[0;34m]\u001b[0m\u001b[0;34m\u001b[0m\u001b[0;34m\u001b[0m\u001b[0m\n\u001b[0;32m---> 10\u001b[0;31m     \u001b[0msampled_ids\u001b[0m\u001b[0;34m,\u001b[0m \u001b[0m_\u001b[0m \u001b[0;34m=\u001b[0m \u001b[0mdecoder\u001b[0m\u001b[0;34m.\u001b[0m\u001b[0msample\u001b[0m\u001b[0;34m(\u001b[0m\u001b[0mencoded_img\u001b[0m\u001b[0;34m,\u001b[0m \u001b[0minitial_caption\u001b[0m\u001b[0;34m,\u001b[0m \u001b[0mend_token\u001b[0m\u001b[0;34m,\u001b[0m \u001b[0mdevice\u001b[0m\u001b[0;34m)\u001b[0m\u001b[0;34m\u001b[0m\u001b[0;34m\u001b[0m\u001b[0m\n\u001b[0m\u001b[1;32m     11\u001b[0m \u001b[0;34m\u001b[0m\u001b[0m\n\u001b[1;32m     12\u001b[0m     \u001b[0;32mimport\u001b[0m \u001b[0mpdb\u001b[0m\u001b[0;34m\u001b[0m\u001b[0;34m\u001b[0m\u001b[0m\n",
            "\u001b[0;32m<ipython-input-39-6d78d3d56615>\u001b[0m in \u001b[0;36msample\u001b[0;34m(self, encoder_out, captions, end_token, device)\u001b[0m\n\u001b[1;32m    103\u001b[0m             \u001b[0mpreds\u001b[0m \u001b[0;34m=\u001b[0m \u001b[0mself\u001b[0m\u001b[0;34m.\u001b[0m\u001b[0mout\u001b[0m\u001b[0;34m(\u001b[0m\u001b[0mself\u001b[0m\u001b[0;34m.\u001b[0m\u001b[0mdropout\u001b[0m\u001b[0;34m(\u001b[0m\u001b[0mh\u001b[0m\u001b[0;34m)\u001b[0m\u001b[0;34m)\u001b[0m  \u001b[0;31m# (1, vocab_size)\u001b[0m\u001b[0;34m\u001b[0m\u001b[0;34m\u001b[0m\u001b[0m\n\u001b[1;32m    104\u001b[0m             \u001b[0m_\u001b[0m\u001b[0;34m,\u001b[0m \u001b[0mpredicted\u001b[0m \u001b[0;34m=\u001b[0m \u001b[0mpreds\u001b[0m\u001b[0;34m.\u001b[0m\u001b[0mmax\u001b[0m\u001b[0;34m(\u001b[0m\u001b[0;36m1\u001b[0m\u001b[0;34m)\u001b[0m\u001b[0;34m\u001b[0m\u001b[0;34m\u001b[0m\u001b[0m\n\u001b[0;32m--> 105\u001b[0;31m             \u001b[0malphas\u001b[0m\u001b[0;34m[\u001b[0m\u001b[0;34m:\u001b[0m\u001b[0;34m,\u001b[0m \u001b[0mt\u001b[0m\u001b[0;34m,\u001b[0m \u001b[0;34m:\u001b[0m\u001b[0;34m]\u001b[0m \u001b[0;34m=\u001b[0m \u001b[0malpha\u001b[0m\u001b[0;34m\u001b[0m\u001b[0;34m\u001b[0m\u001b[0m\n\u001b[0m\u001b[1;32m    106\u001b[0m             \u001b[0;32mif\u001b[0m \u001b[0mpredicted\u001b[0m\u001b[0;34m.\u001b[0m\u001b[0mitem\u001b[0m\u001b[0;34m(\u001b[0m\u001b[0;34m)\u001b[0m \u001b[0;34m==\u001b[0m \u001b[0mend_token\u001b[0m\u001b[0;34m:\u001b[0m\u001b[0;34m\u001b[0m\u001b[0;34m\u001b[0m\u001b[0m\n\u001b[1;32m    107\u001b[0m                 \u001b[0;32mbreak\u001b[0m\u001b[0;34m\u001b[0m\u001b[0;34m\u001b[0m\u001b[0m\n",
            "\u001b[0;32m<ipython-input-39-6d78d3d56615>\u001b[0m in \u001b[0;36msample\u001b[0;34m(self, encoder_out, captions, end_token, device)\u001b[0m\n\u001b[1;32m    103\u001b[0m             \u001b[0mpreds\u001b[0m \u001b[0;34m=\u001b[0m \u001b[0mself\u001b[0m\u001b[0;34m.\u001b[0m\u001b[0mout\u001b[0m\u001b[0;34m(\u001b[0m\u001b[0mself\u001b[0m\u001b[0;34m.\u001b[0m\u001b[0mdropout\u001b[0m\u001b[0;34m(\u001b[0m\u001b[0mh\u001b[0m\u001b[0;34m)\u001b[0m\u001b[0;34m)\u001b[0m  \u001b[0;31m# (1, vocab_size)\u001b[0m\u001b[0;34m\u001b[0m\u001b[0;34m\u001b[0m\u001b[0m\n\u001b[1;32m    104\u001b[0m             \u001b[0m_\u001b[0m\u001b[0;34m,\u001b[0m \u001b[0mpredicted\u001b[0m \u001b[0;34m=\u001b[0m \u001b[0mpreds\u001b[0m\u001b[0;34m.\u001b[0m\u001b[0mmax\u001b[0m\u001b[0;34m(\u001b[0m\u001b[0;36m1\u001b[0m\u001b[0;34m)\u001b[0m\u001b[0;34m\u001b[0m\u001b[0;34m\u001b[0m\u001b[0m\n\u001b[0;32m--> 105\u001b[0;31m             \u001b[0malphas\u001b[0m\u001b[0;34m[\u001b[0m\u001b[0;34m:\u001b[0m\u001b[0;34m,\u001b[0m \u001b[0mt\u001b[0m\u001b[0;34m,\u001b[0m \u001b[0;34m:\u001b[0m\u001b[0;34m]\u001b[0m \u001b[0;34m=\u001b[0m \u001b[0malpha\u001b[0m\u001b[0;34m\u001b[0m\u001b[0;34m\u001b[0m\u001b[0m\n\u001b[0m\u001b[1;32m    106\u001b[0m             \u001b[0;32mif\u001b[0m \u001b[0mpredicted\u001b[0m\u001b[0;34m.\u001b[0m\u001b[0mitem\u001b[0m\u001b[0;34m(\u001b[0m\u001b[0;34m)\u001b[0m \u001b[0;34m==\u001b[0m \u001b[0mend_token\u001b[0m\u001b[0;34m:\u001b[0m\u001b[0;34m\u001b[0m\u001b[0;34m\u001b[0m\u001b[0m\n\u001b[1;32m    107\u001b[0m                 \u001b[0;32mbreak\u001b[0m\u001b[0;34m\u001b[0m\u001b[0;34m\u001b[0m\u001b[0m\n",
            "\u001b[0;32m/usr/lib/python3.6/bdb.py\u001b[0m in \u001b[0;36mtrace_dispatch\u001b[0;34m(self, frame, event, arg)\u001b[0m\n\u001b[1;32m     49\u001b[0m             \u001b[0;32mreturn\u001b[0m \u001b[0;31m# None\u001b[0m\u001b[0;34m\u001b[0m\u001b[0;34m\u001b[0m\u001b[0m\n\u001b[1;32m     50\u001b[0m         \u001b[0;32mif\u001b[0m \u001b[0mevent\u001b[0m \u001b[0;34m==\u001b[0m \u001b[0;34m'line'\u001b[0m\u001b[0;34m:\u001b[0m\u001b[0;34m\u001b[0m\u001b[0;34m\u001b[0m\u001b[0m\n\u001b[0;32m---> 51\u001b[0;31m             \u001b[0;32mreturn\u001b[0m \u001b[0mself\u001b[0m\u001b[0;34m.\u001b[0m\u001b[0mdispatch_line\u001b[0m\u001b[0;34m(\u001b[0m\u001b[0mframe\u001b[0m\u001b[0;34m)\u001b[0m\u001b[0;34m\u001b[0m\u001b[0;34m\u001b[0m\u001b[0m\n\u001b[0m\u001b[1;32m     52\u001b[0m         \u001b[0;32mif\u001b[0m \u001b[0mevent\u001b[0m \u001b[0;34m==\u001b[0m \u001b[0;34m'call'\u001b[0m\u001b[0;34m:\u001b[0m\u001b[0;34m\u001b[0m\u001b[0;34m\u001b[0m\u001b[0m\n\u001b[1;32m     53\u001b[0m             \u001b[0;32mreturn\u001b[0m \u001b[0mself\u001b[0m\u001b[0;34m.\u001b[0m\u001b[0mdispatch_call\u001b[0m\u001b[0;34m(\u001b[0m\u001b[0mframe\u001b[0m\u001b[0;34m,\u001b[0m \u001b[0marg\u001b[0m\u001b[0;34m)\u001b[0m\u001b[0;34m\u001b[0m\u001b[0;34m\u001b[0m\u001b[0m\n",
            "\u001b[0;32m/usr/lib/python3.6/bdb.py\u001b[0m in \u001b[0;36mdispatch_line\u001b[0;34m(self, frame)\u001b[0m\n\u001b[1;32m     68\u001b[0m         \u001b[0;32mif\u001b[0m \u001b[0mself\u001b[0m\u001b[0;34m.\u001b[0m\u001b[0mstop_here\u001b[0m\u001b[0;34m(\u001b[0m\u001b[0mframe\u001b[0m\u001b[0;34m)\u001b[0m \u001b[0;32mor\u001b[0m \u001b[0mself\u001b[0m\u001b[0;34m.\u001b[0m\u001b[0mbreak_here\u001b[0m\u001b[0;34m(\u001b[0m\u001b[0mframe\u001b[0m\u001b[0;34m)\u001b[0m\u001b[0;34m:\u001b[0m\u001b[0;34m\u001b[0m\u001b[0;34m\u001b[0m\u001b[0m\n\u001b[1;32m     69\u001b[0m             \u001b[0mself\u001b[0m\u001b[0;34m.\u001b[0m\u001b[0muser_line\u001b[0m\u001b[0;34m(\u001b[0m\u001b[0mframe\u001b[0m\u001b[0;34m)\u001b[0m\u001b[0;34m\u001b[0m\u001b[0;34m\u001b[0m\u001b[0m\n\u001b[0;32m---> 70\u001b[0;31m             \u001b[0;32mif\u001b[0m \u001b[0mself\u001b[0m\u001b[0;34m.\u001b[0m\u001b[0mquitting\u001b[0m\u001b[0;34m:\u001b[0m \u001b[0;32mraise\u001b[0m \u001b[0mBdbQuit\u001b[0m\u001b[0;34m\u001b[0m\u001b[0;34m\u001b[0m\u001b[0m\n\u001b[0m\u001b[1;32m     71\u001b[0m         \u001b[0;32mreturn\u001b[0m \u001b[0mself\u001b[0m\u001b[0;34m.\u001b[0m\u001b[0mtrace_dispatch\u001b[0m\u001b[0;34m\u001b[0m\u001b[0;34m\u001b[0m\u001b[0m\n\u001b[1;32m     72\u001b[0m \u001b[0;34m\u001b[0m\u001b[0m\n",
            "\u001b[0;31mBdbQuit\u001b[0m: "
          ]
        }
      ]
    },
    {
      "cell_type": "code",
      "metadata": {
        "id": "HUtfsJy--mus",
        "colab_type": "code",
        "colab": {
          "base_uri": "https://localhost:8080/",
          "height": 286
        },
        "outputId": "cc9d5040-c3d3-4462-a9f6-14900d990f0a"
      },
      "source": [
        "image_path = \"flickr8k/Images/1016887272_03199f49c4.jpg\"\n",
        "inference(image_path)"
      ],
      "execution_count": null,
      "outputs": [
        {
          "output_type": "stream",
          "text": [
            "a man climbs a rock .\n"
          ],
          "name": "stdout"
        },
        {
          "output_type": "display_data",
          "data": {
            "image/png": "[encoded data removed]",
            "text/plain": [
              "<Figure size 432x288 with 1 Axes>"
            ]
          },
          "metadata": {
            "tags": [],
            "needs_background": "light"
          }
        }
      ]
    },
    {
      "cell_type": "code",
      "metadata": {
        "id": "0wgw6LLg_ROx",
        "colab_type": "code",
        "colab": {
          "base_uri": "https://localhost:8080/",
          "height": 257
        },
        "outputId": "6dde8637-c331-4417-81c3-2b4f94d8f631"
      },
      "source": [
        "image_path = \"flickr8k/Images/1022975728_75515238d8.jpg\"\n",
        "inference(image_path)"
      ],
      "execution_count": null,
      "outputs": [
        {
          "output_type": "stream",
          "text": [
            "a black dog is swimming through water .\n"
          ],
          "name": "stdout"
        },
        {
          "output_type": "display_data",
          "data": {
            "image/png": "[encoded data removed]",
            "text/plain": [
              "<Figure size 432x288 with 1 Axes>"
            ]
          },
          "metadata": {
            "tags": [],
            "needs_background": "light"
          }
        }
      ]
    },
    {
      "cell_type": "code",
      "metadata": {
        "id": "WV2L2oSh_vns",
        "colab_type": "code",
        "colab": {}
      },
      "source": [
        ""
      ],
      "execution_count": null,
      "outputs": []
    }
  ]
}