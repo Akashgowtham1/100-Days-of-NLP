{
  "nbformat": 4,
  "nbformat_minor": 0,
  "metadata": {
    "colab": {
      "name": "Sentiment Analysis with Attention.ipynb",
      "provenance": [],
      "authorship_tag": "ABX9TyOd/o00fJx7s3uva02oHuNA",
      "include_colab_link": true
    },
    "kernelspec": {
      "name": "python3",
      "display_name": "Python 3"
    },
    "accelerator": "GPU"
  },
  "cells": [
    {
      "cell_type": "markdown",
      "metadata": {
        "id": "view-in-github",
        "colab_type": "text"
      },
      "source": [
        "<a href=\"https://colab.research.google.com/github/graviraja/100-Days-of-NLP/blob/applications%2Fsentiment/applications/sentiment/Sentiment%20Analysis%20with%20Attention.ipynb\" target=\"_parent\"><img src=\"https://colab.research.google.com/assets/colab-badge.svg\" alt=\"Open In Colab\"/></a>"
      ]
    },
    {
      "cell_type": "code",
      "metadata": {
        "id": "eMELRNiC4fTg",
        "colab_type": "code",
        "colab": {}
      },
      "source": [
        "import time\n",
        "import random\n",
        "import spacy\n",
        "\n",
        "import torch\n",
        "import torch.nn as nn\n",
        "import torch.nn.functional as F\n",
        "import torch.optim as optim\n",
        "\n",
        "from torchtext.data import Field, LabelField, BucketIterator\n",
        "from torchtext.datasets import IMDB"
      ],
      "execution_count": 0,
      "outputs": []
    },
    {
      "cell_type": "code",
      "metadata": {
        "id": "tR0FD48q5GgO",
        "colab_type": "code",
        "colab": {}
      },
      "source": [
        "SEED = 1234\n",
        "\n",
        "torch.manual_seed(SEED)\n",
        "torch.cuda.manual_seed(SEED)\n",
        "torch.backends.cudnn.deterministic = True"
      ],
      "execution_count": 0,
      "outputs": []
    },
    {
      "cell_type": "code",
      "metadata": {
        "id": "w_7VDqRd5T-2",
        "colab_type": "code",
        "colab": {}
      },
      "source": [
        "TEXT = Field(tokenize = 'spacy', include_lengths = True)\n",
        "LABEL = LabelField(dtype = torch.float)"
      ],
      "execution_count": 0,
      "outputs": []
    },
    {
      "cell_type": "code",
      "metadata": {
        "id": "O-kgkJhI5XjG",
        "colab_type": "code",
        "colab": {
          "base_uri": "https://localhost:8080/",
          "height": 51
        },
        "outputId": "3bdcc49f-41b4-49f3-f363-533cdd9bb6fd"
      },
      "source": [
        "train_data, test_data = IMDB.splits(TEXT, LABEL)\n",
        "train_data, valid_data = train_data.split(random_state = random.seed(SEED))"
      ],
      "execution_count": 6,
      "outputs": [
        {
          "output_type": "stream",
          "text": [
            "downloading aclImdb_v1.tar.gz\n"
          ],
          "name": "stdout"
        },
        {
          "output_type": "stream",
          "text": [
            "aclImdb_v1.tar.gz: 100%|██████████| 84.1M/84.1M [00:07<00:00, 10.6MB/s]\n"
          ],
          "name": "stderr"
        }
      ]
    },
    {
      "cell_type": "code",
      "metadata": {
        "id": "bIBpsB1M5gaj",
        "colab_type": "code",
        "colab": {
          "base_uri": "https://localhost:8080/",
          "height": 68
        },
        "outputId": "9c46d1dc-693d-4aa5-84f5-876733bf83e2"
      },
      "source": [
        "print(f'Number of training examples: {len(train_data)}')\n",
        "print(f'Number of validation examples: {len(valid_data)}')\n",
        "print(f'Number of testing examples: {len(test_data)}')"
      ],
      "execution_count": 7,
      "outputs": [
        {
          "output_type": "stream",
          "text": [
            "Number of training examples: 17500\n",
            "Number of validation examples: 7500\n",
            "Number of testing examples: 25000\n"
          ],
          "name": "stdout"
        }
      ]
    },
    {
      "cell_type": "code",
      "metadata": {
        "id": "QsH8s9Pg5iyD",
        "colab_type": "code",
        "colab": {
          "base_uri": "https://localhost:8080/",
          "height": 54
        },
        "outputId": "d244228c-05d6-4a02-ced2-0803217c399d"
      },
      "source": [
        "print(vars(train_data.examples[0]))"
      ],
      "execution_count": 8,
      "outputs": [
        {
          "output_type": "stream",
          "text": [
            "{'text': ['i', 'read', 'the', 'book', '\"', '7', 'years', 'in', 'Tibet', '\"', 'from', 'Heinrich', 'Harrer', 'and', 'was', 'fascinated', 'of', 'it', '.', 'then', 'i', 'immediately', 'grabbed', 'the', 'DVD', 'and', 'started', 'to', 'watch', 'the', 'movie', '.', 'i', 'remember', 'the', 'first', 'time', 'i', 'saw', 'it', 'back', 'in', '98', ',', 'i', 'kinda', 'liked', 'it', '.', 'well', ',', 'now', 'i', 'watched', 'it', 'again', 'in', 'full', 'knowledge', 'of', 'the', 'book', 'it', 'is', 'based', 'on', '.', 'and', 'soon', 'i', 'realized', 'how', 'WRONG', 'it', 'all', 'was', 'told:<br', '/><br', '/>when', 'they', 'enter', 'Lhasa', 'the', 'people', 'start', 'to', 'stick', 'their', 'tongues', 'out', 'of', 'their', 'mouths', 'and', 'Thewlis', 'and', 'Pitt', 'have', 'the', 'impression', 'that', 'its', 'the', 'way', 'to', 'say', 'hello', 'in', 'Tibet', ',', 'so', 'they', 'greet', 'back', '...', 'in', 'the', 'book', 'Harrer', 'explains', ',', 'that', 'sticking', 'the', 'tongue', 'out', 'is', 'a', 'sign', 'of', 'absolute', 'humbleness', 'and', 'loyalty', 'in', 'Tibet', 'and', 'they', 'may', 'do', 'it', 'in', 'front', 'of', 'the', 'Dalai', 'Lama', 'but', 'certainly', 'not', 'for', 'these', 'two', 'europeans', '!', 'not', 'only', 'the', 'mother', 'but', 'even', 'the', 'Dalai', 'Lama', 'himself', 'was', 'wearing', 'glasses', 'in', 'the', 'public', '.', 'in', 'the', 'book', 'Harrer', 'mentions', ',', 'that', 'no', 'one', 'in', 'Tibet', 'wore', 'glasses', 'to', 'that', 'time(sorry', 'forgot', 'the', 'reason', ',', 'but', 'its', 'explained', 'in', 'the', 'book', 'too).the', 'young', 'Dalai', 'Lama', 'did', ',', 'but', 'only', 'when', 'he', 'was', 'alone', 'and', 'nobody', 'could', 'see', 'him', '!', 'and', 'what', 'about', 'that', 'Mao', 'tse', 'tung', 'lookalike', ',', 'destroying', 'the', 'mandala', 'in', 'front', 'of', 'the', 'young', '\"', 'living', 'buddha', '\"', '?', '?', 'childish', '...', 'and', 'the', 'tailor', 'made', 'Harrer', 'and', 'Aufschnaiter', 'tibetan', 'clothes', 'not', 'European', 'designer', 'suits', '!', 'why', 'are', 'so', 'many', 'events', 'that', 'really', 'happened', 'eliminated', 'from', 'the', 'story', ',', 'just', 'to', 'fill', 'the', 'time', 'with', 'a', 'fictional', 'love', 'interest', '(', 'the', 'female', 'tailor', '...', ')that', 'is', 'completely', 'unimportant', '?', 'just', 'like', 'the', 'whole', 'story', 'about', 'harrers', 'son', ',', 'rolf', '.', 'not', 'one', 'word', 'is', 'mentioned', 'about', 'him', 'or', 'even', 'any', 'family', 'member', 'of', 'harrer', 'in', 'the', 'book', '.', 'but', 'that', 'was', 'OK', 'for', 'me', 'because', '\"', '7', 'years', 'in', 'Tibet', '\"', 'is', 'not', 'a', 'book', 'about', 'harrers', 'person', '.', 'its', 'about', 'tibet', '.', 'I', \"'m\", 'very', 'disappointed', 'by', 'this', '\"', 'adaption', '\"', 'of', 'the', 'famous', 'book', '.', 'and', 'i', 'bet', 'heinrich', 'harrer', 'was', ',', 'too', '...', '3', 'stars', ',', 'just', 'for', 'the', 'cinematography', '.'], 'label': 'neg'}\n"
          ],
          "name": "stdout"
        }
      ]
    },
    {
      "cell_type": "code",
      "metadata": {
        "id": "zPHGh1wk5lZz",
        "colab_type": "code",
        "colab": {}
      },
      "source": [
        "MAX_VOCAB_SIZE = 25_000\n",
        "\n",
        "TEXT.build_vocab(train_data, max_size = MAX_VOCAB_SIZE)\n",
        "LABEL.build_vocab(train_data)"
      ],
      "execution_count": 0,
      "outputs": []
    },
    {
      "cell_type": "code",
      "metadata": {
        "id": "3xRiI8tE52zT",
        "colab_type": "code",
        "colab": {}
      },
      "source": [
        "BATCH_SIZE = 64\n",
        "\n",
        "device = torch.device('cuda' if torch.cuda.is_available() else 'cpu')\n",
        "\n",
        "train_iterator, valid_iterator, test_iterator = BucketIterator.splits(\n",
        "    (train_data, valid_data, test_data), \n",
        "    batch_size = BATCH_SIZE,\n",
        "    sort_within_batch = True,\n",
        "    device = device)"
      ],
      "execution_count": 0,
      "outputs": []
    },
    {
      "cell_type": "code",
      "metadata": {
        "id": "_x6er_pxKQBC",
        "colab_type": "code",
        "colab": {
          "base_uri": "https://localhost:8080/",
          "height": 34
        },
        "outputId": "99f2129f-fa23-4418-bdef-e9c59ce55762"
      },
      "source": [
        "device"
      ],
      "execution_count": 11,
      "outputs": [
        {
          "output_type": "execute_result",
          "data": {
            "text/plain": [
              "device(type='cuda')"
            ]
          },
          "metadata": {
            "tags": []
          },
          "execution_count": 11
        }
      ]
    },
    {
      "cell_type": "code",
      "metadata": {
        "id": "TETVTfGq55gq",
        "colab_type": "code",
        "colab": {}
      },
      "source": [
        "class RNN(nn.Module):\n",
        "    def __init__(self, input_dim, emb_dim, hidden_dim, output_dim, n_layers, dropout, pad_idx):\n",
        "        super().__init__()\n",
        "\n",
        "        self.pad_idx = pad_idx\n",
        "        self.n_layers = n_layers\n",
        "        self.embedding = nn.Embedding(input_dim, emb_dim)\n",
        "        self.rnn = nn.LSTM(emb_dim, hidden_dim, num_layers=n_layers, bidirectional=True, dropout=dropout)\n",
        "        self.fc_out = nn.Linear(hidden_dim * 2, output_dim)\n",
        "        self.attn = nn.Linear(hidden_dim * 4, hidden_dim * 2)\n",
        "        self.v = nn.Linear(hidden_dim * 2, 1, bias = False)\n",
        "        self.dropout = nn.Dropout(dropout)\n",
        "    \n",
        "    def create_mask(self, src):\n",
        "        # src => [src_len, batch_size]\n",
        "\n",
        "        mask = (src != self.pad_idx)\n",
        "        mask = mask.permute(1, 0)\n",
        "        # mask => [batch_size, src_len]\n",
        "        \n",
        "        return mask\n",
        "    \n",
        "    def forward(self, src, src_lengths):\n",
        "        # src => [seq_len, batch_size]\n",
        "        # src_lengths => [batch_size]\n",
        "\n",
        "        batch_size = src.shape[1]\n",
        "        \n",
        "        mask = self.create_mask(src)\n",
        "        # mask => [batch_size, seq_len]\n",
        "\n",
        "        embedded = self.dropout(self.embedding(src))\n",
        "        # embedded => [seq_len, batch_size, emb_dim]\n",
        "\n",
        "        packed_input = nn.utils.rnn.pack_padded_sequence(embedded, src_lengths)\n",
        "        packed_outputs, (hidden, _) = self.rnn(packed_input)\n",
        "        outputs, _ = nn.utils.rnn.pad_packed_sequence(packed_outputs)\n",
        "        # outputs => [seq_len, batch_size, hidden_dim * 2]\n",
        "        # hidden => [num_layers * num_dir, batch_size, hidden_dim]\n",
        "\n",
        "        hidden = hidden.view(self.n_layers, 2, batch_size, -1)\n",
        "        # [2, 2, b, h] => multi layer bi dir    => [-1][0]  [-1][1]\n",
        "        #              => final layer forward hidden [-1][0][:] => [batch_size, hidden_dim]\n",
        "        #              => final layer backward hidden [-1][1][:] => [batch_size, hidden_dim]\n",
        "\n",
        "        # concatinating final forward and final backward hidden states\n",
        "        hidden = torch.cat((hidden[-1][0][:], hidden[-1][1][:]), dim=1)\n",
        "        hidden = self.dropout(hidden)\n",
        "        # hidden => [batch_size, hidden_dim * 2]\n",
        "\n",
        "        attention_energies = self.attention(hidden, outputs, mask)\n",
        "        # attention_energies => [batch_size, seq_len]\n",
        "\n",
        "        attention_energies = attention_energies.unsqueeze(1)\n",
        "        # attention_energies => [batch_size, 1, seq_len]\n",
        "\n",
        "        outputs = outputs.permute(1, 0 , 2)\n",
        "        # outputs => [batch_size, seq_len, hidden_dim * 2]\n",
        "\n",
        "        weighted = torch.bmm(attention_energies, outputs)\n",
        "        # weighted => [batch_size, 1, hidden_dim * 2]\n",
        "\n",
        "        weighted = weighted.squeeze(1)\n",
        "        # weighted => [batch_size, hidden_dim * 2]\n",
        "\n",
        "        logits = self.fc_out(weighted)\n",
        "        # logits => [batch_size, output_dim]\n",
        "\n",
        "        return logits, attention_energies.squeeze(1)\n",
        "    \n",
        "    def attention(self, hidden, outputs, mask):\n",
        "        # hidden => [batch_size, hidden_dim * 2]\n",
        "        # outputs => [seq_len, batch_size, hidden_dim * 2]\n",
        "        # mask => [batch_size, seq_len]\n",
        "\n",
        "        batch_size = outputs.shape[1]\n",
        "        seq_len = outputs.shape[0]\n",
        "\n",
        "        hidden = hidden.unsqueeze(1).repeat(1, seq_len, 1)\n",
        "        # hidden => [batch_size, seq_len, hidden_dim * 2]\n",
        "\n",
        "        outputs = outputs.permute(1, 0, 2)\n",
        "        # outputs => [batch_size, seq_len, hidden_dim * 2]\n",
        "\n",
        "        energy = torch.tanh(self.attn(torch.cat((hidden, outputs), dim = 2)))\n",
        "        # energy => [batch_size, seq_len, hidden_dim * 2]\n",
        "\n",
        "        attention_energy = self.v(energy).squeeze(2)\n",
        "        # attention_energy => [batch_size, seq_len]\n",
        "\n",
        "        attention_energy = attention_energy.masked_fill(mask == 0, -1e10)\n",
        "        # attention_energy => [batch_size, seq_len]\n",
        "\n",
        "        return F.softmax(attention_energy, dim=1)\n"
      ],
      "execution_count": 0,
      "outputs": []
    },
    {
      "cell_type": "code",
      "metadata": {
        "id": "mvcGeFif7Puf",
        "colab_type": "code",
        "colab": {}
      },
      "source": [
        "INPUT_DIM = len(TEXT.vocab)\n",
        "EMBEDDING_DIM = 100\n",
        "HIDDEN_DIM = 256\n",
        "OUTPUT_DIM = 1\n",
        "N_LAYERS = 2\n",
        "DROPOUT = 0.5\n",
        "PAD_IDX = TEXT.vocab.stoi[TEXT.pad_token]\n",
        "\n",
        "model = RNN(INPUT_DIM, EMBEDDING_DIM, HIDDEN_DIM, OUTPUT_DIM, N_LAYERS, DROPOUT, PAD_IDX).to(device)"
      ],
      "execution_count": 0,
      "outputs": []
    },
    {
      "cell_type": "code",
      "metadata": {
        "id": "XpoeOo_iGc7w",
        "colab_type": "code",
        "colab": {
          "base_uri": "https://localhost:8080/",
          "height": 153
        },
        "outputId": "fb6a7ae7-296d-4256-eaca-e644ccdb0f97"
      },
      "source": [
        "# def init_weights(model):\n",
        "#     for name, param in model.named_parameters():\n",
        "#         nn.init.normal_(param.data, mean=0, std=0.01)\n",
        "# model.apply(init_weights)\n",
        "model"
      ],
      "execution_count": 14,
      "outputs": [
        {
          "output_type": "execute_result",
          "data": {
            "text/plain": [
              "RNN(\n",
              "  (embedding): Embedding(25002, 100)\n",
              "  (rnn): LSTM(100, 256, num_layers=2, dropout=0.5, bidirectional=True)\n",
              "  (fc_out): Linear(in_features=512, out_features=1, bias=True)\n",
              "  (attn): Linear(in_features=1024, out_features=512, bias=True)\n",
              "  (v): Linear(in_features=512, out_features=1, bias=False)\n",
              "  (dropout): Dropout(p=0.5, inplace=False)\n",
              ")"
            ]
          },
          "metadata": {
            "tags": []
          },
          "execution_count": 14
        }
      ]
    },
    {
      "cell_type": "code",
      "metadata": {
        "id": "7xtg3rKTG20c",
        "colab_type": "code",
        "colab": {
          "base_uri": "https://localhost:8080/",
          "height": 34
        },
        "outputId": "7d5a6055-a476-4db4-d771-d85de1dac8ab"
      },
      "source": [
        "\n",
        "def count_parameters(model):\n",
        "    return sum(p.numel() for p in model.parameters() if p.requires_grad)\n",
        "\n",
        "print(f'The model has {count_parameters(model)} trainable paramters')"
      ],
      "execution_count": 15,
      "outputs": [
        {
          "output_type": "stream",
          "text": [
            "The model has 5336169 trainable paramters\n"
          ],
          "name": "stdout"
        }
      ]
    },
    {
      "cell_type": "code",
      "metadata": {
        "id": "-LHd4v_5G5Kj",
        "colab_type": "code",
        "colab": {}
      },
      "source": [
        "optimizer = optim.Adam(model.parameters())\n",
        "criterion = nn.BCEWithLogitsLoss()\n",
        "\n",
        "model = model.to(device)\n",
        "criterion = criterion.to(device)"
      ],
      "execution_count": 0,
      "outputs": []
    },
    {
      "cell_type": "code",
      "metadata": {
        "id": "GmRyoJ8GG_vx",
        "colab_type": "code",
        "colab": {}
      },
      "source": [
        "def binary_accuracy(preds, y):\n",
        "    predicted = torch.round(torch.sigmoid(preds))\n",
        "    correct = (predicted == y).float()\n",
        "    acc = correct.sum() / len(correct)\n",
        "    return acc"
      ],
      "execution_count": 0,
      "outputs": []
    },
    {
      "cell_type": "code",
      "metadata": {
        "id": "G019t-5vHJm8",
        "colab_type": "code",
        "colab": {}
      },
      "source": [
        "def train(model, iterator, optimizer, criterion):\n",
        "    epoch_loss = 0\n",
        "    epoch_acc = 0\n",
        "\n",
        "    model.train()\n",
        "    \n",
        "    for batch in iterator:\n",
        "        optimizer.zero_grad()\n",
        "\n",
        "        input, input_lengths = batch.text\n",
        "        preds, _ = model(input, input_lengths)\n",
        "        preds = preds.squeeze(1)\n",
        "\n",
        "        loss = criterion(preds, batch.label)\n",
        "        acc = binary_accuracy(preds, batch.label)\n",
        "        loss.backward()\n",
        "        optimizer.step()\n",
        "\n",
        "        epoch_loss += loss.item()\n",
        "        epoch_acc += acc.item()\n",
        "    return epoch_loss / len(iterator), epoch_acc / len(iterator)"
      ],
      "execution_count": 0,
      "outputs": []
    },
    {
      "cell_type": "code",
      "metadata": {
        "id": "57ZE5CjiHtta",
        "colab_type": "code",
        "colab": {}
      },
      "source": [
        "def evaluate(model, iterator, criterion):\n",
        "    epoch_loss = 0\n",
        "    epoch_acc = 0\n",
        "\n",
        "    model.eval()\n",
        "    \n",
        "    for batch in iterator:\n",
        "        input, input_lengths = batch.text\n",
        "        preds, _ = model(input, input_lengths)\n",
        "        preds = preds.squeeze(1)\n",
        "        loss = criterion(preds, batch.label)\n",
        "        acc = binary_accuracy(preds, batch.label)\n",
        "\n",
        "        epoch_loss += loss.item()\n",
        "        epoch_acc += acc.item()\n",
        "    return epoch_loss / len(iterator), epoch_acc / len(iterator)"
      ],
      "execution_count": 0,
      "outputs": []
    },
    {
      "cell_type": "code",
      "metadata": {
        "id": "NBJxe4lrHwMJ",
        "colab_type": "code",
        "colab": {}
      },
      "source": [
        "def epoch_time(start_time, end_time):\n",
        "    elapsed_time = end_time - start_time\n",
        "    elapsed_mins = int(elapsed_time / 60)\n",
        "    elapsed_secs = int(elapsed_time - (elapsed_mins * 60))\n",
        "    return elapsed_mins, elapsed_secs"
      ],
      "execution_count": 0,
      "outputs": []
    },
    {
      "cell_type": "code",
      "metadata": {
        "id": "dZRX6tt8Hy7x",
        "colab_type": "code",
        "colab": {
          "base_uri": "https://localhost:8080/",
          "height": 289
        },
        "outputId": "c3083c00-768b-4ca4-a153-7f0dfe31d1de"
      },
      "source": [
        "N_EPOCHS = 5\n",
        "\n",
        "best_valid_loss = float('inf')\n",
        "\n",
        "for epoch in range(N_EPOCHS):\n",
        "    start_time = time.time()\n",
        "\n",
        "    train_loss, train_acc = train(model, train_iterator, optimizer, criterion)\n",
        "    valid_loss, valid_acc = evaluate(model, valid_iterator, criterion)\n",
        "\n",
        "    end_time = time.time()\n",
        "    epoch_mins, epoch_secs = epoch_time(start_time, end_time)\n",
        "\n",
        "    if valid_loss < best_valid_loss:\n",
        "        best_valid_loss = valid_loss\n",
        "        torch.save(model.state_dict(), 'model.pt')\n",
        "    print(f'Epoch: {epoch+1:02} | Epoch Time: {epoch_mins}m {epoch_secs}s')\n",
        "    print(f'\\tTrain Loss: {train_loss:.3f} | Train Acc: {train_acc*100:.2f}%')\n",
        "    print(f'\\t Val. Loss: {valid_loss:.3f} |  Val. Acc: {valid_acc*100:.2f}%')\n",
        "\n",
        "model.load_state_dict(torch.load('model.pt'))\n",
        "\n",
        "test_loss, test_acc = evaluate(model, test_iterator, criterion)\n",
        "\n",
        "print(f'Test Loss: {test_loss:.3f} | Test Acc: {test_acc*100:.2f}%')"
      ],
      "execution_count": 21,
      "outputs": [
        {
          "output_type": "stream",
          "text": [
            "Epoch: 01 | Epoch Time: 1m 57s\n",
            "\tTrain Loss: 0.589 | Train Acc: 67.47%\n",
            "\t Val. Loss: 0.454 |  Val. Acc: 79.28%\n",
            "Epoch: 02 | Epoch Time: 1m 57s\n",
            "\tTrain Loss: 0.430 | Train Acc: 80.57%\n",
            "\t Val. Loss: 0.351 |  Val. Acc: 84.67%\n",
            "Epoch: 03 | Epoch Time: 1m 57s\n",
            "\tTrain Loss: 0.352 | Train Acc: 85.02%\n",
            "\t Val. Loss: 0.351 |  Val. Acc: 85.21%\n",
            "Epoch: 04 | Epoch Time: 1m 56s\n",
            "\tTrain Loss: 0.298 | Train Acc: 87.74%\n",
            "\t Val. Loss: 0.312 |  Val. Acc: 88.06%\n",
            "Epoch: 05 | Epoch Time: 1m 56s\n",
            "\tTrain Loss: 0.257 | Train Acc: 89.71%\n",
            "\t Val. Loss: 0.296 |  Val. Acc: 87.96%\n",
            "Test Loss: 0.297 | Test Acc: 87.74%\n"
          ],
          "name": "stdout"
        }
      ]
    },
    {
      "cell_type": "code",
      "metadata": {
        "id": "bnS6r7EIH2x6",
        "colab_type": "code",
        "colab": {}
      },
      "source": [
        "nlp = spacy.load('en')\n",
        "\n",
        "def inference(model, sentence):\n",
        "    model.eval()\n",
        "    if isinstance(sentence, str):\n",
        "        tokenized = [tok.text for tok in nlp.tokenizer(sentence)]\n",
        "    else:\n",
        "        tokenized = sentence\n",
        "    indexed = [TEXT.vocab.stoi[t] for t in tokenized]\n",
        "    length = [len(indexed)]\n",
        "    tensor = torch.LongTensor(indexed).to(device)\n",
        "    tensor = tensor.unsqueeze(1)\n",
        "    length_tensor = torch.LongTensor(length)\n",
        "    with torch.no_grad():\n",
        "        logits, attention = model(tensor, length_tensor)\n",
        "    prediction = torch.sigmoid(logits)\n",
        "    return tokenized, prediction.item(), attention.squeeze()"
      ],
      "execution_count": 0,
      "outputs": []
    },
    {
      "cell_type": "code",
      "metadata": {
        "id": "M7AEbZjzuI3Z",
        "colab_type": "code",
        "colab": {
          "base_uri": "https://localhost:8080/",
          "height": 71
        },
        "outputId": "1d828ecf-931a-4b72-9cbc-d28084ee2322"
      },
      "source": [
        "import matplotlib.pyplot as plt\n",
        "import numpy as np\n",
        "import seaborn as sns"
      ],
      "execution_count": 37,
      "outputs": [
        {
          "output_type": "stream",
          "text": [
            "/usr/local/lib/python3.6/dist-packages/statsmodels/tools/_testing.py:19: FutureWarning: pandas.util.testing is deprecated. Use the functions in the public API at pandas.testing instead.\n",
            "  import pandas.util.testing as tm\n"
          ],
          "name": "stderr"
        }
      ]
    },
    {
      "cell_type": "code",
      "metadata": {
        "id": "Km_8PuFLuaAa",
        "colab_type": "code",
        "colab": {}
      },
      "source": [
        "def display_attention(labels, attention):\n",
        "    attention = attention.cpu().detach().numpy()\n",
        "    attention = np.around(attention, 4)\n",
        "    fig, ax = plt.subplots()\n",
        "    im = ax.imshow([attention])\n",
        "    ax.set_xticks(np.arange(len(labels)))\n",
        "    ax.set_xticklabels(labels)\n",
        "    ax.set_yticklabels(\"\")\n",
        "    for i in range(len(labels)):\n",
        "        text = ax.text(i, 0, attention[i], ha=\"center\", va=\"center\", color=\"w\")\n",
        "    plt.show()\n",
        "    plt.close()"
      ],
      "execution_count": 0,
      "outputs": []
    },
    {
      "cell_type": "code",
      "metadata": {
        "id": "UNUUMLyaIZGS",
        "colab_type": "code",
        "colab": {
          "base_uri": "https://localhost:8080/",
          "height": 138
        },
        "outputId": "bd87aa02-d16a-4844-9b4a-adc1760e0694"
      },
      "source": [
        "review = \"The film worth an oscar award\"\n",
        "tokens, predicted, attention = inference(model, review)\n",
        "print(f\"Review: {review}\")\n",
        "print(f\"predicted sentiment: {predicted:.3f}\")\n",
        "display_attention(tokens, attention)"
      ],
      "execution_count": 65,
      "outputs": [
        {
          "output_type": "stream",
          "text": [
            "Review: The film worth an oscar award\n",
            "predicted sentiment: 0.999\n"
          ],
          "name": "stdout"
        },
        {
          "output_type": "display_data",
          "data": {
            "image/png": "[encoded data removed]",
            "text/plain": [
              "<Figure size 432x288 with 1 Axes>"
            ]
          },
          "metadata": {
            "tags": [],
            "needs_background": "light"
          }
        }
      ]
    },
    {
      "cell_type": "code",
      "metadata": {
        "id": "Rn8-jRk6fZuV",
        "colab_type": "code",
        "colab": {
          "base_uri": "https://localhost:8080/",
          "height": 149
        },
        "outputId": "54a01031-c29c-488a-e06e-15bc246f01f7"
      },
      "source": [
        "review = \"The movie was absolutely unwatchable\"\n",
        "tokens, predicted, attention = inference(model, review)\n",
        "print(f\"Review: {review}\")\n",
        "print(f\"predicted sentiment: {predicted:.3f}\")\n",
        "display_attention(tokens, attention)"
      ],
      "execution_count": 66,
      "outputs": [
        {
          "output_type": "stream",
          "text": [
            "Review: The movie was absolutely unwatchable\n",
            "predicted sentiment: 0.001\n"
          ],
          "name": "stdout"
        },
        {
          "output_type": "display_data",
          "data": {
            "image/png": "[encoded data removed]",
            "text/plain": [
              "<Figure size 432x288 with 1 Axes>"
            ]
          },
          "metadata": {
            "tags": [],
            "needs_background": "light"
          }
        }
      ]
    },
    {
      "cell_type": "code",
      "metadata": {
        "id": "9fYT0O5ex5B-",
        "colab_type": "code",
        "colab": {}
      },
      "source": [
        "def display_attention_seaborn(labels, attention):\n",
        "    attention = attention.cpu().detach().numpy()\n",
        "    attention = np.around(attention, 4)\n",
        "    fig, ax = plt.subplots(figsize=(10, 2))\n",
        "    ax = sns.heatmap([attention], vmin=0, vmax=1, annot=True, xticklabels=labels, yticklabels=False)\n",
        "    plt.show()\n",
        "    plt.close()"
      ],
      "execution_count": 0,
      "outputs": []
    },
    {
      "cell_type": "code",
      "metadata": {
        "id": "q7Q2O9j6ygmk",
        "colab_type": "code",
        "colab": {
          "base_uri": "https://localhost:8080/",
          "height": 178
        },
        "outputId": "61601441-3bc8-4084-afb8-8d201970f51f"
      },
      "source": [
        "tokens, predicted, attention = inference(model, \"The film worth an oscar award\")\n",
        "print(predicted)\n",
        "display_attention_seaborn(tokens, attention)"
      ],
      "execution_count": 58,
      "outputs": [
        {
          "output_type": "stream",
          "text": [
            "0.9993519186973572\n"
          ],
          "name": "stdout"
        },
        {
          "output_type": "display_data",
          "data": {
            "image/png": "[encoded data removed]",
            "text/plain": [
              "<Figure size 720x144 with 2 Axes>"
            ]
          },
          "metadata": {
            "tags": [],
            "needs_background": "light"
          }
        }
      ]
    },
    {
      "cell_type": "code",
      "metadata": {
        "id": "6uC0JiAVyPjr",
        "colab_type": "code",
        "colab": {
          "base_uri": "https://localhost:8080/",
          "height": 178
        },
        "outputId": "bc832b3e-c6dc-46c9-939b-1c1615c195b9"
      },
      "source": [
        "tokens, predicted, attention = inference(model, \"The movie was absolutely unwatchable\")\n",
        "print(predicted)\n",
        "display_attention_seaborn(tokens, attention)"
      ],
      "execution_count": 59,
      "outputs": [
        {
          "output_type": "stream",
          "text": [
            "0.000571692711673677\n"
          ],
          "name": "stdout"
        },
        {
          "output_type": "display_data",
          "data": {
            "image/png": "[encoded data removed]",
            "text/plain": [
              "<Figure size 720x144 with 2 Axes>"
            ]
          },
          "metadata": {
            "tags": [],
            "needs_background": "light"
          }
        }
      ]
    },
    {
      "cell_type": "code",
      "metadata": {
        "id": "B1OeuvA60Z2o",
        "colab_type": "code",
        "colab": {}
      },
      "source": [
        ""
      ],
      "execution_count": 0,
      "outputs": []
    }
  ]
}