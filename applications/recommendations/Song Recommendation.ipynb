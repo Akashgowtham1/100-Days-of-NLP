{
  "nbformat": 4,
  "nbformat_minor": 0,
  "metadata": {
    "colab": {
      "name": "Song Recommendation.ipynb",
      "provenance": [],
      "authorship_tag": "ABX9TyPPvlTW60RaoqaaJF6pUuM8",
      "include_colab_link": true
    },
    "kernelspec": {
      "name": "python3",
      "display_name": "Python 3"
    }
  },
  "cells": [
    {
      "cell_type": "markdown",
      "metadata": {
        "id": "view-in-github",
        "colab_type": "text"
      },
      "source": [
        "<a href=\"https://colab.research.google.com/github/graviraja/100-Days-of-NLP/blob/recommendation/applications/recommendations/Song%20Recommendation.ipynb\" target=\"_parent\"><img src=\"https://colab.research.google.com/assets/colab-badge.svg\" alt=\"Open In Colab\"/></a>"
      ]
    },
    {
      "cell_type": "markdown",
      "metadata": {
        "id": "oqBQAptl8IHC",
        "colab_type": "text"
      },
      "source": [
        "# Song Recommendation Using Word2Vec\n",
        "\n",
        "## Recommendation systems fall under two broad categories:\n",
        "\n",
        "- **`Content-based systems`** are recommendation systems that are based on the features of the item we’re trying to recommend. When talking about music, this includes for example the genre of the song or how many beats per minute it has.\n",
        "\n",
        "- **`Collaborative Filtering-based`** systems are systems that rely on historical usage data to recommend items that other similar users have previously interacted with. These systems are oblivious to the features of the content itself, and base their recommendations on the principle that people who have many songs or artists in common, will generally like the same styles of music.\n",
        "\n",
        "With enough data, collaborative filtering systems turn out to be effective at recommending relevant items. The basic idea behind collaborative filtering is that if user 1 likes artists A & B, and user 2 likes artists A, B & C, then it is likely that user 1 will also be interested in artist C.\n",
        "\n",
        "I highly recommend to go throught the following medium post:\n",
        "\n",
        "- [Word2Vec for music recommendation](https://towardsdatascience.com/using-word2vec-for-music-recommendations-bb9649ac2484)"
      ]
    },
    {
      "cell_type": "markdown",
      "metadata": {
        "id": "ecxWB9f6EPWU",
        "colab_type": "text"
      },
      "source": [
        "## Word2Vec \n",
        "\n",
        "Don't know what is Word2Vec ? Checkout my [repo](https://github.com/graviraja/100-Days-of-NLP/tree/master/embeddings)\n",
        "\n",
        "The Word2vec Skip-gram model is a shallow neural network with a single hidden layer that takes in a word as input and tries to predict the context of words around it as output.\n",
        "\n",
        "But how does that relate to music recommendations? Well, we can think of a user’s listening queue as a sentence, with each word in that sentence being a song that the user has listened to. So then, training the Word2vec model on those sentences essentially means that for each song the user has listened to in the past, we’re using the songs they have listened to before and after to teach our model that those songs somehow belong to the same context. Here’s an idea of what the neural network would look like with songs instead of words:\n",
        "\n",
        "![song_word2vec](https://drive.google.com/uc?id=1pA62ssUL_883vMYEj83PDox-b5T8mU1H)\n",
        "\n",
        "This is the same approach as the analysis of text discussed above, except instead of textual words we now have a unique identifier for each song.\n",
        "What we get at the end of the training phase is a model where each song is represented by a vector of weights in a high dimensional space. What’s interesting about those vectors is that similar songs will have weights that are closer together than songs that are unrelated.\n",
        "\n",
        "### Resources\n",
        "\n",
        "\n",
        "- [Word2vec for music recommnedations](https://towardsdatascience.com/using-word2vec-for-music-recommendations-bb9649ac2484)\n",
        "\n",
        "- [Intuition & Uses-cases of Embeddings in NLP](https://www.youtube.com/watch?v=4-QoMdSqG_I)"
      ]
    },
    {
      "cell_type": "markdown",
      "metadata": {
        "id": "FHdH9hvcGWBy",
        "colab_type": "text"
      },
      "source": [
        "# Let's Code !!!"
      ]
    },
    {
      "cell_type": "markdown",
      "metadata": {
        "id": "60WnGRwHGbCU",
        "colab_type": "text"
      },
      "source": [
        "## Initial Setup"
      ]
    },
    {
      "cell_type": "code",
      "metadata": {
        "id": "TDBsx830VxCm",
        "colab_type": "code",
        "colab": {}
      },
      "source": [
        "import gensim\n",
        "import warnings\n",
        "\n",
        "import numpy as np\n",
        "import pandas as pd\n",
        "\n",
        "from gensim.models import Word2Vec\n",
        "from urllib import request\n",
        "\n",
        "warnings.filterwarnings('ignore')"
      ],
      "execution_count": 0,
      "outputs": []
    },
    {
      "cell_type": "markdown",
      "metadata": {
        "id": "zKDJTDkjGeTY",
        "colab_type": "text"
      },
      "source": [
        "## Dataset\n",
        "\n",
        "The dataset used was collected by Shuo Chen from Cornell University which can be found [here](https://www.cs.cornell.edu/~shuochen/lme/data_page.html)"
      ]
    },
    {
      "cell_type": "code",
      "metadata": {
        "id": "VuKBcuALBxly",
        "colab_type": "code",
        "colab": {
          "base_uri": "https://localhost:8080/",
          "height": 204
        },
        "outputId": "d28bd806-344c-4069-ff9b-f096f8806cc9"
      },
      "source": [
        "!wget https://www.cs.cornell.edu/~shuochen/lme/dataset.tar.gz"
      ],
      "execution_count": 4,
      "outputs": [
        {
          "output_type": "stream",
          "text": [
            "--2020-05-21 16:02:54--  https://www.cs.cornell.edu/~shuochen/lme/dataset.tar.gz\n",
            "Resolving www.cs.cornell.edu (www.cs.cornell.edu)... 132.236.207.20\n",
            "Connecting to www.cs.cornell.edu (www.cs.cornell.edu)|132.236.207.20|:443... connected.\n",
            "HTTP request sent, awaiting response... 200 OK\n",
            "Length: 15344424 (15M) [application/x-gzip]\n",
            "Saving to: ‘dataset.tar.gz’\n",
            "\n",
            "dataset.tar.gz      100%[===================>]  14.63M  8.51MB/s    in 1.7s    \n",
            "\n",
            "2020-05-21 16:02:56 (8.51 MB/s) - ‘dataset.tar.gz’ saved [15344424/15344424]\n",
            "\n"
          ],
          "name": "stdout"
        }
      ]
    },
    {
      "cell_type": "code",
      "metadata": {
        "id": "NBjWPYwrB1aE",
        "colab_type": "code",
        "colab": {
          "base_uri": "https://localhost:8080/",
          "height": 391
        },
        "outputId": "859dbb56-285e-4268-b992-3de034fc68ad"
      },
      "source": [
        "!tar -xvf dataset.tar.gz"
      ],
      "execution_count": 5,
      "outputs": [
        {
          "output_type": "stream",
          "text": [
            "dataset/\n",
            "dataset/._.DS_Store\n",
            "dataset/.DS_Store\n",
            "dataset/README\n",
            "dataset/yes_big/\n",
            "dataset/yes_complete/\n",
            "dataset/yes_small/\n",
            "dataset/yes_small/song_hash.txt\n",
            "dataset/yes_small/tag_hash.txt\n",
            "dataset/yes_small/tags.txt\n",
            "dataset/yes_small/test.txt\n",
            "dataset/yes_small/train.txt\n",
            "dataset/yes_complete/song_hash.txt\n",
            "dataset/yes_complete/tag_hash.txt\n",
            "dataset/yes_complete/tags.txt\n",
            "dataset/yes_complete/test.txt\n",
            "dataset/yes_complete/train.txt\n",
            "dataset/yes_big/song_hash.txt\n",
            "dataset/yes_big/tag_hash.txt\n",
            "dataset/yes_big/tags.txt\n",
            "dataset/yes_big/test.txt\n",
            "dataset/yes_big/train.txt\n"
          ],
          "name": "stdout"
        }
      ]
    },
    {
      "cell_type": "code",
      "metadata": {
        "id": "pEdpGaB-B6YK",
        "colab_type": "code",
        "colab": {
          "base_uri": "https://localhost:8080/",
          "height": 34
        },
        "outputId": "e84145df-6085-4493-a973-67aba3d2df68"
      },
      "source": [
        "!ls dataset"
      ],
      "execution_count": 6,
      "outputs": [
        {
          "output_type": "stream",
          "text": [
            "README\tyes_big  yes_complete  yes_small\n"
          ],
          "name": "stdout"
        }
      ]
    },
    {
      "cell_type": "markdown",
      "metadata": {
        "id": "4xN3MxSMHCIt",
        "colab_type": "text"
      },
      "source": [
        "## Inspecting dataset"
      ]
    },
    {
      "cell_type": "markdown",
      "metadata": {
        "id": "MT39Z237CI91",
        "colab_type": "text"
      },
      "source": [
        "\n",
        "> The collection lasted from December 2010 to May 2011. This lead to a dataset of 75,262 songs and 2,840,553 transitions. To get datasets of various sizes, we pruned the raw data so that only the songs with a number of appearances above a certain threshold are kept. We then divide the pruned set into a training set and a testing set, making sure that each song has appeared at least once in the training set. We name them as yes_small, yes_big and yes_complete, whose basic statistics are shown below.\n",
        "\n",
        "\n",
        " Property             | yes_small        | yes_big           | yes_complete  |\n",
        "--------------------- | -------------    |:-------------:    | -----:        |\n",
        " Appearance Threshold |   20             | 5                 | 0             |\n",
        " Number of Songs      | 3,168            | 9,775             | 75,262        |\n",
        " Number of Train Transitions      | 134,431            | 172,510            | 1,542,372        |\n",
        "Number of Test Transitions      | 1,191,279            | 1,602,079           | 1,298,181        |\n",
        "\n",
        "We will use `yes_complete` for the recommendation\n"
      ]
    },
    {
      "cell_type": "code",
      "metadata": {
        "id": "CuvAjHufW255",
        "colab_type": "code",
        "colab": {}
      },
      "source": [
        "# Get the playlist dataset file\n",
        "data_file = 'dataset/yes_complete/train.txt'\n",
        "songs_file = 'dataset/yes_complete/song_hash.txt'"
      ],
      "execution_count": 0,
      "outputs": []
    },
    {
      "cell_type": "code",
      "metadata": {
        "id": "kRhAWnwntzO_",
        "colab_type": "code",
        "colab": {}
      },
      "source": [
        "with open(data_file, 'r', encoding='utf-8') as f:\n",
        "    data = f.read().split('\\n')\n",
        " \n",
        "with open(songs_file, 'r', encoding='utf-8') as f:\n",
        "    songs = f.read().split('\\n')\n"
      ],
      "execution_count": 0,
      "outputs": []
    },
    {
      "cell_type": "code",
      "metadata": {
        "id": "qPDecssEuHgU",
        "colab_type": "code",
        "colab": {
          "base_uri": "https://localhost:8080/",
          "height": 34
        },
        "outputId": "aa31ed1b-ade8-429f-f381-9d30f00d93fe"
      },
      "source": [
        "# The first line of the data file is the IDs (not the integer ID, \n",
        "# but IDs from other sources for identifying the songs) for the songs, separated by a space.\n",
        "data[0][:99]"
      ],
      "execution_count": 37,
      "outputs": [
        {
          "output_type": "execute_result",
          "data": {
            "text/plain": [
              "'17430147 17277121 17767569 17352501 17567841 17650342 17572001 17646522 17451245 17451162 17706101 '"
            ]
          },
          "metadata": {
            "tags": []
          },
          "execution_count": 37
        }
      ]
    },
    {
      "cell_type": "code",
      "metadata": {
        "id": "JKlg0V-ZuKr0",
        "colab_type": "code",
        "colab": {
          "base_uri": "https://localhost:8080/",
          "height": 34
        },
        "outputId": "25c7e9cb-9721-48bd-ea9f-e30a8cfb9704"
      },
      "source": [
        "len(data[0].split())"
      ],
      "execution_count": 11,
      "outputs": [
        {
          "output_type": "execute_result",
          "data": {
            "text/plain": [
              "75262"
            ]
          },
          "metadata": {
            "tags": []
          },
          "execution_count": 11
        }
      ]
    },
    {
      "cell_type": "code",
      "metadata": {
        "id": "7YmKUkWvuP5R",
        "colab_type": "code",
        "colab": {
          "base_uri": "https://localhost:8080/",
          "height": 34
        },
        "outputId": "629b10e4-b40d-4c85-e275-4524292055bf"
      },
      "source": [
        "# The second line are the number of appearances of each song in the file, also separated by a space.\n",
        "data[1][:99]"
      ],
      "execution_count": 39,
      "outputs": [
        {
          "output_type": "execute_result",
          "data": {
            "text/plain": [
              "'138 2833 297 502 700 5041 3235 72 1004 2 1 116 448 2300 2684 2 5 612 171 864 295 33 106 87 239 1974'"
            ]
          },
          "metadata": {
            "tags": []
          },
          "execution_count": 39
        }
      ]
    },
    {
      "cell_type": "code",
      "metadata": {
        "id": "7f30YuSrH_us",
        "colab_type": "code",
        "colab": {
          "base_uri": "https://localhost:8080/",
          "height": 34
        },
        "outputId": "27f08577-5c04-4fda-f590-30b4e99f4779"
      },
      "source": [
        "len(data[1].split())"
      ],
      "execution_count": 13,
      "outputs": [
        {
          "output_type": "execute_result",
          "data": {
            "text/plain": [
              "75262"
            ]
          },
          "metadata": {
            "tags": []
          },
          "execution_count": 13
        }
      ]
    },
    {
      "cell_type": "code",
      "metadata": {
        "id": "mEvEaUENug5F",
        "colab_type": "code",
        "colab": {
          "base_uri": "https://localhost:8080/",
          "height": 54
        },
        "outputId": "b53ed10e-03af-4db5-dcd7-a697a14128fe"
      },
      "source": [
        "# Starting from the third line are the playlists\n",
        "# with each song represented by its integer ID in this file (from 0 to the total number of songs minus one).\n",
        "# Note that in the playlist data file, each line is ended with a space.\n",
        "data[2]"
      ],
      "execution_count": 15,
      "outputs": [
        {
          "output_type": "execute_result",
          "data": {
            "text/plain": [
              "'0 1 2 3 4 5 6 7 8 9 10 11 12 13 14 15 16 17 18 19 20 21 22 23 24 25 26 27 28 29 30 31 32 33 34 35 36 37 38 39 40 41 2 42 43 44 45 46 47 48 20 49 8 50 51 52 53 54 55 56 57 25 58 59 60 61 62 3 63 64 65 66 46 47 67 2 48 68 69 70 57 50 71 72 53 73 25 74 59 20 46 75 76 77 59 20 43 '"
            ]
          },
          "metadata": {
            "tags": []
          },
          "execution_count": 15
        }
      ]
    },
    {
      "cell_type": "code",
      "metadata": {
        "id": "rRtP_RHnLUCZ",
        "colab_type": "code",
        "colab": {
          "base_uri": "https://localhost:8080/",
          "height": 34
        },
        "outputId": "6ba8defc-ecfb-4d74-e3b2-20646900aef3"
      },
      "source": [
        "# num of playlists\n",
        "len(data[2:])"
      ],
      "execution_count": 25,
      "outputs": [
        {
          "output_type": "execute_result",
          "data": {
            "text/plain": [
              "11138"
            ]
          },
          "metadata": {
            "tags": []
          },
          "execution_count": 25
        }
      ]
    },
    {
      "cell_type": "code",
      "metadata": {
        "id": "KIyd62m8JQvv",
        "colab_type": "code",
        "colab": {
          "base_uri": "https://localhost:8080/",
          "height": 68
        },
        "outputId": "1ada0b18-2dba-41a1-8f6b-09ad6db81c4a"
      },
      "source": [
        "#Each line corresponds to one song, and has the format\n",
        "# Integer_ID \\t Title \\t Artist \\n\n",
        "# (The spaces here are only for making it easy to read. They do not exist in the real data file.)\n",
        "songs = [s.rstrip().split('\\t') for s in songs]\n",
        "songs[:3]"
      ],
      "execution_count": 17,
      "outputs": [
        {
          "output_type": "execute_result",
          "data": {
            "text/plain": [
              "[['0 ', 'Gucci Time (w\\\\/ Swizz Beatz)', 'Gucci Mane'],\n",
              " ['1 ', 'Aston Martin Music (w\\\\/ Drake & Chrisette Michelle)', 'Rick Ross'],\n",
              " ['2 ', 'Get Back Up (w\\\\/ Chris Brown)', 'T.I.']]"
            ]
          },
          "metadata": {
            "tags": []
          },
          "execution_count": 17
        }
      ]
    },
    {
      "cell_type": "code",
      "metadata": {
        "id": "KYhwfJ9qKcp_",
        "colab_type": "code",
        "colab": {
          "base_uri": "https://localhost:8080/",
          "height": 34
        },
        "outputId": "788818c7-1733-4dce-ed9d-57f40e44d0cc"
      },
      "source": [
        "len(songs)"
      ],
      "execution_count": 20,
      "outputs": [
        {
          "output_type": "execute_result",
          "data": {
            "text/plain": [
              "75263"
            ]
          },
          "metadata": {
            "tags": []
          },
          "execution_count": 20
        }
      ]
    },
    {
      "cell_type": "code",
      "metadata": {
        "id": "90YfwrIRJqXb",
        "colab_type": "code",
        "colab": {
          "base_uri": "https://localhost:8080/",
          "height": 235
        },
        "outputId": "39e3c9b0-dc1c-4094-efa7-13da73d72fd6"
      },
      "source": [
        "# Let's convert the songs to dataframe\n",
        "songs_df = pd.DataFrame(data=songs, columns = ['id', 'title', 'artist'])\n",
        "songs_df = songs_df.set_index('id')\n",
        "songs_df.head()"
      ],
      "execution_count": 18,
      "outputs": [
        {
          "output_type": "execute_result",
          "data": {
            "text/html": [
              "<div>\n",
              "<style scoped>\n",
              "    .dataframe tbody tr th:only-of-type {\n",
              "        vertical-align: middle;\n",
              "    }\n",
              "\n",
              "    .dataframe tbody tr th {\n",
              "        vertical-align: top;\n",
              "    }\n",
              "\n",
              "    .dataframe thead th {\n",
              "        text-align: right;\n",
              "    }\n",
              "</style>\n",
              "<table border=\"1\" class=\"dataframe\">\n",
              "  <thead>\n",
              "    <tr style=\"text-align: right;\">\n",
              "      <th></th>\n",
              "      <th>title</th>\n",
              "      <th>artist</th>\n",
              "    </tr>\n",
              "    <tr>\n",
              "      <th>id</th>\n",
              "      <th></th>\n",
              "      <th></th>\n",
              "    </tr>\n",
              "  </thead>\n",
              "  <tbody>\n",
              "    <tr>\n",
              "      <th>0</th>\n",
              "      <td>Gucci Time (w\\/ Swizz Beatz)</td>\n",
              "      <td>Gucci Mane</td>\n",
              "    </tr>\n",
              "    <tr>\n",
              "      <th>1</th>\n",
              "      <td>Aston Martin Music (w\\/ Drake &amp; Chrisette Mich...</td>\n",
              "      <td>Rick Ross</td>\n",
              "    </tr>\n",
              "    <tr>\n",
              "      <th>2</th>\n",
              "      <td>Get Back Up (w\\/ Chris Brown)</td>\n",
              "      <td>T.I.</td>\n",
              "    </tr>\n",
              "    <tr>\n",
              "      <th>3</th>\n",
              "      <td>Hot Toddy (w\\/ Jay-Z &amp; Ester Dean)</td>\n",
              "      <td>Usher</td>\n",
              "    </tr>\n",
              "    <tr>\n",
              "      <th>4</th>\n",
              "      <td>Whip My Hair</td>\n",
              "      <td>Willow</td>\n",
              "    </tr>\n",
              "  </tbody>\n",
              "</table>\n",
              "</div>"
            ],
            "text/plain": [
              "                                                title      artist\n",
              "id                                                               \n",
              "0                        Gucci Time (w\\/ Swizz Beatz)  Gucci Mane\n",
              "1   Aston Martin Music (w\\/ Drake & Chrisette Mich...   Rick Ross\n",
              "2                       Get Back Up (w\\/ Chris Brown)        T.I.\n",
              "3                  Hot Toddy (w\\/ Jay-Z & Ester Dean)       Usher\n",
              "4                                        Whip My Hair      Willow"
            ]
          },
          "metadata": {
            "tags": []
          },
          "execution_count": 18
        }
      ]
    },
    {
      "cell_type": "code",
      "metadata": {
        "id": "8P02QIkyKAAv",
        "colab_type": "code",
        "colab": {
          "base_uri": "https://localhost:8080/",
          "height": 235
        },
        "outputId": "b7c9854c-2779-4aee-ce08-39ad0737395c"
      },
      "source": [
        "# let's look at the songs of a certain artist\n",
        "songs_df[songs_df.artist == \"Usher\"].head()"
      ],
      "execution_count": 19,
      "outputs": [
        {
          "output_type": "execute_result",
          "data": {
            "text/html": [
              "<div>\n",
              "<style scoped>\n",
              "    .dataframe tbody tr th:only-of-type {\n",
              "        vertical-align: middle;\n",
              "    }\n",
              "\n",
              "    .dataframe tbody tr th {\n",
              "        vertical-align: top;\n",
              "    }\n",
              "\n",
              "    .dataframe thead th {\n",
              "        text-align: right;\n",
              "    }\n",
              "</style>\n",
              "<table border=\"1\" class=\"dataframe\">\n",
              "  <thead>\n",
              "    <tr style=\"text-align: right;\">\n",
              "      <th></th>\n",
              "      <th>title</th>\n",
              "      <th>artist</th>\n",
              "    </tr>\n",
              "    <tr>\n",
              "      <th>id</th>\n",
              "      <th></th>\n",
              "      <th></th>\n",
              "    </tr>\n",
              "  </thead>\n",
              "  <tbody>\n",
              "    <tr>\n",
              "      <th>3</th>\n",
              "      <td>Hot Toddy (w\\/ Jay-Z &amp; Ester Dean)</td>\n",
              "      <td>Usher</td>\n",
              "    </tr>\n",
              "    <tr>\n",
              "      <th>14</th>\n",
              "      <td>DJ Got Us Fallin' In Love (w\\/ Pitbull)</td>\n",
              "      <td>Usher</td>\n",
              "    </tr>\n",
              "    <tr>\n",
              "      <th>32</th>\n",
              "      <td>You Make Me Wanna...</td>\n",
              "      <td>Usher</td>\n",
              "    </tr>\n",
              "    <tr>\n",
              "      <th>51</th>\n",
              "      <td>There Goes My Baby</td>\n",
              "      <td>Usher</td>\n",
              "    </tr>\n",
              "    <tr>\n",
              "      <th>88</th>\n",
              "      <td>OMG (w\\/ Will.I.Am)</td>\n",
              "      <td>Usher</td>\n",
              "    </tr>\n",
              "  </tbody>\n",
              "</table>\n",
              "</div>"
            ],
            "text/plain": [
              "                                       title artist\n",
              "id                                                 \n",
              "3         Hot Toddy (w\\/ Jay-Z & Ester Dean)  Usher\n",
              "14   DJ Got Us Fallin' In Love (w\\/ Pitbull)  Usher\n",
              "32                      You Make Me Wanna...  Usher\n",
              "51                        There Goes My Baby  Usher\n",
              "88                       OMG (w\\/ Will.I.Am)  Usher"
            ]
          },
          "metadata": {
            "tags": []
          },
          "execution_count": 19
        }
      ]
    },
    {
      "cell_type": "markdown",
      "metadata": {
        "id": "NjhJ33GnKxRf",
        "colab_type": "text"
      },
      "source": [
        "## Training"
      ]
    },
    {
      "cell_type": "markdown",
      "metadata": {
        "id": "BcblpbDrK8Vf",
        "colab_type": "text"
      },
      "source": [
        "Let's consider the playlists which atleast more than 1 song"
      ]
    },
    {
      "cell_type": "code",
      "metadata": {
        "id": "rLcL8eJTuk0d",
        "colab_type": "code",
        "colab": {}
      },
      "source": [
        "# first two lines are metadata\n",
        "playlists = [s.rstrip().split() for s in data[2:] if len(s.split()) > 1]"
      ],
      "execution_count": 0,
      "outputs": []
    },
    {
      "cell_type": "code",
      "metadata": {
        "id": "5L6UqctnvN3Q",
        "colab_type": "code",
        "colab": {
          "base_uri": "https://localhost:8080/",
          "height": 51
        },
        "outputId": "bdca611f-9b9d-49e6-ccfc-473f9c5fdd6d"
      },
      "source": [
        "print(f\"Initial Playlists: {len(data[2:])}\")\n",
        "print(f\"After: {len(playlists)}\")"
      ],
      "execution_count": 26,
      "outputs": [
        {
          "output_type": "stream",
          "text": [
            "Initial Playlists: 11138\n",
            "After: 11088\n"
          ],
          "name": "stdout"
        }
      ]
    },
    {
      "cell_type": "markdown",
      "metadata": {
        "id": "tzmgYQBXMPYT",
        "colab_type": "text"
      },
      "source": [
        "Word2Vec training has some hyper-parameters. I am using the following:\n",
        "\n",
        "- `size`: embedding size of each song\n",
        "- `window`: Maximum distance between the current and predicted song within a playlist.\n",
        "- `negative`: If > 0, negative sampling will be used, the int for negative specifies how many “noise songs” should be drawn. If set to 0, no negative sampling is used.\n",
        "- `min_count`: Ignores all songs with total frequency lower than this.\n",
        "- `workers`: Use these many worker threads to train the model (=faster training with multicore machines).\n",
        "\n",
        "For other parameters checkout [gensim](https://radimrehurek.com/gensim/models/word2vec.html)"
      ]
    },
    {
      "cell_type": "code",
      "metadata": {
        "id": "6EsC7zNDuyIE",
        "colab_type": "code",
        "colab": {}
      },
      "source": [
        "model = Word2Vec(playlists, size=32, window=20, negative=50, min_count=1, workers=4)"
      ],
      "execution_count": 0,
      "outputs": []
    },
    {
      "cell_type": "markdown",
      "metadata": {
        "id": "nPs23VpLNYU8",
        "colab_type": "text"
      },
      "source": [
        "## Recommending Similar Songs"
      ]
    },
    {
      "cell_type": "code",
      "metadata": {
        "id": "lN-5WJeoNiIl",
        "colab_type": "code",
        "colab": {
          "base_uri": "https://localhost:8080/",
          "height": 68
        },
        "outputId": "b7fb8572-1ae8-46e3-8cbe-633ebcc2ecb4"
      },
      "source": [
        "song_id = 2172\n",
        "\n",
        "songs_df.iloc[song_id]"
      ],
      "execution_count": 31,
      "outputs": [
        {
          "output_type": "execute_result",
          "data": {
            "text/plain": [
              "title     Fade To Black\n",
              "artist        Metallica\n",
              "Name: 2172 , dtype: object"
            ]
          },
          "metadata": {
            "tags": []
          },
          "execution_count": 31
        }
      ]
    },
    {
      "cell_type": "code",
      "metadata": {
        "id": "cU2ur7cuu0LD",
        "colab_type": "code",
        "colab": {
          "base_uri": "https://localhost:8080/",
          "height": 187
        },
        "outputId": "9742932e-3dc7-422d-ec11-3c2b251ab8b9"
      },
      "source": [
        "# Ask the model for songs similar to song\n",
        "model.wv.most_similar(positive=str(song_id))"
      ],
      "execution_count": 32,
      "outputs": [
        {
          "output_type": "execute_result",
          "data": {
            "text/plain": [
              "[('2849', 0.9995048642158508),\n",
              " ('2976', 0.9990255832672119),\n",
              " ('2987', 0.9985707998275757),\n",
              " ('2886', 0.9984464049339294),\n",
              " ('3094', 0.9984420537948608),\n",
              " ('3167', 0.9982445240020752),\n",
              " ('6624', 0.9982098340988159),\n",
              " ('2715', 0.9978221654891968),\n",
              " ('2640', 0.9975029826164246),\n",
              " ('5549', 0.9972248077392578)]"
            ]
          },
          "metadata": {
            "tags": []
          },
          "execution_count": 32
        }
      ]
    },
    {
      "cell_type": "code",
      "metadata": {
        "id": "Y0FzRZrbu_3E",
        "colab_type": "code",
        "colab": {}
      },
      "source": [
        "def get_recommendations(song_id):\n",
        "    print(songs_df.iloc[song_id])\n",
        "    similar_songs = np.array(model.wv.most_similar(positive=str(song_id)))[:,0]\n",
        "    return  songs_df.iloc[similar_songs] "
      ],
      "execution_count": 0,
      "outputs": []
    },
    {
      "cell_type": "code",
      "metadata": {
        "id": "kELFysj2OKVA",
        "colab_type": "code",
        "colab": {
          "base_uri": "https://localhost:8080/",
          "height": 441
        },
        "outputId": "b769f817-3da2-43fa-caee-01770462237f"
      },
      "source": [
        "get_recommendations(2172)"
      ],
      "execution_count": 34,
      "outputs": [
        {
          "output_type": "stream",
          "text": [
            "title     Fade To Black\n",
            "artist        Metallica\n",
            "Name: 2172 , dtype: object\n"
          ],
          "name": "stdout"
        },
        {
          "output_type": "execute_result",
          "data": {
            "text/html": [
              "<div>\n",
              "<style scoped>\n",
              "    .dataframe tbody tr th:only-of-type {\n",
              "        vertical-align: middle;\n",
              "    }\n",
              "\n",
              "    .dataframe tbody tr th {\n",
              "        vertical-align: top;\n",
              "    }\n",
              "\n",
              "    .dataframe thead th {\n",
              "        text-align: right;\n",
              "    }\n",
              "</style>\n",
              "<table border=\"1\" class=\"dataframe\">\n",
              "  <thead>\n",
              "    <tr style=\"text-align: right;\">\n",
              "      <th></th>\n",
              "      <th>title</th>\n",
              "      <th>artist</th>\n",
              "    </tr>\n",
              "    <tr>\n",
              "      <th>id</th>\n",
              "      <th></th>\n",
              "      <th></th>\n",
              "    </tr>\n",
              "  </thead>\n",
              "  <tbody>\n",
              "    <tr>\n",
              "      <th>2849</th>\n",
              "      <td>Run To The Hills</td>\n",
              "      <td>Iron Maiden</td>\n",
              "    </tr>\n",
              "    <tr>\n",
              "      <th>2976</th>\n",
              "      <td>I Don't Know</td>\n",
              "      <td>Ozzy Osbourne</td>\n",
              "    </tr>\n",
              "    <tr>\n",
              "      <th>2987</th>\n",
              "      <td>Ready For Love</td>\n",
              "      <td>Bad Company</td>\n",
              "    </tr>\n",
              "    <tr>\n",
              "      <th>2886</th>\n",
              "      <td>The Zoo</td>\n",
              "      <td>Scorpions</td>\n",
              "    </tr>\n",
              "    <tr>\n",
              "      <th>3094</th>\n",
              "      <td>Breaking The Law</td>\n",
              "      <td>Judas Priest</td>\n",
              "    </tr>\n",
              "    <tr>\n",
              "      <th>3167</th>\n",
              "      <td>Unchained</td>\n",
              "      <td>Van Halen</td>\n",
              "    </tr>\n",
              "    <tr>\n",
              "      <th>6624</th>\n",
              "      <td>Everybody Wants Some!!!</td>\n",
              "      <td>Van Halen</td>\n",
              "    </tr>\n",
              "    <tr>\n",
              "      <th>2715</th>\n",
              "      <td>Rainbow In The Dark</td>\n",
              "      <td>Dio</td>\n",
              "    </tr>\n",
              "    <tr>\n",
              "      <th>2640</th>\n",
              "      <td>Red Barchetta</td>\n",
              "      <td>Rush</td>\n",
              "    </tr>\n",
              "    <tr>\n",
              "      <th>5549</th>\n",
              "      <td>November Rain</td>\n",
              "      <td>Guns N' Roses</td>\n",
              "    </tr>\n",
              "  </tbody>\n",
              "</table>\n",
              "</div>"
            ],
            "text/plain": [
              "                         title         artist\n",
              "id                                           \n",
              "2849          Run To The Hills    Iron Maiden\n",
              "2976              I Don't Know  Ozzy Osbourne\n",
              "2987            Ready For Love    Bad Company\n",
              "2886                   The Zoo      Scorpions\n",
              "3094          Breaking The Law   Judas Priest\n",
              "3167                 Unchained      Van Halen\n",
              "6624   Everybody Wants Some!!!      Van Halen\n",
              "2715       Rainbow In The Dark            Dio\n",
              "2640             Red Barchetta           Rush\n",
              "5549             November Rain  Guns N' Roses"
            ]
          },
          "metadata": {
            "tags": []
          },
          "execution_count": 34
        }
      ]
    },
    {
      "cell_type": "markdown",
      "metadata": {
        "id": "B2E6QzEwOkaH",
        "colab_type": "text"
      },
      "source": [
        "# Visualizations will be added soon !!"
      ]
    }
  ]
}