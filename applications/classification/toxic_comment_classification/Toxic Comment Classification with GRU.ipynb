{
  "nbformat": 4,
  "nbformat_minor": 0,
  "metadata": {
    "colab": {
      "name": "Toxic Comment Classification with GRU.ipynb",
      "provenance": [],
      "authorship_tag": "ABX9TyPfBk9qrF32WxpzyYO79v07",
      "include_colab_link": true
    },
    "kernelspec": {
      "name": "python3",
      "display_name": "Python 3"
    },
    "accelerator": "GPU"
  },
  "cells": [
    {
      "cell_type": "markdown",
      "metadata": {
        "id": "view-in-github",
        "colab_type": "text"
      },
      "source": [
        "<a href=\"https://colab.research.google.com/github/graviraja/100-Days-of-NLP/blob/applications%2Fclassification/applications/classification/toxic_comment_classification/Toxic%20Comment%20Classification%20with%20GRU.ipynb\" target=\"_parent\"><img src=\"https://colab.research.google.com/assets/colab-badge.svg\" alt=\"Open In Colab\"/></a>"
      ]
    },
    {
      "cell_type": "markdown",
      "metadata": {
        "id": "ZSLxz-UwMMao",
        "colab_type": "text"
      },
      "source": [
        "# Toxic Comment Classification\n",
        "\n",
        "You are provided with a large number of Wikipedia comments which have been labeled by human raters for toxic behavior. The types of toxicity are:\n",
        "\n",
        "- toxic\n",
        "- severe_toxic\n",
        "- obscene\n",
        "- threat\n",
        "- insult\n",
        "- identity_hate\n",
        "\n",
        "[Kaggle challenge link](https://www.kaggle.com/c/jigsaw-toxic-comment-classification-challenge/)"
      ]
    },
    {
      "cell_type": "markdown",
      "metadata": {
        "id": "jaVgTmu4gj9p",
        "colab_type": "text"
      },
      "source": [
        "### Download the dataset from kaggle"
      ]
    },
    {
      "cell_type": "code",
      "metadata": {
        "id": "ZSsxdRisfxJl",
        "colab_type": "code",
        "colab": {
          "base_uri": "https://localhost:8080/",
          "height": 227
        },
        "outputId": "d930e23d-cdcf-4318-a176-2678ddab2ad4"
      },
      "source": [
        "!pip install kaggle"
      ],
      "execution_count": null,
      "outputs": [
        {
          "output_type": "stream",
          "text": [
            "Requirement already satisfied: kaggle in /usr/local/lib/python3.6/dist-packages (1.5.6)\n",
            "Requirement already satisfied: certifi in /usr/local/lib/python3.6/dist-packages (from kaggle) (2020.6.20)\n",
            "Requirement already satisfied: python-slugify in /usr/local/lib/python3.6/dist-packages (from kaggle) (4.0.0)\n",
            "Requirement already satisfied: requests in /usr/local/lib/python3.6/dist-packages (from kaggle) (2.23.0)\n",
            "Requirement already satisfied: tqdm in /usr/local/lib/python3.6/dist-packages (from kaggle) (4.41.1)\n",
            "Requirement already satisfied: urllib3<1.25,>=1.21.1 in /usr/local/lib/python3.6/dist-packages (from kaggle) (1.24.3)\n",
            "Requirement already satisfied: python-dateutil in /usr/local/lib/python3.6/dist-packages (from kaggle) (2.8.1)\n",
            "Requirement already satisfied: six>=1.10 in /usr/local/lib/python3.6/dist-packages (from kaggle) (1.12.0)\n",
            "Requirement already satisfied: text-unidecode>=1.3 in /usr/local/lib/python3.6/dist-packages (from python-slugify->kaggle) (1.3)\n",
            "Requirement already satisfied: chardet<4,>=3.0.2 in /usr/local/lib/python3.6/dist-packages (from requests->kaggle) (3.0.4)\n",
            "Requirement already satisfied: idna<3,>=2.5 in /usr/local/lib/python3.6/dist-packages (from requests->kaggle) (2.9)\n"
          ],
          "name": "stdout"
        }
      ]
    },
    {
      "cell_type": "code",
      "metadata": {
        "id": "hLT2tAnag4Sq",
        "colab_type": "code",
        "colab": {
          "resources": {
            "http://localhost:8080/nbextensions/google.colab/files.js": {
              "data": "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",
              "ok": true,
              "headers": [
                [
                  "content-type",
                  "application/javascript"
                ]
              ],
              "status": 200,
              "status_text": ""
            }
          },
          "base_uri": "https://localhost:8080/",
          "height": 89
        },
        "outputId": "1935b8c3-15f6-4cb2-c713-e507b21fc5f1"
      },
      "source": [
        "from google.colab import files\n",
        "files.upload()"
      ],
      "execution_count": null,
      "outputs": [
        {
          "output_type": "display_data",
          "data": {
            "text/html": [
              "\n",
              "     <input type=\"file\" id=\"files-08affc4c-371b-4623-ba1f-c52e6b3358d7\" name=\"files[]\" multiple disabled\n",
              "        style=\"border:none\" />\n",
              "     <output id=\"result-08affc4c-371b-4623-ba1f-c52e6b3358d7\">\n",
              "      Upload widget is only available when the cell has been executed in the\n",
              "      current browser session. Please rerun this cell to enable.\n",
              "      </output>\n",
              "      <script src=\"/nbextensions/google.colab/files.js\"></script> "
            ],
            "text/plain": [
              "<IPython.core.display.HTML object>"
            ]
          },
          "metadata": {
            "tags": []
          }
        },
        {
          "output_type": "stream",
          "text": [
            "Saving kaggle.json to kaggle.json\n"
          ],
          "name": "stdout"
        },
        {
          "output_type": "execute_result",
          "data": {
            "text/plain": [
              "{'kaggle.json': b'{\"username\":\"ravirajag\",\"key\":\"3ebe1017281784a1ca4b048c597b0c87\"}'}"
            ]
          },
          "metadata": {
            "tags": []
          },
          "execution_count": 10
        }
      ]
    },
    {
      "cell_type": "code",
      "metadata": {
        "id": "rMXSfiAvg7XT",
        "colab_type": "code",
        "colab": {}
      },
      "source": [
        "!mkdir ~/.kaggle"
      ],
      "execution_count": null,
      "outputs": []
    },
    {
      "cell_type": "code",
      "metadata": {
        "id": "3CBsZ7erhOpq",
        "colab_type": "code",
        "colab": {}
      },
      "source": [
        "!cp kaggle.json ~/.kaggle"
      ],
      "execution_count": null,
      "outputs": []
    },
    {
      "cell_type": "code",
      "metadata": {
        "id": "F9mV7ej_hR-b",
        "colab_type": "code",
        "colab": {}
      },
      "source": [
        "!chmod 600 ~/.kaggle/kaggle.json"
      ],
      "execution_count": null,
      "outputs": []
    },
    {
      "cell_type": "code",
      "metadata": {
        "id": "Kkz6gVTuhWWe",
        "colab_type": "code",
        "colab": {
          "base_uri": "https://localhost:8080/",
          "height": 242
        },
        "outputId": "1739fad7-6f38-4675-8631-5169089dc1df"
      },
      "source": [
        "!kaggle competitions download -c jigsaw-toxic-comment-classification-challenge"
      ],
      "execution_count": null,
      "outputs": [
        {
          "output_type": "stream",
          "text": [
            "Warning: Looks like you're using an outdated API Version, please consider updating (server 1.5.6 / client 1.5.4)\n",
            "Downloading sample_submission.csv.zip to /content\n",
            "\r  0% 0.00/1.39M [00:00<?, ?B/s]\n",
            "100% 1.39M/1.39M [00:00<00:00, 93.4MB/s]\n",
            "Downloading train.csv.zip to /content\n",
            " 34% 9.00M/26.3M [00:00<00:00, 25.1MB/s]\n",
            "100% 26.3M/26.3M [00:00<00:00, 59.4MB/s]\n",
            "Downloading test_labels.csv.zip to /content\n",
            "  0% 0.00/1.46M [00:00<?, ?B/s]\n",
            "100% 1.46M/1.46M [00:00<00:00, 98.7MB/s]\n",
            "Downloading test.csv.zip to /content\n",
            " 98% 23.0M/23.4M [00:00<00:00, 26.9MB/s]\n",
            "100% 23.4M/23.4M [00:00<00:00, 59.3MB/s]\n"
          ],
          "name": "stdout"
        }
      ]
    },
    {
      "cell_type": "code",
      "metadata": {
        "id": "SN0yHW0DhbWV",
        "colab_type": "code",
        "colab": {
          "base_uri": "https://localhost:8080/",
          "height": 86
        },
        "outputId": "d69d91da-f8fd-48b4-9c42-4034cecea9da"
      },
      "source": [
        "!ls"
      ],
      "execution_count": 89,
      "outputs": [
        {
          "output_type": "stream",
          "text": [
            "bpe.model\t\t   test.csv.zip\t\t    train.csv\n",
            "kaggle.json\t\t   test_labels.csv.zip\t    train.csv.zip\n",
            "sample_data\t\t   test_split.csv\t    train_split.csv\n",
            "sample_submission.csv.zip  train_comments_data.txt  val_split.csv\n"
          ],
          "name": "stdout"
        }
      ]
    },
    {
      "cell_type": "code",
      "metadata": {
        "id": "Iz08ZjCuhpHL",
        "colab_type": "code",
        "colab": {
          "base_uri": "https://localhost:8080/",
          "height": 52
        },
        "outputId": "960a2c36-cae1-48b1-cde0-b9a822888aae"
      },
      "source": [
        "!unzip train.csv.zip"
      ],
      "execution_count": null,
      "outputs": [
        {
          "output_type": "stream",
          "text": [
            "Archive:  train.csv.zip\n",
            "  inflating: train.csv               \n"
          ],
          "name": "stdout"
        }
      ]
    },
    {
      "cell_type": "markdown",
      "metadata": {
        "id": "UI_UPS4R03G9",
        "colab_type": "text"
      },
      "source": [
        "### Required Installations"
      ]
    },
    {
      "cell_type": "code",
      "metadata": {
        "id": "aa1pYVyS06em",
        "colab_type": "code",
        "colab": {
          "base_uri": "https://localhost:8080/",
          "height": 141
        },
        "outputId": "d0a96919-d837-4637-9b03-789cf453fef2"
      },
      "source": [
        "!pip install youtokentome"
      ],
      "execution_count": null,
      "outputs": [
        {
          "output_type": "stream",
          "text": [
            "Collecting youtokentome\n",
            "\u001b[?25l  Downloading https://files.pythonhosted.org/packages/a3/65/4a86cf99da3f680497ae132329025b291e2fda22327e8da6a9476e51acb1/youtokentome-1.0.6-cp36-cp36m-manylinux2010_x86_64.whl (1.7MB)\n",
            "\r\u001b[K     |▏                               | 10kB 20.4MB/s eta 0:00:01\r\u001b[K     |▍                               | 20kB 4.7MB/s eta 0:00:01\r\u001b[K     |▋                               | 30kB 6.1MB/s eta 0:00:01\r\u001b[K     |▊                               | 40kB 6.2MB/s eta 0:00:01\r\u001b[K     |█                               | 51kB 5.2MB/s eta 0:00:01\r\u001b[K     |█▏                              | 61kB 5.7MB/s eta 0:00:01\r\u001b[K     |█▍                              | 71kB 6.2MB/s eta 0:00:01\r\u001b[K     |█▌                              | 81kB 6.6MB/s eta 0:00:01\r\u001b[K     |█▊                              | 92kB 6.9MB/s eta 0:00:01\r\u001b[K     |██                              | 102kB 7.1MB/s eta 0:00:01\r\u001b[K     |██                              | 112kB 7.1MB/s eta 0:00:01\r\u001b[K     |██▎                             | 122kB 7.1MB/s eta 0:00:01\r\u001b[K     |██▌                             | 133kB 7.1MB/s eta 0:00:01\r\u001b[K     |██▊                             | 143kB 7.1MB/s eta 0:00:01\r\u001b[K     |██▉                             | 153kB 7.1MB/s eta 0:00:01\r\u001b[K     |███                             | 163kB 7.1MB/s eta 0:00:01\r\u001b[K     |███▎                            | 174kB 7.1MB/s eta 0:00:01\r\u001b[K     |███▌                            | 184kB 7.1MB/s eta 0:00:01\r\u001b[K     |███▋                            | 194kB 7.1MB/s eta 0:00:01\r\u001b[K     |███▉                            | 204kB 7.1MB/s eta 0:00:01\r\u001b[K     |████                            | 215kB 7.1MB/s eta 0:00:01\r\u001b[K     |████▏                           | 225kB 7.1MB/s eta 0:00:01\r\u001b[K     |████▍                           | 235kB 7.1MB/s eta 0:00:01\r\u001b[K     |████▋                           | 245kB 7.1MB/s eta 0:00:01\r\u001b[K     |████▉                           | 256kB 7.1MB/s eta 0:00:01\r\u001b[K     |█████                           | 266kB 7.1MB/s eta 0:00:01\r\u001b[K     |█████▏                          | 276kB 7.1MB/s eta 0:00:01\r\u001b[K     |█████▍                          | 286kB 7.1MB/s eta 0:00:01\r\u001b[K     |█████▋                          | 296kB 7.1MB/s eta 0:00:01\r\u001b[K     |█████▊                          | 307kB 7.1MB/s eta 0:00:01\r\u001b[K     |██████                          | 317kB 7.1MB/s eta 0:00:01\r\u001b[K     |██████▏                         | 327kB 7.1MB/s eta 0:00:01\r\u001b[K     |██████▎                         | 337kB 7.1MB/s eta 0:00:01\r\u001b[K     |██████▌                         | 348kB 7.1MB/s eta 0:00:01\r\u001b[K     |██████▊                         | 358kB 7.1MB/s eta 0:00:01\r\u001b[K     |███████                         | 368kB 7.1MB/s eta 0:00:01\r\u001b[K     |███████                         | 378kB 7.1MB/s eta 0:00:01\r\u001b[K     |███████▎                        | 389kB 7.1MB/s eta 0:00:01\r\u001b[K     |███████▌                        | 399kB 7.1MB/s eta 0:00:01\r\u001b[K     |███████▋                        | 409kB 7.1MB/s eta 0:00:01\r\u001b[K     |███████▉                        | 419kB 7.1MB/s eta 0:00:01\r\u001b[K     |████████                        | 430kB 7.1MB/s eta 0:00:01\r\u001b[K     |████████▎                       | 440kB 7.1MB/s eta 0:00:01\r\u001b[K     |████████▍                       | 450kB 7.1MB/s eta 0:00:01\r\u001b[K     |████████▋                       | 460kB 7.1MB/s eta 0:00:01\r\u001b[K     |████████▉                       | 471kB 7.1MB/s eta 0:00:01\r\u001b[K     |█████████                       | 481kB 7.1MB/s eta 0:00:01\r\u001b[K     |█████████▏                      | 491kB 7.1MB/s eta 0:00:01\r\u001b[K     |█████████▍                      | 501kB 7.1MB/s eta 0:00:01\r\u001b[K     |█████████▋                      | 512kB 7.1MB/s eta 0:00:01\r\u001b[K     |█████████▊                      | 522kB 7.1MB/s eta 0:00:01\r\u001b[K     |██████████                      | 532kB 7.1MB/s eta 0:00:01\r\u001b[K     |██████████▏                     | 542kB 7.1MB/s eta 0:00:01\r\u001b[K     |██████████▍                     | 552kB 7.1MB/s eta 0:00:01\r\u001b[K     |██████████▌                     | 563kB 7.1MB/s eta 0:00:01\r\u001b[K     |██████████▊                     | 573kB 7.1MB/s eta 0:00:01\r\u001b[K     |███████████                     | 583kB 7.1MB/s eta 0:00:01\r\u001b[K     |███████████▏                    | 593kB 7.1MB/s eta 0:00:01\r\u001b[K     |███████████▎                    | 604kB 7.1MB/s eta 0:00:01\r\u001b[K     |███████████▌                    | 614kB 7.1MB/s eta 0:00:01\r\u001b[K     |███████████▊                    | 624kB 7.1MB/s eta 0:00:01\r\u001b[K     |███████████▉                    | 634kB 7.1MB/s eta 0:00:01\r\u001b[K     |████████████                    | 645kB 7.1MB/s eta 0:00:01\r\u001b[K     |████████████▎                   | 655kB 7.1MB/s eta 0:00:01\r\u001b[K     |████████████▌                   | 665kB 7.1MB/s eta 0:00:01\r\u001b[K     |████████████▋                   | 675kB 7.1MB/s eta 0:00:01\r\u001b[K     |████████████▉                   | 686kB 7.1MB/s eta 0:00:01\r\u001b[K     |█████████████                   | 696kB 7.1MB/s eta 0:00:01\r\u001b[K     |█████████████▏                  | 706kB 7.1MB/s eta 0:00:01\r\u001b[K     |█████████████▍                  | 716kB 7.1MB/s eta 0:00:01\r\u001b[K     |█████████████▋                  | 727kB 7.1MB/s eta 0:00:01\r\u001b[K     |█████████████▉                  | 737kB 7.1MB/s eta 0:00:01\r\u001b[K     |██████████████                  | 747kB 7.1MB/s eta 0:00:01\r\u001b[K     |██████████████▏                 | 757kB 7.1MB/s eta 0:00:01\r\u001b[K     |██████████████▍                 | 768kB 7.1MB/s eta 0:00:01\r\u001b[K     |██████████████▋                 | 778kB 7.1MB/s eta 0:00:01\r\u001b[K     |██████████████▊                 | 788kB 7.1MB/s eta 0:00:01\r\u001b[K     |███████████████                 | 798kB 7.1MB/s eta 0:00:01\r\u001b[K     |███████████████▏                | 808kB 7.1MB/s eta 0:00:01\r\u001b[K     |███████████████▎                | 819kB 7.1MB/s eta 0:00:01\r\u001b[K     |███████████████▌                | 829kB 7.1MB/s eta 0:00:01\r\u001b[K     |███████████████▊                | 839kB 7.1MB/s eta 0:00:01\r\u001b[K     |████████████████                | 849kB 7.1MB/s eta 0:00:01\r\u001b[K     |████████████████                | 860kB 7.1MB/s eta 0:00:01\r\u001b[K     |████████████████▎               | 870kB 7.1MB/s eta 0:00:01\r\u001b[K     |████████████████▌               | 880kB 7.1MB/s eta 0:00:01\r\u001b[K     |████████████████▊               | 890kB 7.1MB/s eta 0:00:01\r\u001b[K     |████████████████▉               | 901kB 7.1MB/s eta 0:00:01\r\u001b[K     |█████████████████               | 911kB 7.1MB/s eta 0:00:01\r\u001b[K     |█████████████████▎              | 921kB 7.1MB/s eta 0:00:01\r\u001b[K     |█████████████████▍              | 931kB 7.1MB/s eta 0:00:01\r\u001b[K     |█████████████████▋              | 942kB 7.1MB/s eta 0:00:01\r\u001b[K     |█████████████████▉              | 952kB 7.1MB/s eta 0:00:01\r\u001b[K     |██████████████████              | 962kB 7.1MB/s eta 0:00:01\r\u001b[K     |██████████████████▏             | 972kB 7.1MB/s eta 0:00:01\r\u001b[K     |██████████████████▍             | 983kB 7.1MB/s eta 0:00:01\r\u001b[K     |██████████████████▋             | 993kB 7.1MB/s eta 0:00:01\r\u001b[K     |██████████████████▉             | 1.0MB 7.1MB/s eta 0:00:01\r\u001b[K     |███████████████████             | 1.0MB 7.1MB/s eta 0:00:01\r\u001b[K     |███████████████████▏            | 1.0MB 7.1MB/s eta 0:00:01\r\u001b[K     |███████████████████▍            | 1.0MB 7.1MB/s eta 0:00:01\r\u001b[K     |███████████████████▌            | 1.0MB 7.1MB/s eta 0:00:01\r\u001b[K     |███████████████████▊            | 1.1MB 7.1MB/s eta 0:00:01\r\u001b[K     |████████████████████            | 1.1MB 7.1MB/s eta 0:00:01\r\u001b[K     |████████████████████▏           | 1.1MB 7.1MB/s eta 0:00:01\r\u001b[K     |████████████████████▎           | 1.1MB 7.1MB/s eta 0:00:01\r\u001b[K     |████████████████████▌           | 1.1MB 7.1MB/s eta 0:00:01\r\u001b[K     |████████████████████▊           | 1.1MB 7.1MB/s eta 0:00:01\r\u001b[K     |████████████████████▉           | 1.1MB 7.1MB/s eta 0:00:01\r\u001b[K     |█████████████████████           | 1.1MB 7.1MB/s eta 0:00:01\r\u001b[K     |█████████████████████▎          | 1.1MB 7.1MB/s eta 0:00:01\r\u001b[K     |█████████████████████▌          | 1.1MB 7.1MB/s eta 0:00:01\r\u001b[K     |█████████████████████▋          | 1.2MB 7.1MB/s eta 0:00:01\r\u001b[K     |█████████████████████▉          | 1.2MB 7.1MB/s eta 0:00:01\r\u001b[K     |██████████████████████          | 1.2MB 7.1MB/s eta 0:00:01\r\u001b[K     |██████████████████████▎         | 1.2MB 7.1MB/s eta 0:00:01\r\u001b[K     |██████████████████████▍         | 1.2MB 7.1MB/s eta 0:00:01\r\u001b[K     |██████████████████████▋         | 1.2MB 7.1MB/s eta 0:00:01\r\u001b[K     |██████████████████████▉         | 1.2MB 7.1MB/s eta 0:00:01\r\u001b[K     |███████████████████████         | 1.2MB 7.1MB/s eta 0:00:01\r\u001b[K     |███████████████████████▏        | 1.2MB 7.1MB/s eta 0:00:01\r\u001b[K     |███████████████████████▍        | 1.2MB 7.1MB/s eta 0:00:01\r\u001b[K     |███████████████████████▋        | 1.3MB 7.1MB/s eta 0:00:01\r\u001b[K     |███████████████████████▊        | 1.3MB 7.1MB/s eta 0:00:01\r\u001b[K     |████████████████████████        | 1.3MB 7.1MB/s eta 0:00:01\r\u001b[K     |████████████████████████▏       | 1.3MB 7.1MB/s eta 0:00:01\r\u001b[K     |████████████████████████▍       | 1.3MB 7.1MB/s eta 0:00:01\r\u001b[K     |████████████████████████▌       | 1.3MB 7.1MB/s eta 0:00:01\r\u001b[K     |████████████████████████▊       | 1.3MB 7.1MB/s eta 0:00:01\r\u001b[K     |█████████████████████████       | 1.3MB 7.1MB/s eta 0:00:01\r\u001b[K     |█████████████████████████       | 1.3MB 7.1MB/s eta 0:00:01\r\u001b[K     |█████████████████████████▎      | 1.4MB 7.1MB/s eta 0:00:01\r\u001b[K     |█████████████████████████▌      | 1.4MB 7.1MB/s eta 0:00:01\r\u001b[K     |█████████████████████████▊      | 1.4MB 7.1MB/s eta 0:00:01\r\u001b[K     |█████████████████████████▉      | 1.4MB 7.1MB/s eta 0:00:01\r\u001b[K     |██████████████████████████      | 1.4MB 7.1MB/s eta 0:00:01\r\u001b[K     |██████████████████████████▎     | 1.4MB 7.1MB/s eta 0:00:01\r\u001b[K     |██████████████████████████▍     | 1.4MB 7.1MB/s eta 0:00:01\r\u001b[K     |██████████████████████████▋     | 1.4MB 7.1MB/s eta 0:00:01\r\u001b[K     |██████████████████████████▉     | 1.4MB 7.1MB/s eta 0:00:01\r\u001b[K     |███████████████████████████     | 1.4MB 7.1MB/s eta 0:00:01\r\u001b[K     |███████████████████████████▏    | 1.5MB 7.1MB/s eta 0:00:01\r\u001b[K     |███████████████████████████▍    | 1.5MB 7.1MB/s eta 0:00:01\r\u001b[K     |███████████████████████████▋    | 1.5MB 7.1MB/s eta 0:00:01\r\u001b[K     |███████████████████████████▉    | 1.5MB 7.1MB/s eta 0:00:01\r\u001b[K     |████████████████████████████    | 1.5MB 7.1MB/s eta 0:00:01\r\u001b[K     |████████████████████████████▏   | 1.5MB 7.1MB/s eta 0:00:01\r\u001b[K     |████████████████████████████▍   | 1.5MB 7.1MB/s eta 0:00:01\r\u001b[K     |████████████████████████████▌   | 1.5MB 7.1MB/s eta 0:00:01\r\u001b[K     |████████████████████████████▊   | 1.5MB 7.1MB/s eta 0:00:01\r\u001b[K     |█████████████████████████████   | 1.5MB 7.1MB/s eta 0:00:01\r\u001b[K     |█████████████████████████████▏  | 1.6MB 7.1MB/s eta 0:00:01\r\u001b[K     |█████████████████████████████▎  | 1.6MB 7.1MB/s eta 0:00:01\r\u001b[K     |█████████████████████████████▌  | 1.6MB 7.1MB/s eta 0:00:01\r\u001b[K     |█████████████████████████████▊  | 1.6MB 7.1MB/s eta 0:00:01\r\u001b[K     |██████████████████████████████  | 1.6MB 7.1MB/s eta 0:00:01\r\u001b[K     |██████████████████████████████  | 1.6MB 7.1MB/s eta 0:00:01\r\u001b[K     |██████████████████████████████▎ | 1.6MB 7.1MB/s eta 0:00:01\r\u001b[K     |██████████████████████████████▌ | 1.6MB 7.1MB/s eta 0:00:01\r\u001b[K     |██████████████████████████████▋ | 1.6MB 7.1MB/s eta 0:00:01\r\u001b[K     |██████████████████████████████▉ | 1.6MB 7.1MB/s eta 0:00:01\r\u001b[K     |███████████████████████████████ | 1.7MB 7.1MB/s eta 0:00:01\r\u001b[K     |███████████████████████████████▎| 1.7MB 7.1MB/s eta 0:00:01\r\u001b[K     |███████████████████████████████▍| 1.7MB 7.1MB/s eta 0:00:01\r\u001b[K     |███████████████████████████████▋| 1.7MB 7.1MB/s eta 0:00:01\r\u001b[K     |███████████████████████████████▉| 1.7MB 7.1MB/s eta 0:00:01\r\u001b[K     |████████████████████████████████| 1.7MB 7.1MB/s eta 0:00:01\r\u001b[K     |████████████████████████████████| 1.7MB 7.1MB/s \n",
            "\u001b[?25hRequirement already satisfied: Click>=7.0 in /usr/local/lib/python3.6/dist-packages (from youtokentome) (7.1.2)\n",
            "Installing collected packages: youtokentome\n",
            "Successfully installed youtokentome-1.0.6\n"
          ],
          "name": "stdout"
        }
      ]
    },
    {
      "cell_type": "markdown",
      "metadata": {
        "id": "zW7B1-h2qGcd",
        "colab_type": "text"
      },
      "source": [
        "### Imports"
      ]
    },
    {
      "cell_type": "code",
      "metadata": {
        "id": "XY_ffei6qH96",
        "colab_type": "code",
        "colab": {}
      },
      "source": [
        "import re\n",
        "import time\n",
        "import random\n",
        "import codecs\n",
        "import numpy as np\n",
        "import pandas as pd\n",
        "\n",
        "import torch\n",
        "import torch.nn as nn\n",
        "import torch.nn.functional as F\n",
        "\n",
        "from torchtext import data\n",
        "\n",
        "import youtokentome\n",
        "\n",
        "from sklearn import metrics\n",
        "from sklearn.model_selection import train_test_split\n",
        "\n",
        "import matplotlib.pyplot as plt\n",
        "import seaborn as sns"
      ],
      "execution_count": 197,
      "outputs": []
    },
    {
      "cell_type": "code",
      "metadata": {
        "id": "Vq3PROsK2KCL",
        "colab_type": "code",
        "colab": {}
      },
      "source": [
        "SEED = 42\n",
        "random.seed(SEED)\n",
        "np.random.seed(SEED)\n",
        "torch.manual_seed(SEED)\n",
        "torch.cuda.manual_seed(SEED)\n",
        "torch.backends.cudnn.deterministic = True"
      ],
      "execution_count": 91,
      "outputs": []
    },
    {
      "cell_type": "code",
      "metadata": {
        "id": "w5AJGiZh2Qvj",
        "colab_type": "code",
        "colab": {
          "base_uri": "https://localhost:8080/",
          "height": 35
        },
        "outputId": "b7df4858-b912-438e-afee-c03654847f5b"
      },
      "source": [
        "device = torch.device('cuda' if torch.cuda.is_available() else 'cpu')\n",
        "device"
      ],
      "execution_count": 92,
      "outputs": [
        {
          "output_type": "execute_result",
          "data": {
            "text/plain": [
              "device(type='cuda')"
            ]
          },
          "metadata": {
            "tags": []
          },
          "execution_count": 92
        }
      ]
    },
    {
      "cell_type": "markdown",
      "metadata": {
        "id": "TaootEMJqCvD",
        "colab_type": "text"
      },
      "source": [
        "### Data Exploration"
      ]
    },
    {
      "cell_type": "code",
      "metadata": {
        "id": "uqxl8rA9p_OG",
        "colab_type": "code",
        "colab": {}
      },
      "source": [
        "df = pd.read_csv('train.csv')"
      ],
      "execution_count": 93,
      "outputs": []
    },
    {
      "cell_type": "code",
      "metadata": {
        "id": "6oB2FyScqYMa",
        "colab_type": "code",
        "colab": {
          "base_uri": "https://localhost:8080/",
          "height": 198
        },
        "outputId": "67ff6b39-5aae-4d27-a589-4ef2b9562165"
      },
      "source": [
        "df.head()"
      ],
      "execution_count": 94,
      "outputs": [
        {
          "output_type": "execute_result",
          "data": {
            "text/html": [
              "<div>\n",
              "<style scoped>\n",
              "    .dataframe tbody tr th:only-of-type {\n",
              "        vertical-align: middle;\n",
              "    }\n",
              "\n",
              "    .dataframe tbody tr th {\n",
              "        vertical-align: top;\n",
              "    }\n",
              "\n",
              "    .dataframe thead th {\n",
              "        text-align: right;\n",
              "    }\n",
              "</style>\n",
              "<table border=\"1\" class=\"dataframe\">\n",
              "  <thead>\n",
              "    <tr style=\"text-align: right;\">\n",
              "      <th></th>\n",
              "      <th>id</th>\n",
              "      <th>comment_text</th>\n",
              "      <th>toxic</th>\n",
              "      <th>severe_toxic</th>\n",
              "      <th>obscene</th>\n",
              "      <th>threat</th>\n",
              "      <th>insult</th>\n",
              "      <th>identity_hate</th>\n",
              "    </tr>\n",
              "  </thead>\n",
              "  <tbody>\n",
              "    <tr>\n",
              "      <th>0</th>\n",
              "      <td>0000997932d777bf</td>\n",
              "      <td>Explanation\\nWhy the edits made under my usern...</td>\n",
              "      <td>0</td>\n",
              "      <td>0</td>\n",
              "      <td>0</td>\n",
              "      <td>0</td>\n",
              "      <td>0</td>\n",
              "      <td>0</td>\n",
              "    </tr>\n",
              "    <tr>\n",
              "      <th>1</th>\n",
              "      <td>000103f0d9cfb60f</td>\n",
              "      <td>D'aww! He matches this background colour I'm s...</td>\n",
              "      <td>0</td>\n",
              "      <td>0</td>\n",
              "      <td>0</td>\n",
              "      <td>0</td>\n",
              "      <td>0</td>\n",
              "      <td>0</td>\n",
              "    </tr>\n",
              "    <tr>\n",
              "      <th>2</th>\n",
              "      <td>000113f07ec002fd</td>\n",
              "      <td>Hey man, I'm really not trying to edit war. It...</td>\n",
              "      <td>0</td>\n",
              "      <td>0</td>\n",
              "      <td>0</td>\n",
              "      <td>0</td>\n",
              "      <td>0</td>\n",
              "      <td>0</td>\n",
              "    </tr>\n",
              "    <tr>\n",
              "      <th>3</th>\n",
              "      <td>0001b41b1c6bb37e</td>\n",
              "      <td>\"\\nMore\\nI can't make any real suggestions on ...</td>\n",
              "      <td>0</td>\n",
              "      <td>0</td>\n",
              "      <td>0</td>\n",
              "      <td>0</td>\n",
              "      <td>0</td>\n",
              "      <td>0</td>\n",
              "    </tr>\n",
              "    <tr>\n",
              "      <th>4</th>\n",
              "      <td>0001d958c54c6e35</td>\n",
              "      <td>You, sir, are my hero. Any chance you remember...</td>\n",
              "      <td>0</td>\n",
              "      <td>0</td>\n",
              "      <td>0</td>\n",
              "      <td>0</td>\n",
              "      <td>0</td>\n",
              "      <td>0</td>\n",
              "    </tr>\n",
              "  </tbody>\n",
              "</table>\n",
              "</div>"
            ],
            "text/plain": [
              "                 id  ... identity_hate\n",
              "0  0000997932d777bf  ...             0\n",
              "1  000103f0d9cfb60f  ...             0\n",
              "2  000113f07ec002fd  ...             0\n",
              "3  0001b41b1c6bb37e  ...             0\n",
              "4  0001d958c54c6e35  ...             0\n",
              "\n",
              "[5 rows x 8 columns]"
            ]
          },
          "metadata": {
            "tags": []
          },
          "execution_count": 94
        }
      ]
    },
    {
      "cell_type": "code",
      "metadata": {
        "id": "pUhETniGq4Sh",
        "colab_type": "code",
        "colab": {
          "base_uri": "https://localhost:8080/",
          "height": 35
        },
        "outputId": "e0b2bba9-a90b-497e-f27d-f439114c3903"
      },
      "source": [
        "len(df)"
      ],
      "execution_count": 95,
      "outputs": [
        {
          "output_type": "execute_result",
          "data": {
            "text/plain": [
              "159571"
            ]
          },
          "metadata": {
            "tags": []
          },
          "execution_count": 95
        }
      ]
    },
    {
      "cell_type": "markdown",
      "metadata": {
        "id": "TW70DexHvFB4",
        "colab_type": "text"
      },
      "source": [
        "#### Category Analysis"
      ]
    },
    {
      "cell_type": "code",
      "metadata": {
        "id": "5lQK-idgq12t",
        "colab_type": "code",
        "colab": {
          "base_uri": "https://localhost:8080/",
          "height": 228
        },
        "outputId": "78c887cd-8469-4e79-aa81-aeaa572bf84f"
      },
      "source": [
        "# dropping id and comment text\n",
        "df_toxic = df.drop(['id', 'comment_text'], axis=1)\n",
        "# calculating total count of each category comments\n",
        "counts = []\n",
        "categories = list(df_toxic.columns.values)\n",
        "for i in categories:\n",
        "    counts.append((i, df_toxic[i].sum()))\n",
        "df_stats = pd.DataFrame(counts, columns=['category', 'count'])\n",
        "df_stats"
      ],
      "execution_count": 96,
      "outputs": [
        {
          "output_type": "execute_result",
          "data": {
            "text/html": [
              "<div>\n",
              "<style scoped>\n",
              "    .dataframe tbody tr th:only-of-type {\n",
              "        vertical-align: middle;\n",
              "    }\n",
              "\n",
              "    .dataframe tbody tr th {\n",
              "        vertical-align: top;\n",
              "    }\n",
              "\n",
              "    .dataframe thead th {\n",
              "        text-align: right;\n",
              "    }\n",
              "</style>\n",
              "<table border=\"1\" class=\"dataframe\">\n",
              "  <thead>\n",
              "    <tr style=\"text-align: right;\">\n",
              "      <th></th>\n",
              "      <th>category</th>\n",
              "      <th>count</th>\n",
              "    </tr>\n",
              "  </thead>\n",
              "  <tbody>\n",
              "    <tr>\n",
              "      <th>0</th>\n",
              "      <td>toxic</td>\n",
              "      <td>15294</td>\n",
              "    </tr>\n",
              "    <tr>\n",
              "      <th>1</th>\n",
              "      <td>severe_toxic</td>\n",
              "      <td>1595</td>\n",
              "    </tr>\n",
              "    <tr>\n",
              "      <th>2</th>\n",
              "      <td>obscene</td>\n",
              "      <td>8449</td>\n",
              "    </tr>\n",
              "    <tr>\n",
              "      <th>3</th>\n",
              "      <td>threat</td>\n",
              "      <td>478</td>\n",
              "    </tr>\n",
              "    <tr>\n",
              "      <th>4</th>\n",
              "      <td>insult</td>\n",
              "      <td>7877</td>\n",
              "    </tr>\n",
              "    <tr>\n",
              "      <th>5</th>\n",
              "      <td>identity_hate</td>\n",
              "      <td>1405</td>\n",
              "    </tr>\n",
              "  </tbody>\n",
              "</table>\n",
              "</div>"
            ],
            "text/plain": [
              "        category  count\n",
              "0          toxic  15294\n",
              "1   severe_toxic   1595\n",
              "2        obscene   8449\n",
              "3         threat    478\n",
              "4         insult   7877\n",
              "5  identity_hate   1405"
            ]
          },
          "metadata": {
            "tags": []
          },
          "execution_count": 96
        }
      ]
    },
    {
      "cell_type": "code",
      "metadata": {
        "id": "v-UtFHGBuEOa",
        "colab_type": "code",
        "colab": {
          "base_uri": "https://localhost:8080/",
          "height": 302
        },
        "outputId": "a75ea39a-7d97-40a3-87fc-d72caea9349a"
      },
      "source": [
        "sns.barplot(x='category', y='count', data=df_stats)\n",
        "plt.title(\"Number Of Comments For Each Category\")\n",
        "plt.show()"
      ],
      "execution_count": 97,
      "outputs": [
        {
          "output_type": "display_data",
          "data": {
            "image/png": "[encoded data removed]",
            "text/plain": [
              "<Figure size 432x288 with 1 Axes>"
            ]
          },
          "metadata": {
            "tags": []
          }
        }
      ]
    },
    {
      "cell_type": "markdown",
      "metadata": {
        "id": "93Djkt2Pue-V",
        "colab_type": "text"
      },
      "source": [
        "This shows that the number of comments in each category is extremely unbalanced.\n",
        "\n",
        "Let's check whether each comment has been tagged or not?"
      ]
    },
    {
      "cell_type": "code",
      "metadata": {
        "id": "lG4YldyfuOw2",
        "colab_type": "code",
        "colab": {
          "base_uri": "https://localhost:8080/",
          "height": 315
        },
        "outputId": "abacbd16-a0c3-43f6-9e33-94450c0ff8c7"
      },
      "source": [
        "rowsums = df_toxic.iloc[:,:].sum(axis=1)\n",
        "valcount = rowsums.value_counts()\n",
        "valcount.plot.bar()\n",
        "plt.xlabel(\"# of labels tagged to\")\n",
        "plt.ylabel(\"# of comments\")\n",
        "plt.title(\"Comments that have multiple labels tagged\")\n",
        "plt.show()\n",
        "\n",
        "print(valcount[0]*100/sum(valcount),\"% comments have no labels associated to them.\")"
      ],
      "execution_count": 98,
      "outputs": [
        {
          "output_type": "display_data",
          "data": {
            "image/png": "[encoded data removed]",
            "text/plain": [
              "<Figure size 432x288 with 1 Axes>"
            ]
          },
          "metadata": {
            "tags": []
          }
        },
        {
          "output_type": "stream",
          "text": [
            "89.83211235124176 % comments have no labels associated to them.\n"
          ],
          "name": "stdout"
        }
      ]
    },
    {
      "cell_type": "markdown",
      "metadata": {
        "id": "7K04Minvu9he",
        "colab_type": "text"
      },
      "source": [
        "This essentially shows that a large amount of the entire dataset is tagged to none of the six categories."
      ]
    },
    {
      "cell_type": "markdown",
      "metadata": {
        "id": "HvjcVq_cwQxv",
        "colab_type": "text"
      },
      "source": [
        "Correlation between categories"
      ]
    },
    {
      "cell_type": "code",
      "metadata": {
        "id": "9vFidzDVwFis",
        "colab_type": "code",
        "colab": {
          "base_uri": "https://localhost:8080/",
          "height": 335
        },
        "outputId": "20386f43-c1ad-4265-eb39-7c4bbd1b863c"
      },
      "source": [
        "sns.heatmap(df.corr(), square=True)\n",
        "plt.show()"
      ],
      "execution_count": 99,
      "outputs": [
        {
          "output_type": "display_data",
          "data": {
            "image/png": "[encoded data removed]",
            "text/plain": [
              "<Figure size 432x288 with 2 Axes>"
            ]
          },
          "metadata": {
            "tags": []
          }
        }
      ]
    },
    {
      "cell_type": "markdown",
      "metadata": {
        "id": "i30thh-IvIN6",
        "colab_type": "text"
      },
      "source": [
        "#### Comment Analysis"
      ]
    },
    {
      "cell_type": "code",
      "metadata": {
        "id": "nXohWQEcuxSD",
        "colab_type": "code",
        "colab": {
          "base_uri": "https://localhost:8080/",
          "height": 301
        },
        "outputId": "08a8865b-6e2a-464f-9609-8b49588c77e7"
      },
      "source": [
        "lens = df.comment_text.str.len()\n",
        "sns.set(style=\"whitegrid\")\n",
        "sns.distplot(lens)\n",
        "plt.title(\"Distribution for Lengths of Comments\")\n",
        "plt.show()"
      ],
      "execution_count": 100,
      "outputs": [
        {
          "output_type": "display_data",
          "data": {
            "image/png": "[encoded data removed]",
            "text/plain": [
              "<Figure size 432x288 with 1 Axes>"
            ]
          },
          "metadata": {
            "tags": []
          }
        }
      ]
    },
    {
      "cell_type": "code",
      "metadata": {
        "id": "kTL0k1A5vLAO",
        "colab_type": "code",
        "colab": {
          "base_uri": "https://localhost:8080/",
          "height": 35
        },
        "outputId": "892e2596-0460-49a5-ad8c-c1f5853746b9"
      },
      "source": [
        "lens.mean(), lens.std(), lens.max()"
      ],
      "execution_count": 101,
      "outputs": [
        {
          "output_type": "execute_result",
          "data": {
            "text/plain": [
              "(394.0732213246768, 590.7202819048923, 5000)"
            ]
          },
          "metadata": {
            "tags": []
          },
          "execution_count": 101
        }
      ]
    },
    {
      "cell_type": "code",
      "metadata": {
        "id": "FtwLfq0NvdBR",
        "colab_type": "code",
        "colab": {
          "base_uri": "https://localhost:8080/",
          "height": 35
        },
        "outputId": "a37335f5-37b2-4912-8159-7bb89e1d0ca4"
      },
      "source": [
        "print(\"Number of Null Comments : \", df['comment_text'].isnull().sum())"
      ],
      "execution_count": 102,
      "outputs": [
        {
          "output_type": "stream",
          "text": [
            "Number of Null Comments :  0\n"
          ],
          "name": "stdout"
        }
      ]
    },
    {
      "cell_type": "markdown",
      "metadata": {
        "id": "Dx-5nuF9ymYJ",
        "colab_type": "text"
      },
      "source": [
        "### Data Processing"
      ]
    },
    {
      "cell_type": "code",
      "metadata": {
        "id": "icu4XUyWvi0j",
        "colab_type": "code",
        "colab": {}
      },
      "source": [
        "def preprocess(text):\n",
        "    # -- Converting to lower case\n",
        "    text = text.lower()\n",
        "    \n",
        "    # replacing english abbreviations with full forms\n",
        "    text = re.sub(r\"what's\", \"what is \", text)\n",
        "    text = re.sub(r\"\\'s\", \" \", text)\n",
        "    text = re.sub(r\"\\'ve\", \" have \", text)\n",
        "    text = re.sub(r\"can't\", \"can not \", text)\n",
        "    text = re.sub(r\"n't\", \" not \", text)\n",
        "    text = re.sub(r\"i'm\", \"i am \", text)\n",
        "    text = re.sub(r\"\\'re\", \" are \", text)\n",
        "    text = re.sub(r\"\\'d\", \" would \", text)\n",
        "    text = re.sub(r\"\\'ll\", \" will \", text)\n",
        "    text = re.sub(r\"\\'scuse\", \" excuse \", text)\n",
        "    # text = re.sub('\\W', ' ', text)\n",
        "    # text = re.sub('\\s+', ' ', text)\n",
        "\n",
        "    text = \" \".join(text.split()).strip()\n",
        "    return text"
      ],
      "execution_count": 103,
      "outputs": []
    },
    {
      "cell_type": "code",
      "metadata": {
        "id": "WeTLbdRg0BQx",
        "colab_type": "code",
        "colab": {
          "base_uri": "https://localhost:8080/",
          "height": 70
        },
        "outputId": "10833f2a-86ff-4c8d-ca30-ae09b8b8c2bb"
      },
      "source": [
        "df['comment_text'][0]"
      ],
      "execution_count": 104,
      "outputs": [
        {
          "output_type": "execute_result",
          "data": {
            "application/vnd.google.colaboratory.intrinsic": {
              "type": "string"
            },
            "text/plain": [
              "\"Explanation\\nWhy the edits made under my username Hardcore Metallica Fan were reverted? They weren't vandalisms, just closure on some GAs after I voted at New York Dolls FAC. And please don't remove the template from the talk page since I'm retired now.89.205.38.27\""
            ]
          },
          "metadata": {
            "tags": []
          },
          "execution_count": 104
        }
      ]
    },
    {
      "cell_type": "code",
      "metadata": {
        "id": "Mtnncpl00Zp_",
        "colab_type": "code",
        "colab": {
          "base_uri": "https://localhost:8080/",
          "height": 70
        },
        "outputId": "62ccb9ca-cd73-405c-e1fc-8ec2fdd9e3d1"
      },
      "source": [
        "preprocess(df['comment_text'][0])"
      ],
      "execution_count": 105,
      "outputs": [
        {
          "output_type": "execute_result",
          "data": {
            "application/vnd.google.colaboratory.intrinsic": {
              "type": "string"
            },
            "text/plain": [
              "'explanation why the edits made under my username hardcore metallica fan were reverted? they were not vandalisms, just closure on some gas after i voted at new york dolls fac. and please do not remove the template from the talk page since i am retired now.89.205.38.27'"
            ]
          },
          "metadata": {
            "tags": []
          },
          "execution_count": 105
        }
      ]
    },
    {
      "cell_type": "code",
      "metadata": {
        "id": "h1s_cdZS0dhg",
        "colab_type": "code",
        "colab": {
          "base_uri": "https://localhost:8080/",
          "height": 285
        },
        "outputId": "723339fd-f087-490f-fbeb-b593930f0ebe"
      },
      "source": [
        "df['processed_comment_text'] = df['comment_text'].apply(lambda txt : preprocess(txt))\n",
        "df.head()"
      ],
      "execution_count": 106,
      "outputs": [
        {
          "output_type": "execute_result",
          "data": {
            "text/html": [
              "<div>\n",
              "<style scoped>\n",
              "    .dataframe tbody tr th:only-of-type {\n",
              "        vertical-align: middle;\n",
              "    }\n",
              "\n",
              "    .dataframe tbody tr th {\n",
              "        vertical-align: top;\n",
              "    }\n",
              "\n",
              "    .dataframe thead th {\n",
              "        text-align: right;\n",
              "    }\n",
              "</style>\n",
              "<table border=\"1\" class=\"dataframe\">\n",
              "  <thead>\n",
              "    <tr style=\"text-align: right;\">\n",
              "      <th></th>\n",
              "      <th>id</th>\n",
              "      <th>comment_text</th>\n",
              "      <th>toxic</th>\n",
              "      <th>severe_toxic</th>\n",
              "      <th>obscene</th>\n",
              "      <th>threat</th>\n",
              "      <th>insult</th>\n",
              "      <th>identity_hate</th>\n",
              "      <th>processed_comment_text</th>\n",
              "    </tr>\n",
              "  </thead>\n",
              "  <tbody>\n",
              "    <tr>\n",
              "      <th>0</th>\n",
              "      <td>0000997932d777bf</td>\n",
              "      <td>Explanation\\nWhy the edits made under my usern...</td>\n",
              "      <td>0</td>\n",
              "      <td>0</td>\n",
              "      <td>0</td>\n",
              "      <td>0</td>\n",
              "      <td>0</td>\n",
              "      <td>0</td>\n",
              "      <td>explanation why the edits made under my userna...</td>\n",
              "    </tr>\n",
              "    <tr>\n",
              "      <th>1</th>\n",
              "      <td>000103f0d9cfb60f</td>\n",
              "      <td>D'aww! He matches this background colour I'm s...</td>\n",
              "      <td>0</td>\n",
              "      <td>0</td>\n",
              "      <td>0</td>\n",
              "      <td>0</td>\n",
              "      <td>0</td>\n",
              "      <td>0</td>\n",
              "      <td>d'aww! he matches this background colour i am ...</td>\n",
              "    </tr>\n",
              "    <tr>\n",
              "      <th>2</th>\n",
              "      <td>000113f07ec002fd</td>\n",
              "      <td>Hey man, I'm really not trying to edit war. It...</td>\n",
              "      <td>0</td>\n",
              "      <td>0</td>\n",
              "      <td>0</td>\n",
              "      <td>0</td>\n",
              "      <td>0</td>\n",
              "      <td>0</td>\n",
              "      <td>hey man, i am really not trying to edit war. i...</td>\n",
              "    </tr>\n",
              "    <tr>\n",
              "      <th>3</th>\n",
              "      <td>0001b41b1c6bb37e</td>\n",
              "      <td>\"\\nMore\\nI can't make any real suggestions on ...</td>\n",
              "      <td>0</td>\n",
              "      <td>0</td>\n",
              "      <td>0</td>\n",
              "      <td>0</td>\n",
              "      <td>0</td>\n",
              "      <td>0</td>\n",
              "      <td>\" more i can not make any real suggestions on ...</td>\n",
              "    </tr>\n",
              "    <tr>\n",
              "      <th>4</th>\n",
              "      <td>0001d958c54c6e35</td>\n",
              "      <td>You, sir, are my hero. Any chance you remember...</td>\n",
              "      <td>0</td>\n",
              "      <td>0</td>\n",
              "      <td>0</td>\n",
              "      <td>0</td>\n",
              "      <td>0</td>\n",
              "      <td>0</td>\n",
              "      <td>you, sir, are my hero. any chance you remember...</td>\n",
              "    </tr>\n",
              "  </tbody>\n",
              "</table>\n",
              "</div>"
            ],
            "text/plain": [
              "                 id  ...                             processed_comment_text\n",
              "0  0000997932d777bf  ...  explanation why the edits made under my userna...\n",
              "1  000103f0d9cfb60f  ...  d'aww! he matches this background colour i am ...\n",
              "2  000113f07ec002fd  ...  hey man, i am really not trying to edit war. i...\n",
              "3  0001b41b1c6bb37e  ...  \" more i can not make any real suggestions on ...\n",
              "4  0001d958c54c6e35  ...  you, sir, are my hero. any chance you remember...\n",
              "\n",
              "[5 rows x 9 columns]"
            ]
          },
          "metadata": {
            "tags": []
          },
          "execution_count": 106
        }
      ]
    },
    {
      "cell_type": "code",
      "metadata": {
        "id": "hd58PRPQ3C0O",
        "colab_type": "code",
        "colab": {}
      },
      "source": [
        "train_df, valid_df = train_test_split(df, test_size=0.2, random_state=42, shuffle=True)\n",
        "val_df, test_df = train_test_split(valid_df, test_size=0.5, random_state=42)"
      ],
      "execution_count": 107,
      "outputs": []
    },
    {
      "cell_type": "code",
      "metadata": {
        "id": "xNgE4dYm3p3M",
        "colab_type": "code",
        "colab": {
          "base_uri": "https://localhost:8080/",
          "height": 35
        },
        "outputId": "c3a5dc0f-a388-4380-cf75-a8f2dc215fce"
      },
      "source": [
        "len(train_df), len(val_df), len(test_df)"
      ],
      "execution_count": 108,
      "outputs": [
        {
          "output_type": "execute_result",
          "data": {
            "text/plain": [
              "(127656, 15957, 15958)"
            ]
          },
          "metadata": {
            "tags": []
          },
          "execution_count": 108
        }
      ]
    },
    {
      "cell_type": "code",
      "metadata": {
        "id": "LXcY8k1X4wDj",
        "colab_type": "code",
        "colab": {}
      },
      "source": [
        "columns = ['processed_comment_text', 'toxic', 'severe_toxic', 'obscene', 'threat', 'insult', 'identity_hate']\n",
        "train_df = train_df[columns]\n",
        "val_df = val_df[columns]\n",
        "test_df = test_df[columns]"
      ],
      "execution_count": 109,
      "outputs": []
    },
    {
      "cell_type": "code",
      "metadata": {
        "id": "aAUpN6PL5QKG",
        "colab_type": "code",
        "colab": {}
      },
      "source": [
        "train_df.to_csv('train_split.csv', columns=columns)\n",
        "val_df.to_csv('val_split.csv', columns=columns)\n",
        "test_df.to_csv('test_split.csv', columns=columns)"
      ],
      "execution_count": 110,
      "outputs": []
    },
    {
      "cell_type": "code",
      "metadata": {
        "id": "fWGvs7o92wM3",
        "colab_type": "code",
        "colab": {}
      },
      "source": [
        "# using only training data to train the BPE tokenizer\n",
        "all_data = list(train_df['processed_comment_text'].values)\n",
        "\n",
        "with codecs.open(\"train_comments_data.txt\", \"w\", encoding=\"utf-8\") as f:\n",
        "        f.write(\"\\n\".join(all_data))"
      ],
      "execution_count": 111,
      "outputs": []
    },
    {
      "cell_type": "code",
      "metadata": {
        "id": "jD5l9uNp33uD",
        "colab_type": "code",
        "colab": {}
      },
      "source": [
        "# free some ram\n",
        "del all_data"
      ],
      "execution_count": 112,
      "outputs": []
    },
    {
      "cell_type": "markdown",
      "metadata": {
        "id": "-5TguNIR4Bre",
        "colab_type": "text"
      },
      "source": [
        "### BPE tokenization"
      ]
    },
    {
      "cell_type": "code",
      "metadata": {
        "id": "TKRMknG236K-",
        "colab_type": "code",
        "colab": {
          "base_uri": "https://localhost:8080/",
          "height": 69
        },
        "outputId": "b55f8d40-7862-448f-8210-74f3046aedcf"
      },
      "source": [
        "# Perform BPE\n",
        "print(\"\\nLearning BPE...\")\n",
        "youtokentome.BPE.train(data=\"train_comments_data.txt\", vocab_size=15000, model=\"bpe.model\")"
      ],
      "execution_count": 113,
      "outputs": [
        {
          "output_type": "stream",
          "text": [
            "\n",
            "Learning BPE...\n"
          ],
          "name": "stdout"
        },
        {
          "output_type": "execute_result",
          "data": {
            "text/plain": [
              "<youtokentome.youtokentome.BPE at 0x7fb75ac14c88>"
            ]
          },
          "metadata": {
            "tags": []
          },
          "execution_count": 113
        }
      ]
    },
    {
      "cell_type": "code",
      "metadata": {
        "id": "lhqNDSKX4FAU",
        "colab_type": "code",
        "colab": {
          "base_uri": "https://localhost:8080/",
          "height": 52
        },
        "outputId": "48d17715-146d-41fb-de71-277704514d63"
      },
      "source": [
        "# Load BPE model\n",
        "print(\"\\nLoading BPE model...\")\n",
        "bpe_model = youtokentome.BPE(model=\"bpe.model\")"
      ],
      "execution_count": 114,
      "outputs": [
        {
          "output_type": "stream",
          "text": [
            "\n",
            "Loading BPE model...\n"
          ],
          "name": "stdout"
        }
      ]
    },
    {
      "cell_type": "code",
      "metadata": {
        "id": "iV8OXc0R4T5t",
        "colab_type": "code",
        "colab": {
          "base_uri": "https://localhost:8080/",
          "height": 86
        },
        "outputId": "a0e3d7a7-96ae-4b6e-801c-e4d74b725879"
      },
      "source": [
        "# Special Tokens\n",
        "print(f\"<BOS>: {bpe_model.subword_to_id('<BOS>')}\")    # Begining of the sentence token\n",
        "print(f\"<EOS>: {bpe_model.subword_to_id('<EOS>')}\")    # End of the sentence token\n",
        "print(f\"<UNK>: {bpe_model.subword_to_id('<UNK>')}\")    # Unknown token\n",
        "print(f\"<PAD>: {bpe_model.subword_to_id('<PAD>')}\")    # Pad token"
      ],
      "execution_count": 115,
      "outputs": [
        {
          "output_type": "stream",
          "text": [
            "<BOS>: 2\n",
            "<EOS>: 3\n",
            "<UNK>: 1\n",
            "<PAD>: 0\n"
          ],
          "name": "stdout"
        }
      ]
    },
    {
      "cell_type": "code",
      "metadata": {
        "id": "NK4uL0Kq4WhJ",
        "colab_type": "code",
        "colab": {}
      },
      "source": [
        "pad_index = bpe_model.subword_to_id('<PAD>')"
      ],
      "execution_count": 116,
      "outputs": []
    },
    {
      "cell_type": "code",
      "metadata": {
        "id": "4MNjJVi84Y1l",
        "colab_type": "code",
        "colab": {
          "base_uri": "https://localhost:8080/",
          "height": 69
        },
        "outputId": "6040d25f-b545-4cae-95e2-46a1bec3440b"
      },
      "source": [
        "sentence = \"This is a sample sentence\"\n",
        "encoded_ids = bpe_model.encode(sentence.lower(), output_type=youtokentome.OutputType.ID)\n",
        "encoded_text = bpe_model.encode(sentence.lower(), output_type=youtokentome.OutputType.SUBWORD)\n",
        "decoded_text = bpe_model.decode(encoded_ids, ignore_ids=[2, 3])\n",
        "\n",
        "print(encoded_ids)\n",
        "print(encoded_text)\n",
        "print(decoded_text)"
      ],
      "execution_count": 117,
      "outputs": [
        {
          "output_type": "stream",
          "text": [
            "[2007, 1975, 1929, 12467, 3424]\n",
            "['▁this', '▁is', '▁a', '▁sample', '▁sentence']\n",
            "['this is a sample sentence']\n"
          ],
          "name": "stdout"
        }
      ]
    },
    {
      "cell_type": "code",
      "metadata": {
        "id": "3g5ogbal4ave",
        "colab_type": "code",
        "colab": {}
      },
      "source": [
        "# define a tokenizer method which takes in a sentence and returns ids\n",
        "# by defining this, we can configure the tokenizer to torchtext Field\n",
        "def bpe_tokenizer(sentence):\n",
        "    encoded_ids = bpe_model.encode(sentence.lower(), output_type=youtokentome.OutputType.ID)\n",
        "    return encoded_ids"
      ],
      "execution_count": 118,
      "outputs": []
    },
    {
      "cell_type": "code",
      "metadata": {
        "id": "2VSaI7dP4dCV",
        "colab_type": "code",
        "colab": {
          "base_uri": "https://localhost:8080/",
          "height": 35
        },
        "outputId": "26483c0c-eae6-41a0-b792-b5ccd606ae9d"
      },
      "source": [
        "bpe_tokenizer(\"This is a sample sentence\")"
      ],
      "execution_count": 119,
      "outputs": [
        {
          "output_type": "execute_result",
          "data": {
            "text/plain": [
              "[2007, 1975, 1929, 12467, 3424]"
            ]
          },
          "metadata": {
            "tags": []
          },
          "execution_count": 119
        }
      ]
    },
    {
      "cell_type": "markdown",
      "metadata": {
        "id": "u4afVjxA6hsv",
        "colab_type": "text"
      },
      "source": [
        "### Fields"
      ]
    },
    {
      "cell_type": "code",
      "metadata": {
        "id": "deBHzOET4lwF",
        "colab_type": "code",
        "colab": {}
      },
      "source": [
        "tokenizer = data.get_tokenizer(bpe_tokenizer)\n",
        "TEXT = data.Field(tokenize=tokenizer, use_vocab=False, pad_token=pad_index, include_lengths=True)"
      ],
      "execution_count": 130,
      "outputs": []
    },
    {
      "cell_type": "code",
      "metadata": {
        "id": "aEXJoU516kMA",
        "colab_type": "code",
        "colab": {}
      },
      "source": [
        "LABEL = data.LabelField(use_vocab=False)\n",
        "fields = [(None, None), (\"comment\", TEXT), (\"toxic\", LABEL), (\"severe_toxic\", LABEL), (\"obscene\", LABEL), (\"threat\", LABEL), (\"insult\", LABEL), (\"identity_hate\", LABEL)]"
      ],
      "execution_count": 131,
      "outputs": []
    },
    {
      "cell_type": "markdown",
      "metadata": {
        "id": "Tij1dwQuBA3J",
        "colab_type": "text"
      },
      "source": [
        "### Datasets"
      ]
    },
    {
      "cell_type": "code",
      "metadata": {
        "id": "t2eY2XKMA8zU",
        "colab_type": "code",
        "colab": {}
      },
      "source": [
        "train_dataset, valid_dataset, test_dataset = data.TabularDataset.splits(path='.',\n",
        "                                                train='train_split.csv', validation='val_split.csv', test=\"test_split.csv\",\n",
        "                                                format='csv', skip_header=True, fields=fields)"
      ],
      "execution_count": 132,
      "outputs": []
    },
    {
      "cell_type": "code",
      "metadata": {
        "id": "qYOwG1WfBJUN",
        "colab_type": "code",
        "colab": {
          "base_uri": "https://localhost:8080/",
          "height": 69
        },
        "outputId": "60743634-0c4a-4582-9f62-da0dedd2638f"
      },
      "source": [
        "print(f\"Number of training examples: {len(train_dataset)}\")\n",
        "print(f\"Number of validation examples: {len(valid_dataset)}\")\n",
        "print(f\"Number of testing examples: {len(test_dataset)}\")"
      ],
      "execution_count": 133,
      "outputs": [
        {
          "output_type": "stream",
          "text": [
            "Number of training examples: 127656\n",
            "Number of validation examples: 15957\n",
            "Number of testing examples: 15958\n"
          ],
          "name": "stdout"
        }
      ]
    },
    {
      "cell_type": "code",
      "metadata": {
        "id": "lbl8akTVBNNz",
        "colab_type": "code",
        "colab": {
          "base_uri": "https://localhost:8080/",
          "height": 55
        },
        "outputId": "a6bf82a0-566e-4f6f-c13c-7417372bdcb0"
      },
      "source": [
        "print(vars(train_dataset.examples[1]))"
      ],
      "execution_count": 134,
      "outputs": [
        {
          "output_type": "stream",
          "text": [
            "{'comment': [2646, 3091, 2244, 4590, 2694, 1981, 2126, 1976, 3224, 9708, 2059, 1962, 2299, 1958, 5714, 1958, 2318, 1929, 4478, 1967, 1936, 4080, 12158, 13772, 2315, 28, 1971, 2292, 2122, 2126, 1976, 2138, 8776, 1958, 8092, 3185, 1962, 2360, 1929, 3526, 2841, 4824, 1968, 7792, 3554, 2151, 3033, 2235, 1978, 2018, 1929, 2355, 3541, 37, 2045, 1978, 1971, 1931, 2126, 2292, 2835, 1936, 4469, 3140, 1998, 11159, 13534, 8, 2327, 18, 3215, 2254, 1958, 2067, 2540, 3978, 2411, 1998, 7443, 30, 4413, 11834, 2073, 2163, 3418, 1962, 2018, 1958, 1976, 2207, 5701, 1966, 6090, 3327, 1982, 2966, 2433, 2036, 2599, 1971, 1982, 4327, 1975, 2185, 3452, 1997, 25, 3421, 4338, 45], 'toxic': '0', 'severe_toxic': '0', 'obscene': '0', 'threat': '0', 'insult': '0', 'identity_hate': '0'}\n"
          ],
          "name": "stdout"
        }
      ]
    },
    {
      "cell_type": "code",
      "metadata": {
        "id": "9jfbQ7KXBQCX",
        "colab_type": "code",
        "colab": {
          "base_uri": "https://localhost:8080/",
          "height": 35
        },
        "outputId": "f8775d09-f51c-467e-b42d-20d1ba2ad932"
      },
      "source": [
        "print(f\"Vocab size: {bpe_model.vocab_size()}\")"
      ],
      "execution_count": 135,
      "outputs": [
        {
          "output_type": "stream",
          "text": [
            "Vocab size: 15000\n"
          ],
          "name": "stdout"
        }
      ]
    },
    {
      "cell_type": "markdown",
      "metadata": {
        "id": "-_PAnVzvBUZ4",
        "colab_type": "text"
      },
      "source": [
        "### Iterators"
      ]
    },
    {
      "cell_type": "code",
      "metadata": {
        "id": "8A37m0-QBSsk",
        "colab_type": "code",
        "colab": {}
      },
      "source": [
        "BATCH_SIZE = 64\n",
        "\n",
        "train_iterator, valid_iterator, test_iterator = data.BucketIterator.splits(\n",
        "    (train_dataset, valid_dataset, test_dataset),\n",
        "    batch_size=BATCH_SIZE,\n",
        "    sort_key=lambda x: len(x.comment),\n",
        "    sort_within_batch=True,\n",
        "    device=device\n",
        ")"
      ],
      "execution_count": 137,
      "outputs": []
    },
    {
      "cell_type": "code",
      "metadata": {
        "id": "Ab4T6WkoBZHm",
        "colab_type": "code",
        "colab": {
          "base_uri": "https://localhost:8080/",
          "height": 138
        },
        "outputId": "ab9a8371-e5ca-48c0-c9fe-e4216e0bdea0"
      },
      "source": [
        "temp = next(iter(train_iterator))\n",
        "print(temp.comment[0].shape, temp.comment[1].shape)\n",
        "print(temp.toxic.shape)\n",
        "print(temp.severe_toxic.shape)\n",
        "print(temp.obscene.shape)\n",
        "print(temp.threat.shape)\n",
        "print(temp.insult.shape)\n",
        "print(temp.identity_hate.shape)\n"
      ],
      "execution_count": 144,
      "outputs": [
        {
          "output_type": "stream",
          "text": [
            "torch.Size([94, 64]) torch.Size([64])\n",
            "torch.Size([64])\n",
            "torch.Size([64])\n",
            "torch.Size([64])\n",
            "torch.Size([64])\n",
            "torch.Size([64])\n",
            "torch.Size([64])\n"
          ],
          "name": "stdout"
        }
      ]
    },
    {
      "cell_type": "markdown",
      "metadata": {
        "id": "I86qgtAKDg69",
        "colab_type": "text"
      },
      "source": [
        "### Model"
      ]
    },
    {
      "cell_type": "code",
      "metadata": {
        "id": "F7AJSDHi50vF",
        "colab_type": "code",
        "colab": {}
      },
      "source": [
        "class BiGRU(nn.Module):\n",
        "    def __init__(self, input_dim, emb_dim, hid_dim, output_dim, n_layers, pad_idx, dropout):\n",
        "        super().__init__()\n",
        "        \n",
        "        self.n_layers = n_layers\n",
        "        self.hid_dim = hid_dim\n",
        "\n",
        "        self.embedding = nn.Embedding(input_dim, emb_dim, padding_idx=pad_idx)\n",
        "        self.rnn = nn.GRU(emb_dim, hid_dim, num_layers=n_layers, bidirectional=True, dropout=dropout)\n",
        "        self.out = nn.Linear(hid_dim * 2, output_dim)\n",
        "        self.dropout = nn.Dropout(dropout)\n",
        "    def forward(self, src, src_length):\n",
        "        # src => [seq_len, batch_size]\n",
        "        # src_length => [batch_size]\n",
        "\n",
        "        embedded = self.dropout(self.embedding(src))\n",
        "        # embedded => [seq_len, batch_size, emb_dim]\n",
        "\n",
        "        packed_input = nn.utils.rnn.pack_padded_sequence(embedded, src_length)\n",
        "        outputs, hidden = self.rnn(packed_input)\n",
        "        # hidden => [num_layers * num_dir, batch_size, hidden_dim]\n",
        "\n",
        "        hidden = hidden.view(self.n_layers, 2, -1, self.hid_dim)\n",
        "        # hidden => [num_layers, 2, batch_size, hidden_dim]\n",
        "\n",
        "        combined = torch.cat((hidden[-1, 0, :, :], hidden[-1, 1, :, :]), dim=-1)\n",
        "        # combined => [batch_size, hidden_dim * 2]\n",
        "\n",
        "        logits = self.out(self.dropout(combined))\n",
        "        # logits => [batch_size, output_dim]\n",
        "\n",
        "        return logits"
      ],
      "execution_count": 145,
      "outputs": []
    },
    {
      "cell_type": "code",
      "metadata": {
        "id": "Ss0ajooL59G1",
        "colab_type": "code",
        "colab": {}
      },
      "source": [
        "PAD_IDX = pad_index\n",
        "INPUT_DIM = bpe_model.vocab_size()\n",
        "EMB_DIM = 100\n",
        "HID_DIM = 256\n",
        "N_LAYERS = 2\n",
        "OUTPUT_DIM = 6\n",
        "DROPOUT = 0.3\n",
        "\n",
        "model = BiGRU(INPUT_DIM, EMB_DIM, HID_DIM, OUTPUT_DIM, N_LAYERS, PAD_IDX, DROPOUT).to(device)"
      ],
      "execution_count": 166,
      "outputs": []
    },
    {
      "cell_type": "code",
      "metadata": {
        "id": "LZMeZ8n3F7JN",
        "colab_type": "code",
        "colab": {
          "base_uri": "https://localhost:8080/",
          "height": 121
        },
        "outputId": "105ed805-22a3-405f-87db-07e1249a9a2d"
      },
      "source": [
        "def init_weights(m):\n",
        "    if hasattr(m, 'weight') and m.weight.dim() > 1:\n",
        "        nn.init.uniform_(m.weight.data, -0.08, 0.08)\n",
        "\n",
        "model.apply(init_weights)"
      ],
      "execution_count": 167,
      "outputs": [
        {
          "output_type": "execute_result",
          "data": {
            "text/plain": [
              "BiGRU(\n",
              "  (embedding): Embedding(15000, 100, padding_idx=0)\n",
              "  (rnn): GRU(100, 256, num_layers=2, dropout=0.3, bidirectional=True)\n",
              "  (out): Linear(in_features=512, out_features=6, bias=True)\n",
              "  (dropout): Dropout(p=0.3, inplace=False)\n",
              ")"
            ]
          },
          "metadata": {
            "tags": []
          },
          "execution_count": 167
        }
      ]
    },
    {
      "cell_type": "code",
      "metadata": {
        "id": "H8SjjNQdGCq4",
        "colab_type": "code",
        "colab": {
          "base_uri": "https://localhost:8080/",
          "height": 35
        },
        "outputId": "caac943a-2e3e-4045-e91e-9157197a9206"
      },
      "source": [
        "def count_parameters(model):\n",
        "    return sum(p.numel() for p in model.parameters() if p.requires_grad)\n",
        "\n",
        "print(f'The model has {count_parameters(model):,} trainable parameters')"
      ],
      "execution_count": 168,
      "outputs": [
        {
          "output_type": "stream",
          "text": [
            "The model has 3,235,686 trainable parameters\n"
          ],
          "name": "stdout"
        }
      ]
    },
    {
      "cell_type": "markdown",
      "metadata": {
        "id": "xM3y1q5nL7sm",
        "colab_type": "text"
      },
      "source": [
        "### Optimizer & Loss Criterion"
      ]
    },
    {
      "cell_type": "code",
      "metadata": {
        "id": "oYUJfSsRGFiS",
        "colab_type": "code",
        "colab": {}
      },
      "source": [
        "LEARNING_RATE = 0.001\n",
        "\n",
        "optimizer = torch.optim.Adam(model.parameters(), lr = LEARNING_RATE)\n",
        "criterion = nn.CrossEntropyLoss()"
      ],
      "execution_count": 172,
      "outputs": []
    },
    {
      "cell_type": "markdown",
      "metadata": {
        "id": "nldFgJKPL-lY",
        "colab_type": "text"
      },
      "source": [
        "### Accuracy"
      ]
    },
    {
      "cell_type": "code",
      "metadata": {
        "id": "_DKmTwocLjMs",
        "colab_type": "code",
        "colab": {}
      },
      "source": [
        "def categorical_accuracy(preds, y):\n",
        "    \"\"\"\n",
        "    Returns accuracy per batch, i.e. if you get 8/10 right, this returns 0.8, NOT 8\n",
        "    \"\"\"\n",
        "    max_preds = preds.argmax(dim = 1, keepdim = True) # get the index of the max probability\n",
        "    correct = max_preds.squeeze(1).eq(y)\n",
        "    return correct.sum() / torch.FloatTensor([y.shape[0]])"
      ],
      "execution_count": 189,
      "outputs": []
    },
    {
      "cell_type": "markdown",
      "metadata": {
        "id": "IBqJDuzPMAiV",
        "colab_type": "text"
      },
      "source": [
        "### Training Method"
      ]
    },
    {
      "cell_type": "code",
      "metadata": {
        "id": "_ORw1e7DGKQB",
        "colab_type": "code",
        "colab": {}
      },
      "source": [
        "def train(model, iterator, criterion, optimizer, clip):\n",
        "    model.train()\n",
        "\n",
        "    epoch_loss = 0\n",
        "    epoch_acc = 0\n",
        "    for i, batch in enumerate(iterator):\n",
        "        src, src_len = batch.comment\n",
        "        trg = torch.cat((\n",
        "            batch.toxic.unsqueeze(1),\n",
        "            batch.severe_toxic.unsqueeze(1),\n",
        "            batch.obscene.unsqueeze(1),\n",
        "            batch.threat.unsqueeze(1),\n",
        "            batch.insult.unsqueeze(1),\n",
        "            batch.identity_hate.unsqueeze(1)),\n",
        "            dim=1).to(device)\n",
        "        labels = torch.max(trg, 1)[1]\n",
        "\n",
        "        optimizer.zero_grad()\n",
        "        predictions = model(src, src_len)\n",
        "        # predictions => [batch_size, output_dim]\n",
        "        # trg => [batch_size, outptu_dim]\n",
        "\n",
        "        loss = criterion(predictions, labels)            \n",
        "        acc = categorical_accuracy(predictions, labels)\n",
        "\n",
        "        loss.backward()\n",
        "\n",
        "        torch.nn.utils.clip_grad_norm_(model.parameters(), clip)\n",
        "        optimizer.step()\n",
        "\n",
        "        epoch_loss += loss.item()\n",
        "        epoch_acc += acc.item()\n",
        "\n",
        "    return epoch_loss / len(iterator), epoch_acc / len(iterator)\n"
      ],
      "execution_count": 190,
      "outputs": []
    },
    {
      "cell_type": "markdown",
      "metadata": {
        "id": "GTEV9DKnMCn2",
        "colab_type": "text"
      },
      "source": [
        "### Validation Method"
      ]
    },
    {
      "cell_type": "code",
      "metadata": {
        "id": "xO_luFpeGR3x",
        "colab_type": "code",
        "colab": {}
      },
      "source": [
        "def evaluate(model, iterator, criterion):\n",
        "    model.eval()\n",
        "    epoch_loss = 0\n",
        "    epoch_acc = 0\n",
        "\n",
        "    with torch.no_grad():\n",
        "        for i, batch in enumerate(iterator):\n",
        "            src, src_len = batch.comment\n",
        "            trg = torch.cat((\n",
        "                batch.toxic.unsqueeze(1),\n",
        "                batch.severe_toxic.unsqueeze(1),\n",
        "                batch.obscene.unsqueeze(1),\n",
        "                batch.threat.unsqueeze(1),\n",
        "                batch.insult.unsqueeze(1),\n",
        "                batch.identity_hate.unsqueeze(1)),\n",
        "                dim=1).to(device)\n",
        "            labels = torch.max(trg, 1)[1]\n",
        "\n",
        "            predictions = model(src, src_len)\n",
        "            # predictions => [batch_size, output_dim]\n",
        "            # trg => [batch_size, outptu_dim]\n",
        "\n",
        "            loss = criterion(predictions, labels)            \n",
        "            acc = categorical_accuracy(predictions, labels)\n",
        "\n",
        "            epoch_loss += loss.item()\n",
        "            epoch_acc += acc.item()\n",
        "    return epoch_loss / len(iterator), epoch_acc / len(iterator)"
      ],
      "execution_count": 191,
      "outputs": []
    },
    {
      "cell_type": "code",
      "metadata": {
        "id": "OUyA_vrGGSgF",
        "colab_type": "code",
        "colab": {}
      },
      "source": [
        "def epoch_time(start_time, end_time):\n",
        "    elapsed_time = end_time - start_time\n",
        "    elapsed_mins = int(elapsed_time / 60)\n",
        "    elapsed_secs = elapsed_time - (elapsed_mins * 60)\n",
        "    return elapsed_mins, elapsed_secs"
      ],
      "execution_count": 192,
      "outputs": []
    },
    {
      "cell_type": "markdown",
      "metadata": {
        "id": "tj4QhLbJMEmB",
        "colab_type": "text"
      },
      "source": [
        "### Training"
      ]
    },
    {
      "cell_type": "code",
      "metadata": {
        "id": "m8i8TFI8Gcq_",
        "colab_type": "code",
        "colab": {
          "base_uri": "https://localhost:8080/",
          "height": 173
        },
        "outputId": "c0a815c9-4e6a-4acc-ade7-6a2a131f7938"
      },
      "source": [
        "N_EPOCHS = 3\n",
        "CLIP = 1\n",
        "\n",
        "best_valid_loss = float('inf')\n",
        "\n",
        "for epoch in range(N_EPOCHS):\n",
        "    start_time = time.time()\n",
        "\n",
        "    train_loss, train_acc = train(model, train_iterator, criterion, optimizer, CLIP)\n",
        "    valid_loss, val_acc = evaluate(model, valid_iterator, criterion)\n",
        "\n",
        "    end_time = time.time()\n",
        "\n",
        "    epoch_mins, epoch_secs = epoch_time(start_time, end_time)\n",
        "\n",
        "    if valid_loss < best_valid_loss:\n",
        "        best_valid_loss = valid_loss\n",
        "        torch.save(model.state_dict(), 'model.pt')\n",
        "\n",
        "    print(f\"Epoch: {epoch+1:02} | Time: {epoch_mins}m {epoch_secs}s\")\n",
        "    print(f\"\\tTrain Loss: {train_loss:.3f} | Train Acc: {train_acc*100:.2f}%\")\n",
        "    print(f\"\\tValid Loss: {valid_loss:.3f} | Val. Acc: {val_acc*100:.2f}%\")"
      ],
      "execution_count": 196,
      "outputs": [
        {
          "output_type": "stream",
          "text": [
            "Epoch: 01 | Time: 3m 17.31551480293274s\n",
            "\tTrain Loss: 0.019 | Train Acc: 99.52%\n",
            "\tValid Loss: 0.070 | Val. Acc: 99.18%\n",
            "Epoch: 02 | Time: 3m 17.01648211479187s\n",
            "\tTrain Loss: 0.012 | Train Acc: 99.63%\n",
            "\tValid Loss: 0.096 | Val. Acc: 99.26%\n",
            "Epoch: 03 | Time: 3m 16.90470004081726s\n",
            "\tTrain Loss: 0.010 | Train Acc: 99.71%\n",
            "\tValid Loss: 0.101 | Val. Acc: 99.20%\n"
          ],
          "name": "stdout"
        }
      ]
    },
    {
      "cell_type": "markdown",
      "metadata": {
        "id": "QRIJPMrDMGMv",
        "colab_type": "text"
      },
      "source": [
        "### Evaluation"
      ]
    },
    {
      "cell_type": "code",
      "metadata": {
        "id": "OxCouOzNIbvY",
        "colab_type": "code",
        "colab": {
          "base_uri": "https://localhost:8080/",
          "height": 35
        },
        "outputId": "f4eb6329-96b7-4095-ef91-d696afc3700e"
      },
      "source": [
        "model.load_state_dict(torch.load('model.pt'))\n",
        "\n",
        "test_loss, test_acc = evaluate(model, test_iterator, criterion)\n",
        "\n",
        "print(f'Test Loss: {test_loss:.3f} |  Test Acc: {test_acc*100:.2f}%')"
      ],
      "execution_count": 198,
      "outputs": [
        {
          "output_type": "stream",
          "text": [
            "Test Loss: 0.049 |  Test Acc: 99.42%\n"
          ],
          "name": "stdout"
        }
      ]
    }
  ]
}