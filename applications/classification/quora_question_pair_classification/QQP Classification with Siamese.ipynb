{
  "nbformat": 4,
  "nbformat_minor": 0,
  "metadata": {
    "colab": {
      "name": "QQP Classification with Siamese.ipynb",
      "provenance": [],
      "authorship_tag": "ABX9TyPYmUfEFPevlvTTkyF1yQ3Q",
      "include_colab_link": true
    },
    "kernelspec": {
      "name": "python3",
      "display_name": "Python 3"
    },
    "accelerator": "GPU"
  },
  "cells": [
    {
      "cell_type": "markdown",
      "metadata": {
        "id": "view-in-github",
        "colab_type": "text"
      },
      "source": [
        "<a href=\"https://colab.research.google.com/github/graviraja/100-Days-of-NLP/blob/applications%2Fclassification/applications/classification/QQP%20Classification%20with%20Siamese.ipynb\" target=\"_parent\"><img src=\"https://colab.research.google.com/assets/colab-badge.svg\" alt=\"Open In Colab\"/></a>"
      ]
    },
    {
      "cell_type": "code",
      "metadata": {
        "id": "KAj-bxTdkYkt",
        "colab_type": "code",
        "outputId": "2bbacdf4-a948-490a-882a-acd4200dbcb5",
        "colab": {
          "base_uri": "https://localhost:8080/",
          "height": 242
        }
      },
      "source": [
        "TASK_DATA_DIR = 'glue_data/QQP'\n",
        "!test -d glue_data || git clone https://gist.github.com/60c2bdb54d156a41194446737ce03e2e.git glue_data\n",
        "!test -d $TASK_DATA_DIR || python glue_data/download_glue_data.py --data_dir glue_data --tasks=QQP\n",
        "!ls -alh $TASK_DATA_DIR"
      ],
      "execution_count": 0,
      "outputs": [
        {
          "output_type": "stream",
          "text": [
            "Cloning into 'glue_data'...\n",
            "remote: Enumerating objects: 21, done.\u001b[K\n",
            "remote: Total 21 (delta 0), reused 0 (delta 0), pack-reused 21\u001b[K\n",
            "Unpacking objects: 100% (21/21), done.\n",
            "Downloading and extracting QQP...\n",
            "\tCompleted!\n",
            "total 104M\n",
            "drwxr-xr-x 3 root root 4.0K Jun 12 16:29 .\n",
            "drwxr-xr-x 4 root root 4.0K Jun 12 16:29 ..\n",
            "-rw-r--r-- 1 root root 5.6M Jun 12 16:29 dev.tsv\n",
            "drwxr-xr-x 2 root root 4.0K Jun 12 16:29 original\n",
            "-rw-r--r-- 1 root root  49M Jun 12 16:29 test.tsv\n",
            "-rw-r--r-- 1 root root  50M Jun 12 16:29 train.tsv\n"
          ],
          "name": "stdout"
        }
      ]
    },
    {
      "cell_type": "code",
      "metadata": {
        "id": "T6qQ5koukpli",
        "colab_type": "code",
        "colab": {}
      },
      "source": [
        "import time\n",
        "import pandas as pd\n",
        "\n",
        "import torch\n",
        "import torch.nn as nn\n",
        "import torch.optim as optim\n",
        "\n",
        "import matplotlib.pyplot as plt\n",
        "import seaborn as sns\n",
        "\n",
        "import numpy as np\n",
        "from fastai.text import Tokenizer, Vocab\n",
        "from torch.utils.data import Dataset, DataLoader\n",
        "from sklearn.utils import shuffle\n"
      ],
      "execution_count": 0,
      "outputs": []
    },
    {
      "cell_type": "code",
      "metadata": {
        "id": "teblZgYCgPPp",
        "colab_type": "code",
        "colab": {}
      },
      "source": [
        "SEED = 1234\n",
        "\n",
        "np.random.seed(SEED)\n",
        "torch.manual_seed(SEED)\n",
        "torch.backends.cudnn.deterministic = True"
      ],
      "execution_count": 0,
      "outputs": []
    },
    {
      "cell_type": "code",
      "metadata": {
        "id": "tsYQsO6lgbUP",
        "colab_type": "code",
        "outputId": "7b92f1e3-05ac-409e-dd10-c7ca77673cba",
        "colab": {
          "base_uri": "https://localhost:8080/",
          "height": 35
        }
      },
      "source": [
        "device = torch.device('cuda' if torch.cuda.is_available() else 'cpu')\n",
        "device"
      ],
      "execution_count": 0,
      "outputs": [
        {
          "output_type": "execute_result",
          "data": {
            "text/plain": [
              "device(type='cuda')"
            ]
          },
          "metadata": {
            "tags": []
          },
          "execution_count": 5
        }
      ]
    },
    {
      "cell_type": "code",
      "metadata": {
        "id": "IAATlnfelkFJ",
        "colab_type": "code",
        "outputId": "31c14090-11cd-4152-bf69-93b9800e846e",
        "colab": {
          "base_uri": "https://localhost:8080/",
          "height": 305
        }
      },
      "source": [
        "train_df = pd.read_csv(TASK_DATA_DIR + '/train.tsv', sep='\\t', error_bad_lines=False)\n",
        "valid_df = pd.read_csv(TASK_DATA_DIR + '/dev.tsv', sep='\\t', error_bad_lines=False)\n",
        "train_df.head()"
      ],
      "execution_count": 0,
      "outputs": [
        {
          "output_type": "stream",
          "text": [
            "b'Skipping line 83032: expected 6 fields, saw 7\\n'\n",
            "b'Skipping line 154657: expected 6 fields, saw 7\\n'\n",
            "b'Skipping line 323916: expected 6 fields, saw 7\\n'\n",
            "/usr/local/lib/python3.6/dist-packages/IPython/core/interactiveshell.py:2718: DtypeWarning: Columns (1) have mixed types.Specify dtype option on import or set low_memory=False.\n",
            "  interactivity=interactivity, compiler=compiler, result=result)\n"
          ],
          "name": "stderr"
        },
        {
          "output_type": "execute_result",
          "data": {
            "text/html": [
              "<div>\n",
              "<style scoped>\n",
              "    .dataframe tbody tr th:only-of-type {\n",
              "        vertical-align: middle;\n",
              "    }\n",
              "\n",
              "    .dataframe tbody tr th {\n",
              "        vertical-align: top;\n",
              "    }\n",
              "\n",
              "    .dataframe thead th {\n",
              "        text-align: right;\n",
              "    }\n",
              "</style>\n",
              "<table border=\"1\" class=\"dataframe\">\n",
              "  <thead>\n",
              "    <tr style=\"text-align: right;\">\n",
              "      <th></th>\n",
              "      <th>id</th>\n",
              "      <th>qid1</th>\n",
              "      <th>qid2</th>\n",
              "      <th>question1</th>\n",
              "      <th>question2</th>\n",
              "      <th>is_duplicate</th>\n",
              "    </tr>\n",
              "  </thead>\n",
              "  <tbody>\n",
              "    <tr>\n",
              "      <th>0</th>\n",
              "      <td>133273</td>\n",
              "      <td>213221</td>\n",
              "      <td>213222.0</td>\n",
              "      <td>How is the life of a math student? Could you d...</td>\n",
              "      <td>Which level of prepration is enough for the ex...</td>\n",
              "      <td>0.0</td>\n",
              "    </tr>\n",
              "    <tr>\n",
              "      <th>1</th>\n",
              "      <td>402555</td>\n",
              "      <td>536040</td>\n",
              "      <td>536041.0</td>\n",
              "      <td>How do I control my horny emotions?</td>\n",
              "      <td>How do you control your horniness?</td>\n",
              "      <td>1.0</td>\n",
              "    </tr>\n",
              "    <tr>\n",
              "      <th>2</th>\n",
              "      <td>360472</td>\n",
              "      <td>364011</td>\n",
              "      <td>490273.0</td>\n",
              "      <td>What causes stool color to change to yellow?</td>\n",
              "      <td>What can cause stool to come out as little balls?</td>\n",
              "      <td>0.0</td>\n",
              "    </tr>\n",
              "    <tr>\n",
              "      <th>3</th>\n",
              "      <td>150662</td>\n",
              "      <td>155721</td>\n",
              "      <td>7256.0</td>\n",
              "      <td>What can one do after MBBS?</td>\n",
              "      <td>What do i do after my MBBS ?</td>\n",
              "      <td>1.0</td>\n",
              "    </tr>\n",
              "    <tr>\n",
              "      <th>4</th>\n",
              "      <td>183004</td>\n",
              "      <td>279958</td>\n",
              "      <td>279959.0</td>\n",
              "      <td>Where can I find a power outlet for my laptop ...</td>\n",
              "      <td>Would a second airport in Sydney, Australia be...</td>\n",
              "      <td>0.0</td>\n",
              "    </tr>\n",
              "  </tbody>\n",
              "</table>\n",
              "</div>"
            ],
            "text/plain": [
              "       id  ... is_duplicate\n",
              "0  133273  ...          0.0\n",
              "1  402555  ...          1.0\n",
              "2  360472  ...          0.0\n",
              "3  150662  ...          1.0\n",
              "4  183004  ...          0.0\n",
              "\n",
              "[5 rows x 6 columns]"
            ]
          },
          "metadata": {
            "tags": []
          },
          "execution_count": 6
        }
      ]
    },
    {
      "cell_type": "code",
      "metadata": {
        "id": "Vq8-XRyOlmTn",
        "colab_type": "code",
        "outputId": "ed480ed0-304f-4ce3-f49f-d9bdb4628414",
        "colab": {
          "base_uri": "https://localhost:8080/",
          "height": 52
        }
      },
      "source": [
        "print(f\"Training df shape: {train_df.shape}\")\n",
        "print(f\"Validation df shape: {valid_df.shape}\")"
      ],
      "execution_count": 0,
      "outputs": [
        {
          "output_type": "stream",
          "text": [
            "Training df shape: (363192, 6)\n",
            "Validation df shape: (40372, 6)\n"
          ],
          "name": "stdout"
        }
      ]
    },
    {
      "cell_type": "markdown",
      "metadata": {
        "id": "_a3yy6iznwSY",
        "colab_type": "text"
      },
      "source": [
        "### Simple Data Exploration"
      ]
    },
    {
      "cell_type": "code",
      "metadata": {
        "id": "V5lPRjfzmngO",
        "colab_type": "code",
        "outputId": "d3550b78-e366-46a7-f20d-238eee54e9b8",
        "colab": {
          "base_uri": "https://localhost:8080/",
          "height": 296
        }
      },
      "source": [
        "sns.countplot(train_df.is_duplicate)\n",
        "plt.xlabel('Number of duplicate questions in training data')"
      ],
      "execution_count": 0,
      "outputs": [
        {
          "output_type": "execute_result",
          "data": {
            "text/plain": [
              "Text(0.5, 0, 'Number of duplicate questions in training data')"
            ]
          },
          "metadata": {
            "tags": []
          },
          "execution_count": 8
        },
        {
          "output_type": "display_data",
          "data": {
            "image/png": "[encoded data removed]",
            "text/plain": [
              "<Figure size 432x288 with 1 Axes>"
            ]
          },
          "metadata": {
            "tags": [],
            "needs_background": "light"
          }
        }
      ]
    },
    {
      "cell_type": "code",
      "metadata": {
        "id": "MtjJZtfaoptv",
        "colab_type": "code",
        "outputId": "c9fab550-c6d2-4ea3-fc9e-b843e58fc938",
        "colab": {
          "base_uri": "https://localhost:8080/",
          "height": 296
        }
      },
      "source": [
        "sns.countplot(valid_df.is_duplicate)\n",
        "plt.xlabel('Number of duplicate questions in validation data')"
      ],
      "execution_count": 0,
      "outputs": [
        {
          "output_type": "execute_result",
          "data": {
            "text/plain": [
              "Text(0.5, 0, 'Number of duplicate questions in validation data')"
            ]
          },
          "metadata": {
            "tags": []
          },
          "execution_count": 9
        },
        {
          "output_type": "display_data",
          "data": {
            "image/png": "[encoded data removed]",
            "text/plain": [
              "<Figure size 432x288 with 1 Axes>"
            ]
          },
          "metadata": {
            "tags": [],
            "needs_background": "light"
          }
        }
      ]
    },
    {
      "cell_type": "markdown",
      "metadata": {
        "id": "PoKz9czcn1FV",
        "colab_type": "text"
      },
      "source": [
        "Remove the unnecessary columns"
      ]
    },
    {
      "cell_type": "code",
      "metadata": {
        "id": "2D3KBuNynQSQ",
        "colab_type": "code",
        "outputId": "009346aa-9043-4921-b25f-cc7816925e72",
        "colab": {
          "base_uri": "https://localhost:8080/",
          "height": 198
        }
      },
      "source": [
        "train_df = train_df.drop(columns=['id', 'qid1', 'qid2'])\n",
        "valid_df = valid_df.drop(columns=['id', 'qid1', 'qid2'])\n",
        "train_df.head()"
      ],
      "execution_count": 0,
      "outputs": [
        {
          "output_type": "execute_result",
          "data": {
            "text/html": [
              "<div>\n",
              "<style scoped>\n",
              "    .dataframe tbody tr th:only-of-type {\n",
              "        vertical-align: middle;\n",
              "    }\n",
              "\n",
              "    .dataframe tbody tr th {\n",
              "        vertical-align: top;\n",
              "    }\n",
              "\n",
              "    .dataframe thead th {\n",
              "        text-align: right;\n",
              "    }\n",
              "</style>\n",
              "<table border=\"1\" class=\"dataframe\">\n",
              "  <thead>\n",
              "    <tr style=\"text-align: right;\">\n",
              "      <th></th>\n",
              "      <th>question1</th>\n",
              "      <th>question2</th>\n",
              "      <th>is_duplicate</th>\n",
              "    </tr>\n",
              "  </thead>\n",
              "  <tbody>\n",
              "    <tr>\n",
              "      <th>0</th>\n",
              "      <td>How is the life of a math student? Could you d...</td>\n",
              "      <td>Which level of prepration is enough for the ex...</td>\n",
              "      <td>0.0</td>\n",
              "    </tr>\n",
              "    <tr>\n",
              "      <th>1</th>\n",
              "      <td>How do I control my horny emotions?</td>\n",
              "      <td>How do you control your horniness?</td>\n",
              "      <td>1.0</td>\n",
              "    </tr>\n",
              "    <tr>\n",
              "      <th>2</th>\n",
              "      <td>What causes stool color to change to yellow?</td>\n",
              "      <td>What can cause stool to come out as little balls?</td>\n",
              "      <td>0.0</td>\n",
              "    </tr>\n",
              "    <tr>\n",
              "      <th>3</th>\n",
              "      <td>What can one do after MBBS?</td>\n",
              "      <td>What do i do after my MBBS ?</td>\n",
              "      <td>1.0</td>\n",
              "    </tr>\n",
              "    <tr>\n",
              "      <th>4</th>\n",
              "      <td>Where can I find a power outlet for my laptop ...</td>\n",
              "      <td>Would a second airport in Sydney, Australia be...</td>\n",
              "      <td>0.0</td>\n",
              "    </tr>\n",
              "  </tbody>\n",
              "</table>\n",
              "</div>"
            ],
            "text/plain": [
              "                                           question1  ... is_duplicate\n",
              "0  How is the life of a math student? Could you d...  ...          0.0\n",
              "1                How do I control my horny emotions?  ...          1.0\n",
              "2       What causes stool color to change to yellow?  ...          0.0\n",
              "3                        What can one do after MBBS?  ...          1.0\n",
              "4  Where can I find a power outlet for my laptop ...  ...          0.0\n",
              "\n",
              "[5 rows x 3 columns]"
            ]
          },
          "metadata": {
            "tags": []
          },
          "execution_count": 10
        }
      ]
    },
    {
      "cell_type": "code",
      "metadata": {
        "id": "a4P8s3-toItn",
        "colab_type": "code",
        "outputId": "a1d89d8a-e4a8-42ce-9f91-92cdeeb28dff",
        "colab": {
          "base_uri": "https://localhost:8080/",
          "height": 52
        }
      },
      "source": [
        "print(f\"Percentage of Question pairs that are not Similar (is_duplicate = 0): {100 - round(train_df['is_duplicate'].mean()*100, 2)}%\")\n",
        "print(f\"Percentage of Question pairs that are Similar (is_duplicate = 1): {round(train_df['is_duplicate'].mean()*100, 2)}%\")"
      ],
      "execution_count": 0,
      "outputs": [
        {
          "output_type": "stream",
          "text": [
            "Percentage of Question pairs that are not Similar (is_duplicate = 0): 63.06%\n",
            "Percentage of Question pairs that are Similar (is_duplicate = 1): 36.94%\n"
          ],
          "name": "stdout"
        }
      ]
    },
    {
      "cell_type": "code",
      "metadata": {
        "id": "Xl9Ftp1Dpjxk",
        "colab_type": "code",
        "outputId": "ead0149e-e55e-4c46-d867-099215956eef",
        "colab": {
          "base_uri": "https://localhost:8080/",
          "height": 198
        }
      },
      "source": [
        "train_df['q1_length'] = train_df['question1'].apply(lambda x: len(str(x)))\n",
        "train_df['q2_length'] = train_df['question2'].apply(lambda x: len(str(x)))\n",
        "train_df.head()"
      ],
      "execution_count": 0,
      "outputs": [
        {
          "output_type": "execute_result",
          "data": {
            "text/html": [
              "<div>\n",
              "<style scoped>\n",
              "    .dataframe tbody tr th:only-of-type {\n",
              "        vertical-align: middle;\n",
              "    }\n",
              "\n",
              "    .dataframe tbody tr th {\n",
              "        vertical-align: top;\n",
              "    }\n",
              "\n",
              "    .dataframe thead th {\n",
              "        text-align: right;\n",
              "    }\n",
              "</style>\n",
              "<table border=\"1\" class=\"dataframe\">\n",
              "  <thead>\n",
              "    <tr style=\"text-align: right;\">\n",
              "      <th></th>\n",
              "      <th>question1</th>\n",
              "      <th>question2</th>\n",
              "      <th>is_duplicate</th>\n",
              "      <th>q1_length</th>\n",
              "      <th>q2_length</th>\n",
              "    </tr>\n",
              "  </thead>\n",
              "  <tbody>\n",
              "    <tr>\n",
              "      <th>0</th>\n",
              "      <td>How is the life of a math student? Could you d...</td>\n",
              "      <td>Which level of prepration is enough for the ex...</td>\n",
              "      <td>0.0</td>\n",
              "      <td>75</td>\n",
              "      <td>55</td>\n",
              "    </tr>\n",
              "    <tr>\n",
              "      <th>1</th>\n",
              "      <td>How do I control my horny emotions?</td>\n",
              "      <td>How do you control your horniness?</td>\n",
              "      <td>1.0</td>\n",
              "      <td>35</td>\n",
              "      <td>34</td>\n",
              "    </tr>\n",
              "    <tr>\n",
              "      <th>2</th>\n",
              "      <td>What causes stool color to change to yellow?</td>\n",
              "      <td>What can cause stool to come out as little balls?</td>\n",
              "      <td>0.0</td>\n",
              "      <td>44</td>\n",
              "      <td>49</td>\n",
              "    </tr>\n",
              "    <tr>\n",
              "      <th>3</th>\n",
              "      <td>What can one do after MBBS?</td>\n",
              "      <td>What do i do after my MBBS ?</td>\n",
              "      <td>1.0</td>\n",
              "      <td>27</td>\n",
              "      <td>28</td>\n",
              "    </tr>\n",
              "    <tr>\n",
              "      <th>4</th>\n",
              "      <td>Where can I find a power outlet for my laptop ...</td>\n",
              "      <td>Would a second airport in Sydney, Australia be...</td>\n",
              "      <td>0.0</td>\n",
              "      <td>67</td>\n",
              "      <td>121</td>\n",
              "    </tr>\n",
              "  </tbody>\n",
              "</table>\n",
              "</div>"
            ],
            "text/plain": [
              "                                           question1  ... q2_length\n",
              "0  How is the life of a math student? Could you d...  ...        55\n",
              "1                How do I control my horny emotions?  ...        34\n",
              "2       What causes stool color to change to yellow?  ...        49\n",
              "3                        What can one do after MBBS?  ...        28\n",
              "4  Where can I find a power outlet for my laptop ...  ...       121\n",
              "\n",
              "[5 rows x 5 columns]"
            ]
          },
          "metadata": {
            "tags": []
          },
          "execution_count": 12
        }
      ]
    },
    {
      "cell_type": "code",
      "metadata": {
        "id": "eGvpdzksqUUe",
        "colab_type": "code",
        "outputId": "7c80a1f6-0677-4598-a4c5-8ba2b6ea3b51",
        "colab": {
          "base_uri": "https://localhost:8080/",
          "height": 35
        }
      },
      "source": [
        "train_df.q1_length.mean()"
      ],
      "execution_count": 0,
      "outputs": [
        {
          "output_type": "execute_result",
          "data": {
            "text/plain": [
              "59.622042886407186"
            ]
          },
          "metadata": {
            "tags": []
          },
          "execution_count": 13
        }
      ]
    },
    {
      "cell_type": "code",
      "metadata": {
        "id": "IBW47HbRq12J",
        "colab_type": "code",
        "outputId": "404ca607-e066-44f2-81d1-b311d6021404",
        "colab": {
          "base_uri": "https://localhost:8080/",
          "height": 35
        }
      },
      "source": [
        "train_df.q2_length.mean()"
      ],
      "execution_count": 0,
      "outputs": [
        {
          "output_type": "execute_result",
          "data": {
            "text/plain": [
              "60.173357342672745"
            ]
          },
          "metadata": {
            "tags": []
          },
          "execution_count": 14
        }
      ]
    },
    {
      "cell_type": "code",
      "metadata": {
        "id": "X-woDUP1gsAy",
        "colab_type": "code",
        "outputId": "77c44895-9702-4642-bb2d-e17799845ddd",
        "colab": {
          "base_uri": "https://localhost:8080/",
          "height": 198
        }
      },
      "source": [
        "train_df = train_df.drop(['q1_length', 'q2_length'], axis=1)\n",
        "train_df.head()"
      ],
      "execution_count": 0,
      "outputs": [
        {
          "output_type": "execute_result",
          "data": {
            "text/html": [
              "<div>\n",
              "<style scoped>\n",
              "    .dataframe tbody tr th:only-of-type {\n",
              "        vertical-align: middle;\n",
              "    }\n",
              "\n",
              "    .dataframe tbody tr th {\n",
              "        vertical-align: top;\n",
              "    }\n",
              "\n",
              "    .dataframe thead th {\n",
              "        text-align: right;\n",
              "    }\n",
              "</style>\n",
              "<table border=\"1\" class=\"dataframe\">\n",
              "  <thead>\n",
              "    <tr style=\"text-align: right;\">\n",
              "      <th></th>\n",
              "      <th>question1</th>\n",
              "      <th>question2</th>\n",
              "      <th>is_duplicate</th>\n",
              "    </tr>\n",
              "  </thead>\n",
              "  <tbody>\n",
              "    <tr>\n",
              "      <th>0</th>\n",
              "      <td>How is the life of a math student? Could you d...</td>\n",
              "      <td>Which level of prepration is enough for the ex...</td>\n",
              "      <td>0.0</td>\n",
              "    </tr>\n",
              "    <tr>\n",
              "      <th>1</th>\n",
              "      <td>How do I control my horny emotions?</td>\n",
              "      <td>How do you control your horniness?</td>\n",
              "      <td>1.0</td>\n",
              "    </tr>\n",
              "    <tr>\n",
              "      <th>2</th>\n",
              "      <td>What causes stool color to change to yellow?</td>\n",
              "      <td>What can cause stool to come out as little balls?</td>\n",
              "      <td>0.0</td>\n",
              "    </tr>\n",
              "    <tr>\n",
              "      <th>3</th>\n",
              "      <td>What can one do after MBBS?</td>\n",
              "      <td>What do i do after my MBBS ?</td>\n",
              "      <td>1.0</td>\n",
              "    </tr>\n",
              "    <tr>\n",
              "      <th>4</th>\n",
              "      <td>Where can I find a power outlet for my laptop ...</td>\n",
              "      <td>Would a second airport in Sydney, Australia be...</td>\n",
              "      <td>0.0</td>\n",
              "    </tr>\n",
              "  </tbody>\n",
              "</table>\n",
              "</div>"
            ],
            "text/plain": [
              "                                           question1  ... is_duplicate\n",
              "0  How is the life of a math student? Could you d...  ...          0.0\n",
              "1                How do I control my horny emotions?  ...          1.0\n",
              "2       What causes stool color to change to yellow?  ...          0.0\n",
              "3                        What can one do after MBBS?  ...          1.0\n",
              "4  Where can I find a power outlet for my laptop ...  ...          0.0\n",
              "\n",
              "[5 rows x 3 columns]"
            ]
          },
          "metadata": {
            "tags": []
          },
          "execution_count": 15
        }
      ]
    },
    {
      "cell_type": "markdown",
      "metadata": {
        "id": "BtOEpnHBu5X6",
        "colab_type": "text"
      },
      "source": [
        "### Processing Data"
      ]
    },
    {
      "cell_type": "code",
      "metadata": {
        "id": "nNvX0-C95Pqk",
        "colab_type": "code",
        "colab": {}
      },
      "source": [
        "def tokenizer(texts):\n",
        "    tokens = Tokenizer().process_all(texts)\n",
        "    print(f\"sentence: {texts[0]}\")\n",
        "    print(f\"tokens: {tokens[0]}\")\n",
        "    return tokens"
      ],
      "execution_count": 0,
      "outputs": []
    },
    {
      "cell_type": "code",
      "metadata": {
        "id": "uSqp1FPW089d",
        "colab_type": "code",
        "colab": {}
      },
      "source": [
        "class QQPProcessor:\n",
        "    def __init__(self, max_vocab, min_freq, tokenizer):\n",
        "        self.max_vocab = max_vocab\n",
        "        self.min_freq = min_freq\n",
        "        self.tokenizer = tokenizer\n",
        "        self.vocab = None\n",
        "    \n",
        "    def tokenize(self, question1, question2):\n",
        "        all_texts = []\n",
        "        for q1, q2 in zip(question1, question2):\n",
        "            all_texts.append(q1)\n",
        "            all_texts.append(q2)\n",
        "        start_time = time.time()\n",
        "        sents_tokens = self.tokenizer(all_texts)\n",
        "        end_time = time.time()\n",
        "        print(f\"Tokenization took: {end_time - start_time} secs\")\n",
        "        if self.vocab is None:\n",
        "            print(f\"Building vocabulary\")\n",
        "            self.vocab = Vocab.create(sents_tokens, max_vocab=self.max_vocab, min_freq=self.min_freq)\n",
        "        \n",
        "        sents_nums = [self.vocab.numericalize(s) for s in sents_tokens]\n",
        "\n",
        "        question1_seq, question2_seq = [], []\n",
        "        for i in range(0, len(sents_nums), 2):\n",
        "            question1_seq.append(sents_nums[i])\n",
        "            question2_seq.append(sents_nums[i+1])\n",
        "\n",
        "        return question1_seq, question2_seq\n"
      ],
      "execution_count": 0,
      "outputs": []
    },
    {
      "cell_type": "code",
      "metadata": {
        "id": "CEsgDJ5W5URM",
        "colab_type": "code",
        "colab": {}
      },
      "source": [
        "max_vocab = 5000\n",
        "min_freq = 5\n",
        "\n",
        "processor = QQPProcessor(max_vocab, min_freq, tokenizer)"
      ],
      "execution_count": 0,
      "outputs": []
    },
    {
      "cell_type": "code",
      "metadata": {
        "id": "QdaqP-aW5YXU",
        "colab_type": "code",
        "colab": {}
      },
      "source": [
        "train_df = shuffle(train_df)\n",
        "\n",
        "train_question1 = train_df.question1.values[:50000]\n",
        "train_question2 = train_df.question2.values[:50000]\n",
        "train_labels = train_df.is_duplicate.values[:50000]\n",
        "\n",
        "val_question1 = valid_df.question1.values[:2000]\n",
        "val_question2 = valid_df.question2.values[:2000]\n",
        "val_labels = valid_df.is_duplicate.values[:2000]"
      ],
      "execution_count": 0,
      "outputs": []
    },
    {
      "cell_type": "code",
      "metadata": {
        "id": "ePBn67Gg7VBU",
        "colab_type": "code",
        "outputId": "f85c9cc1-db3b-427c-ee5a-0bcf0cf01692",
        "colab": {
          "base_uri": "https://localhost:8080/",
          "height": 52
        }
      },
      "source": [
        "print(f\"Training samples: {len(train_question1)}\")\n",
        "print(f\"Validation samples: {len(val_question1)}\")"
      ],
      "execution_count": 0,
      "outputs": [
        {
          "output_type": "stream",
          "text": [
            "Training samples: 50000\n",
            "Validation samples: 2000\n"
          ],
          "name": "stdout"
        }
      ]
    },
    {
      "cell_type": "code",
      "metadata": {
        "id": "uT9WJPKi7TDD",
        "colab_type": "code",
        "outputId": "7de1d3ba-9541-4932-a260-53569a5ff2fb",
        "colab": {
          "base_uri": "https://localhost:8080/",
          "height": 86
        }
      },
      "source": [
        "train_q1_seq, train_q2_seq = processor.tokenize(train_question1, train_question2)"
      ],
      "execution_count": 0,
      "outputs": [
        {
          "output_type": "stream",
          "text": [
            "sentence: What is the top speed of bus rapid transit on dedicated lanes?\n",
            "tokens: ['xxmaj', 'what', 'is', 'the', 'top', 'speed', 'of', 'bus', 'rapid', 'transit', 'on', 'dedicated', 'lanes', '?']\n",
            "Tokenization took: 13.463430166244507 secs\n",
            "Building vocabulary\n"
          ],
          "name": "stdout"
        }
      ]
    },
    {
      "cell_type": "code",
      "metadata": {
        "id": "Lde7W7rd5uyo",
        "colab_type": "code",
        "outputId": "90827e41-4a52-4e5b-c85c-0910b841f050",
        "colab": {
          "base_uri": "https://localhost:8080/",
          "height": 52
        }
      },
      "source": [
        "print(train_question1[0])\n",
        "train_q1_seq[0]"
      ],
      "execution_count": 0,
      "outputs": [
        {
          "output_type": "stream",
          "text": [
            "What is the top speed of bus rapid transit on dedicated lanes?\n"
          ],
          "name": "stdout"
        },
        {
          "output_type": "execute_result",
          "data": {
            "text/plain": [
              "[5, 11, 12, 10, 250, 429, 19, 4090, 0, 3430, 30, 0, 0, 9]"
            ]
          },
          "metadata": {
            "tags": []
          },
          "execution_count": 53
        }
      ]
    },
    {
      "cell_type": "code",
      "metadata": {
        "id": "fW6Np2b06Mnb",
        "colab_type": "code",
        "outputId": "c1d4e614-74a9-458d-9520-7bac155e081a",
        "colab": {
          "base_uri": "https://localhost:8080/",
          "height": 52
        }
      },
      "source": [
        "print(train_question2[0])\n",
        "train_q2_seq[0]"
      ],
      "execution_count": 0,
      "outputs": [
        {
          "output_type": "stream",
          "text": [
            "What is the top speed of ZX-6R?\n"
          ],
          "name": "stdout"
        },
        {
          "output_type": "execute_result",
          "data": {
            "text/plain": [
              "[5, 11, 12, 10, 250, 429, 19, 6, 0, 9]"
            ]
          },
          "metadata": {
            "tags": []
          },
          "execution_count": 54
        }
      ]
    },
    {
      "cell_type": "code",
      "metadata": {
        "id": "4CsmYdXUWlod",
        "colab_type": "code",
        "outputId": "fb7700cd-18c8-451d-dd18-ea0216fa23bc",
        "colab": {
          "base_uri": "https://localhost:8080/",
          "height": 69
        }
      },
      "source": [
        "val_q1_seq, val_q2_seq = processor.tokenize(val_question1, val_question2)"
      ],
      "execution_count": 0,
      "outputs": [
        {
          "output_type": "stream",
          "text": [
            "sentence: Why are African-Americans so beautiful?\n",
            "tokens: ['xxmaj', 'why', 'are', 'xxmaj', 'african', '-', 'xxmaj', 'americans', 'so', 'beautiful', '?']\n",
            "Tokenization took: 1.2879095077514648 secs\n"
          ],
          "name": "stdout"
        }
      ]
    },
    {
      "cell_type": "code",
      "metadata": {
        "id": "3exqCA9p6Xlk",
        "colab_type": "code",
        "colab": {}
      },
      "source": [
        "def collate_fn(data):\n",
        "    def merge(sequences):\n",
        "        lengths = [len(seq) for seq in sequences]\n",
        "        padded_seqs = torch.zeros(len(sequences), max(lengths)).long()\n",
        "        for i, seq in enumerate(sequences):\n",
        "            end = lengths[i]\n",
        "            padded_seqs[i, :end] = seq[:end]\n",
        "        return padded_seqs, lengths\n",
        "\n",
        "    data.sort(key=lambda x: len(x[0]), reverse=True)\n",
        "    q1_seqs, q2_seqs, labels = zip(*data)\n",
        "\n",
        "    q1_seqs, q1_lengths = merge(q1_seqs)\n",
        "    q2_seqs, q2_lengths = merge(q2_seqs)\n",
        "    labels = torch.FloatTensor(labels)\n",
        "    return q1_seqs.transpose(0, 1), q1_lengths, q2_seqs.transpose(0, 1), q2_lengths, labels"
      ],
      "execution_count": 0,
      "outputs": []
    },
    {
      "cell_type": "code",
      "metadata": {
        "id": "IieVQM88995y",
        "colab_type": "code",
        "colab": {}
      },
      "source": [
        "class QuoraDataset(Dataset):\n",
        "    def __init__(self, question1, question2, is_duplicate):\n",
        "        self.question1 = question1\n",
        "        self.question2 = question2\n",
        "        self.label = is_duplicate\n",
        "\n",
        "        assert len(question1) == len(question2)\n",
        "        self.length = len(is_duplicate)\n",
        "    \n",
        "    def __getitem__(self, index):\n",
        "        q1_seq = torch.Tensor(self.question1[index])\n",
        "        q2_seq = torch.Tensor(self.question2[index])\n",
        "        label = self.label[index]\n",
        "        return q1_seq, q2_seq, label\n",
        "\n",
        "    def __len__(self):\n",
        "        return self.length"
      ],
      "execution_count": 0,
      "outputs": []
    },
    {
      "cell_type": "code",
      "metadata": {
        "id": "nroEkVX7DvRY",
        "colab_type": "code",
        "colab": {}
      },
      "source": [
        "train_dataset = QuoraDataset(train_q1_seq, train_q2_seq, train_labels)\n",
        "val_dataset = QuoraDataset(val_q1_seq, val_q2_seq, val_labels)"
      ],
      "execution_count": 0,
      "outputs": []
    },
    {
      "cell_type": "code",
      "metadata": {
        "id": "1E5ND1qOEDJo",
        "colab_type": "code",
        "outputId": "21fca935-af3c-467d-93ab-c62ad5078c20",
        "colab": {
          "base_uri": "https://localhost:8080/",
          "height": 104
        }
      },
      "source": [
        "train_dataset[23]"
      ],
      "execution_count": 0,
      "outputs": [
        {
          "output_type": "execute_result",
          "data": {
            "text/plain": [
              "(tensor([   5.,   11.,   42.,   10.,   91.,   66.,   15.,    0.,    6.,    0.,\n",
              "         1325.,   21.,  500.,   54.,    5., 2535.,   34.,    6.,    0.,    9.]),\n",
              " tensor([   5., 2535.,    6.,    0.,    5., 1325.,   88.,    5., 3955., 3356.,\n",
              "         3613.,    9.]),\n",
              " 0.0)"
            ]
          },
          "metadata": {
            "tags": []
          },
          "execution_count": 59
        }
      ]
    },
    {
      "cell_type": "code",
      "metadata": {
        "id": "6OUpY_-VE45l",
        "colab_type": "code",
        "colab": {}
      },
      "source": [
        "BATCH_SIZE = 64"
      ],
      "execution_count": 0,
      "outputs": []
    },
    {
      "cell_type": "code",
      "metadata": {
        "id": "9fDY5sH7EKcI",
        "colab_type": "code",
        "colab": {}
      },
      "source": [
        "def get_loader(q1_data, q2_data, label_data, train=True, batch_size=BATCH_SIZE):\n",
        "    dataset = QuoraDataset(q1_data, q2_data, label_data)\n",
        "\n",
        "    if train:\n",
        "        shuffle = True\n",
        "    else:\n",
        "        shuffle = False\n",
        "    \n",
        "    dataloader = DataLoader(\n",
        "        dataset=dataset,\n",
        "        batch_size=BATCH_SIZE,\n",
        "        shuffle=shuffle,\n",
        "        collate_fn=collate_fn)\n",
        "\n",
        "    return dataloader"
      ],
      "execution_count": 0,
      "outputs": []
    },
    {
      "cell_type": "code",
      "metadata": {
        "id": "Eu8pX-CKE3Oa",
        "colab_type": "code",
        "colab": {}
      },
      "source": [
        "train_loader = get_loader(train_q1_seq, train_q2_seq, train_labels)\n",
        "val_loader = get_loader(val_q1_seq, val_q2_seq, val_labels, False)"
      ],
      "execution_count": 0,
      "outputs": []
    },
    {
      "cell_type": "code",
      "metadata": {
        "id": "sIb0tvUlFA0N",
        "colab_type": "code",
        "colab": {}
      },
      "source": [
        "q1_batch, q1_len, q2_batch, q2_len, trg = next(iter(train_loader))"
      ],
      "execution_count": 0,
      "outputs": []
    },
    {
      "cell_type": "code",
      "metadata": {
        "id": "radShSdtFGNu",
        "colab_type": "code",
        "outputId": "43e50d3b-1e75-4976-dcb9-792ba98bef35",
        "colab": {
          "base_uri": "https://localhost:8080/",
          "height": 104
        }
      },
      "source": [
        "print(q1_batch.shape)\n",
        "print(len(q1_len))\n",
        "print(q2_batch.shape)\n",
        "print(len(q2_len))\n",
        "print(trg.shape)"
      ],
      "execution_count": 77,
      "outputs": [
        {
          "output_type": "stream",
          "text": [
            "torch.Size([48, 64])\n",
            "64\n",
            "torch.Size([60, 64])\n",
            "64\n",
            "torch.Size([64])\n"
          ],
          "name": "stdout"
        }
      ]
    },
    {
      "cell_type": "code",
      "metadata": {
        "id": "hhdWyPkyFb8w",
        "colab_type": "code",
        "colab": {}
      },
      "source": [
        "class RNN(nn.Module):\n",
        "    def __init__(self, input_dim, emb_dim, hidden_dim, num_layers, output_dim, dropout):\n",
        "        super().__init__()\n",
        "\n",
        "        self.num_layers = num_layers\n",
        "        self.hidden_dim = hidden_dim\n",
        "        self.embedding = nn.Embedding(input_dim, emb_dim)\n",
        "        self.rnn = nn.GRU(emb_dim, hidden_dim, num_layers=num_layers, bidirectional=True)\n",
        "        self.fc_1 = nn.Linear(hidden_dim * 5, hidden_dim)\n",
        "        self.fc_2 = nn.Linear(hidden_dim, 50)\n",
        "        self.fc_3 = nn.Linear(50, output_dim)\n",
        "\n",
        "        self.dropout = nn.Dropout(dropout)\n",
        "        self.ln_1 = nn.LayerNorm(hidden_dim)\n",
        "        self.ln_2 = nn.LayerNorm(50)\n",
        "        self.bn_1 = nn.BatchNorm1d(hidden_dim)\n",
        "        self.bn_2 = nn.BatchNorm1d(50)\n",
        "    \n",
        "    def forward(self, q1, q1_lengths, q2, q2_lengths):\n",
        "        # q1 => [q1_seq_len, batch_size]\n",
        "        # q1_lengths => [batch_size]\n",
        "        # q2 => [q2_seq_len, batch_size]\n",
        "        # q2_lengths => [batch_size]\n",
        "\n",
        "        q1_embed = self.dropout(self.embedding(q1))\n",
        "        q2_embed = self.dropout(self.embedding(q2))\n",
        "        # q1_embed => [q1_seq_len, batch_size, emb_dim]\n",
        "        # q2_embed => [q2_seq_len, batch_size, emb_dim]\n",
        "\n",
        "        q1_packed = nn.utils.rnn.pack_padded_sequence(q1_embed, q1_lengths)\n",
        "\n",
        "        _, q1_hidden = self.rnn(q1_packed)\n",
        "        q1_hidden = q1_hidden.view(self.num_layers, 2, -1, self.hidden_dim)\n",
        "        # q1_hidden => [num_layers, num_dir, batch_size, hidden_dim]\n",
        "\n",
        "        q1_final_layer_hidden = q1_hidden[-1, :, :, :]\n",
        "        # q1_final_layer_hidden => [num_dir, batch_size, hidden_dim]\n",
        "\n",
        "        q1_representation = q1_final_layer_hidden[0] + q1_final_layer_hidden[1]\n",
        "        # q1_representation => [batch_size, hidden_dim]\n",
        "\n",
        "        q1_representation = self.dropout(q1_representation)\n",
        "        # q1_representation => [batch_size, hidden_dim]\n",
        "\n",
        "        _, q2_hidden = self.rnn(q2_embed)\n",
        "        q2_hidden = q2_hidden.view(self.num_layers, 2, -1, self.hidden_dim)\n",
        "        # q2_hidden => [num_layers, num_dir, batch_size, hidden_dim]\n",
        "\n",
        "        q2_final_layer_hidden = q2_hidden[-1, :, :, :]\n",
        "        # q2_final_layer_hidden => [num_dir, batch_size, hidden_dim]\n",
        "\n",
        "        q2_representation = q2_final_layer_hidden[0] + q2_final_layer_hidden[1]\n",
        "        # q2_representation => [batch_size, hidden_dim]\n",
        "\n",
        "        q2_representation = self.dropout(q2_representation)\n",
        "        # q2_representation => [batch_size, hidden_dim]\n",
        "\n",
        "        diff = q1_representation - q2_representation\n",
        "        # diff => [batch_size, hidden_dim]\n",
        "\n",
        "        add = q1_representation + q2_representation\n",
        "        # add => [batch_size, hidden_dim]\n",
        "        \n",
        "        mul = q1_representation * q2_representation\n",
        "        # mul => [batch_size, hidden_dim]\n",
        "\n",
        "        concat = torch.cat((q1_representation, q2_representation), dim=-1)\n",
        "        # concat => [batch_size, hidden_dim * 2]\n",
        "\n",
        "        combined = torch.cat((diff, add, mul, concat), dim=-1)\n",
        "        # combined => [batch_size, hidden_dim * 5]\n",
        "\n",
        "        combined = self.dropout(combined)\n",
        "        # combined => [batch_size, hidden_dim * 5]\n",
        "\n",
        "        out_1 = self.bn_1(self.ln_1(self.dropout(torch.relu(self.fc_1(combined)))))\n",
        "        # out_1 => [batch_size, hidden_dim]\n",
        "\n",
        "        out_2 = self.bn_2(self.ln_2(self.dropout(torch.relu(self.fc_2(out_1)))))\n",
        "        # out_2 => [batch_size, 50]\n",
        "\n",
        "        logits = self.fc_3(out_2)\n",
        "        # logits => [batch_size, 1]\n",
        "\n",
        "        return logits "
      ],
      "execution_count": 0,
      "outputs": []
    },
    {
      "cell_type": "code",
      "metadata": {
        "id": "64MfVlkiSTXN",
        "colab_type": "code",
        "colab": {}
      },
      "source": [
        "input_dim = len(processor.vocab.itos)\n",
        "emb_dim = 100\n",
        "hidden_dim = 200\n",
        "dropout = 0.3\n",
        "output_dim = 1\n",
        "num_layers = 2\n",
        "\n",
        "model = RNN(input_dim, emb_dim, hidden_dim, num_layers, output_dim, dropout)"
      ],
      "execution_count": 0,
      "outputs": []
    },
    {
      "cell_type": "code",
      "metadata": {
        "id": "4fcIJfHdSpeI",
        "colab_type": "code",
        "outputId": "17988757-a927-4e82-ecca-e3d15a783781",
        "colab": {
          "base_uri": "https://localhost:8080/",
          "height": 225
        }
      },
      "source": [
        "model.to(device)"
      ],
      "execution_count": 84,
      "outputs": [
        {
          "output_type": "execute_result",
          "data": {
            "text/plain": [
              "RNN(\n",
              "  (embedding): Embedding(5000, 100)\n",
              "  (rnn): GRU(100, 200, num_layers=2, bidirectional=True)\n",
              "  (fc_1): Linear(in_features=1000, out_features=200, bias=True)\n",
              "  (fc_2): Linear(in_features=200, out_features=50, bias=True)\n",
              "  (fc_3): Linear(in_features=50, out_features=1, bias=True)\n",
              "  (dropout): Dropout(p=0.3, inplace=False)\n",
              "  (ln_1): LayerNorm((200,), eps=1e-05, elementwise_affine=True)\n",
              "  (ln_2): LayerNorm((50,), eps=1e-05, elementwise_affine=True)\n",
              "  (bn_1): BatchNorm1d(200, eps=1e-05, momentum=0.1, affine=True, track_running_stats=True)\n",
              "  (bn_2): BatchNorm1d(50, eps=1e-05, momentum=0.1, affine=True, track_running_stats=True)\n",
              ")"
            ]
          },
          "metadata": {
            "tags": []
          },
          "execution_count": 84
        }
      ]
    },
    {
      "cell_type": "code",
      "metadata": {
        "id": "6IepuasgSqVZ",
        "colab_type": "code",
        "colab": {}
      },
      "source": [
        "optimizer = optim.Adam(model.parameters())\n",
        "criterion = nn.BCEWithLogitsLoss()"
      ],
      "execution_count": 0,
      "outputs": []
    },
    {
      "cell_type": "code",
      "metadata": {
        "id": "DFc3mNNTb0y1",
        "colab_type": "code",
        "colab": {}
      },
      "source": [
        "def binary_accuracy(preds, y):\n",
        "    \"\"\"\n",
        "    Returns accuracy per batch, i.e. if you get 8/10 right, this returns 0.8, NOT 8\n",
        "    \"\"\"\n",
        "\n",
        "    #round predictions to the closest integer\n",
        "    rounded_preds = torch.round(torch.sigmoid(preds))\n",
        "    correct = (rounded_preds == y).float() #convert into float for division \n",
        "    acc = correct.sum() / len(correct)\n",
        "    return acc"
      ],
      "execution_count": 0,
      "outputs": []
    },
    {
      "cell_type": "code",
      "metadata": {
        "id": "gvf-fGEETD_H",
        "colab_type": "code",
        "colab": {}
      },
      "source": [
        "def train(device, model, iterator, criterion, optimizer, clip):\n",
        "    model.train()\n",
        "    train_loss = 0\n",
        "    train_acc = 0\n",
        "    for batch in iterator:\n",
        "        optimizer.zero_grad()\n",
        "        q1, q1_len, q2, q2_len, labels = batch\n",
        "        q1, q2, labels = q1.to(device), q2.to(device), labels.to(device)\n",
        "        logits = model(q1, q1_len, q2, q2_len).squeeze()\n",
        "        # logits => [batch_size]\n",
        "\n",
        "        loss = criterion(logits, labels)\n",
        "        train_loss += loss.item()\n",
        "        acc = binary_accuracy(logits, labels)\n",
        "        train_acc += acc.item()\n",
        "        loss.backward()\n",
        "        nn.utils.clip_grad_norm(model.parameters(), clip)\n",
        "        optimizer.step()\n",
        "\n",
        "    return train_loss / len(iterator), train_acc / len(iterator)"
      ],
      "execution_count": 0,
      "outputs": []
    },
    {
      "cell_type": "code",
      "metadata": {
        "id": "ZrSg2XMnUk8l",
        "colab_type": "code",
        "colab": {}
      },
      "source": [
        "def evaluate(device, model, iterator, criterion):\n",
        "    model.eval()\n",
        "    eval_loss = 0\n",
        "    eval_acc = 0\n",
        "    with torch.no_grad():\n",
        "        for batch in iterator:\n",
        "            q1, q1_len, q2, q2_len, labels = batch\n",
        "            q1, q2, labels = q1.to(device), q2.to(device), labels.to(device)\n",
        "\n",
        "            logits = model(q1, q1_len, q2, q2_len).squeeze()\n",
        "            # logits => [batch_size]\n",
        "\n",
        "            loss = criterion(logits, labels)\n",
        "            eval_loss += loss.item()\n",
        "            acc = binary_accuracy(logits, labels)\n",
        "            eval_acc += acc.item()\n",
        "\n",
        "    return eval_loss / len(iterator), eval_acc / len(iterator)"
      ],
      "execution_count": 0,
      "outputs": []
    },
    {
      "cell_type": "code",
      "metadata": {
        "id": "YIx-3X3NU2YN",
        "colab_type": "code",
        "colab": {}
      },
      "source": [
        "def epoch_time(start_time, end_time):\n",
        "    elapsed_time = end_time - start_time\n",
        "    elapsed_mins = int(elapsed_time / 60)\n",
        "    elapsed_secs = elapsed_time - (elapsed_mins * 60)\n",
        "    return elapsed_mins, elapsed_secs"
      ],
      "execution_count": 0,
      "outputs": []
    },
    {
      "cell_type": "code",
      "metadata": {
        "id": "QxvK8LEYVG0-",
        "colab_type": "code",
        "colab": {}
      },
      "source": [
        "N_EPOCHS = 20\n",
        "CLIP = 1\n",
        "\n",
        "best_valid_loss = float('inf')\n",
        "\n",
        "for epoch in range(N_EPOCHS):\n",
        "    start_time = time.time()\n",
        "    train_loss, train_acc = train(device, model, train_loader, criterion, optimizer, CLIP)\n",
        "    val_loss, val_acc = evaluate(device, model, val_loader, criterion)\n",
        "    end_time = time.time()\n",
        "    elapsed_mins, elapsed_secs = epoch_time(start_time, end_time)\n",
        "\n",
        "    if val_loss < best_valid_loss:\n",
        "        best_valid_loss = val_loss\n",
        "        torch.save(model.state_dict(), 'model.pt')\n",
        "    \n",
        "    print(f\"Epoch: {epoch + 1} | Train Loss: {train_loss:.3f} | Train Acc: {train_acc * 100:.2f} | Val Loss: {val_loss:.3f} | Val Acc: {val_acc * 100:.2f} | Time: {elapsed_mins}m {elapsed_secs}s\")"
      ],
      "execution_count": 0,
      "outputs": []
    },
    {
      "cell_type": "code",
      "metadata": {
        "id": "QrzJMF3HX4p7",
        "colab_type": "code",
        "colab": {}
      },
      "source": [
        ""
      ],
      "execution_count": 0,
      "outputs": []
    }
  ]
}