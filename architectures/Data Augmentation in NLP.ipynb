{
  "nbformat": 4,
  "nbformat_minor": 0,
  "metadata": {
    "colab": {
      "name": "Data Augmentation in NLP.ipynb",
      "provenance": [],
      "authorship_tag": "ABX9TyMH88+dxdcl1ccJ5tHJZssY",
      "include_colab_link": true
    },
    "kernelspec": {
      "name": "python3",
      "display_name": "Python 3"
    },
    "accelerator": "GPU",
    "widgets": {
      "application/vnd.jupyter.widget-state+json": {
        "b984f76b745f48f4a4b1ac3dd7d67765": {
          "model_module": "@jupyter-widgets/controls",
          "model_name": "HBoxModel",
          "state": {
            "_view_name": "HBoxView",
            "_dom_classes": [],
            "_model_name": "HBoxModel",
            "_view_module": "@jupyter-widgets/controls",
            "_model_module_version": "1.5.0",
            "_view_count": null,
            "_view_module_version": "1.5.0",
            "box_style": "",
            "layout": "IPY_MODEL_d69efe996bbb411a980c1d14c2090b01",
            "_model_module": "@jupyter-widgets/controls",
            "children": [
              "IPY_MODEL_975a84cc2c2f4346ad922a550f13b877",
              "IPY_MODEL_8be382d2cb0345cd8c737eaf166f4380"
            ]
          }
        },
        "d69efe996bbb411a980c1d14c2090b01": {
          "model_module": "@jupyter-widgets/base",
          "model_name": "LayoutModel",
          "state": {
            "_view_name": "LayoutView",
            "grid_template_rows": null,
            "right": null,
            "justify_content": null,
            "_view_module": "@jupyter-widgets/base",
            "overflow": null,
            "_model_module_version": "1.2.0",
            "_view_count": null,
            "flex_flow": null,
            "width": null,
            "min_width": null,
            "border": null,
            "align_items": null,
            "bottom": null,
            "_model_module": "@jupyter-widgets/base",
            "top": null,
            "grid_column": null,
            "overflow_y": null,
            "overflow_x": null,
            "grid_auto_flow": null,
            "grid_area": null,
            "grid_template_columns": null,
            "flex": null,
            "_model_name": "LayoutModel",
            "justify_items": null,
            "grid_row": null,
            "max_height": null,
            "align_content": null,
            "visibility": null,
            "align_self": null,
            "height": null,
            "min_height": null,
            "padding": null,
            "grid_auto_rows": null,
            "grid_gap": null,
            "max_width": null,
            "order": null,
            "_view_module_version": "1.2.0",
            "grid_template_areas": null,
            "object_position": null,
            "object_fit": null,
            "grid_auto_columns": null,
            "margin": null,
            "display": null,
            "left": null
          }
        },
        "975a84cc2c2f4346ad922a550f13b877": {
          "model_module": "@jupyter-widgets/controls",
          "model_name": "FloatProgressModel",
          "state": {
            "_view_name": "ProgressView",
            "style": "IPY_MODEL_115aceb678244d3d81cc8e522000bee1",
            "_dom_classes": [],
            "description": "Downloading: 100%",
            "_model_name": "FloatProgressModel",
            "bar_style": "success",
            "max": 231508,
            "_view_module": "@jupyter-widgets/controls",
            "_model_module_version": "1.5.0",
            "value": 231508,
            "_view_count": null,
            "_view_module_version": "1.5.0",
            "orientation": "horizontal",
            "min": 0,
            "description_tooltip": null,
            "_model_module": "@jupyter-widgets/controls",
            "layout": "IPY_MODEL_8fe59803cd27449cacaf3cd0f73d0ea0"
          }
        },
        "8be382d2cb0345cd8c737eaf166f4380": {
          "model_module": "@jupyter-widgets/controls",
          "model_name": "HTMLModel",
          "state": {
            "_view_name": "HTMLView",
            "style": "IPY_MODEL_ce44f37dcd5d4bf3bba859c606de7446",
            "_dom_classes": [],
            "description": "",
            "_model_name": "HTMLModel",
            "placeholder": "​",
            "_view_module": "@jupyter-widgets/controls",
            "_model_module_version": "1.5.0",
            "value": " 232k/232k [00:00&lt;00:00, 305kB/s]",
            "_view_count": null,
            "_view_module_version": "1.5.0",
            "description_tooltip": null,
            "_model_module": "@jupyter-widgets/controls",
            "layout": "IPY_MODEL_4ae8e9f1280f4ba5abdf9fea712b06be"
          }
        },
        "115aceb678244d3d81cc8e522000bee1": {
          "model_module": "@jupyter-widgets/controls",
          "model_name": "ProgressStyleModel",
          "state": {
            "_view_name": "StyleView",
            "_model_name": "ProgressStyleModel",
            "description_width": "initial",
            "_view_module": "@jupyter-widgets/base",
            "_model_module_version": "1.5.0",
            "_view_count": null,
            "_view_module_version": "1.2.0",
            "bar_color": null,
            "_model_module": "@jupyter-widgets/controls"
          }
        },
        "8fe59803cd27449cacaf3cd0f73d0ea0": {
          "model_module": "@jupyter-widgets/base",
          "model_name": "LayoutModel",
          "state": {
            "_view_name": "LayoutView",
            "grid_template_rows": null,
            "right": null,
            "justify_content": null,
            "_view_module": "@jupyter-widgets/base",
            "overflow": null,
            "_model_module_version": "1.2.0",
            "_view_count": null,
            "flex_flow": null,
            "width": null,
            "min_width": null,
            "border": null,
            "align_items": null,
            "bottom": null,
            "_model_module": "@jupyter-widgets/base",
            "top": null,
            "grid_column": null,
            "overflow_y": null,
            "overflow_x": null,
            "grid_auto_flow": null,
            "grid_area": null,
            "grid_template_columns": null,
            "flex": null,
            "_model_name": "LayoutModel",
            "justify_items": null,
            "grid_row": null,
            "max_height": null,
            "align_content": null,
            "visibility": null,
            "align_self": null,
            "height": null,
            "min_height": null,
            "padding": null,
            "grid_auto_rows": null,
            "grid_gap": null,
            "max_width": null,
            "order": null,
            "_view_module_version": "1.2.0",
            "grid_template_areas": null,
            "object_position": null,
            "object_fit": null,
            "grid_auto_columns": null,
            "margin": null,
            "display": null,
            "left": null
          }
        },
        "ce44f37dcd5d4bf3bba859c606de7446": {
          "model_module": "@jupyter-widgets/controls",
          "model_name": "DescriptionStyleModel",
          "state": {
            "_view_name": "StyleView",
            "_model_name": "DescriptionStyleModel",
            "description_width": "",
            "_view_module": "@jupyter-widgets/base",
            "_model_module_version": "1.5.0",
            "_view_count": null,
            "_view_module_version": "1.2.0",
            "_model_module": "@jupyter-widgets/controls"
          }
        },
        "4ae8e9f1280f4ba5abdf9fea712b06be": {
          "model_module": "@jupyter-widgets/base",
          "model_name": "LayoutModel",
          "state": {
            "_view_name": "LayoutView",
            "grid_template_rows": null,
            "right": null,
            "justify_content": null,
            "_view_module": "@jupyter-widgets/base",
            "overflow": null,
            "_model_module_version": "1.2.0",
            "_view_count": null,
            "flex_flow": null,
            "width": null,
            "min_width": null,
            "border": null,
            "align_items": null,
            "bottom": null,
            "_model_module": "@jupyter-widgets/base",
            "top": null,
            "grid_column": null,
            "overflow_y": null,
            "overflow_x": null,
            "grid_auto_flow": null,
            "grid_area": null,
            "grid_template_columns": null,
            "flex": null,
            "_model_name": "LayoutModel",
            "justify_items": null,
            "grid_row": null,
            "max_height": null,
            "align_content": null,
            "visibility": null,
            "align_self": null,
            "height": null,
            "min_height": null,
            "padding": null,
            "grid_auto_rows": null,
            "grid_gap": null,
            "max_width": null,
            "order": null,
            "_view_module_version": "1.2.0",
            "grid_template_areas": null,
            "object_position": null,
            "object_fit": null,
            "grid_auto_columns": null,
            "margin": null,
            "display": null,
            "left": null
          }
        },
        "c85c4145723048868b1b481315befbf4": {
          "model_module": "@jupyter-widgets/controls",
          "model_name": "HBoxModel",
          "state": {
            "_view_name": "HBoxView",
            "_dom_classes": [],
            "_model_name": "HBoxModel",
            "_view_module": "@jupyter-widgets/controls",
            "_model_module_version": "1.5.0",
            "_view_count": null,
            "_view_module_version": "1.5.0",
            "box_style": "",
            "layout": "IPY_MODEL_648dfb8a72ec4b8e89327ef07a3bb3a2",
            "_model_module": "@jupyter-widgets/controls",
            "children": [
              "IPY_MODEL_c908e80d6e7841e885cde9df680e6301",
              "IPY_MODEL_72903c70a4fe4f68852e9272cd1f6253"
            ]
          }
        },
        "648dfb8a72ec4b8e89327ef07a3bb3a2": {
          "model_module": "@jupyter-widgets/base",
          "model_name": "LayoutModel",
          "state": {
            "_view_name": "LayoutView",
            "grid_template_rows": null,
            "right": null,
            "justify_content": null,
            "_view_module": "@jupyter-widgets/base",
            "overflow": null,
            "_model_module_version": "1.2.0",
            "_view_count": null,
            "flex_flow": null,
            "width": null,
            "min_width": null,
            "border": null,
            "align_items": null,
            "bottom": null,
            "_model_module": "@jupyter-widgets/base",
            "top": null,
            "grid_column": null,
            "overflow_y": null,
            "overflow_x": null,
            "grid_auto_flow": null,
            "grid_area": null,
            "grid_template_columns": null,
            "flex": null,
            "_model_name": "LayoutModel",
            "justify_items": null,
            "grid_row": null,
            "max_height": null,
            "align_content": null,
            "visibility": null,
            "align_self": null,
            "height": null,
            "min_height": null,
            "padding": null,
            "grid_auto_rows": null,
            "grid_gap": null,
            "max_width": null,
            "order": null,
            "_view_module_version": "1.2.0",
            "grid_template_areas": null,
            "object_position": null,
            "object_fit": null,
            "grid_auto_columns": null,
            "margin": null,
            "display": null,
            "left": null
          }
        },
        "c908e80d6e7841e885cde9df680e6301": {
          "model_module": "@jupyter-widgets/controls",
          "model_name": "FloatProgressModel",
          "state": {
            "_view_name": "ProgressView",
            "style": "IPY_MODEL_f1db5d7f087a48a2b80226c772720b40",
            "_dom_classes": [],
            "description": "Downloading: 100%",
            "_model_name": "FloatProgressModel",
            "bar_style": "success",
            "max": 442,
            "_view_module": "@jupyter-widgets/controls",
            "_model_module_version": "1.5.0",
            "value": 442,
            "_view_count": null,
            "_view_module_version": "1.5.0",
            "orientation": "horizontal",
            "min": 0,
            "description_tooltip": null,
            "_model_module": "@jupyter-widgets/controls",
            "layout": "IPY_MODEL_33356f653ce4444286e569443d5033f4"
          }
        },
        "72903c70a4fe4f68852e9272cd1f6253": {
          "model_module": "@jupyter-widgets/controls",
          "model_name": "HTMLModel",
          "state": {
            "_view_name": "HTMLView",
            "style": "IPY_MODEL_e97589c5b012486f988a1cbc32824991",
            "_dom_classes": [],
            "description": "",
            "_model_name": "HTMLModel",
            "placeholder": "​",
            "_view_module": "@jupyter-widgets/controls",
            "_model_module_version": "1.5.0",
            "value": " 442/442 [00:07&lt;00:00, 61.8B/s]",
            "_view_count": null,
            "_view_module_version": "1.5.0",
            "description_tooltip": null,
            "_model_module": "@jupyter-widgets/controls",
            "layout": "IPY_MODEL_3d32d016c69044f2b35102c91c145807"
          }
        },
        "f1db5d7f087a48a2b80226c772720b40": {
          "model_module": "@jupyter-widgets/controls",
          "model_name": "ProgressStyleModel",
          "state": {
            "_view_name": "StyleView",
            "_model_name": "ProgressStyleModel",
            "description_width": "initial",
            "_view_module": "@jupyter-widgets/base",
            "_model_module_version": "1.5.0",
            "_view_count": null,
            "_view_module_version": "1.2.0",
            "bar_color": null,
            "_model_module": "@jupyter-widgets/controls"
          }
        },
        "33356f653ce4444286e569443d5033f4": {
          "model_module": "@jupyter-widgets/base",
          "model_name": "LayoutModel",
          "state": {
            "_view_name": "LayoutView",
            "grid_template_rows": null,
            "right": null,
            "justify_content": null,
            "_view_module": "@jupyter-widgets/base",
            "overflow": null,
            "_model_module_version": "1.2.0",
            "_view_count": null,
            "flex_flow": null,
            "width": null,
            "min_width": null,
            "border": null,
            "align_items": null,
            "bottom": null,
            "_model_module": "@jupyter-widgets/base",
            "top": null,
            "grid_column": null,
            "overflow_y": null,
            "overflow_x": null,
            "grid_auto_flow": null,
            "grid_area": null,
            "grid_template_columns": null,
            "flex": null,
            "_model_name": "LayoutModel",
            "justify_items": null,
            "grid_row": null,
            "max_height": null,
            "align_content": null,
            "visibility": null,
            "align_self": null,
            "height": null,
            "min_height": null,
            "padding": null,
            "grid_auto_rows": null,
            "grid_gap": null,
            "max_width": null,
            "order": null,
            "_view_module_version": "1.2.0",
            "grid_template_areas": null,
            "object_position": null,
            "object_fit": null,
            "grid_auto_columns": null,
            "margin": null,
            "display": null,
            "left": null
          }
        },
        "e97589c5b012486f988a1cbc32824991": {
          "model_module": "@jupyter-widgets/controls",
          "model_name": "DescriptionStyleModel",
          "state": {
            "_view_name": "StyleView",
            "_model_name": "DescriptionStyleModel",
            "description_width": "",
            "_view_module": "@jupyter-widgets/base",
            "_model_module_version": "1.5.0",
            "_view_count": null,
            "_view_module_version": "1.2.0",
            "_model_module": "@jupyter-widgets/controls"
          }
        },
        "3d32d016c69044f2b35102c91c145807": {
          "model_module": "@jupyter-widgets/base",
          "model_name": "LayoutModel",
          "state": {
            "_view_name": "LayoutView",
            "grid_template_rows": null,
            "right": null,
            "justify_content": null,
            "_view_module": "@jupyter-widgets/base",
            "overflow": null,
            "_model_module_version": "1.2.0",
            "_view_count": null,
            "flex_flow": null,
            "width": null,
            "min_width": null,
            "border": null,
            "align_items": null,
            "bottom": null,
            "_model_module": "@jupyter-widgets/base",
            "top": null,
            "grid_column": null,
            "overflow_y": null,
            "overflow_x": null,
            "grid_auto_flow": null,
            "grid_area": null,
            "grid_template_columns": null,
            "flex": null,
            "_model_name": "LayoutModel",
            "justify_items": null,
            "grid_row": null,
            "max_height": null,
            "align_content": null,
            "visibility": null,
            "align_self": null,
            "height": null,
            "min_height": null,
            "padding": null,
            "grid_auto_rows": null,
            "grid_gap": null,
            "max_width": null,
            "order": null,
            "_view_module_version": "1.2.0",
            "grid_template_areas": null,
            "object_position": null,
            "object_fit": null,
            "grid_auto_columns": null,
            "margin": null,
            "display": null,
            "left": null
          }
        },
        "4067333c5aab49e6be33ea77c964dc2b": {
          "model_module": "@jupyter-widgets/controls",
          "model_name": "HBoxModel",
          "state": {
            "_view_name": "HBoxView",
            "_dom_classes": [],
            "_model_name": "HBoxModel",
            "_view_module": "@jupyter-widgets/controls",
            "_model_module_version": "1.5.0",
            "_view_count": null,
            "_view_module_version": "1.5.0",
            "box_style": "",
            "layout": "IPY_MODEL_77e4a342f06f4365a906f8c244eec8c2",
            "_model_module": "@jupyter-widgets/controls",
            "children": [
              "IPY_MODEL_fb0b982161554a15b6a35e07f84980b9",
              "IPY_MODEL_35aaa95992a54f3397ac763a2a496ba1"
            ]
          }
        },
        "77e4a342f06f4365a906f8c244eec8c2": {
          "model_module": "@jupyter-widgets/base",
          "model_name": "LayoutModel",
          "state": {
            "_view_name": "LayoutView",
            "grid_template_rows": null,
            "right": null,
            "justify_content": null,
            "_view_module": "@jupyter-widgets/base",
            "overflow": null,
            "_model_module_version": "1.2.0",
            "_view_count": null,
            "flex_flow": null,
            "width": null,
            "min_width": null,
            "border": null,
            "align_items": null,
            "bottom": null,
            "_model_module": "@jupyter-widgets/base",
            "top": null,
            "grid_column": null,
            "overflow_y": null,
            "overflow_x": null,
            "grid_auto_flow": null,
            "grid_area": null,
            "grid_template_columns": null,
            "flex": null,
            "_model_name": "LayoutModel",
            "justify_items": null,
            "grid_row": null,
            "max_height": null,
            "align_content": null,
            "visibility": null,
            "align_self": null,
            "height": null,
            "min_height": null,
            "padding": null,
            "grid_auto_rows": null,
            "grid_gap": null,
            "max_width": null,
            "order": null,
            "_view_module_version": "1.2.0",
            "grid_template_areas": null,
            "object_position": null,
            "object_fit": null,
            "grid_auto_columns": null,
            "margin": null,
            "display": null,
            "left": null
          }
        },
        "fb0b982161554a15b6a35e07f84980b9": {
          "model_module": "@jupyter-widgets/controls",
          "model_name": "FloatProgressModel",
          "state": {
            "_view_name": "ProgressView",
            "style": "IPY_MODEL_534cf2146fcc4020acec33cc746ff1b7",
            "_dom_classes": [],
            "description": "Downloading: 100%",
            "_model_name": "FloatProgressModel",
            "bar_style": "success",
            "max": 267967963,
            "_view_module": "@jupyter-widgets/controls",
            "_model_module_version": "1.5.0",
            "value": 267967963,
            "_view_count": null,
            "_view_module_version": "1.5.0",
            "orientation": "horizontal",
            "min": 0,
            "description_tooltip": null,
            "_model_module": "@jupyter-widgets/controls",
            "layout": "IPY_MODEL_76c2e9fe26b443759c160d81bbceb9c9"
          }
        },
        "35aaa95992a54f3397ac763a2a496ba1": {
          "model_module": "@jupyter-widgets/controls",
          "model_name": "HTMLModel",
          "state": {
            "_view_name": "HTMLView",
            "style": "IPY_MODEL_900e3dfaef784d7d8a6170c0f448d403",
            "_dom_classes": [],
            "description": "",
            "_model_name": "HTMLModel",
            "placeholder": "​",
            "_view_module": "@jupyter-widgets/controls",
            "_model_module_version": "1.5.0",
            "value": " 268M/268M [00:06&lt;00:00, 42.7MB/s]",
            "_view_count": null,
            "_view_module_version": "1.5.0",
            "description_tooltip": null,
            "_model_module": "@jupyter-widgets/controls",
            "layout": "IPY_MODEL_e6862bcc20704449bd09bb40a601668c"
          }
        },
        "534cf2146fcc4020acec33cc746ff1b7": {
          "model_module": "@jupyter-widgets/controls",
          "model_name": "ProgressStyleModel",
          "state": {
            "_view_name": "StyleView",
            "_model_name": "ProgressStyleModel",
            "description_width": "initial",
            "_view_module": "@jupyter-widgets/base",
            "_model_module_version": "1.5.0",
            "_view_count": null,
            "_view_module_version": "1.2.0",
            "bar_color": null,
            "_model_module": "@jupyter-widgets/controls"
          }
        },
        "76c2e9fe26b443759c160d81bbceb9c9": {
          "model_module": "@jupyter-widgets/base",
          "model_name": "LayoutModel",
          "state": {
            "_view_name": "LayoutView",
            "grid_template_rows": null,
            "right": null,
            "justify_content": null,
            "_view_module": "@jupyter-widgets/base",
            "overflow": null,
            "_model_module_version": "1.2.0",
            "_view_count": null,
            "flex_flow": null,
            "width": null,
            "min_width": null,
            "border": null,
            "align_items": null,
            "bottom": null,
            "_model_module": "@jupyter-widgets/base",
            "top": null,
            "grid_column": null,
            "overflow_y": null,
            "overflow_x": null,
            "grid_auto_flow": null,
            "grid_area": null,
            "grid_template_columns": null,
            "flex": null,
            "_model_name": "LayoutModel",
            "justify_items": null,
            "grid_row": null,
            "max_height": null,
            "align_content": null,
            "visibility": null,
            "align_self": null,
            "height": null,
            "min_height": null,
            "padding": null,
            "grid_auto_rows": null,
            "grid_gap": null,
            "max_width": null,
            "order": null,
            "_view_module_version": "1.2.0",
            "grid_template_areas": null,
            "object_position": null,
            "object_fit": null,
            "grid_auto_columns": null,
            "margin": null,
            "display": null,
            "left": null
          }
        },
        "900e3dfaef784d7d8a6170c0f448d403": {
          "model_module": "@jupyter-widgets/controls",
          "model_name": "DescriptionStyleModel",
          "state": {
            "_view_name": "StyleView",
            "_model_name": "DescriptionStyleModel",
            "description_width": "",
            "_view_module": "@jupyter-widgets/base",
            "_model_module_version": "1.5.0",
            "_view_count": null,
            "_view_module_version": "1.2.0",
            "_model_module": "@jupyter-widgets/controls"
          }
        },
        "e6862bcc20704449bd09bb40a601668c": {
          "model_module": "@jupyter-widgets/base",
          "model_name": "LayoutModel",
          "state": {
            "_view_name": "LayoutView",
            "grid_template_rows": null,
            "right": null,
            "justify_content": null,
            "_view_module": "@jupyter-widgets/base",
            "overflow": null,
            "_model_module_version": "1.2.0",
            "_view_count": null,
            "flex_flow": null,
            "width": null,
            "min_width": null,
            "border": null,
            "align_items": null,
            "bottom": null,
            "_model_module": "@jupyter-widgets/base",
            "top": null,
            "grid_column": null,
            "overflow_y": null,
            "overflow_x": null,
            "grid_auto_flow": null,
            "grid_area": null,
            "grid_template_columns": null,
            "flex": null,
            "_model_name": "LayoutModel",
            "justify_items": null,
            "grid_row": null,
            "max_height": null,
            "align_content": null,
            "visibility": null,
            "align_self": null,
            "height": null,
            "min_height": null,
            "padding": null,
            "grid_auto_rows": null,
            "grid_gap": null,
            "max_width": null,
            "order": null,
            "_view_module_version": "1.2.0",
            "grid_template_areas": null,
            "object_position": null,
            "object_fit": null,
            "grid_auto_columns": null,
            "margin": null,
            "display": null,
            "left": null
          }
        }
      }
    }
  },
  "cells": [
    {
      "cell_type": "markdown",
      "metadata": {
        "id": "view-in-github",
        "colab_type": "text"
      },
      "source": [
        "<a href=\"https://colab.research.google.com/github/graviraja/100-Days-of-NLP/blob/master/architectures/Data%20Augmentation%20in%20NLP.ipynb\" target=\"_parent\"><img src=\"https://colab.research.google.com/assets/colab-badge.svg\" alt=\"Open In Colab\"/></a>"
      ]
    },
    {
      "cell_type": "markdown",
      "metadata": {
        "id": "XVGHbOWK-4WL",
        "colab_type": "text"
      },
      "source": [
        "### Drive mounting\n",
        "\n",
        "Using drive mounting to use the glove file which is there in my drive"
      ]
    },
    {
      "cell_type": "code",
      "metadata": {
        "id": "eh8ie7Je-lyw",
        "colab_type": "code",
        "colab": {
          "base_uri": "https://localhost:8080/",
          "height": 121
        },
        "outputId": "bf547e62-60bb-429b-eeae-c719cfc2a65c"
      },
      "source": [
        "from google.colab import drive\n",
        "drive.mount('/content/drive')"
      ],
      "execution_count": null,
      "outputs": [
        {
          "output_type": "stream",
          "text": [
            "Go to this URL in a browser: https://accounts.google.com/o/oauth2/auth?client_id=947318989803-6bn6qk8qdgf4n4g3pfee6491hc0brc4i.apps.googleusercontent.com&redirect_uri=urn%3aietf%3awg%3aoauth%3a2.0%3aoob&response_type=code&scope=email%20https%3a%2f%2fwww.googleapis.com%2fauth%2fdocs.test%20https%3a%2f%2fwww.googleapis.com%2fauth%2fdrive%20https%3a%2f%2fwww.googleapis.com%2fauth%2fdrive.photos.readonly%20https%3a%2f%2fwww.googleapis.com%2fauth%2fpeopleapi.readonly\n",
            "\n",
            "Enter your authorization code:\n",
            "··········\n",
            "Mounted at /content/drive\n"
          ],
          "name": "stdout"
        }
      ]
    },
    {
      "cell_type": "markdown",
      "metadata": {
        "id": "0xZBt9sq1Gb9",
        "colab_type": "text"
      },
      "source": [
        "### Installations"
      ]
    },
    {
      "cell_type": "code",
      "metadata": {
        "id": "bw574lNzueNZ",
        "colab_type": "code",
        "colab": {
          "base_uri": "https://localhost:8080/",
          "height": 34
        },
        "outputId": "fa408de1-4062-4fdb-d3bc-7b7e26d3b349"
      },
      "source": [
        "!pip install nlpaug python-dotenv -q"
      ],
      "execution_count": 2,
      "outputs": [
        {
          "output_type": "stream",
          "text": [
            "\u001b[?25l\r\u001b[K     |███▎                            | 10kB 22.0MB/s eta 0:00:01\r\u001b[K     |██████▌                         | 20kB 1.7MB/s eta 0:00:01\r\u001b[K     |█████████▊                      | 30kB 2.1MB/s eta 0:00:01\r\u001b[K     |█████████████                   | 40kB 2.5MB/s eta 0:00:01\r\u001b[K     |████████████████▏               | 51kB 2.0MB/s eta 0:00:01\r\u001b[K     |███████████████████▍            | 61kB 2.3MB/s eta 0:00:01\r\u001b[K     |██████████████████████▋         | 71kB 2.5MB/s eta 0:00:01\r\u001b[K     |█████████████████████████▉      | 81kB 2.7MB/s eta 0:00:01\r\u001b[K     |█████████████████████████████   | 92kB 2.9MB/s eta 0:00:01\r\u001b[K     |████████████████████████████████| 102kB 2.3MB/s \n",
            "\u001b[?25h"
          ],
          "name": "stdout"
        }
      ]
    },
    {
      "cell_type": "code",
      "metadata": {
        "id": "SObV9jeQysZJ",
        "colab_type": "code",
        "colab": {}
      },
      "source": [
        "!pip install googletrans -q"
      ],
      "execution_count": null,
      "outputs": []
    },
    {
      "cell_type": "code",
      "metadata": {
        "id": "x2I_vJyK20XM",
        "colab_type": "code",
        "colab": {
          "base_uri": "https://localhost:8080/",
          "height": 67
        },
        "outputId": "c5ddd4fa-c180-4f29-d2e1-e95a1bae259b"
      },
      "source": [
        "!pip install contractions -q"
      ],
      "execution_count": null,
      "outputs": [
        {
          "output_type": "stream",
          "text": [
            "\u001b[K     |████████████████████████████████| 317kB 3.9MB/s \n",
            "\u001b[K     |████████████████████████████████| 245kB 19.6MB/s \n",
            "\u001b[?25h  Building wheel for pyahocorasick (setup.py) ... \u001b[?25l\u001b[?25hdone\n"
          ],
          "name": "stdout"
        }
      ]
    },
    {
      "cell_type": "code",
      "metadata": {
        "id": "I4ylxPCXAkI6",
        "colab_type": "code",
        "colab": {
          "base_uri": "https://localhost:8080/",
          "height": 101
        },
        "outputId": "92ad2652-2a35-4c73-cc3f-6d505f44ea13"
      },
      "source": [
        "!pip install transformers -q"
      ],
      "execution_count": 1,
      "outputs": [
        {
          "output_type": "stream",
          "text": [
            "\u001b[K     |████████████████████████████████| 778kB 2.7MB/s \n",
            "\u001b[K     |████████████████████████████████| 1.1MB 9.0MB/s \n",
            "\u001b[K     |████████████████████████████████| 890kB 21.9MB/s \n",
            "\u001b[K     |████████████████████████████████| 3.0MB 28.5MB/s \n",
            "\u001b[?25h  Building wheel for sacremoses (setup.py) ... \u001b[?25l\u001b[?25hdone\n"
          ],
          "name": "stdout"
        }
      ]
    },
    {
      "cell_type": "code",
      "metadata": {
        "id": "B6t89LAsvNLk",
        "colab_type": "code",
        "colab": {
          "base_uri": "https://localhost:8080/",
          "height": 118
        },
        "outputId": "51d97435-1290-450f-8168-e2f473d4ad47"
      },
      "source": [
        "import nltk\n",
        "nltk.download('wordnet')\n",
        "nltk.download('averaged_perceptron_tagger')"
      ],
      "execution_count": null,
      "outputs": [
        {
          "output_type": "stream",
          "text": [
            "[nltk_data] Downloading package wordnet to /root/nltk_data...\n",
            "[nltk_data]   Package wordnet is already up-to-date!\n",
            "[nltk_data] Downloading package averaged_perceptron_tagger to\n",
            "[nltk_data]     /root/nltk_data...\n",
            "[nltk_data]   Unzipping taggers/averaged_perceptron_tagger.zip.\n"
          ],
          "name": "stdout"
        },
        {
          "output_type": "execute_result",
          "data": {
            "text/plain": [
              "True"
            ]
          },
          "metadata": {
            "tags": []
          },
          "execution_count": 6
        }
      ]
    },
    {
      "cell_type": "markdown",
      "metadata": {
        "id": "2UT_5urRtdt1",
        "colab_type": "text"
      },
      "source": [
        "### Synonym-based substitution\n",
        "\n",
        "In this technique, a word is picked randomly from the sentence and then it is replaced by its synonym using a dictionary"
      ]
    },
    {
      "cell_type": "code",
      "metadata": {
        "id": "MQ6Sl0-irTQV",
        "colab_type": "code",
        "colab": {}
      },
      "source": [
        "import nlpaug.augmenter.word as naw"
      ],
      "execution_count": 3,
      "outputs": []
    },
    {
      "cell_type": "code",
      "metadata": {
        "id": "KC-mz8X8u-cc",
        "colab_type": "code",
        "colab": {}
      },
      "source": [
        "aug = naw.SynonymAug(aug_src='wordnet')"
      ],
      "execution_count": null,
      "outputs": []
    },
    {
      "cell_type": "code",
      "metadata": {
        "id": "se96ucObvx7-",
        "colab_type": "code",
        "colab": {}
      },
      "source": [
        "texts = [\"The quick brown fox jumps over the lazy dog.\", \"The product was not that awesome\"]"
      ],
      "execution_count": null,
      "outputs": []
    },
    {
      "cell_type": "code",
      "metadata": {
        "id": "C18VeuQqvV1b",
        "colab_type": "code",
        "colab": {
          "base_uri": "https://localhost:8080/",
          "height": 286
        },
        "outputId": "808a60f3-634f-4626-9c81-755031c2ebf6"
      },
      "source": [
        "# word is picked randomly. run multiple time to get multiple augmentations\n",
        "for text in texts:\n",
        "    print(f\"Original: {text}\\n\")\n",
        "\n",
        "    for _ in range(5):\n",
        "        augmented_text = aug.augment(text)\n",
        "        print(f\"Augmented: {augmented_text}\")\n",
        "    print(\"-\"*50)"
      ],
      "execution_count": null,
      "outputs": [
        {
          "output_type": "stream",
          "text": [
            "Original: The quick brown fox jumps over the lazy dog.\n",
            "\n",
            "Augmented: The quick brown dodger jump over the work shy dog .\n",
            "Augmented: The immediate robert brown charles james fox jumps over the lazy dog .\n",
            "Augmented: The flying brown fox jumps all over the faineant dog .\n",
            "Augmented: The nimble brown fox alternate over the lazy hound .\n",
            "Augmented: The agile brown charles james fox jumps over the lazy wienerwurst .\n",
            "--------------------------------------------------\n",
            "Original: The product was not that awesome\n",
            "\n",
            "Augmented: The product was not that awing\n",
            "Augmented: The product was non that awesome\n",
            "Augmented: The product embody not that awesome\n",
            "Augmented: The product was non that awesome\n",
            "Augmented: The product was not that awing\n",
            "--------------------------------------------------\n"
          ],
          "name": "stdout"
        }
      ]
    },
    {
      "cell_type": "markdown",
      "metadata": {
        "id": "WBT5sBuj46Cm",
        "colab_type": "text"
      },
      "source": [
        "### Antonym-based substitution\n",
        "\n",
        "Same as above. Instead of synonym word is replace by antonym"
      ]
    },
    {
      "cell_type": "code",
      "metadata": {
        "id": "EHLtBMT-5FHP",
        "colab_type": "code",
        "colab": {
          "base_uri": "https://localhost:8080/",
          "height": 286
        },
        "outputId": "265d7e4b-edea-4aca-83ec-95b91973e8c6"
      },
      "source": [
        "aug = naw.AntonymAug()\n",
        "texts = [\"He is a good boy.\", \"I like the movie\"]\n",
        "\n",
        "for text in texts:\n",
        "    print(f\"Original: {text}\\n\")\n",
        "\n",
        "    for _ in range(5):\n",
        "        augmented_text = aug.augment(text)\n",
        "        print(f\"Augmented: {augmented_text}\")\n",
        "    print(\"-\"*50)"
      ],
      "execution_count": null,
      "outputs": [
        {
          "output_type": "stream",
          "text": [
            "Original: He is a good boy.\n",
            "\n",
            "Augmented: He is a good female child .\n",
            "Augmented: He differ a good boy .\n",
            "Augmented: He differ a good boy .\n",
            "Augmented: He is a good boy .\n",
            "Augmented: He is a evil boy .\n",
            "--------------------------------------------------\n",
            "Original: I like the movie\n",
            "\n",
            "Augmented: I dislike the movie\n",
            "Augmented: I dislike the movie\n",
            "Augmented: I like the movie\n",
            "Augmented: I dislike the movie\n",
            "Augmented: I dislike the movie\n",
            "--------------------------------------------------\n"
          ],
          "name": "stdout"
        }
      ]
    },
    {
      "cell_type": "markdown",
      "metadata": {
        "id": "W1nNSahmtEwn",
        "colab_type": "text"
      },
      "source": [
        "### Back Translation\n",
        "\n",
        "In this method, the sentence will be translated into a different language and then back-translated to source language"
      ]
    },
    {
      "cell_type": "code",
      "metadata": {
        "id": "pjQqoGbstGHU",
        "colab_type": "code",
        "colab": {}
      },
      "source": [
        "import random\n",
        "from googletrans import Translator"
      ],
      "execution_count": null,
      "outputs": []
    },
    {
      "cell_type": "code",
      "metadata": {
        "id": "-0ylhZnFx0mo",
        "colab_type": "code",
        "colab": {
          "base_uri": "https://localhost:8080/",
          "height": 386
        },
        "outputId": "684dba1c-83b9-4f3a-ab1d-8840b88c3be7"
      },
      "source": [
        "translator = Translator()\n",
        "langs = ['fr', 'de', 'ja', 'la', 'hi', 'ko', 'eo', 'es']\n",
        "\n",
        "texts = [\"The quick brown fox jumps over the lazy dog.\", \"The product was not that awesome\"]\n",
        "\n",
        "for text in texts:\n",
        "    print(f\"Original: {text}\\n\")\n",
        "\n",
        "    for l in langs:\n",
        "        translated = translator.translate(text, dest=l)\n",
        "        back_translated = translator.translate(translated.text, dest='en')\n",
        "        print(f\"Augmented: {back_translated.text}\")\n",
        "    print(f\"-\"*50)"
      ],
      "execution_count": null,
      "outputs": [
        {
          "output_type": "stream",
          "text": [
            "Original: The quick brown fox jumps over the lazy dog.\n",
            "\n",
            "Augmented: The quick brown fox jumps over the lazy dog.\n",
            "Augmented: The fast brown fox jumps over the lazy dog.\n",
            "Augmented: A quick brown fox jumps over a lazy dog.\n",
            "Augmented: The quick brown fox jumps over the lazy dog.\n",
            "Augmented: The quick brown fox jumps over the lazy dog.\n",
            "Augmented: The fast brown fox jumps over the lazy dog.\n",
            "Augmented: The fast brown fox jumps over the lazy dog.\n",
            "Augmented: The fast brown fox jumps on the lazy dog.\n",
            "--------------------------------------------------\n",
            "Original: The product was not that awesome\n",
            "\n",
            "Augmented: The product was not that great\n",
            "Augmented: The product was not that great\n",
            "Augmented: The product was so great\n",
            "Augmented: This product is not terrible\n",
            "Augmented: Product was not so terrible\n",
            "Augmented: The product wasn't awesome\n",
            "Augmented: The product was not so awesome\n",
            "Augmented: The product was not that great\n",
            "--------------------------------------------------\n"
          ],
          "name": "stdout"
        }
      ]
    },
    {
      "cell_type": "markdown",
      "metadata": {
        "id": "wUAaBjpJ2H-K",
        "colab_type": "text"
      },
      "source": [
        "Advanced Machine translation repos also can be used and translate the sentence into other language using beam search and then back-translate the beam generated translations. (This would require more compute power)"
      ]
    },
    {
      "cell_type": "markdown",
      "metadata": {
        "id": "Qwx7rP8atGrs",
        "colab_type": "text"
      },
      "source": [
        "### Text Surface Transformation\n",
        "\n",
        "This is a simple pattern matching transformation using regex. An example would be to expand/contract the verbal forms. Can also be extended to custom cases using regex"
      ]
    },
    {
      "cell_type": "code",
      "metadata": {
        "id": "DNKYmSys3khS",
        "colab_type": "code",
        "colab": {}
      },
      "source": [
        "import contractions"
      ],
      "execution_count": null,
      "outputs": []
    },
    {
      "cell_type": "code",
      "metadata": {
        "id": "uzYv8JfQtKoK",
        "colab_type": "code",
        "colab": {
          "base_uri": "https://localhost:8080/",
          "height": 84
        },
        "outputId": "f4029bd4-76f5-4cfd-fb0e-ebcdb98cfe72"
      },
      "source": [
        "text = \"you're amazing\"\n",
        "print(contractions.fix(text))\n",
        "\n",
        "text = \"yall're happy now?\"\n",
        "print(contractions.fix(text))\n",
        "\n",
        "text = \"I'm going to office\"\n",
        "print(contractions.fix(text))\n",
        "\n",
        "text = \"I gotta go to gym\"\n",
        "print(contractions.fix(text))"
      ],
      "execution_count": null,
      "outputs": [
        {
          "output_type": "stream",
          "text": [
            "you are amazing\n",
            "you all are happy now?\n",
            "I am going to office\n",
            "I got to go to gym\n"
          ],
          "name": "stdout"
        }
      ]
    },
    {
      "cell_type": "markdown",
      "metadata": {
        "id": "0agtbz654Crw",
        "colab_type": "text"
      },
      "source": [
        "### Random Noise Injection\n",
        "\n",
        "The idea of this method is to inject noise in the text so that the model trained is robust to perturbations"
      ]
    },
    {
      "cell_type": "code",
      "metadata": {
        "id": "gNJmTB4H5kpR",
        "colab_type": "code",
        "colab": {}
      },
      "source": [
        "import nlpaug.augmenter.char as nac"
      ],
      "execution_count": null,
      "outputs": []
    },
    {
      "cell_type": "code",
      "metadata": {
        "id": "poHSVIZF3mYC",
        "colab_type": "code",
        "colab": {
          "base_uri": "https://localhost:8080/",
          "height": 286
        },
        "outputId": "cdc771fc-7f54-47cd-cc4b-541c7be60384"
      },
      "source": [
        "# This method tries to simulate common errors that happen \n",
        "# when typing on a QWERTY layout keyboard due to keys that \n",
        "# are very near to each other. The errors are injected based on keyboard distance.\n",
        "keyboard_aug = nac.KeyboardAug()\n",
        "\n",
        "texts = [\"The quick brown fox jumps over the lazy dog.\", \"The product was not that awesome\"]\n",
        "\n",
        "for text in texts:\n",
        "    print(f\"Original: {text}\\n\")\n",
        "\n",
        "    for _ in range(5):\n",
        "        augmented_text = keyboard_aug.augment(text)\n",
        "        print(f\"Augmented: {augmented_text}\")\n",
        "    print(\"-\"*50)"
      ],
      "execution_count": null,
      "outputs": [
        {
          "output_type": "stream",
          "text": [
            "Original: The quick brown fox jumps over the lazy dog.\n",
            "\n",
            "Augmented: The quick vrown fox jumps over the Oazy dog .\n",
            "Augmented: The wuick brown fox jumps ov#r the lWzy dog .\n",
            "Augmented: The quock brown fox jumps ovFr the lazy dog .\n",
            "Augmented: The quifk brown fox jumps over the lazy dog .\n",
            "Augmented: The quick bfown fox jumps over the lazy dog .\n",
            "--------------------------------------------------\n",
            "Original: The product was not that awesome\n",
            "\n",
            "Augmented: The peKduct was not that awesome\n",
            "Augmented: The product was not that swssome\n",
            "Augmented: The (rpduct was not that awesome\n",
            "Augmented: The product was not that awDso,e\n",
            "Augmented: The p4odjct was not that awesome\n",
            "--------------------------------------------------\n"
          ],
          "name": "stdout"
        }
      ]
    },
    {
      "cell_type": "code",
      "metadata": {
        "id": "nB_03zg-6Jcb",
        "colab_type": "code",
        "colab": {
          "base_uri": "https://localhost:8080/",
          "height": 218
        },
        "outputId": "cacc3ca2-f867-4553-f3d5-66c8796aa83e"
      },
      "source": [
        "# inserting a random character\n",
        "\n",
        "randchar_aug = nac.RandomCharAug(action='insert')\n",
        "\n",
        "texts = [\"The quick brown fox jumps over the lazy dog.\", \"The product was not that awesome\"]\n",
        "\n",
        "for text in texts:\n",
        "    print(f\"Original: {text}\\n\")\n",
        "\n",
        "    for _ in range(3):\n",
        "        augmented_text = randchar_aug.augment(text)\n",
        "        print(f\"Augmented: {augmented_text}\")\n",
        "    print(\"-\"*50)"
      ],
      "execution_count": null,
      "outputs": [
        {
          "output_type": "stream",
          "text": [
            "Original: The quick brown fox jumps over the lazy dog.\n",
            "\n",
            "Augmented: The quick brown fox jumps gover the lazy dog .\n",
            "Augmented: The quick browpn fox jumps over the lazy dog .\n",
            "Augmented: The quick ibrown fox jumps over the laDzy dog .\n",
            "--------------------------------------------------\n",
            "Original: The product was not that awesome\n",
            "\n",
            "Augmented: The Cpr!oduct was not that awesome\n",
            "Augmented: The produvc$t was not that awesome\n",
            "Augmented: The product was not thaot awesome\n",
            "--------------------------------------------------\n"
          ],
          "name": "stdout"
        }
      ]
    },
    {
      "cell_type": "code",
      "metadata": {
        "id": "mApDis0o6ebq",
        "colab_type": "code",
        "colab": {
          "base_uri": "https://localhost:8080/",
          "height": 218
        },
        "outputId": "f7fb446b-d9cc-4055-88d5-7ef7ced23050"
      },
      "source": [
        "# substituting a random character\n",
        "randchar_aug = nac.RandomCharAug(action='substitute')\n",
        "\n",
        "texts = [\"The quick brown fox jumps over the lazy dog.\", \"The product was not that awesome\"]\n",
        "\n",
        "for text in texts:\n",
        "    print(f\"Original: {text}\\n\")\n",
        "\n",
        "    for _ in range(3):\n",
        "        augmented_text = randchar_aug.augment(text)\n",
        "        print(f\"Augmented: {augmented_text}\")\n",
        "    print(\"-\"*50)"
      ],
      "execution_count": null,
      "outputs": [
        {
          "output_type": "stream",
          "text": [
            "Original: The quick brown fox jumps over the lazy dog.\n",
            "\n",
            "Augmented: The quick brown fox jumps over the la@y dog .\n",
            "Augmented: The quick brown fox jumps ove% the laDy dog .\n",
            "Augmented: The quicQ brown fox jumps ovTr the lazy dog .\n",
            "--------------------------------------------------\n",
            "Original: The product was not that awesome\n",
            "\n",
            "Augmented: The product was not tEat awesome\n",
            "Augmented: The p+oduc2 was not that awesome\n",
            "Augmented: The product was not that awesome\n",
            "--------------------------------------------------\n"
          ],
          "name": "stdout"
        }
      ]
    },
    {
      "cell_type": "code",
      "metadata": {
        "id": "AIpI-pAK6ikU",
        "colab_type": "code",
        "colab": {
          "base_uri": "https://localhost:8080/",
          "height": 218
        },
        "outputId": "e4fdc37a-85f5-490c-d514-5cdb4ca81fdf"
      },
      "source": [
        "# deleting a random character\n",
        "randchar_aug = nac.RandomCharAug(action='delete')\n",
        "\n",
        "texts = [\"The quick brown fox jumps over the lazy dog.\", \"The product was not that awesome\"]\n",
        "\n",
        "for text in texts:\n",
        "    print(f\"Original: {text}\\n\")\n",
        "\n",
        "    for _ in range(3):\n",
        "        augmented_text = randchar_aug.augment(text)\n",
        "        print(f\"Augmented: {augmented_text}\")\n",
        "    print(\"-\"*50)"
      ],
      "execution_count": null,
      "outputs": [
        {
          "output_type": "stream",
          "text": [
            "Original: The quick brown fox jumps over the lazy dog.\n",
            "\n",
            "Augmented: The quck bown fox jumps over the lzy dog .\n",
            "Augmented: The quick brow fox jumps over the laz dog .\n",
            "Augmented: The quick brown fox jumps over the lazy dog .\n",
            "--------------------------------------------------\n",
            "Original: The product was not that awesome\n",
            "\n",
            "Augmented: The product was not tat awesome\n",
            "Augmented: The rduct was not that awesome\n",
            "Augmented: The prdct was not that awesome\n",
            "--------------------------------------------------\n"
          ],
          "name": "stdout"
        }
      ]
    },
    {
      "cell_type": "code",
      "metadata": {
        "id": "Doc1VG5f7CIL",
        "colab_type": "code",
        "colab": {
          "base_uri": "https://localhost:8080/",
          "height": 218
        },
        "outputId": "bee18709-f62c-44f3-f4e9-1aca1783fc27"
      },
      "source": [
        "# swapping characters\n",
        "randchar_aug = nac.RandomCharAug(action='swap')\n",
        "\n",
        "texts = [\"The quick brown fox jumps over the lazy dog.\", \"The product was not that awesome\"]\n",
        "\n",
        "for text in texts:\n",
        "    print(f\"Original: {text}\\n\")\n",
        "\n",
        "    for _ in range(3):\n",
        "        augmented_text = randchar_aug.augment(text)\n",
        "        print(f\"Augmented: {augmented_text}\")\n",
        "    print(\"-\"*50)"
      ],
      "execution_count": null,
      "outputs": [
        {
          "output_type": "stream",
          "text": [
            "Original: The quick brown fox jumps over the lazy dog.\n",
            "\n",
            "Augmented: The quikc brown fox jumps over the alzy dog .\n",
            "Augmented: The quick bronw fox jumps over the layz dog .\n",
            "Augmented: The qucik brown fox jumps over the alzy dog .\n",
            "--------------------------------------------------\n",
            "Original: The product was not that awesome\n",
            "\n",
            "Augmented: The product was not htat awesome\n",
            "Augmented: The product was not that waesoem\n",
            "Augmented: The product was not taht awesome\n",
            "--------------------------------------------------\n"
          ],
          "name": "stdout"
        }
      ]
    },
    {
      "cell_type": "code",
      "metadata": {
        "id": "Y7fXJ2SU7DM5",
        "colab_type": "code",
        "colab": {
          "base_uri": "https://localhost:8080/",
          "height": 218
        },
        "outputId": "9b2476e0-c162-45fc-c429-7fca7d220515"
      },
      "source": [
        "# random WORD swapping\n",
        "randword_aug = naw.RandomWordAug(action=\"swap\")\n",
        "texts = [\"The quick brown fox jumps over the lazy dog.\", \"The product was not that awesome\"]\n",
        "\n",
        "for text in texts:\n",
        "    print(f\"Original: {text}\\n\")\n",
        "\n",
        "    for _ in range(3):\n",
        "        augmented_text = randword_aug.augment(text)\n",
        "        print(f\"Augmented: {augmented_text}\")\n",
        "    print(\"-\"*50)"
      ],
      "execution_count": null,
      "outputs": [
        {
          "output_type": "stream",
          "text": [
            "Original: The quick brown fox jumps over the lazy dog.\n",
            "\n",
            "Augmented: The quick jumps brown fox over the dog lazy .\n",
            "Augmented: The quick brown fox jumps over lazy the dog .\n",
            "Augmented: Quick the fox brown jumps the over lazy dog .\n",
            "--------------------------------------------------\n",
            "Original: The product was not that awesome\n",
            "\n",
            "Augmented: The product was not awesome that\n",
            "Augmented: The product was that not awesome\n",
            "Augmented: The was product not that awesome\n",
            "--------------------------------------------------\n"
          ],
          "name": "stdout"
        }
      ]
    },
    {
      "cell_type": "code",
      "metadata": {
        "id": "4AKCiJuM7ec7",
        "colab_type": "code",
        "colab": {
          "base_uri": "https://localhost:8080/",
          "height": 218
        },
        "outputId": "904c5d9d-0d6d-48c8-b007-4b4258d76d08"
      },
      "source": [
        "# random WORD deleting\n",
        "randword_aug = naw.RandomWordAug(action=\"delete\")\n",
        "texts = [\"The quick brown fox jumps over the lazy dog.\", \"The product was not that awesome\"]\n",
        "\n",
        "for text in texts:\n",
        "    print(f\"Original: {text}\\n\")\n",
        "\n",
        "    for _ in range(3):\n",
        "        augmented_text = randword_aug.augment(text)\n",
        "        print(f\"Augmented: {augmented_text}\")\n",
        "    print(\"-\"*50)"
      ],
      "execution_count": null,
      "outputs": [
        {
          "output_type": "stream",
          "text": [
            "Original: The quick brown fox jumps over the lazy dog.\n",
            "\n",
            "Augmented: The quick brown jumps over lazy .\n",
            "Augmented: The fox jumps over the lazy .\n",
            "Augmented: Quick brown fox over the dog .\n",
            "--------------------------------------------------\n",
            "Original: The product was not that awesome\n",
            "\n",
            "Augmented: The product not that awesome\n",
            "Augmented: Product was not that awesome\n",
            "Augmented: The was not that awesome\n",
            "--------------------------------------------------\n"
          ],
          "name": "stdout"
        }
      ]
    },
    {
      "cell_type": "code",
      "metadata": {
        "id": "pewk90Iz7pFD",
        "colab_type": "code",
        "colab": {
          "base_uri": "https://localhost:8080/",
          "height": 218
        },
        "outputId": "b4a1d3fd-687f-417e-c4a5-21c28b9b77f4"
      },
      "source": [
        "# randomly SPLIT the WORD into two \n",
        "\n",
        "randword_aug = naw.SplitAug()\n",
        "texts = [\"The quick brown fox jumps over the lazy dog.\", \"The product was not that awesome\"]\n",
        "\n",
        "for text in texts:\n",
        "    print(f\"Original: {text}\\n\")\n",
        "\n",
        "    for _ in range(3):\n",
        "        augmented_text = randword_aug.augment(text)\n",
        "        print(f\"Augmented: {augmented_text}\")\n",
        "    print(\"-\"*50)"
      ],
      "execution_count": null,
      "outputs": [
        {
          "output_type": "stream",
          "text": [
            "Original: The quick brown fox jumps over the lazy dog.\n",
            "\n",
            "Augmented: The quick br own fox jumps ov er the la zy dog .\n",
            "Augmented: The qui ck brown fox jum ps o ver the lazy dog .\n",
            "Augmented: The qu ick b rown fox jumps o ver the lazy dog .\n",
            "--------------------------------------------------\n",
            "Original: The product was not that awesome\n",
            "\n",
            "Augmented: The product was not t hat awesome\n",
            "Augmented: The product was not that awes ome\n",
            "Augmented: The p roduct was not that awesome\n",
            "--------------------------------------------------\n"
          ],
          "name": "stdout"
        }
      ]
    },
    {
      "cell_type": "markdown",
      "metadata": {
        "id": "cY2eRa418gBc",
        "colab_type": "text"
      },
      "source": [
        "### Using Pre-trained Word Embeddings\n",
        "\n",
        "In this method, pre-trained word-embeddings like word2vec / glove / fasttext will be used to insert/substitute the word"
      ]
    },
    {
      "cell_type": "code",
      "metadata": {
        "id": "a5v6uUDF_E9z",
        "colab_type": "code",
        "colab": {}
      },
      "source": [
        "from nlpaug.util.file.download import DownloadUtil\n",
        "# DownloadUtil.download_word2vec(dest_dir='.') # Download word2vec model\n",
        "# DownloadUtil.download_glove(model_name='glove.6B', dest_dir='.') # Download GloVe model\n",
        "# DownloadUtil.download_fasttext(model_name='wiki-news-300d-1M', dest_dir='.') # Download fasttext model"
      ],
      "execution_count": null,
      "outputs": []
    },
    {
      "cell_type": "code",
      "metadata": {
        "id": "X0fhYc95_GXI",
        "colab_type": "code",
        "colab": {
          "base_uri": "https://localhost:8080/",
          "height": 101
        },
        "outputId": "13795269-5ed8-4132-8d65-d298160e6df4"
      },
      "source": [
        "!unzip \"./drive/My Drive/glove.6B.zip\""
      ],
      "execution_count": null,
      "outputs": [
        {
          "output_type": "stream",
          "text": [
            "Archive:  ./drive/My Drive/glove.6B.zip\n",
            "  inflating: glove.6B.100d.txt       \n",
            "  inflating: glove.6B.200d.txt       \n",
            "  inflating: glove.6B.300d.txt       \n",
            "  inflating: glove.6B.50d.txt        \n"
          ],
          "name": "stdout"
        }
      ]
    },
    {
      "cell_type": "code",
      "metadata": {
        "id": "SZuYXuX27yWa",
        "colab_type": "code",
        "colab": {
          "base_uri": "https://localhost:8080/",
          "height": 218
        },
        "outputId": "6e86f7c9-26c9-45c5-eb43-a5e9c5008737"
      },
      "source": [
        "# model_type could be word2vec, glove, fasttext\n",
        "\n",
        "aug = naw.WordEmbsAug(model_type='glove', model_path='glove.6B.200d.txt', action=\"insert\")\n",
        "\n",
        "texts = [\"The quick brown fox jumps over the lazy dog.\", \"The product was not that awesome\"]\n",
        "\n",
        "for text in texts:\n",
        "    print(f\"Original: {text}\\n\")\n",
        "\n",
        "    for _ in range(3):\n",
        "        augmented_text = aug.augment(text)\n",
        "        print(f\"Augmented: {augmented_text}\")\n",
        "    print(\"-\"*50)"
      ],
      "execution_count": null,
      "outputs": [
        {
          "output_type": "stream",
          "text": [
            "Original: The quick brown fox jumps over the lazy dog.\n",
            "\n",
            "Augmented: vitaris The quick brown fox jumps milsons over the sephirot lazy dog .\n",
            "Augmented: abundance The quick brown 9-hole fox jumps over the lazy dunc dog .\n",
            "Augmented: 1,748 The quick gubaidulina brown fox jumps over the denso lazy dog .\n",
            "--------------------------------------------------\n",
            "Original: The product was not that awesome\n",
            "\n",
            "Augmented: The product miglio was not that awesome\n",
            "Augmented: The product was not that champi awesome\n",
            "Augmented: The product was not that stewed awesome\n",
            "--------------------------------------------------\n"
          ],
          "name": "stdout"
        }
      ]
    },
    {
      "cell_type": "code",
      "metadata": {
        "id": "WKrWQ_7s9aQd",
        "colab_type": "code",
        "colab": {
          "base_uri": "https://localhost:8080/",
          "height": 218
        },
        "outputId": "891c7dea-2934-473f-ff95-93e15b4b5739"
      },
      "source": [
        "aug = naw.WordEmbsAug(model_type='glove', model_path='glove.6B.200d.txt', action=\"substitute\")\n",
        "\n",
        "texts = [\"The quick brown fox jumps over the lazy dog.\", \"The product was not that awesome\"]\n",
        "\n",
        "for text in texts:\n",
        "    print(f\"Original: {text}\\n\")\n",
        "\n",
        "    for _ in range(3):\n",
        "        augmented_text = aug.augment(text)\n",
        "        print(f\"Augmented: {augmented_text}\")\n",
        "    print(\"-\"*50)"
      ],
      "execution_count": null,
      "outputs": [
        {
          "output_type": "stream",
          "text": [
            "Original: The quick brown fox jumps over the lazy dog.\n",
            "\n",
            "Augmented: The go brown fox slower ago the lazy dog .\n",
            "Augmented: The quick brown upn jumps over the cat stray .\n",
            "Augmented: The needed wright film jumps over the lazy dog .\n",
            "--------------------------------------------------\n",
            "Original: The product was not that awesome\n",
            "\n",
            "Augmented: The product was instead that awesome\n",
            "Augmented: The product was not there awesome\n",
            "Augmented: The product was not that greatness\n",
            "--------------------------------------------------\n"
          ],
          "name": "stdout"
        }
      ]
    },
    {
      "cell_type": "markdown",
      "metadata": {
        "id": "WAx69lJg_u9Q",
        "colab_type": "text"
      },
      "source": [
        "### Using Contextual Word Embeddings\n",
        "\n",
        "In this method, contextual word embeddings like BERT / DistilBERT / RoBERTA will be used to insert/substitute the word"
      ]
    },
    {
      "cell_type": "code",
      "metadata": {
        "id": "6GJjeSb8AXzp",
        "colab_type": "code",
        "colab": {}
      },
      "source": [
        "import transformers\n",
        "from transformers import DistilBertTokenizer, DistilBertForMaskedLM"
      ],
      "execution_count": 4,
      "outputs": []
    },
    {
      "cell_type": "code",
      "metadata": {
        "id": "Yy2hbZFAF9Wq",
        "colab_type": "code",
        "colab": {}
      },
      "source": [
        "from nlpaug.augmenter.word import ContextualWordEmbsAug"
      ],
      "execution_count": 5,
      "outputs": []
    },
    {
      "cell_type": "code",
      "metadata": {
        "id": "E-6wqqeb_cqu",
        "colab_type": "code",
        "colab": {
          "base_uri": "https://localhost:8080/",
          "height": 432,
          "referenced_widgets": [
            "b984f76b745f48f4a4b1ac3dd7d67765",
            "d69efe996bbb411a980c1d14c2090b01",
            "975a84cc2c2f4346ad922a550f13b877",
            "8be382d2cb0345cd8c737eaf166f4380",
            "115aceb678244d3d81cc8e522000bee1",
            "8fe59803cd27449cacaf3cd0f73d0ea0",
            "ce44f37dcd5d4bf3bba859c606de7446",
            "4ae8e9f1280f4ba5abdf9fea712b06be",
            "c85c4145723048868b1b481315befbf4",
            "648dfb8a72ec4b8e89327ef07a3bb3a2",
            "c908e80d6e7841e885cde9df680e6301",
            "72903c70a4fe4f68852e9272cd1f6253",
            "f1db5d7f087a48a2b80226c772720b40",
            "33356f653ce4444286e569443d5033f4",
            "e97589c5b012486f988a1cbc32824991",
            "3d32d016c69044f2b35102c91c145807",
            "4067333c5aab49e6be33ea77c964dc2b",
            "77e4a342f06f4365a906f8c244eec8c2",
            "fb0b982161554a15b6a35e07f84980b9",
            "35aaa95992a54f3397ac763a2a496ba1",
            "534cf2146fcc4020acec33cc746ff1b7",
            "76c2e9fe26b443759c160d81bbceb9c9",
            "900e3dfaef784d7d8a6170c0f448d403",
            "e6862bcc20704449bd09bb40a601668c"
          ]
        },
        "outputId": "33d28db5-8450-4e6d-8a2a-cf8231bdb8f7"
      },
      "source": [
        "aug = ContextualWordEmbsAug(model_path='distilbert-base-uncased', action='substitute')\n",
        "\n",
        "texts = [\"The quick brown fox jumps over the lazy dog.\", \"The product was not that awesome\"]\n",
        "\n",
        "for text in texts:\n",
        "    print(f\"Original: {text}\\n\")\n",
        "\n",
        "    for _ in range(3):\n",
        "        augmented_text = aug.augment(text)\n",
        "        print(f\"Augmented: {augmented_text}\")\n",
        "    print(\"-\"*50)"
      ],
      "execution_count": 6,
      "outputs": [
        {
          "output_type": "display_data",
          "data": {
            "application/vnd.jupyter.widget-view+json": {
              "model_id": "b984f76b745f48f4a4b1ac3dd7d67765",
              "version_minor": 0,
              "version_major": 2
            },
            "text/plain": [
              "HBox(children=(FloatProgress(value=0.0, description='Downloading', max=231508.0, style=ProgressStyle(descripti…"
            ]
          },
          "metadata": {
            "tags": []
          }
        },
        {
          "output_type": "stream",
          "text": [
            "\n"
          ],
          "name": "stdout"
        },
        {
          "output_type": "display_data",
          "data": {
            "application/vnd.jupyter.widget-view+json": {
              "model_id": "c85c4145723048868b1b481315befbf4",
              "version_minor": 0,
              "version_major": 2
            },
            "text/plain": [
              "HBox(children=(FloatProgress(value=0.0, description='Downloading', max=442.0, style=ProgressStyle(description_…"
            ]
          },
          "metadata": {
            "tags": []
          }
        },
        {
          "output_type": "stream",
          "text": [
            "\n"
          ],
          "name": "stdout"
        },
        {
          "output_type": "display_data",
          "data": {
            "application/vnd.jupyter.widget-view+json": {
              "model_id": "4067333c5aab49e6be33ea77c964dc2b",
              "version_minor": 0,
              "version_major": 2
            },
            "text/plain": [
              "HBox(children=(FloatProgress(value=0.0, description='Downloading', max=267967963.0, style=ProgressStyle(descri…"
            ]
          },
          "metadata": {
            "tags": []
          }
        },
        {
          "output_type": "stream",
          "text": [
            "\n",
            "Original: The quick brown fox jumps over the lazy dog.\n",
            "\n",
            "Augmented: the quick retreating fox descended into the lazy dog .\n",
            "Augmented: the quick tempered cat jumps atop the lazy dog .\n",
            "Augmented: a quick clumsy fox jumps over the lazy ducks .\n",
            "--------------------------------------------------\n",
            "Original: The product was not that awesome\n",
            "\n",
            "Augmented: the product was called that awesome\n",
            "Augmented: the product was titled that awesome\n",
            "Augmented: the product is not that awesome\n",
            "--------------------------------------------------\n"
          ],
          "name": "stdout"
        },
        {
          "output_type": "stream",
          "text": [
            "/pytorch/torch/csrc/utils/python_arg_parser.cpp:756: UserWarning: This overload of nonzero is deprecated:\n",
            "\tnonzero(Tensor input, *, Tensor out)\n",
            "Consider using one of the following signatures instead:\n",
            "\tnonzero(Tensor input, *, bool as_tuple)\n"
          ],
          "name": "stderr"
        }
      ]
    },
    {
      "cell_type": "code",
      "metadata": {
        "id": "FmPw-ldxANf_",
        "colab_type": "code",
        "colab": {}
      },
      "source": [
        ""
      ],
      "execution_count": null,
      "outputs": []
    }
  ]
}